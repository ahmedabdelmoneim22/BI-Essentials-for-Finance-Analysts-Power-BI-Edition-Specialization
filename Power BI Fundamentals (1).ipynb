{
 "cells": [
  {
   "cell_type": "code",
   "execution_count": 1,
   "id": "888336de-2860-4f22-9744-06b6876a7506",
   "metadata": {},
   "outputs": [
    {
     "name": "stdout",
     "output_type": "stream",
     "text": [
      "BI Essentials for Finance Analysts (Power BI Edition) Specialization\n",
      "أساسيات BI لمحللي المالية (إصدار Power BI)\n"
     ]
    }
   ],
   "source": [
    "print(\"BI Essentials for Finance Analysts (Power BI Edition) Specialization\")\n",
    "print(\"أساسيات BI لمحللي المالية (إصدار Power BI)\")"
   ]
  },
  {
   "cell_type": "code",
   "execution_count": 2,
   "id": "32c853b8-7da9-4e21-80b3-33d9bd0b57c3",
   "metadata": {},
   "outputs": [
    {
     "name": "stdout",
     "output_type": "stream",
     "text": [
      "\n",
      "Skills I'll gain:-\n",
      "1)Financial Analysis.\n",
      "2)Power BI.\n",
      "3)Data Transformation.\n",
      "4)Data Visualization.\n",
      "5)Business Intelligence.\n",
      "6)Data Analysis Expressions (DAX).\n",
      "7)SQL.\n",
      "----------------------------------\n",
      "\n"
     ]
    }
   ],
   "source": [
    "print(\"\"\"\n",
    "Skills I'll gain:-\n",
    "1)Financial Analysis.\n",
    "2)Power BI.\n",
    "3)Data Transformation.\n",
    "4)Data Visualization.\n",
    "5)Business Intelligence.\n",
    "6)Data Analysis Expressions (DAX).\n",
    "7)SQL.\n",
    "----------------------------------\n",
    "\"\"\")"
   ]
  },
  {
   "cell_type": "code",
   "execution_count": 3,
   "id": "6cf663c9-71d5-46a7-a682-7a972b1db14a",
   "metadata": {},
   "outputs": [
    {
     "name": "stdout",
     "output_type": "stream",
     "text": [
      "Power BI Fundamentals أساسيات Power BI\n"
     ]
    }
   ],
   "source": [
    "print(\"Power BI Fundamentals\",\"أساسيات Power BI\")"
   ]
  },
  {
   "cell_type": "code",
   "execution_count": 4,
   "id": "28d31ad8-09fd-4987-a334-f7c3dd0bd470",
   "metadata": {},
   "outputs": [
    {
     "name": "stdout",
     "output_type": "stream",
     "text": [
      "Skills I'll gain:-\n",
      "1)Data Transformationتحويل البيانات.\n",
      "2)Interactive Data Visualizationالتصور التفاعلي للبيانات.\n",
      "3)Data Modeling نمذجة البيانات.\n",
      "4)Data Storytelling رواية القصص بالبيانات.\n",
      "5)Key Performance Indicators (KPIs) مؤشرات الأداء الرئيسية (KPIs).\n",
      "6)Business Reporting تقارير الأعمال.\n",
      "7)Dashboard لوحة معلومات Power BI.\n",
      "8)Power BI.\n",
      "9)Data Analysis تحليل البيانات.\n",
      "10)Sales مبيعات.\n",
      "11)Business Intelligence استخبارات الأعمال.\n",
      "12)Data Import/Export استيراد/تصدير البيانات.\n",
      "13)Data Visualization Software برنامج تصور البيانات.\n",
      "14)Data Analysis Expressions (DAX) تعبيرات تحليل البيانات (DAX).\n",
      "15)Data Sharing مشاركة البيانات.\n",
      "\n"
     ]
    }
   ],
   "source": [
    "print(\"\"\"Skills I'll gain:-\n",
    "1)Data Transformationتحويل البيانات.\n",
    "2)Interactive Data Visualizationالتصور التفاعلي للبيانات.\n",
    "3)Data Modeling نمذجة البيانات.\n",
    "4)Data Storytelling رواية القصص بالبيانات.\n",
    "5)Key Performance Indicators (KPIs) مؤشرات الأداء الرئيسية (KPIs).\n",
    "6)Business Reporting تقارير الأعمال.\n",
    "7)Dashboard لوحة معلومات Power BI.\n",
    "8)Power BI.\n",
    "9)Data Analysis تحليل البيانات.\n",
    "10)Sales مبيعات.\n",
    "11)Business Intelligence استخبارات الأعمال.\n",
    "12)Data Import/Export استيراد/تصدير البيانات.\n",
    "13)Data Visualization Software برنامج تصور البيانات.\n",
    "14)Data Analysis Expressions (DAX) تعبيرات تحليل البيانات (DAX).\n",
    "15)Data Sharing مشاركة البيانات.\n",
    "\"\"\")"
   ]
  },
  {
   "cell_type": "code",
   "execution_count": 14,
   "id": "0abe0a0b-3a63-489b-90ea-4e16c534871d",
   "metadata": {},
   "outputs": [
    {
     "name": "stdout",
     "output_type": "stream",
     "text": [
      "Power BI Fundamentals>>Module 1<<\n"
     ]
    }
   ],
   "source": [
    "print(\"Power BI Fundamentals>>Module 1<<\")"
   ]
  },
  {
   "cell_type": "code",
   "execution_count": 6,
   "id": "eff2a78a-707a-4261-b727-abbab2da416b",
   "metadata": {},
   "outputs": [
    {
     "name": "stdout",
     "output_type": "stream",
     "text": [
      " \n",
      "1.Course Overview.\n",
      "2.Power BI Powerful functionality to Import, Transform, Analyze, and Visualize data.\n",
      "\n"
     ]
    }
   ],
   "source": [
    "print(\n",
    "\"\"\" \n",
    "1.Course Overview.\n",
    "2.Power BI Powerful functionality to Import, Transform, Analyze, and Visualize data.\n",
    "\"\"\")"
   ]
  },
  {
   "cell_type": "code",
   "execution_count": 7,
   "id": "1e64ddca-9a99-4c78-9d3d-e6265ad5d567",
   "metadata": {},
   "outputs": [
    {
     "name": "stdout",
     "output_type": "stream",
     "text": [
      "Power BI Is Business Intelligence tool.\n",
      "1>>Data Transformation Using Power BI Query Editor.\n",
      "2>>Data Modeling Using Power BI Model View.\n",
      "3>>Data Analysis USing Power BI Model & Data View.\n",
      "4>>Data Visualization Using Power BI Report View.\n",
      "5>>User Experience Using Power BI Report View.\n",
      "6>>Sharing Using Power BI Service.\n"
     ]
    }
   ],
   "source": [
    "print(\"Power BI Is Business Intelligence tool.\")\n",
    "print(\"1>>Data Transformation Using Power BI Query Editor.\")\n",
    "print(\"2>>Data Modeling Using Power BI Model View.\")\n",
    "print(\"3>>Data Analysis USing Power BI Model & Data View.\")\n",
    "print(\"4>>Data Visualization Using Power BI Report View.\")\n",
    "print(\"5>>User Experience Using Power BI Report View.\")\n",
    "print(\"6>>Sharing Using Power BI Service.\")"
   ]
  },
  {
   "cell_type": "code",
   "execution_count": 8,
   "id": "412882f3-894a-4881-91b0-f86073754566",
   "metadata": {},
   "outputs": [
    {
     "name": "stdout",
     "output_type": "stream",
     "text": [
      "Retail Data Set Overview نظرة عامة على مجموعة بيانات البيع بالتجزئة\n"
     ]
    }
   ],
   "source": [
    "print(\"Retail Data Set Overview\",\"نظرة عامة على مجموعة بيانات البيع بالتجزئة\")"
   ]
  },
  {
   "cell_type": "code",
   "execution_count": 9,
   "id": "004d0a29-bd9f-40ff-8200-c1d2436472d8",
   "metadata": {},
   "outputs": [
    {
     "name": "stdout",
     "output_type": "stream",
     "text": [
      "Data Set مجموعة البيانات\n"
     ]
    }
   ],
   "source": [
    "print(\"Data Set\",\"مجموعة البيانات\")"
   ]
  },
  {
   "cell_type": "code",
   "execution_count": 12,
   "id": "1856dd9f-9ad6-4f70-9f01-462721e62902",
   "metadata": {},
   "outputs": [
    {
     "name": "stdout",
     "output_type": "stream",
     "text": [
      "Retail Sales Fact Table {ID-StoreID-CategoryID-Date-Sales$USD}\n",
      "Date Dimension {Date-Year-Quarter-Month-Week}\n",
      "Store Dimension {StoreID-SoreType-SoreSize-Location}\n",
      "Category Dimension {CategoryID-Department-Product Group}\n"
     ]
    }
   ],
   "source": [
    "print(\"Retail Sales Fact Table\",\"{ID-StoreID-CategoryID-Date-Sales$USD}\")\n",
    "print(\"Date Dimension\",\"{Date-Year-Quarter-Month-Week}\")\n",
    "print(\"Store Dimension\",\"{StoreID-SoreType-SoreSize-Location}\")\n",
    "print(\"Category Dimension\",\"{CategoryID-Department-Product Group}\")"
   ]
  },
  {
   "cell_type": "code",
   "execution_count": 13,
   "id": "630c1ebb-2085-4022-86a2-dedd14f6d3a2",
   "metadata": {},
   "outputs": [
    {
     "name": "stdout",
     "output_type": "stream",
     "text": [
      "Retail Cost Fact Table {StoreID-Date-Wages-Rent-TargetSales}\n"
     ]
    }
   ],
   "source": [
    "print(\"Retail Cost Fact Table\",\"{StoreID-Date-Wages-Rent-TargetSales}\")"
   ]
  },
  {
   "cell_type": "code",
   "execution_count": 17,
   "id": "a87aaf95-9f50-46f9-b1e5-184f2b03889e",
   "metadata": {},
   "outputs": [
    {
     "name": "stdout",
     "output_type": "stream",
     "text": [
      "Power BI Fundamentals>>Module 2<<Introduction - Power Query\n"
     ]
    }
   ],
   "source": [
    "print(\"Power BI Fundamentals>>Module 2<<Introduction - Power Query\")"
   ]
  },
  {
   "cell_type": "code",
   "execution_count": 2,
   "id": "89261458-7028-4349-aefd-082d454bdc8d",
   "metadata": {},
   "outputs": [
    {
     "name": "stdout",
     "output_type": "stream",
     "text": [
      "1>>Introduction - Power Query<<\n"
     ]
    }
   ],
   "source": [
    "print(\"1>>Introduction - Power Query<<\")"
   ]
  },
  {
   "cell_type": "code",
   "execution_count": 3,
   "id": "0dd017be-4d75-4925-b08e-ea0e57b8960f",
   "metadata": {},
   "outputs": [
    {
     "name": "stdout",
     "output_type": "stream",
     "text": [
      "2>>What is Power Query\n"
     ]
    }
   ],
   "source": [
    "print(\"2>>What is Power Query\")"
   ]
  },
  {
   "cell_type": "code",
   "execution_count": 4,
   "id": "f4aa56e8-89c7-4634-9106-5739f9252d9c",
   "metadata": {},
   "outputs": [
    {
     "name": "stdout",
     "output_type": "stream",
     "text": [
      "Power Query is the data preparation and transformation tool\n"
     ]
    }
   ],
   "source": [
    "print(\"Power Query is the data preparation and transformation tool\")"
   ]
  },
  {
   "cell_type": "code",
   "execution_count": 7,
   "id": "92e622a0-9c33-4a36-aeb1-2b59f16621a5",
   "metadata": {},
   "outputs": [
    {
     "name": "stdout",
     "output_type": "stream",
     "text": [
      "3>>Import & Load Data استيراد وتحميل البيانات\n"
     ]
    }
   ],
   "source": [
    "print(\"3>>Import & Load Data\",\"استيراد وتحميل البيانات\")"
   ]
  },
  {
   "cell_type": "code",
   "execution_count": 8,
   "id": "2fd674ac-abb0-493a-9edf-a58114455ab7",
   "metadata": {},
   "outputs": [
    {
     "name": "stdout",
     "output_type": "stream",
     "text": [
      "4>>Transform Data - Store Details - Fill & Merge Columns تحويل البيانات - تخزين التفاصيل - تعبئة ودمج الأعمدة\n"
     ]
    }
   ],
   "source": [
    "print(\"4>>Transform Data - Store Details - Fill & Merge Columns\",\"تحويل البيانات - تخزين التفاصيل - تعبئة ودمج الأعمدة\")"
   ]
  },
  {
   "cell_type": "code",
   "execution_count": 9,
   "id": "5f053c95-dd24-43b5-b8e4-c9bcce8bad25",
   "metadata": {},
   "outputs": [
    {
     "name": "stdout",
     "output_type": "stream",
     "text": [
      "5>>Transform Data - Store Details - Text Columns\n"
     ]
    }
   ],
   "source": [
    "print(\"5>>Transform Data - Store Details - Text Columns\")"
   ]
  },
  {
   "cell_type": "code",
   "execution_count": 10,
   "id": "2f42ba0d-29ec-495e-aa00-85e324639b4f",
   "metadata": {},
   "outputs": [
    {
     "name": "stdout",
     "output_type": "stream",
     "text": [
      "6>>Transform Data - Select Columns & Filter Rows تحويل البيانات - تحديد الأعمدة وتصفية الصفوف\n"
     ]
    }
   ],
   "source": [
    "print(\"6>>Transform Data - Select Columns & Filter Rows\",\"تحويل البيانات - تحديد الأعمدة وتصفية الصفوف\")"
   ]
  },
  {
   "cell_type": "code",
   "execution_count": 11,
   "id": "6fdb2511-16f2-4c25-ad91-fca914e1b017",
   "metadata": {},
   "outputs": [
    {
     "name": "stdout",
     "output_type": "stream",
     "text": [
      "7>>Transform Data - Unpivot Data تحويل البيانات - بيانات غير محورية\n"
     ]
    }
   ],
   "source": [
    "print(\"7>>Transform Data - Unpivot Data\",\"تحويل البيانات - بيانات غير محورية\")"
   ]
  },
  {
   "cell_type": "code",
   "execution_count": 12,
   "id": "44994ecc-da4a-4043-9601-06650de182df",
   "metadata": {},
   "outputs": [
    {
     "name": "stdout",
     "output_type": "stream",
     "text": [
      "8>>Transform Data - Change Data Types تحويل البيانات - تغيير أنواع البيانات\n"
     ]
    }
   ],
   "source": [
    "print(\"8>>Transform Data - Change Data Types\",\"تحويل البيانات - تغيير أنواع البيانات\")"
   ]
  },
  {
   "cell_type": "code",
   "execution_count": 13,
   "id": "a99e1cfc-8711-48e6-9b10-a7d2501cda82",
   "metadata": {},
   "outputs": [
    {
     "name": "stdout",
     "output_type": "stream",
     "text": [
      "9>>Transform Data - Pivot Data تحويل البيانات - بيانات محورية\n"
     ]
    }
   ],
   "source": [
    "print(\"9>>Transform Data - Pivot Data\",\"تحويل البيانات - بيانات محورية\")"
   ]
  },
  {
   "cell_type": "code",
   "execution_count": 14,
   "id": "063ab5a6-7cb7-4120-bb3b-e89cfc3fda05",
   "metadata": {},
   "outputs": [
    {
     "name": "stdout",
     "output_type": "stream",
     "text": [
      "10>>Add Columns إضافة أعمدة\n"
     ]
    }
   ],
   "source": [
    "print(\"10>>Add Columns\",\"إضافة أعمدة\")"
   ]
  },
  {
   "cell_type": "code",
   "execution_count": 15,
   "id": "df26cf07-9f6f-43ce-8d28-e71228c5029f",
   "metadata": {},
   "outputs": [
    {
     "name": "stdout",
     "output_type": "stream",
     "text": [
      "11>>Manage Queries إدارة الاستعلامات\n"
     ]
    }
   ],
   "source": [
    "print(\"11>>Manage Queries\",\"إدارة الاستعلامات\")"
   ]
  },
  {
   "cell_type": "code",
   "execution_count": 17,
   "id": "bdc58a00-53f6-4998-a2a1-ff29331a044b",
   "metadata": {},
   "outputs": [
    {
     "name": "stdout",
     "output_type": "stream",
     "text": [
      "12>>Advanced Power Query\n"
     ]
    }
   ],
   "source": [
    "print(\"12>>Advanced Power Query\")"
   ]
  },
  {
   "cell_type": "code",
   "execution_count": 19,
   "id": "b7cfa855-28de-435f-bdb2-cb2fbf565e0c",
   "metadata": {},
   "outputs": [
    {
     "name": "stdout",
     "output_type": "stream",
     "text": [
      "13>>Load Queries to the Data Model تحميل الاستعلامات إلى نموذج البيانات\n"
     ]
    }
   ],
   "source": [
    "print(\"13>>Load Queries to the Data Model\",\"تحميل الاستعلامات إلى نموذج البيانات\")"
   ]
  },
  {
   "cell_type": "code",
   "execution_count": 20,
   "id": "79e5e867-1203-445b-b5ee-c5619a111efa",
   "metadata": {},
   "outputs": [
    {
     "name": "stdout",
     "output_type": "stream",
     "text": [
      "14>>Power BI Fundamentals>>Module 3<<\n"
     ]
    }
   ],
   "source": [
    "print(\"14>>Power BI Fundamentals>>Module 3<<\")"
   ]
  },
  {
   "cell_type": "code",
   "execution_count": 22,
   "id": "9013e2ac-0a15-4c81-9064-d98c61b22e90",
   "metadata": {},
   "outputs": [
    {
     "name": "stdout",
     "output_type": "stream",
     "text": [
      "1>>Introduction\n"
     ]
    }
   ],
   "source": [
    "print(\"1>>Introduction\")"
   ]
  },
  {
   "cell_type": "code",
   "execution_count": 23,
   "id": "1d396f94-3696-4128-b701-78dcc7992b30",
   "metadata": {},
   "outputs": [
    {
     "name": "stdout",
     "output_type": "stream",
     "text": [
      "1.Data Modeling\n"
     ]
    }
   ],
   "source": [
    "print(\"1.Data Modeling\")"
   ]
  },
  {
   "cell_type": "code",
   "execution_count": 24,
   "id": "a97df4d5-459e-4702-9174-1f5cd03b07b3",
   "metadata": {},
   "outputs": [
    {
     "name": "stdout",
     "output_type": "stream",
     "text": [
      "2.Database normalization:-The process of organizing data in a database.\n"
     ]
    }
   ],
   "source": [
    "print(\"2.Database normalization:-The process of organizing data in a database.\")"
   ]
  },
  {
   "cell_type": "code",
   "execution_count": 25,
   "id": "abaa4529-0ab0-49f1-a9e9-742964a35ae9",
   "metadata": {},
   "outputs": [
    {
     "name": "stdout",
     "output_type": "stream",
     "text": [
      "3.Fact & Dimension >> Star Schema\n"
     ]
    }
   ],
   "source": [
    "print(\"3.Fact & Dimension >> Star Schema\")"
   ]
  },
  {
   "cell_type": "code",
   "execution_count": 26,
   "id": "9d62eeb0-8e8d-4a93-abdd-82ebea36f37a",
   "metadata": {},
   "outputs": [
    {
     "name": "stdout",
     "output_type": "stream",
     "text": [
      "4.DAX Measures\n"
     ]
    }
   ],
   "source": [
    "print(\"4.DAX Measures\")"
   ]
  },
  {
   "cell_type": "code",
   "execution_count": 27,
   "id": "38858322-b6a6-4cc1-8c93-1cec6f184eb7",
   "metadata": {},
   "outputs": [
    {
     "name": "stdout",
     "output_type": "stream",
     "text": [
      "2>>Data Modeling & Database Normalization نمذجة البيانات وتطبيع قواعد البيانات\n"
     ]
    }
   ],
   "source": [
    "print(\"2>>Data Modeling & Database Normalization\",\"نمذجة البيانات وتطبيع قواعد البيانات\")"
   ]
  },
  {
   "cell_type": "code",
   "execution_count": 28,
   "id": "4136837b-9da6-42cb-b82b-2ce0a03fe532",
   "metadata": {},
   "outputs": [
    {
     "name": "stdout",
     "output_type": "stream",
     "text": [
      "3>>Database-Normalization:-The process of organizing data in a Database.\n"
     ]
    }
   ],
   "source": [
    "print(\"3>>Database-Normalization:-The process of organizing data in a Database.\")"
   ]
  },
  {
   "cell_type": "code",
   "execution_count": 30,
   "id": "3cc15e32-9f61-40fb-aefd-378477ca133d",
   "metadata": {},
   "outputs": [
    {
     "name": "stdout",
     "output_type": "stream",
     "text": [
      "4>>Fact & Dimension Tables<< جداول الحقائق والأبعاد\n"
     ]
    }
   ],
   "source": [
    "print(\"4>>Fact & Dimension Tables<<\",\"جداول الحقائق والأبعاد\")"
   ]
  },
  {
   "cell_type": "code",
   "execution_count": 31,
   "id": "aef218da-c132-44c5-a589-b68d7f44bd5b",
   "metadata": {},
   "outputs": [
    {
     "name": "stdout",
     "output_type": "stream",
     "text": [
      "5>>Fact Table>>Measurement<<\n",
      "6>>Dimension Table>>Desciption<<\n"
     ]
    }
   ],
   "source": [
    "print(\"5>>Fact Table>>Measurement<<\")\n",
    "print(\"6>>Dimension Table>>Desciption<<\")"
   ]
  },
  {
   "cell_type": "code",
   "execution_count": 32,
   "id": "fd67f8b0-f04b-46cb-b699-055b77b7260b",
   "metadata": {},
   "outputs": [
    {
     "name": "stdout",
     "output_type": "stream",
     "text": [
      "7>>Retail Sales Fact Table<<\n",
      "Product# Store Date Sales\n"
     ]
    }
   ],
   "source": [
    "print(\"7>>Retail Sales Fact Table<<\")\n",
    "print(\"Product# Store Date Sales\")"
   ]
  },
  {
   "cell_type": "code",
   "execution_count": 33,
   "id": "e74c8fc3-2fdf-481a-b67a-8d0f92880804",
   "metadata": {},
   "outputs": [
    {
     "name": "stdout",
     "output_type": "stream",
     "text": [
      "8>>Product Dimension Table<<\n",
      "Product# Department Group Color\n"
     ]
    }
   ],
   "source": [
    "print(\"8>>Product Dimension Table<<\")\n",
    "print(\"Product# Department Group Color\")"
   ]
  },
  {
   "cell_type": "code",
   "execution_count": 35,
   "id": "f9bf41e1-3b4c-44f9-b1c4-17884c5a36d6",
   "metadata": {},
   "outputs": [
    {
     "name": "stdout",
     "output_type": "stream",
     "text": [
      "9>>star schema contains one fact table surrounded by dimension tables\n"
     ]
    }
   ],
   "source": [
    "print(\"9>>star schema contains one fact table surrounded by dimension tables\")"
   ]
  },
  {
   "cell_type": "code",
   "execution_count": 38,
   "id": "5d29b5ef-19b2-4c9f-9dac-1227edc9ecd0",
   "metadata": {},
   "outputs": [
    {
     "name": "stdout",
     "output_type": "stream",
     "text": [
      "10>>Create Data Model<<\n"
     ]
    }
   ],
   "source": [
    "print(\"10>>Create Data Model<<\")"
   ]
  },
  {
   "cell_type": "code",
   "execution_count": 39,
   "id": "52f6ea57-bd80-46d2-84af-3657117a396e",
   "metadata": {},
   "outputs": [
    {
     "name": "stdout",
     "output_type": "stream",
     "text": [
      "11>>DAX & DAX Measures\n"
     ]
    }
   ],
   "source": [
    "print(\"11>>DAX & DAX Measures\")"
   ]
  },
  {
   "cell_type": "code",
   "execution_count": 41,
   "id": "9dc85598-878a-416a-9844-dc040460ea71",
   "metadata": {},
   "outputs": [
    {
     "name": "stdout",
     "output_type": "stream",
     "text": [
      "12>>DAX - Measures>>Data Analysis eXpressions<<\n"
     ]
    }
   ],
   "source": [
    "print(\"12>>DAX - Measures>>Data Analysis eXpressions<<\")"
   ]
  },
  {
   "cell_type": "code",
   "execution_count": 42,
   "id": "8777e584-c7d5-4ba8-a200-81148f5624ee",
   "metadata": {},
   "outputs": [
    {
     "name": "stdout",
     "output_type": "stream",
     "text": [
      "13>>DAX create aggregate or summarize data.\n"
     ]
    }
   ],
   "source": [
    "print(\"13>>DAX create aggregate or summarize data.\")"
   ]
  },
  {
   "cell_type": "code",
   "execution_count": 44,
   "id": "379b235c-0aa0-4495-812e-7aeb949688ab",
   "metadata": {},
   "outputs": [
    {
     "name": "stdout",
     "output_type": "stream",
     "text": [
      "14>>DAX Two Types {Calculated Columns and Measures}\n"
     ]
    }
   ],
   "source": [
    "print(\"14>>DAX Two Types {Calculated Columns and Measures}\")"
   ]
  },
  {
   "cell_type": "code",
   "execution_count": 45,
   "id": "1418ed8d-15a8-4823-a3c1-33ec65949b3c",
   "metadata": {},
   "outputs": [
    {
     "name": "stdout",
     "output_type": "stream",
     "text": [
      "15>>Total Sales = SUM('Retail Sales'[Sales])=5,916.34\n"
     ]
    }
   ],
   "source": [
    "print(\"15>>Total Sales = SUM('Retail Sales'[Sales])=5,916.34\")"
   ]
  },
  {
   "cell_type": "code",
   "execution_count": 46,
   "id": "0255e268-e64b-45f7-87d4-1bb5e84b974e",
   "metadata": {},
   "outputs": [
    {
     "name": "stdout",
     "output_type": "stream",
     "text": [
      "16>>Create Basic DAX Measures<<\n"
     ]
    }
   ],
   "source": [
    "print(\"16>>Create Basic DAX Measures<<\")"
   ]
  },
  {
   "cell_type": "code",
   "execution_count": 47,
   "id": "03efd217-f2a8-4c66-871a-9314b1f72d23",
   "metadata": {},
   "outputs": [
    {
     "name": "stdout",
     "output_type": "stream",
     "text": [
      "17>>Create DAX Measure to aggregate sales data<<\n"
     ]
    }
   ],
   "source": [
    "print(\"17>>Create DAX Measure to aggregate sales data<<\")"
   ]
  },
  {
   "cell_type": "code",
   "execution_count": 49,
   "id": "f9cd09ba-772e-4015-a099-3690bd97eefe",
   "metadata": {},
   "outputs": [
    {
     "name": "stdout",
     "output_type": "stream",
     "text": [
      "18>>Total Sales = Sum('Retail Sales'[Sales]) In Mode View\n"
     ]
    }
   ],
   "source": [
    "print(\"18>>Total Sales = Sum('Retail Sales'[Sales])\",\"In Mode View\")"
   ]
  },
  {
   "cell_type": "code",
   "execution_count": 51,
   "id": "e6fb6b00-e2c6-4589-9ee8-78f076526c6a",
   "metadata": {},
   "outputs": [
    {
     "name": "stdout",
     "output_type": "stream",
     "text": [
      "19>>Total Margin = Sum('Retail Sales'[Margin]) إجمالي الهامش\n"
     ]
    }
   ],
   "source": [
    "print(\"19>>Total Margin = Sum('Retail Sales'[Margin])\",\"إجمالي الهامش\")"
   ]
  },
  {
   "cell_type": "code",
   "execution_count": 53,
   "id": "a1da7300-91c4-4a30-bced-fe4eb0b879dc",
   "metadata": {},
   "outputs": [
    {
     "name": "stdout",
     "output_type": "stream",
     "text": [
      "20>>Total Gross Margin = Sum('Retail Sales'[Gross Margin]) إجمالي هامش الربح الإجمالي\n"
     ]
    }
   ],
   "source": [
    "print(\"20>>Total Gross Margin = Sum('Retail Sales'[Gross Margin])\",\"إجمالي هامش الربح الإجمالي\")"
   ]
  },
  {
   "cell_type": "code",
   "execution_count": 54,
   "id": "90ffb69d-e148-4d1c-b549-10fb15db34b6",
   "metadata": {},
   "outputs": [
    {
     "name": "stdout",
     "output_type": "stream",
     "text": [
      "21>>Data Model Best Practices أفضل ممارسات نموذج البيانات\n"
     ]
    }
   ],
   "source": [
    "print(\"21>>Data Model Best Practices\",\"أفضل ممارسات نموذج البيانات\")"
   ]
  },
  {
   "cell_type": "code",
   "execution_count": 55,
   "id": "3f826f4b-3470-4c75-9d0e-72496daa7d1d",
   "metadata": {},
   "outputs": [
    {
     "name": "stdout",
     "output_type": "stream",
     "text": [
      "Power BI Fundamentals>>Module 5<<\n"
     ]
    }
   ],
   "source": [
    "print(\"Power BI Fundamentals>>Module 5<<\")"
   ]
  },
  {
   "cell_type": "code",
   "execution_count": 56,
   "id": "8f9d1852-c066-4f89-90fc-a60bc67d2be7",
   "metadata": {},
   "outputs": [
    {
     "name": "stdout",
     "output_type": "stream",
     "text": [
      "Introduction مقدمة\n"
     ]
    }
   ],
   "source": [
    "print(\"Introduction مقدمة\")"
   ]
  },
  {
   "cell_type": "code",
   "execution_count": 57,
   "id": "af923f26-5741-4a8b-97e4-f84a056e9ecd",
   "metadata": {},
   "outputs": [
    {
     "name": "stdout",
     "output_type": "stream",
     "text": [
      "Chapter Introduction--Sales--Visuals & DAX<<\n"
     ]
    }
   ],
   "source": [
    "print(\"Chapter Introduction--Sales--Visuals & DAX<<\")"
   ]
  },
  {
   "cell_type": "code",
   "execution_count": 59,
   "id": "924ece07-8890-4a21-98b9-55ccaacde3b5",
   "metadata": {},
   "outputs": [
    {
     "name": "stdout",
     "output_type": "stream",
     "text": [
      "DAX--Visualizing with Context DAX--التصور مع السياق\n"
     ]
    }
   ],
   "source": [
    "print(\"DAX--Visualizing with Context\",\"DAX--التصور مع السياق\")"
   ]
  },
  {
   "cell_type": "code",
   "execution_count": 60,
   "id": "f1f5ab75-70ec-4134-953d-09d8967ce797",
   "metadata": {},
   "outputs": [
    {
     "name": "stdout",
     "output_type": "stream",
     "text": [
      ">>Create Sales Column Chart<<\n"
     ]
    }
   ],
   "source": [
    "print(\">>Create Sales Column Chart<<\")"
   ]
  },
  {
   "cell_type": "code",
   "execution_count": 62,
   "id": "331d25c1-234e-4358-9d20-e03a223a6483",
   "metadata": {},
   "outputs": [
    {
     "name": "stdout",
     "output_type": "stream",
     "text": [
      "Column Chart>>Total Sales By StoreType\n"
     ]
    }
   ],
   "source": [
    "print(\"Column Chart>>Total Sales By StoreType\")"
   ]
  },
  {
   "cell_type": "code",
   "execution_count": 63,
   "id": "42a8c740-4320-4e0e-b2c1-35bfff29f0d2",
   "metadata": {},
   "outputs": [
    {
     "name": "stdout",
     "output_type": "stream",
     "text": [
      "<<Total Sales by StoreType and Department>>\n"
     ]
    }
   ],
   "source": [
    "print(\"<<Total Sales by StoreType and Department>>\")"
   ]
  },
  {
   "cell_type": "code",
   "execution_count": 64,
   "id": "d7c3c181-3d2a-4b1d-9d77-8ca175e302ca",
   "metadata": {},
   "outputs": [
    {
     "name": "stdout",
     "output_type": "stream",
     "text": [
      "<<Clustered column chart<<\n"
     ]
    }
   ],
   "source": [
    "print(\"<<Clustered column chart<<\")"
   ]
  },
  {
   "cell_type": "code",
   "execution_count": 65,
   "id": "401af449-d768-43c9-ab85-350896bbd21d",
   "metadata": {},
   "outputs": [
    {
     "name": "stdout",
     "output_type": "stream",
     "text": [
      "<<Create Sales Map & Ribbon Chart>>\n"
     ]
    }
   ],
   "source": [
    "print(\"<<Create Sales Map & Ribbon Chart>>\")"
   ]
  },
  {
   "cell_type": "code",
   "execution_count": 66,
   "id": "2d1bad9e-5536-4b7a-b63a-16b9a89933dd",
   "metadata": {},
   "outputs": [
    {
     "name": "stdout",
     "output_type": "stream",
     "text": [
      "<<Total Sales by Store Location>>\n"
     ]
    }
   ],
   "source": [
    "print(\"<<Total Sales by Store Location>>\")"
   ]
  },
  {
   "cell_type": "code",
   "execution_count": 67,
   "id": "21b45c1b-2aaa-4f36-8a0d-dd2fb82ad328",
   "metadata": {},
   "outputs": [
    {
     "name": "stdout",
     "output_type": "stream",
     "text": [
      "<<Stacked Column Chart>>\n"
     ]
    }
   ],
   "source": [
    "print(\"<<Stacked Column Chart>>\")"
   ]
  },
  {
   "cell_type": "code",
   "execution_count": 68,
   "id": "701f526f-6521-4eae-bc11-b9df01940f2e",
   "metadata": {},
   "outputs": [
    {
     "name": "stdout",
     "output_type": "stream",
     "text": [
      "<<Ribbon Chart>>\n"
     ]
    }
   ],
   "source": [
    "print(\"<<Ribbon Chart>>\")"
   ]
  },
  {
   "cell_type": "code",
   "execution_count": 69,
   "id": "7e5add01-9631-4bd5-91f0-cf8fe253a063",
   "metadata": {},
   "outputs": [
    {
     "name": "stdout",
     "output_type": "stream",
     "text": [
      "<<DAX--Calculated Columns>>\n"
     ]
    }
   ],
   "source": [
    "print(\"<<DAX--Calculated Columns>>\")"
   ]
  },
  {
   "cell_type": "code",
   "execution_count": 72,
   "id": "d09665d6-9a01-435e-8dc8-d1efefd1aca6",
   "metadata": {},
   "outputs": [
    {
     "name": "stdout",
     "output_type": "stream",
     "text": [
      "Group & Dept = [Group]&\":\"&[Department] Concatenate Two Columns\n"
     ]
    }
   ],
   "source": [
    "print('Group & Dept = [Group]&\":\"&[Department]',\"Concatenate Two Columns\")"
   ]
  },
  {
   "cell_type": "code",
   "execution_count": 74,
   "id": "b75eeba0-4c14-4636-85bd-5064959b799e",
   "metadata": {},
   "outputs": [
    {
     "name": "stdout",
     "output_type": "stream",
     "text": [
      ">>Create DAX Calculated Columns<< >>إنشاء أعمدة DAX المحسوبة<<\n"
     ]
    }
   ],
   "source": [
    "print(\">>Create DAX Calculated Columns<<\",\">>إنشاء أعمدة DAX المحسوبة<<\")"
   ]
  },
  {
   "cell_type": "code",
   "execution_count": 75,
   "id": "06e4a6a0-1b85-466b-a71a-80ea72fe6ce4",
   "metadata": {},
   "outputs": [
    {
     "name": "stdout",
     "output_type": "stream",
     "text": [
      "Group & Dept = Categories[Group] & \": \" & Categories[Department]\n"
     ]
    }
   ],
   "source": [
    "print('Group & Dept = Categories[Group] & \": \" & Categories[Department]')"
   ]
  },
  {
   "cell_type": "code",
   "execution_count": 76,
   "id": "9119f2c4-d001-4618-bad2-5359dd19c8f7",
   "metadata": {},
   "outputs": [
    {
     "name": "stdout",
     "output_type": "stream",
     "text": [
      "Store Size = RELATED('Store Details'[StoreSize])\n"
     ]
    }
   ],
   "source": [
    "print(\"Store Size = RELATED('Store Details'[StoreSize])\")"
   ]
  },
  {
   "cell_type": "code",
   "execution_count": 77,
   "id": "3f138f71-420e-44ec-a708-7e00592696a0",
   "metadata": {},
   "outputs": [
    {
     "name": "stdout",
     "output_type": "stream",
     "text": [
      "Calculated Gross Margin = 'Retail Sales'[Sales] * 'Retail Sales'[Margin]\n"
     ]
    }
   ],
   "source": [
    "print(\"Calculated Gross Margin = 'Retail Sales'[Sales] * 'Retail Sales'[Margin]\")"
   ]
  },
  {
   "cell_type": "code",
   "execution_count": 79,
   "id": "bb296a0d-7c1c-4780-9d13-4b98abb5cdbe",
   "metadata": {},
   "outputs": [
    {
     "name": "stdout",
     "output_type": "stream",
     "text": [
      "<<Recreate Total Gross Margin with SUMX()>> <<إعادة إنشاء إجمالي هامش الربح الإجمالي باستخدام SUMX()>>\n"
     ]
    }
   ],
   "source": [
    "print(\"<<Recreate Total Gross Margin with SUMX()>>\",\"<<إعادة إنشاء إجمالي هامش الربح الإجمالي باستخدام SUMX()>>\")"
   ]
  },
  {
   "cell_type": "code",
   "execution_count": 80,
   "id": "45cd27bc-9b46-4981-b539-cd83d6f7078e",
   "metadata": {},
   "outputs": [
    {
     "name": "stdout",
     "output_type": "stream",
     "text": [
      "<<SUMX Gross Margin = SUMX('Retail Sales', 'Retail Sales'[Sales] * 'Retail Sales'[Margin])>>\n"
     ]
    }
   ],
   "source": [
    "print(\"<<SUMX Gross Margin = SUMX('Retail Sales', 'Retail Sales'[Sales] * 'Retail Sales'[Margin])>>\")"
   ]
  },
  {
   "cell_type": "code",
   "execution_count": 81,
   "id": "83689917-9b29-484f-b2f6-ae0d87594ea4",
   "metadata": {},
   "outputs": [
    {
     "name": "stdout",
     "output_type": "stream",
     "text": [
      "Incrorrect Gross Margin = [Total Sales] * [Total Margin]\n"
     ]
    }
   ],
   "source": [
    "print(\"Incrorrect Gross Margin = [Total Sales] * [Total Margin]\")"
   ]
  },
  {
   "cell_type": "code",
   "execution_count": 82,
   "id": "b86c1491-8e07-4dba-b4c7-531cdb1bb799",
   "metadata": {},
   "outputs": [
    {
     "name": "stdout",
     "output_type": "stream",
     "text": [
      "هامش الربح الإجمالي غير صحيح = [إجمالي المبيعات] * [إجمالي الهامش]\n"
     ]
    }
   ],
   "source": [
    "print(\"هامش الربح الإجمالي غير صحيح = [إجمالي المبيعات] * [إجمالي الهامش]\")"
   ]
  },
  {
   "cell_type": "code",
   "execution_count": 83,
   "id": "97c8e8f2-a75d-4074-98cb-e8ef67cfe7ea",
   "metadata": {},
   "outputs": [
    {
     "name": "stdout",
     "output_type": "stream",
     "text": [
      "Crorrect Gross Margin\n",
      "<<SUMX Gross Margin = SUMX('Retail Sales', 'Retail Sales'[Sales] * 'Retail Sales'[Margin])>>\n"
     ]
    }
   ],
   "source": [
    "print(\"Crorrect Gross Margin\")\n",
    "print(\"<<SUMX Gross Margin = SUMX('Retail Sales', 'Retail Sales'[Sales] * 'Retail Sales'[Margin])>>\")"
   ]
  },
  {
   "cell_type": "code",
   "execution_count": 85,
   "id": "a7d23add-d1e2-4ab7-a5fb-419f16f79dcc",
   "metadata": {},
   "outputs": [
    {
     "name": "stdout",
     "output_type": "stream",
     "text": [
      "Date Dimension بُعد التاريخ\n"
     ]
    }
   ],
   "source": [
    "print(\"Date Dimension\",\"بُعد التاريخ\")"
   ]
  },
  {
   "cell_type": "code",
   "execution_count": 86,
   "id": "0a5e51a0-4f96-4e4c-95b2-c021730a71a5",
   "metadata": {},
   "outputs": [
    {
     "name": "stdout",
     "output_type": "stream",
     "text": [
      "Create Total Sales YTD with Quick Measures. إنشاء إجمالي المبيعات حتى الآن باستخدام التدابير السريعة.\n"
     ]
    }
   ],
   "source": [
    "print(\"Create Total Sales YTD with Quick Measures.\",\"إنشاء إجمالي المبيعات حتى الآن باستخدام التدابير السريعة.\")"
   ]
  },
  {
   "cell_type": "code",
   "execution_count": 90,
   "id": "a59a360a-b59f-4ded-aab1-73a4573142c6",
   "metadata": {},
   "outputs": [
    {
     "name": "stdout",
     "output_type": "stream",
     "text": [
      ">>Quick-Measures With Calculations<< >>إجراءات سريعة مع الحسابات<<\n"
     ]
    }
   ],
   "source": [
    "print(\">>Quick-Measures With Calculations<<\",\">>إجراءات سريعة مع الحسابات<<\")"
   ]
  },
  {
   "cell_type": "code",
   "execution_count": 95,
   "id": "f254581e-5e98-4d8b-99fb-6a4c53d35c70",
   "metadata": {},
   "outputs": [
    {
     "name": "stdout",
     "output_type": "stream",
     "text": [
      "Quick measures >> Calculations >> Year-to-date total\n",
      "Base value: Total Sales,Date: Date\n",
      "Total Sales YTD = TOTALYTD([Total Sales], 'Date'[Date])\n",
      "Line Chart>>Total Sales and Total Sales YTD by Date\n"
     ]
    }
   ],
   "source": [
    "print(\"Quick measures >> Calculations >> Year-to-date total\")\n",
    "print(\"Base value: Total Sales,Date: Date\")\n",
    "print(\"Total Sales YTD = TOTALYTD([Total Sales], 'Date'[Date])\")\n",
    "print(\"Line Chart>>Total Sales and Total Sales YTD by Date\")"
   ]
  },
  {
   "cell_type": "code",
   "execution_count": 98,
   "id": "c87dfd13-8e37-4652-bd71-8d8eaf481e6a",
   "metadata": {},
   "outputs": [
    {
     "name": "stdout",
     "output_type": "stream",
     "text": [
      ">>Create & Format {123Card Visual} for DAX Measures<<\n"
     ]
    }
   ],
   "source": [
    "print(\">>Create & Format {123Card Visual} for DAX Measures<<\")"
   ]
  },
  {
   "cell_type": "code",
   "execution_count": 99,
   "id": "6390f46c-567f-441f-ad63-23a02ff45b6d",
   "metadata": {},
   "outputs": [
    {
     "name": "stdout",
     "output_type": "stream",
     "text": [
      "Card(new)>>Total Sales & Total Sales YTD & Total Gross Margin\n"
     ]
    }
   ],
   "source": [
    "print(\"Card(new)>>Total Sales & Total Sales YTD & Total Gross Margin\")"
   ]
  },
  {
   "cell_type": "code",
   "execution_count": 100,
   "id": "a69e14fa-02d8-4d3b-956f-cf9207448ca8",
   "metadata": {},
   "outputs": [
    {
     "name": "stdout",
     "output_type": "stream",
     "text": [
      "بطاقة (جديدة)>>إجمالي المبيعات وإجمالي المبيعات حتى الآن وإجمالي هامش الربح الإجمالي\n"
     ]
    }
   ],
   "source": [
    "print(\"بطاقة (جديدة)>>إجمالي المبيعات وإجمالي المبيعات حتى الآن وإجمالي هامش الربح الإجمالي\")"
   ]
  },
  {
   "cell_type": "code",
   "execution_count": 102,
   "id": "7ac5db9a-c27b-413a-8c29-3b259ca55eb5",
   "metadata": {},
   "outputs": [
    {
     "name": "stdout",
     "output_type": "stream",
     "text": [
      "<<Filter Report with Slicers & Filter Pane>> <<تقرير التصفية باستخدام الشرائح ولوحة التصفية>>\n"
     ]
    }
   ],
   "source": [
    "print(\"<<Filter Report with Slicers & Filter Pane>>\",\"<<تقرير التصفية باستخدام الشرائح ولوحة التصفية>>\")"
   ]
  },
  {
   "cell_type": "code",
   "execution_count": 104,
   "id": "e6f7f82f-88be-4f33-aa3e-592f954bd5a7",
   "metadata": {},
   "outputs": [
    {
     "name": "stdout",
     "output_type": "stream",
     "text": [
      ">>Filter Report with Slicers & Filter Pane<<\n"
     ]
    }
   ],
   "source": [
    "print(\">>Filter Report with Slicers & Filter Pane<<\")"
   ]
  },
  {
   "cell_type": "code",
   "execution_count": 105,
   "id": "550cb8fb-d7f8-47ce-93b1-516f412c9f63",
   "metadata": {},
   "outputs": [
    {
     "name": "stdout",
     "output_type": "stream",
     "text": [
      "Add Department Slicer\n"
     ]
    }
   ],
   "source": [
    "print(\"Add Department Slicer\")"
   ]
  },
  {
   "cell_type": "code",
   "execution_count": 106,
   "id": "3c798f43-8159-4ea5-85cb-79e268e5fc65",
   "metadata": {},
   "outputs": [
    {
     "name": "stdout",
     "output_type": "stream",
     "text": [
      "Filter Pane\n"
     ]
    }
   ],
   "source": [
    "print(\"Filter Pane\")"
   ]
  },
  {
   "cell_type": "code",
   "execution_count": 107,
   "id": "d7444d92-6157-41af-9668-ff887c5ed7db",
   "metadata": {},
   "outputs": [
    {
     "name": "stdout",
     "output_type": "stream",
     "text": [
      "Filter Type Top N\n"
     ]
    }
   ],
   "source": [
    "print(\"Filter Type Top N\")"
   ]
  },
  {
   "cell_type": "code",
   "execution_count": 108,
   "id": "265d59c6-76b1-4f45-95b8-4984ed553c9a",
   "metadata": {},
   "outputs": [
    {
     "name": "stdout",
     "output_type": "stream",
     "text": [
      "Filter Type:Top N ,By Value:- Total Sales\n"
     ]
    }
   ],
   "source": [
    "print(\"Filter Type:Top N ,By Value:- Total Sales\")"
   ]
  },
  {
   "cell_type": "code",
   "execution_count": 109,
   "id": "c8c8c2a3-1232-4166-bac0-b7558f4a8762",
   "metadata": {},
   "outputs": [
    {
     "name": "stdout",
     "output_type": "stream",
     "text": [
      "Cross Filter & Edit Chart Interactions التفاعلات بين المخططات وتعديلها عبر الفلترة المتقاطعة\n"
     ]
    }
   ],
   "source": [
    "print(\"Cross Filter & Edit Chart Interactions\",\"التفاعلات بين المخططات وتعديلها عبر الفلترة المتقاطعة\")"
   ]
  },
  {
   "cell_type": "code",
   "execution_count": 114,
   "id": "5d428a3d-8c42-4a07-abb1-2187a7b22507",
   "metadata": {},
   "outputs": [
    {
     "name": "stdout",
     "output_type": "stream",
     "text": [
      "Visual Filter>>The Visual Filters  in Power BI visuals<<\n"
     ]
    }
   ],
   "source": [
    "print(\"Visual Filter>>The Visual Filters  in Power BI visuals<<\")"
   ]
  },
  {
   "cell_type": "code",
   "execution_count": 115,
   "id": "ebe912a5-b271-4dfa-be4d-2690839dcb7e",
   "metadata": {},
   "outputs": [
    {
     "name": "stdout",
     "output_type": "stream",
     "text": [
      ">>Use CALCULATE() to Filter Measures<<\n"
     ]
    }
   ],
   "source": [
    "print(\">>Use CALCULATE() to Filter Measures<<\")"
   ]
  },
  {
   "cell_type": "code",
   "execution_count": 118,
   "id": "6bb9c22e-ae2d-4b9d-921e-0346f8602c55",
   "metadata": {},
   "outputs": [
    {
     "name": "stdout",
     "output_type": "stream",
     "text": [
      "Total Sales For Clothing = CALCUALTE([Total Sales], Categories[Department] = 'Clothing')\n"
     ]
    }
   ],
   "source": [
    "print(\"Total Sales For Clothing = CALCUALTE([Total Sales], Categories[Department] = 'Clothing')\")"
   ]
  },
  {
   "cell_type": "code",
   "execution_count": 119,
   "id": "91a5b85a-8790-41c3-8679-8ccd76c642e1",
   "metadata": {},
   "outputs": [
    {
     "name": "stdout",
     "output_type": "stream",
     "text": [
      "Power BI Fundamentals | Module 6\n"
     ]
    }
   ],
   "source": [
    "print(\"Power BI Fundamentals | Module 6\")"
   ]
  },
  {
   "cell_type": "code",
   "execution_count": 120,
   "id": "e0a1ab2e-b423-45ec-80fb-0a3aecc36465",
   "metadata": {},
   "outputs": [
    {
     "name": "stdout",
     "output_type": "stream",
     "text": [
      "Chapter Introduction--Cost--Visuals & DAX\n"
     ]
    }
   ],
   "source": [
    "print(\"Chapter Introduction--Cost--Visuals & DAX\")"
   ]
  },
  {
   "cell_type": "code",
   "execution_count": 122,
   "id": "25405721-2c97-48a3-a5e4-7e9147ab2d66",
   "metadata": {},
   "outputs": [
    {
     "name": "stdout",
     "output_type": "stream",
     "text": [
      ">>Analyzing the two main costs (wages and rent) by store<<\n",
      "تحليل التكاليف الرئيسية (الأجور والإيجار) حسب المتجر\n"
     ]
    }
   ],
   "source": [
    "print(\">>Analyzing the two main costs (wages and rent) by store<<\")\n",
    "print(\"تحليل التكاليف الرئيسية (الأجور والإيجار) حسب المتجر\")"
   ]
  },
  {
   "cell_type": "code",
   "execution_count": 123,
   "id": "101aba53-b310-4826-9d06-4b3d5659d4eb",
   "metadata": {},
   "outputs": [
    {
     "name": "stdout",
     "output_type": "stream",
     "text": [
      "Add Retail Cost Fact Table إضافة جدول حقائق تكلفة البيع بالتجزئة\n"
     ]
    }
   ],
   "source": [
    "print(\"Add Retail Cost Fact Table\",\"إضافة جدول حقائق تكلفة البيع بالتجزئة\")"
   ]
  },
  {
   "cell_type": "code",
   "execution_count": 124,
   "id": "48e7ae84-2a57-4065-9124-70490b42634b",
   "metadata": {},
   "outputs": [
    {
     "name": "stdout",
     "output_type": "stream",
     "text": [
      ">>Level Of Granularity<<\n"
     ]
    }
   ],
   "source": [
    "print(\">>Level Of Granularity<<\")"
   ]
  },
  {
   "cell_type": "code",
   "execution_count": 125,
   "id": "886a0189-9e6b-4172-a22d-6cd23bb9a8ff",
   "metadata": {},
   "outputs": [
    {
     "name": "stdout",
     "output_type": "stream",
     "text": [
      ">>Create Basic DAX Measures - Retail Cost<< إنشاء مقاييس DAX الأساسية - تكلفة البيع بالتجزئة\n"
     ]
    }
   ],
   "source": [
    "print(\">>Create Basic DAX Measures - Retail Cost<<\",\"إنشاء مقاييس DAX الأساسية - تكلفة البيع بالتجزئة\")"
   ]
  },
  {
   "cell_type": "code",
   "execution_count": 126,
   "id": "7ebe25fb-dc36-4f76-90a1-85983ddc35a1",
   "metadata": {},
   "outputs": [
    {
     "name": "stdout",
     "output_type": "stream",
     "text": [
      "Total Rent = Sum('Retail Cost'[Rent])\n"
     ]
    }
   ],
   "source": [
    "print(\"Total Rent = Sum('Retail Cost'[Rent])\")"
   ]
  },
  {
   "cell_type": "code",
   "execution_count": 127,
   "id": "0900c0b5-7eb5-4ebc-a7d0-4109ee3fa9b4",
   "metadata": {},
   "outputs": [
    {
     "name": "stdout",
     "output_type": "stream",
     "text": [
      "Total Wages = Sum('Retail Cost'[Wagas])\n"
     ]
    }
   ],
   "source": [
    "print(\"Total Wages = Sum('Retail Cost'[Wagas])\")"
   ]
  },
  {
   "cell_type": "code",
   "execution_count": 128,
   "id": "22fa5af3-9c79-49b4-b433-3e607b0c2e65",
   "metadata": {},
   "outputs": [
    {
     "name": "stdout",
     "output_type": "stream",
     "text": [
      "Total Target = Sum('Retail Cost'[TargetSales])\n"
     ]
    }
   ],
   "source": [
    "print(\"Total Target = Sum('Retail Cost'[TargetSales])\")"
   ]
  },
  {
   "cell_type": "code",
   "execution_count": 129,
   "id": "f969db24-afeb-4ddc-9cf4-fb2fc61c326e",
   "metadata": {},
   "outputs": [
    {
     "name": "stdout",
     "output_type": "stream",
     "text": [
      "Store Size (sqft) = SUM('Store Details'[StoreSize])\n"
     ]
    }
   ],
   "source": [
    "print(\"Store Size (sqft) = SUM('Store Details'[StoreSize])\")"
   ]
  },
  {
   "cell_type": "code",
   "execution_count": 130,
   "id": "7217169a-5978-43c1-8aef-523733722d37",
   "metadata": {},
   "outputs": [
    {
     "name": "stdout",
     "output_type": "stream",
     "text": [
      "Create Scatter Chart إنشاء مخطط التشتت\n"
     ]
    }
   ],
   "source": [
    "print(\"Create Scatter Chart\",\"إنشاء مخطط التشتت\")"
   ]
  },
  {
   "cell_type": "code",
   "execution_count": 131,
   "id": "c282a6b2-ae4e-44e1-8793-d3c2020d8897",
   "metadata": {},
   "outputs": [
    {
     "name": "stdout",
     "output_type": "stream",
     "text": [
      "Every Visual has a Filter\n"
     ]
    }
   ],
   "source": [
    "print(\"Every Visual has a Filter\")"
   ]
  },
  {
   "cell_type": "code",
   "execution_count": 132,
   "id": "2ff4c70f-fecc-4a30-9559-90a5c0a035bc",
   "metadata": {},
   "outputs": [
    {
     "name": "stdout",
     "output_type": "stream",
     "text": [
      ">>You can Filter with Visual<<\n"
     ]
    }
   ],
   "source": [
    "print(\">>You can Filter with Visual<<\")"
   ]
  },
  {
   "cell_type": "code",
   "execution_count": 134,
   "id": "bf4569ad-3961-4231-be06-91509a001815",
   "metadata": {},
   "outputs": [
    {
     "name": "stdout",
     "output_type": "stream",
     "text": [
      "<<Scatter chart with >>إPlay Axis>>Year\n"
     ]
    }
   ],
   "source": [
    "print(\"<<Scatter chart with >>إPlay Axis>>Year\")"
   ]
  },
  {
   "cell_type": "code",
   "execution_count": 135,
   "id": "2ba8205d-0aa9-42ab-9e7f-d52ab14201dd",
   "metadata": {},
   "outputs": [
    {
     "name": "stdout",
     "output_type": "stream",
     "text": [
      "Create KPI Card\n"
     ]
    }
   ],
   "source": [
    "print(\"Create KPI Card\")"
   ]
  },
  {
   "cell_type": "code",
   "execution_count": 136,
   "id": "9535fb1e-fdb0-476e-887d-f7ce7a753be3",
   "metadata": {},
   "outputs": [
    {
     "name": "stdout",
     "output_type": "stream",
     "text": [
      "Total Sales and Total Target By Date\n",
      "Value:Total Sales\n",
      "Trend Axis:Date\n",
      "Target:Total Target\n"
     ]
    }
   ],
   "source": [
    "print(\"Total Sales and Total Target By Date\")\n",
    "print(\"Value:Total Sales\")\n",
    "print(\"Trend Axis:Date\")\n",
    "print(\"Target:Total Target\")"
   ]
  },
  {
   "cell_type": "code",
   "execution_count": 138,
   "id": "13fb0a04-9f57-4cc1-b091-6433d85d0615",
   "metadata": {},
   "outputs": [
    {
     "name": "stdout",
     "output_type": "stream",
     "text": [
      "Sales KPI Tracking تتبع مؤشرات الأداء الرئيسية للمبيعات\n"
     ]
    }
   ],
   "source": [
    "print(\"Sales KPI Tracking\",\"تتبع مؤشرات الأداء الرئيسية للمبيعات\")"
   ]
  },
  {
   "cell_type": "code",
   "execution_count": 139,
   "id": "a54885af-ed32-4b4a-b519-4e260a36e63e",
   "metadata": {},
   "outputs": [
    {
     "name": "stdout",
     "output_type": "stream",
     "text": [
      "Create Table Visual إنشاء جدول مرئي\n"
     ]
    }
   ],
   "source": [
    "print(\"Create Table Visual\",\"إنشاء جدول مرئي\")"
   ]
  },
  {
   "cell_type": "code",
   "execution_count": 140,
   "id": "d857408c-05ee-458a-891b-3ae4ea410584",
   "metadata": {},
   "outputs": [
    {
     "name": "stdout",
     "output_type": "stream",
     "text": [
      "Store Location>>Total Wages>>Total Sales>>Total Target\n"
     ]
    }
   ],
   "source": [
    "print(\"Store Location>>Total Wages>>Total Sales>>Total Target\")"
   ]
  },
  {
   "cell_type": "code",
   "execution_count": 141,
   "id": "f034ce26-b0a6-4053-b331-c4abc1bdbf5c",
   "metadata": {},
   "outputs": [
    {
     "name": "stdout",
     "output_type": "stream",
     "text": [
      "Create Difference from Target DAX Measure خلق فرق من مقياس DAX المستهدف\n"
     ]
    }
   ],
   "source": [
    "print(\"Create Difference from Target DAX Measure\",\"خلق فرق من مقياس DAX المستهدف\")"
   ]
  },
  {
   "cell_type": "code",
   "execution_count": 142,
   "id": "c3dadbb1-b360-4615-aa00-e684b2e1989e",
   "metadata": {},
   "outputs": [
    {
     "name": "stdout",
     "output_type": "stream",
     "text": [
      "Difference From Target = [Total Sales] - [Total Target]\n"
     ]
    }
   ],
   "source": [
    "print(\"Difference From Target = [Total Sales] - [Total Target]\")"
   ]
  },
  {
   "cell_type": "code",
   "execution_count": 143,
   "id": "1cd2fb58-0a53-4396-b084-e00ad5553266",
   "metadata": {},
   "outputs": [
    {
     "name": "stdout",
     "output_type": "stream",
     "text": [
      ">>Add Date Slicer<<\n"
     ]
    }
   ],
   "source": [
    "print(\">>Add Date Slicer<<\")"
   ]
  },
  {
   "cell_type": "code",
   "execution_count": 144,
   "id": "09bb5f38-24af-4daa-97c0-e6d4e8c1e5d5",
   "metadata": {},
   "outputs": [
    {
     "name": "stdout",
     "output_type": "stream",
     "text": [
      "Power BI Fundamentals>>Module 7\n"
     ]
    }
   ],
   "source": [
    "print(\"Power BI Fundamentals>>Module 7\")"
   ]
  },
  {
   "cell_type": "code",
   "execution_count": 146,
   "id": "b8d4cdfc-56d7-492f-8f4b-3b4040c7928f",
   "metadata": {},
   "outputs": [
    {
     "name": "stdout",
     "output_type": "stream",
     "text": [
      ">>Chapter Introduction>>User Experience<<\n"
     ]
    }
   ],
   "source": [
    "print(\">>Chapter Introduction>>User Experience<<\")"
   ]
  },
  {
   "cell_type": "code",
   "execution_count": 148,
   "id": "53de1917-d544-4de2-a0fb-c7b00a43b304",
   "metadata": {},
   "outputs": [
    {
     "name": "stdout",
     "output_type": "stream",
     "text": [
      ">>Sync Slicers Across Pages<< مزامنة الشرائح عبر الصفحات\n"
     ]
    }
   ],
   "source": [
    "print(\">>Sync Slicers Across Pages<<\",\"مزامنة الشرائح عبر الصفحات\")"
   ]
  },
  {
   "cell_type": "code",
   "execution_count": 3,
   "id": "4ec2bf9a-6539-4b19-aada-0d29746a4a09",
   "metadata": {},
   "outputs": [
    {
     "name": "stdout",
     "output_type": "stream",
     "text": [
      "Quick measure\n",
      "Power BI Copy Visuals\n",
      "Into two differnce pages\n",
      "If change in Page it change in another page\n",
      "star schema contains one fact table surrounded by dimension table\n"
     ]
    }
   ],
   "source": [
    "print(\"Quick measure\")\n",
    "print(\"Power BI Copy Visuals\")\n",
    "print(\"Into two differnce pages\")\n",
    "print(\"If change in Page it change in another page\")\n",
    "print(\"star schema contains one fact table surrounded by dimension table\")"
   ]
  },
  {
   "cell_type": "code",
   "execution_count": 4,
   "id": "09755f92-532c-40f9-b674-462574f44712",
   "metadata": {},
   "outputs": [
    {
     "name": "stdout",
     "output_type": "stream",
     "text": [
      "Sync Slicers Across Pages مزامنة الشرائح عبر الصفحات\n"
     ]
    }
   ],
   "source": [
    "print(\"Sync Slicers Across Pages\",\"مزامنة الشرائح عبر الصفحات\")"
   ]
  },
  {
   "cell_type": "code",
   "execution_count": 5,
   "id": "9de918c2-9a84-4075-ad92-4486f5c17b49",
   "metadata": {},
   "outputs": [
    {
     "name": "stdout",
     "output_type": "stream",
     "text": [
      "Add Zoom Sliders to Visuals إضافة أشرطة تمرير التكبير إلى العناصر المرئية\n"
     ]
    }
   ],
   "source": [
    "print(\"Add Zoom Sliders to Visuals\",\"إضافة أشرطة تمرير التكبير إلى العناصر المرئية\")"
   ]
  },
  {
   "cell_type": "code",
   "execution_count": 6,
   "id": "670340fb-4863-48ea-8b46-3eef66b3fd55",
   "metadata": {},
   "outputs": [
    {
     "name": "stdout",
     "output_type": "stream",
     "text": [
      "Add To Your Visual>>>Zoom Slider\n"
     ]
    }
   ],
   "source": [
    "print(\"Add To Your Visual>>>Zoom Slider\")"
   ]
  },
  {
   "cell_type": "code",
   "execution_count": 7,
   "id": "3fb6344c-2380-4330-9eab-744f3bd2bdfc",
   "metadata": {},
   "outputs": [
    {
     "name": "stdout",
     "output_type": "stream",
     "text": [
      "Conditional Formatting - Data Bars & Icons التنسيق الشرطي - أشرطة البيانات والأيقونات\n"
     ]
    }
   ],
   "source": [
    "print(\"Conditional Formatting - Data Bars & Icons\",\"التنسيق الشرطي - أشرطة البيانات والأيقونات\")"
   ]
  },
  {
   "cell_type": "code",
   "execution_count": 8,
   "id": "fcca68c6-4b28-4dd8-bca5-40aed22d67a4",
   "metadata": {},
   "outputs": [
    {
     "name": "stdout",
     "output_type": "stream",
     "text": [
      "Use data bars, color scales, and icon sets to highlight data\n"
     ]
    }
   ],
   "source": [
    "print(\"Use data bars, color scales, and icon sets to highlight data\")"
   ]
  },
  {
   "cell_type": "code",
   "execution_count": 9,
   "id": "70cfc2d6-fd24-4d9e-8f88-4f5f3148cd40",
   "metadata": {},
   "outputs": [
    {
     "name": "stdout",
     "output_type": "stream",
     "text": [
      "Apply conditional table formatting in Power BI\n"
     ]
    }
   ],
   "source": [
    "print(\"Apply conditional table formatting in Power BI\")"
   ]
  },
  {
   "cell_type": "code",
   "execution_count": 10,
   "id": "7559c61d-1474-486c-ac32-23343e1fb2c4",
   "metadata": {},
   "outputs": [
    {
     "name": "stdout",
     "output_type": "stream",
     "text": [
      "Conditional Formatting - Data Bars & Icons power BI>>>For Table\n"
     ]
    }
   ],
   "source": [
    "print(\"Conditional Formatting - Data Bars & Icons power BI>>>For Table\")"
   ]
  },
  {
   "cell_type": "code",
   "execution_count": 11,
   "id": "b0b45b47-3e37-4a52-800e-516a4450d831",
   "metadata": {},
   "outputs": [
    {
     "name": "stdout",
     "output_type": "stream",
     "text": [
      "Conditional Formatting - Background Gradient & Rules التنسيق الشرطي - تدرج الخلفية والقواعد\n"
     ]
    }
   ],
   "source": [
    "print(\"Conditional Formatting - Background Gradient & Rules\",\"التنسيق الشرطي - تدرج الخلفية والقواعد\")"
   ]
  },
  {
   "cell_type": "code",
   "execution_count": 12,
   "id": "199b3b4d-eb2e-45b4-963a-7432c64939c4",
   "metadata": {},
   "outputs": [
    {
     "name": "stdout",
     "output_type": "stream",
     "text": [
      "Table >>>Cell Elements>>background\n"
     ]
    }
   ],
   "source": [
    "print(\"Table >>>Cell Elements>>background\")"
   ]
  },
  {
   "cell_type": "code",
   "execution_count": 13,
   "id": "38320a6b-6631-495f-895a-d83fe356eda5",
   "metadata": {},
   "outputs": [
    {
     "name": "stdout",
     "output_type": "stream",
     "text": [
      "Conditional Formatting - Background Gradient & Rules power BI\n"
     ]
    }
   ],
   "source": [
    "print(\"Conditional Formatting - Background Gradient & Rules power BI\")"
   ]
  },
  {
   "cell_type": "code",
   "execution_count": 14,
   "id": "67db3350-bbb4-4387-9579-faa09ff65f6c",
   "metadata": {},
   "outputs": [
    {
     "name": "stdout",
     "output_type": "stream",
     "text": [
      ">>Conditional Formatting - % of Target Power BI<<\n"
     ]
    }
   ],
   "source": [
    "print(\">>Conditional Formatting - % of Target Power BI<<\")"
   ]
  },
  {
   "cell_type": "code",
   "execution_count": 15,
   "id": "41d65793-eecb-4269-b533-2a5610a10fe7",
   "metadata": {},
   "outputs": [
    {
     "name": "stdout",
     "output_type": "stream",
     "text": [
      "Difference From Target = [Total Sales] - [Total Target]\n"
     ]
    }
   ],
   "source": [
    "print(\"Difference From Target = [Total Sales] - [Total Target]\")"
   ]
  },
  {
   "cell_type": "code",
   "execution_count": 16,
   "id": "ebdbdcad-dfde-45b3-a8c8-81f78128605e",
   "metadata": {},
   "outputs": [
    {
     "name": "stdout",
     "output_type": "stream",
     "text": [
      ">>Conditional Formatting - % of Target<<\n"
     ]
    }
   ],
   "source": [
    "print(\">>Conditional Formatting - % of Target<<\")"
   ]
  },
  {
   "cell_type": "code",
   "execution_count": 17,
   "id": "404bf70a-323f-4596-9d86-8a36fb1916df",
   "metadata": {},
   "outputs": [
    {
     "name": "stdout",
     "output_type": "stream",
     "text": [
      "% of Target = DIVIDE([Total Sales] - [Total Target],0)\n"
     ]
    }
   ],
   "source": [
    "print(\"% of Target = DIVIDE([Total Sales] - [Total Target],0)\")"
   ]
  },
  {
   "cell_type": "code",
   "execution_count": 20,
   "id": "f8b2a0ff-2427-43eb-b97f-0d9e5ba58936",
   "metadata": {},
   "outputs": [
    {
     "name": "stdout",
     "output_type": "stream",
     "text": [
      ">>Reset Report Page with a Bookmark إعادة تعيين صفحة التقرير باستخدام إشارة مرجعية<<\n"
     ]
    }
   ],
   "source": [
    "print(\">>Reset Report Page with a Bookmark\",\"إعادة تعيين صفحة التقرير باستخدام إشارة مرجعية<<\")"
   ]
  },
  {
   "cell_type": "code",
   "execution_count": 23,
   "id": "0b8d5728-5fb6-413c-881f-63844166e49a",
   "metadata": {},
   "outputs": [
    {
     "name": "stdout",
     "output_type": "stream",
     "text": [
      ">>Reset Report Page with a Bookmark<< إعادة تعيين صفحة التقرير باستخدام إشارة مرجعية\n"
     ]
    }
   ],
   "source": [
    "print(\">>Reset Report Page with a Bookmark<<\",\"إعادة تعيين صفحة التقرير باستخدام إشارة مرجعية\")"
   ]
  },
  {
   "cell_type": "code",
   "execution_count": 26,
   "id": "06ee62bf-e166-4249-9a8b-ba3302ffc434",
   "metadata": {},
   "outputs": [
    {
     "name": "stdout",
     "output_type": "stream",
     "text": [
      "Power BI Bookmarks>>>Reset Report Page with a Bookmark<<<\n",
      ">>>إشارات مرجعية Power BI>>>إعادة تعيين صفحة التقرير باستخدام إشارة مرجعية<<<\n"
     ]
    }
   ],
   "source": [
    "print(\"Power BI Bookmarks>>>Reset Report Page with a Bookmark<<<\")\n",
    "print(\">>>إشارات مرجعية Power BI>>>إعادة تعيين صفحة التقرير باستخدام إشارة مرجعية<<<\")"
   ]
  },
  {
   "cell_type": "code",
   "execution_count": 28,
   "id": "22d7bde4-2b4b-45d9-b325-242475a14032",
   "metadata": {},
   "outputs": [
    {
     "name": "stdout",
     "output_type": "stream",
     "text": [
      ">>Set a Bookmark to Highlight an Insight تعيين إشارة مرجعية لتسليط الضوء على رؤية معينة<<\n"
     ]
    }
   ],
   "source": [
    "print(\">>Set a Bookmark to Highlight an Insight\",\"تعيين إشارة مرجعية لتسليط الضوء على رؤية معينة<<\")"
   ]
  },
  {
   "cell_type": "code",
   "execution_count": 29,
   "id": "37ba1500-32e9-4b8f-834e-a38da370066f",
   "metadata": {},
   "outputs": [
    {
     "name": "stdout",
     "output_type": "stream",
     "text": [
      ">>Link a Bookmark to a Button<< ربط الإشارة المرجعية بالزر\n"
     ]
    }
   ],
   "source": [
    "print(\">>Link a Bookmark to a Button<<\",\"ربط الإشارة المرجعية بالزر\")"
   ]
  },
  {
   "cell_type": "code",
   "execution_count": 30,
   "id": "2ac4ed24-467f-46dd-b09c-8bce96346d5f",
   "metadata": {},
   "outputs": [
    {
     "name": "stdout",
     "output_type": "stream",
     "text": [
      ">>Link a Bookmark to a Button<<\n"
     ]
    }
   ],
   "source": [
    "print(\">>Link a Bookmark to a Button<<\")"
   ]
  },
  {
   "cell_type": "code",
   "execution_count": 32,
   "id": "b2a86120-942b-4bdf-86a8-4721963ad41e",
   "metadata": {},
   "outputs": [
    {
     "name": "stdout",
     "output_type": "stream",
     "text": [
      ">>Drill_through from Sales to Cost<< التعمق من المبيعات إلى التكلفة\n"
     ]
    }
   ],
   "source": [
    "print(\">>Drill_through from Sales to Cost<<\",\"التعمق من المبيعات إلى التكلفة\")"
   ]
  },
  {
   "cell_type": "code",
   "execution_count": 33,
   "id": "dc21fa53-3923-44a7-8f83-28ed8891fd73",
   "metadata": {},
   "outputs": [
    {
     "name": "stdout",
     "output_type": "stream",
     "text": [
      ">>Drill_through from Sales to Cost<<\n"
     ]
    }
   ],
   "source": [
    "print(\">>Drill_through from Sales to Cost<<\")"
   ]
  },
  {
   "cell_type": "code",
   "execution_count": 34,
   "id": "1308baf5-d6c7-4ff4-87d4-83d450fc747b",
   "metadata": {},
   "outputs": [
    {
     "name": "stdout",
     "output_type": "stream",
     "text": [
      ">>Apply a Custom Theme<<\n"
     ]
    }
   ],
   "source": [
    "print(\">>Apply a Custom Theme<<\")"
   ]
  },
  {
   "cell_type": "code",
   "execution_count": 35,
   "id": "e605d9dc-9b1c-451c-9f4c-77b71d2798fc",
   "metadata": {},
   "outputs": [
    {
     "name": "stdout",
     "output_type": "stream",
     "text": [
      "التحليل من المبيعات إلى التكلفة Drill_through from Sales to Cost\n"
     ]
    }
   ],
   "source": [
    "print(\"التحليل من المبيعات إلى التكلفة\",\"Drill_through from Sales to Cost\")"
   ]
  },
  {
   "cell_type": "code",
   "execution_count": 36,
   "id": "00430a27-b5fc-4094-86f9-93146a28162a",
   "metadata": {},
   "outputs": [
    {
     "name": "stdout",
     "output_type": "stream",
     "text": [
      ">>Apply a Custom Theme<< تطبيق سمة مخصصة\n"
     ]
    }
   ],
   "source": [
    "print(\">>Apply a Custom Theme<<\",\"تطبيق سمة مخصصة\")"
   ]
  },
  {
   "cell_type": "code",
   "execution_count": 37,
   "id": "50152ed1-f075-4211-9c1c-5de25d54cb50",
   "metadata": {},
   "outputs": [
    {
     "name": "stdout",
     "output_type": "stream",
     "text": [
      ">>Apply a Custom Theme Power BI<< تطبيق سمة مخصصة لـ Power BI\n"
     ]
    }
   ],
   "source": [
    "print(\">>Apply a Custom Theme Power BI<<\",\"تطبيق سمة مخصصة لـ Power BI\")"
   ]
  },
  {
   "cell_type": "code",
   "execution_count": 38,
   "id": "e634b9cf-725f-4176-a41d-eb02c83450ff",
   "metadata": {},
   "outputs": [
    {
     "name": "stdout",
     "output_type": "stream",
     "text": [
      "Use dashboard themes in the Power BI service\n"
     ]
    }
   ],
   "source": [
    "print(\"Use dashboard themes in the Power BI service\")"
   ]
  },
  {
   "cell_type": "code",
   "execution_count": 40,
   "id": "a47f844c-218a-4798-9ba2-70157c27f0a8",
   "metadata": {},
   "outputs": [
    {
     "name": "stdout",
     "output_type": "stream",
     "text": [
      ">>Retail Cost and Target<< تكلفة البيع بالتجزئة والهدف\n"
     ]
    }
   ],
   "source": [
    "print(\">>Retail Cost and Target<<\",\"تكلفة البيع بالتجزئة والهدف\")"
   ]
  },
  {
   "cell_type": "code",
   "execution_count": 47,
   "id": "35c4eed7-c66c-490a-81ec-a42202b2c013",
   "metadata": {},
   "outputs": [
    {
     "name": "stdout",
     "output_type": "stream",
     "text": [
      ">>Power BI Fundamentals>>Module 9>>Introduction<<\n",
      ">>أساسيات Power BI>>الوحدة 9>>المقدمة<<\n"
     ]
    }
   ],
   "source": [
    "print(\">>Power BI Fundamentals>>Module 9>>Introduction<<\")\n",
    "print(\">>أساسيات Power BI>>الوحدة 9>>المقدمة<<\")"
   ]
  },
  {
   "cell_type": "code",
   "execution_count": 48,
   "id": "8bbcfb53-7e07-46b5-bbc3-960c3cd06ba3",
   "metadata": {},
   "outputs": [
    {
     "name": "stdout",
     "output_type": "stream",
     "text": [
      ">>Power BI is publishing our report to our organization's Power BI Service<<\n"
     ]
    }
   ],
   "source": [
    "print(\">>Power BI is publishing our report to our organization's Power BI Service<<\")"
   ]
  },
  {
   "cell_type": "code",
   "execution_count": 49,
   "id": "6c52ba01-6a97-4712-a984-f26df41cc206",
   "metadata": {},
   "outputs": [
    {
     "name": "stdout",
     "output_type": "stream",
     "text": [
      "1>>How To Log in The Power BI  Service<<\n",
      "2>>Publishing a report to the Power BI<<\n",
      "3>>The difference between workspaces and app<<\n",
      "4>>How we can view reports<<\n"
     ]
    }
   ],
   "source": [
    "print(\"1>>How To Log in The Power BI  Service<<\")\n",
    "print(\"2>>Publishing a report to the Power BI<<\")\n",
    "print(\"3>>The difference between workspaces and app<<\")\n",
    "print(\"4>>How we can view reports<<\")"
   ]
  },
  {
   "cell_type": "code",
   "execution_count": 50,
   "id": "a4f96e97-6618-4aac-a590-3e9fa86d6a39",
   "metadata": {},
   "outputs": [
    {
     "name": "stdout",
     "output_type": "stream",
     "text": [
      ">>Power BI Service Overview<< نظرة عامة على خدمة Power BI\n"
     ]
    }
   ],
   "source": [
    "print(\">>Power BI Service Overview<<\",\"نظرة عامة على خدمة Power BI\")"
   ]
  },
  {
   "cell_type": "code",
   "execution_count": 52,
   "id": "38749bc7-ffc6-42ca-83cd-73f28ff322af",
   "metadata": {},
   "outputs": [
    {
     "name": "stdout",
     "output_type": "stream",
     "text": [
      ">>Publish a Report to the Power BI Service<< نشر تقرير إلى خدمة Power BI\n"
     ]
    }
   ],
   "source": [
    "print(\">>Publish a Report to the Power BI Service<<\",\"نشر تقرير إلى خدمة Power BI\")"
   ]
  },
  {
   "cell_type": "code",
   "execution_count": 55,
   "id": "06356ff3-e4e3-45ff-ba36-65c13bcf18a6",
   "metadata": {},
   "outputs": [
    {
     "name": "stdout",
     "output_type": "stream",
     "text": [
      ">>Publish a Report to the Power BI Service<< نشر تقرير إلى خدمة Power BI\n"
     ]
    }
   ],
   "source": [
    "print(\">>Publish a Report to the Power BI Service<<\",\"نشر تقرير إلى خدمة Power BI\")"
   ]
  },
  {
   "cell_type": "code",
   "execution_count": 56,
   "id": "7ead235b-9679-4a8d-b6f4-2b893230c5a6",
   "metadata": {},
   "outputs": [
    {
     "name": "stdout",
     "output_type": "stream",
     "text": [
      ">>Publish to Power bI<<\n"
     ]
    }
   ],
   "source": [
    "print(\">>Publish to Power bI<<\")"
   ]
  },
  {
   "cell_type": "code",
   "execution_count": 57,
   "id": "86f0f341-2d0f-4f93-b0b3-3c1451f8e570",
   "metadata": {},
   "outputs": [
    {
     "name": "stdout",
     "output_type": "stream",
     "text": [
      ">>Publish a Report to the Power BI Service<< نشر تقرير إلى خدمة Power BI\n"
     ]
    }
   ],
   "source": [
    "print(\">>Publish a Report to the Power BI Service<<\",\"نشر تقرير إلى خدمة Power BI\")"
   ]
  },
  {
   "cell_type": "code",
   "execution_count": 59,
   "id": "e9be8316-9bc5-4ef8-b27d-3b411e067c9e",
   "metadata": {},
   "outputs": [
    {
     "name": "stdout",
     "output_type": "stream",
     "text": [
      ">>Workspaces & Apps<< مساحات العمل والتطبيقات\n"
     ]
    }
   ],
   "source": [
    "print(\">>Workspaces & Apps<<\",\"مساحات العمل والتطبيقات\")"
   ]
  },
  {
   "cell_type": "code",
   "execution_count": 62,
   "id": "4efc706f-bb13-49ab-9db4-0324da024609",
   "metadata": {},
   "outputs": [
    {
     "name": "stdout",
     "output_type": "stream",
     "text": [
      "Power BI Fundamentals>>Module 9>>Workspaces & Apps مساحات العمل والتطبيقات\n"
     ]
    }
   ],
   "source": [
    "print(\"Power BI Fundamentals>>Module 9>>Workspaces & Apps\",\"مساحات العمل والتطبيقات\")"
   ]
  },
  {
   "cell_type": "code",
   "execution_count": 1,
   "id": "096ab8eb-508b-4f96-94e8-5503cd122496",
   "metadata": {},
   "outputs": [
    {
     "name": "stdout",
     "output_type": "stream",
     "text": [
      "Workspaces & Apps مساحات العمل والتطبيقات\n"
     ]
    }
   ],
   "source": [
    "print(\"Workspaces & Apps\",\"مساحات العمل والتطبيقات\")"
   ]
  },
  {
   "cell_type": "code",
   "execution_count": 2,
   "id": "8eb2d18b-aa9c-47e8-913d-157b94edd3bb",
   "metadata": {},
   "outputs": [
    {
     "name": "stdout",
     "output_type": "stream",
     "text": [
      "View a Report\n"
     ]
    }
   ],
   "source": [
    "print(\"View a Report\")"
   ]
  },
  {
   "cell_type": "code",
   "execution_count": 3,
   "id": "b1c7295c-5d44-4cf7-b66e-0e1add581005",
   "metadata": {},
   "outputs": [
    {
     "name": "stdout",
     "output_type": "stream",
     "text": [
      "Explore a Dataset استكشاف مجموعة بيانات\n"
     ]
    }
   ],
   "source": [
    "print(\"Explore a Dataset\",\"استكشاف مجموعة بيانات\")"
   ]
  },
  {
   "cell_type": "code",
   "execution_count": 4,
   "id": "bfced22e-f6df-4f04-b560-3e99e7507c81",
   "metadata": {},
   "outputs": [
    {
     "name": "stdout",
     "output_type": "stream",
     "text": [
      ">>Open Lineage View<<\n"
     ]
    }
   ],
   "source": [
    "print(\">>Open Lineage View<<\")"
   ]
  },
  {
   "cell_type": "code",
   "execution_count": 6,
   "id": "635d1e81-334a-42ac-b68e-6e392cb5f1dc",
   "metadata": {},
   "outputs": [
    {
     "name": "stdout",
     "output_type": "stream",
     "text": [
      "power bi quick insights\n",
      "Generate data insights on your semantic model automatically\n",
      "Power BI Quick Insights\n"
     ]
    }
   ],
   "source": [
    "print(\"power bi quick insights\")\n",
    "print(\"Generate data insights on your semantic model automatically\")\n",
    "print(\"Power BI Quick Insights\")"
   ]
  },
  {
   "cell_type": "code",
   "execution_count": 7,
   "id": "52234cb8-d300-4d6a-bd50-1a076c0e3a2c",
   "metadata": {},
   "outputs": [
    {
     "name": "stdout",
     "output_type": "stream",
     "text": [
      ">>Power BI Service Create a Dashboard<<\n",
      ">>Create a Power BI dashboard from a report<<\n"
     ]
    }
   ],
   "source": [
    "print(\">>Power BI Service Create a Dashboard<<\")\n",
    "print(\">>Create a Power BI dashboard from a report<<\")"
   ]
  },
  {
   "cell_type": "code",
   "execution_count": 8,
   "id": "47558232-d90e-41d9-9bc9-299ced83bea2",
   "metadata": {},
   "outputs": [
    {
     "name": "stdout",
     "output_type": "stream",
     "text": [
      "pin to dashboard power bi\n"
     ]
    }
   ],
   "source": [
    "print(\"pin to dashboard power bi\")"
   ]
  },
  {
   "cell_type": "code",
   "execution_count": 9,
   "id": "ce66bf78-72bd-4f7b-b6bd-de467c33ee64",
   "metadata": {},
   "outputs": [
    {
     "name": "stdout",
     "output_type": "stream",
     "text": [
      ">>Power BI Ecosystem<<\n"
     ]
    }
   ],
   "source": [
    "print(\">>Power BI Ecosystem<<\")"
   ]
  },
  {
   "cell_type": "code",
   "execution_count": 11,
   "id": "1594483b-1ff9-446d-9cbe-d1ee763a645f",
   "metadata": {},
   "outputs": [
    {
     "name": "stdout",
     "output_type": "stream",
     "text": [
      "Interact with Dashboard Q&A التفاعل مع لوحة القيادة سؤال وجواب\n"
     ]
    }
   ],
   "source": [
    "print(\"Interact with Dashboard Q&A\",\"التفاعل مع لوحة القيادة سؤال وجواب\")"
   ]
  },
  {
   "cell_type": "code",
   "execution_count": 13,
   "id": "f4eedafa-bf65-4159-b92c-6da0c36b575c",
   "metadata": {},
   "outputs": [
    {
     "name": "stdout",
     "output_type": "stream",
     "text": [
      "Ask Question about your data\n",
      "Ask your data questions with Q&A\n"
     ]
    }
   ],
   "source": [
    "print(\"Ask Question about your data\")\n",
    "print(\"Ask your data questions with Q&A\")"
   ]
  },
  {
   "cell_type": "code",
   "execution_count": 14,
   "id": "65fa483c-e033-4ffc-9fd9-a4afa80e1e0d",
   "metadata": {},
   "outputs": [
    {
     "name": "stdout",
     "output_type": "stream",
     "text": [
      "What is the % of Target\n"
     ]
    }
   ],
   "source": [
    "print(\"What is the % of Target\")"
   ]
  },
  {
   "cell_type": "code",
   "execution_count": 15,
   "id": "73c966af-c845-4f71-9942-8c471eee1fba",
   "metadata": {},
   "outputs": [
    {
     "name": "stdout",
     "output_type": "stream",
     "text": [
      "What is the % of Target by Location\n"
     ]
    }
   ],
   "source": [
    "print(\"What is the % of Target by Location\")"
   ]
  },
  {
   "cell_type": "code",
   "execution_count": 17,
   "id": "7d37fb1a-4a6a-4738-8361-197e274ffa79",
   "metadata": {},
   "outputs": [
    {
     "name": "stdout",
     "output_type": "stream",
     "text": [
      "What is the % of Target by Location Column Chart\n"
     ]
    }
   ],
   "source": [
    "print(\"What is the % of Target by Location Column Chart\")"
   ]
  },
  {
   "cell_type": "code",
   "execution_count": 18,
   "id": "9b3808e2-f829-4f34-a0e8-3a39a5ab72a5",
   "metadata": {},
   "outputs": [
    {
     "name": "stdout",
     "output_type": "stream",
     "text": [
      "What is the % of Target by Location Column Chart and Store Type\n"
     ]
    }
   ],
   "source": [
    "print(\"What is the % of Target by Location Column Chart and Store Type\")"
   ]
  },
  {
   "cell_type": "code",
   "execution_count": 19,
   "id": "46b6a37a-348c-4c02-b91d-9afb7954f296",
   "metadata": {},
   "outputs": [
    {
     "name": "stdout",
     "output_type": "stream",
     "text": [
      "Pin Visual>>>Pin To dashboard>>>Ok\n"
     ]
    }
   ],
   "source": [
    "print(\"Pin Visual>>>Pin To dashboard>>>Ok\")"
   ]
  },
  {
   "cell_type": "code",
   "execution_count": 20,
   "id": "a105514b-de14-4f7d-902b-47b53d27f423",
   "metadata": {},
   "outputs": [
    {
     "name": "stdout",
     "output_type": "stream",
     "text": [
      "Link a Scorecard to Report Metrics ربط بطاقة الأداء بمقاييس التقرير\n"
     ]
    }
   ],
   "source": [
    "print(\"Link a Scorecard to Report Metrics\",\"ربط بطاقة الأداء بمقاييس التقرير\")"
   ]
  },
  {
   "cell_type": "code",
   "execution_count": 21,
   "id": "820c7e42-394c-4db5-acdf-720c49c574a4",
   "metadata": {},
   "outputs": [
    {
     "name": "stdout",
     "output_type": "stream",
     "text": [
      "<<scorecard tracking power bi>>\n"
     ]
    }
   ],
   "source": [
    "print(\"<<scorecard tracking power bi>>\")"
   ]
  },
  {
   "cell_type": "code",
   "execution_count": 22,
   "id": "843ef547-01aa-4572-a8dc-7c13aa3cd3bd",
   "metadata": {},
   "outputs": [
    {
     "name": "stdout",
     "output_type": "stream",
     "text": [
      "Scorecard tracking system in Power BI is a powerful way to monitor KPIs, goals, and performance metrics.\n"
     ]
    }
   ],
   "source": [
    "print(\"Scorecard tracking system in Power BI is a powerful way to monitor KPIs, goals, and performance metrics.\")"
   ]
  },
  {
   "cell_type": "code",
   "execution_count": 23,
   "id": "09d6edeb-c839-4fd0-acd9-c35e0d57b767",
   "metadata": {},
   "outputs": [
    {
     "name": "stdout",
     "output_type": "stream",
     "text": [
      "<<Create scorecards and manual metrics - Power BI>>\n",
      "<<Power BI Scorecard>>\n"
     ]
    }
   ],
   "source": [
    "print(\"<<Create scorecards and manual metrics - Power BI>>\")\n",
    "print(\"<<Power BI Scorecard>>\")"
   ]
  },
  {
   "cell_type": "code",
   "execution_count": 24,
   "id": "3791eaa5-a98e-4059-a357-dffe0561c644",
   "metadata": {},
   "outputs": [
    {
     "name": "stdout",
     "output_type": "stream",
     "text": [
      ">>Share Your Reports<<\n"
     ]
    }
   ],
   "source": [
    "print(\">>Share Your Reports<<\")"
   ]
  },
  {
   "cell_type": "code",
   "execution_count": 25,
   "id": "6ca9165b-f950-480c-ad52-0a8466c660ee",
   "metadata": {},
   "outputs": [
    {
     "name": "stdout",
     "output_type": "stream",
     "text": [
      "<<Power BI Service Share Your Report>>\n",
      "<<Share Your Reports>>\n"
     ]
    }
   ],
   "source": [
    "print(\"<<Power BI Service Share Your Report>>\")\n",
    "print(\"<<Share Your Reports>>\")"
   ]
  },
  {
   "cell_type": "code",
   "execution_count": 26,
   "id": "b5eae537-ebd9-4f7a-b3cb-4317a6b3a60d",
   "metadata": {},
   "outputs": [
    {
     "name": "stdout",
     "output_type": "stream",
     "text": [
      "Share Your Reports\n"
     ]
    }
   ],
   "source": [
    "print(\"Share Your Reports\")"
   ]
  },
  {
   "cell_type": "code",
   "execution_count": 27,
   "id": "59bf033b-ffdd-48da-a429-9e8431800705",
   "metadata": {},
   "outputs": [
    {
     "name": "stdout",
     "output_type": "stream",
     "text": [
      "Use dashboard themes in the Power BI service\n",
      "Share Power BI reports and dashboards with coworkers and others\n"
     ]
    }
   ],
   "source": [
    "print(\"Use dashboard themes in the Power BI service\")\n",
    "print(\"Share Power BI reports and dashboards with coworkers and others\")"
   ]
  },
  {
   "cell_type": "code",
   "execution_count": 28,
   "id": "92850e04-f31a-4f58-a240-6a589dc9bf85",
   "metadata": {},
   "outputs": [
    {
     "name": "stdout",
     "output_type": "stream",
     "text": [
      ">>Power BI License<<\n"
     ]
    }
   ],
   "source": [
    "print(\">>Power BI License<<\")"
   ]
  },
  {
   "cell_type": "code",
   "execution_count": 29,
   "id": "ccf604b9-1aa9-4c20-bdc2-8039bc8002e7",
   "metadata": {},
   "outputs": [
    {
     "name": "stdout",
     "output_type": "stream",
     "text": [
      "$Power BI Fundamentals > Module 10 > Summary$\n"
     ]
    }
   ],
   "source": [
    "print(\"$Power BI Fundamentals > Module 10 > Summary$\")"
   ]
  },
  {
   "cell_type": "code",
   "execution_count": 30,
   "id": "5bf0397e-a61a-4d96-aece-6103ffeeaede",
   "metadata": {},
   "outputs": [
    {
     "name": "stdout",
     "output_type": "stream",
     "text": [
      ">>Summary<<\n"
     ]
    }
   ],
   "source": [
    "print(\">>Summary<<\")"
   ]
  },
  {
   "cell_type": "code",
   "execution_count": 50,
   "id": "2b644a8f-03dd-4722-9b23-f55df1b19603",
   "metadata": {},
   "outputs": [
    {
     "name": "stdout",
     "output_type": "stream",
     "text": [
      " \n",
      "Congratulations. This brings us to the end of Power BI fundamentals.تهانينا. بهذا نصل إلى نهاية أساسيات Power BI.\n",
      "We've covered a lot of different topics in all areas of Power BI.لقد قمنا بتغطية العديد من المواضيع المختلفة في كافة مجالات Power BI.\n",
      "We've imported data into the Power Query editor to automate our data transformations.لقد قمنا باستيراد البيانات إلى محرر Power Query لأتمتة تحويلات البيانات الخاصة بنا.\n",
      "We've modeled our queries into a star scheme of data model,لقد قمنا بتصميم استعلاماتنا في مخطط نجمي لنموذج البيانات،\n",
      "and then to find a variety of tax measures and calculated columns to analyze the data in our data model.ومن ثم، فإننا نبحث عن مجموعة متنوعة من التدابير الضريبية والأعمدة المحسوبة لتحليل البيانات في نموذج البيانات الخاص بنا.\n",
      "We've created two pages of report visuals to analyze retail sales and retail cost,لقد قمنا بإنشاء صفحتين من التقارير المرئية لتحليل مبيعات التجزئة وتكاليف التجزئة، \n",
      "as well as KPI target tracking,بالإضافة إلى تتبع هدف مؤشر الأداء الرئيسي،\n",
      "and we've added user experience elements to our report to make it easier andلقد أضفنا عناصر تجربة المستخدم إلى تقريرنا لتسهيل الأمر و\n",
      "more intuitive to interact with.أكثر سهولة في التفاعل معه.\n",
      "Finally, we publish our report to the Power BI service,وأخيرًا، ننشر تقريرنا على خدمة Power BI،\n",
      "using Power BI online to share our report,استخدام Power BI عبر الإنترنت لمشاركة تقريرنا،\n",
      "collaborate with others and interact with elements like datasets,التعاون مع الآخرين والتفاعل مع عناصر مثل مجموعات البيانات، \n",
      "report dashboards and scorecards. Great job.لوحات معلومات التقارير وبطاقات الأداء. عمل رائع.\n",
      "We can use these skills to meet more advanced requirements and يمكننا استخدام هذه المهارات لتلبية المتطلبات الأكثر تقدمًا و\n",
      "better communicate key insights with our Power BI reports. تواصل بشكل أفضل مع الرؤى الرئيسية باستخدام تقارير Power BI الخاصة بنا.\n",
      "Well done continuing your learning journey be sure to check out أحسنت في مواصلة رحلة التعلم الخاصة بك تأكد من التحقق من\n",
      "the other Power BI courses to further advance your skills. دورات Power BI الأخرى لتطوير مهاراتك بشكل أكبر.\n",
      "Good luck, and I hope to see you again soon.حظا سعيدا، وآمل أن نراكم مرة أخرى قريبا.\n",
      "\n"
     ]
    }
   ],
   "source": [
    "print(\n",
    "\"\"\" \n",
    "Congratulations. This brings us to the end of Power BI fundamentals.تهانينا. بهذا نصل إلى نهاية أساسيات Power BI.\n",
    "We've covered a lot of different topics in all areas of Power BI.لقد قمنا بتغطية العديد من المواضيع المختلفة في كافة مجالات Power BI.\n",
    "We've imported data into the Power Query editor to automate our data transformations.لقد قمنا باستيراد البيانات إلى محرر Power Query لأتمتة تحويلات البيانات الخاصة بنا.\n",
    "We've modeled our queries into a star scheme of data model,لقد قمنا بتصميم استعلاماتنا في مخطط نجمي لنموذج البيانات،\n",
    "and then to find a variety of tax measures and calculated columns to analyze the data in our data model.ومن ثم، فإننا نبحث عن مجموعة متنوعة من التدابير الضريبية والأعمدة المحسوبة لتحليل البيانات في نموذج البيانات الخاص بنا.\n",
    "We've created two pages of report visuals to analyze retail sales and retail cost,لقد قمنا بإنشاء صفحتين من التقارير المرئية لتحليل مبيعات التجزئة وتكاليف التجزئة، \n",
    "as well as KPI target tracking,بالإضافة إلى تتبع هدف مؤشر الأداء الرئيسي،\n",
    "and we've added user experience elements to our report to make it easier andلقد أضفنا عناصر تجربة المستخدم إلى تقريرنا لتسهيل الأمر و\n",
    "more intuitive to interact with.أكثر سهولة في التفاعل معه.\n",
    "Finally, we publish our report to the Power BI service,وأخيرًا، ننشر تقريرنا على خدمة Power BI،\n",
    "using Power BI online to share our report,استخدام Power BI عبر الإنترنت لمشاركة تقريرنا،\n",
    "collaborate with others and interact with elements like datasets,التعاون مع الآخرين والتفاعل مع عناصر مثل مجموعات البيانات، \n",
    "report dashboards and scorecards. Great job.لوحات معلومات التقارير وبطاقات الأداء. عمل رائع.\n",
    "We can use these skills to meet more advanced requirements and يمكننا استخدام هذه المهارات لتلبية المتطلبات الأكثر تقدمًا و\n",
    "better communicate key insights with our Power BI reports. تواصل بشكل أفضل مع الرؤى الرئيسية باستخدام تقارير Power BI الخاصة بنا.\n",
    "Well done continuing your learning journey be sure to check out أحسنت في مواصلة رحلة التعلم الخاصة بك تأكد من التحقق من\n",
    "the other Power BI courses to further advance your skills. دورات Power BI الأخرى لتطوير مهاراتك بشكل أكبر.\n",
    "Good luck, and I hope to see you again soon.حظا سعيدا، وآمل أن نراكم مرة أخرى قريبا.\n",
    "\"\"\")"
   ]
  },
  {
   "cell_type": "code",
   "execution_count": 53,
   "id": "70b1e94a-c486-4d87-a5b2-63b53683e9ba",
   "metadata": {},
   "outputs": [
    {
     "name": "stdout",
     "output_type": "stream",
     "text": [
      ">>>>>>>>>>>>>>>>>>>Power BI Fundamentals>>Module 11>>Final Assessment التقييم النهائي<<<<<<<<<<<<<<<<<<<<<<<<<<<\n"
     ]
    }
   ],
   "source": [
    "print(\">>>>>>>>>>>>>>>>>>>Power BI Fundamentals>>Module 11>>Final Assessment التقييم النهائي<<<<<<<<<<<<<<<<<<<<<<<<<<<\")"
   ]
  },
  {
   "cell_type": "code",
   "execution_count": 52,
   "id": "dedcd72b-ce88-44d7-b79d-230e6cb20ca7",
   "metadata": {},
   "outputs": [
    {
     "name": "stdout",
     "output_type": "stream",
     "text": [
      "************************************************************************************************\n"
     ]
    }
   ],
   "source": [
    "print(\"************************************************************************************************\")"
   ]
  },
  {
   "cell_type": "code",
   "execution_count": null,
   "id": "8b75645c-bfe6-4ae6-94da-8b477d69a249",
   "metadata": {},
   "outputs": [],
   "source": []
  }
 ],
 "metadata": {
  "kernelspec": {
   "display_name": "Python 3 (ipykernel)",
   "language": "python",
   "name": "python3"
  },
  "language_info": {
   "codemirror_mode": {
    "name": "ipython",
    "version": 3
   },
   "file_extension": ".py",
   "mimetype": "text/x-python",
   "name": "python",
   "nbconvert_exporter": "python",
   "pygments_lexer": "ipython3",
   "version": "3.11.7"
  }
 },
 "nbformat": 4,
 "nbformat_minor": 5
}
