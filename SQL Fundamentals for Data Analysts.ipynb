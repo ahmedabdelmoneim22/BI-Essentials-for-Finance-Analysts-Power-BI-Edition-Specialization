{
 "cells": [
  {
   "cell_type": "code",
   "execution_count": 4,
   "id": "c6f9b07e-0ea2-4511-96e3-b0ebb11fd0d4",
   "metadata": {},
   "outputs": [
    {
     "name": "stdout",
     "output_type": "stream",
     "text": [
      "<<SQL Fundamentals for Data Analysts>> أساسيات SQL لمحللي البيانات\n",
      "<<أساسيات SQL لمحللي البيانات>>\n"
     ]
    }
   ],
   "source": [
    "print(\"<<SQL Fundamentals for Data Analysts>>\",\"أساسيات SQL لمحللي البيانات\")\n",
    "print(\"<<أساسيات SQL لمحللي البيانات>>\")"
   ]
  },
  {
   "cell_type": "code",
   "execution_count": 5,
   "id": "39746ca9-a510-433a-8cec-cab9db637011",
   "metadata": {},
   "outputs": [
    {
     "name": "stdout",
     "output_type": "stream",
     "text": [
      "SQL Fundamentals for Data Analysts>>Module 1>>Course Overview\n"
     ]
    }
   ],
   "source": [
    "print(\"SQL Fundamentals for Data Analysts>>Module 1>>Course Overview\")"
   ]
  },
  {
   "cell_type": "code",
   "execution_count": 8,
   "id": "e9d9622b-8baf-44c2-af72-66715e07c456",
   "metadata": {},
   "outputs": [
    {
     "name": "stdout",
     "output_type": "stream",
     "text": [
      ">>SQL Fundamentals أساسيات SQL<<\n"
     ]
    }
   ],
   "source": [
    "print(\">>SQL Fundamentals\",\"أساسيات SQL<<\")"
   ]
  },
  {
   "cell_type": "code",
   "execution_count": 10,
   "id": "d13074b0-27c3-49f6-ae66-e99fa86cd7bf",
   "metadata": {},
   "outputs": [
    {
     "name": "stdout",
     "output_type": "stream",
     "text": [
      "Course Objectives أهداف الدورة\n"
     ]
    }
   ],
   "source": [
    "print(\"Course Objectives\",\"أهداف الدورة\")"
   ]
  },
  {
   "cell_type": "code",
   "execution_count": 13,
   "id": "7a065bf3-93dc-4c49-86d5-a57ed974953c",
   "metadata": {},
   "outputs": [
    {
     "name": "stdout",
     "output_type": "stream",
     "text": [
      "1>>Basic SQL Queries استعلامات SQL الأساسية\n",
      "Retrieve and filter data from a relational database using basic SQL syntax. استرداد البيانات وتصفيتها من قاعدة بيانات علائقية باستخدام بناء جملة SQL الأساسي.\n"
     ]
    }
   ],
   "source": [
    "print(\"1>>Basic SQL Queries\",\"استعلامات SQL الأساسية\")\n",
    "print(\"Retrieve and filter data from a relational database using basic SQL syntax.\",\"استرداد البيانات وتصفيتها من قاعدة بيانات علائقية باستخدام بناء جملة SQL الأساسي.\")"
   ]
  },
  {
   "cell_type": "code",
   "execution_count": 16,
   "id": "2356675b-a862-4528-b086-03c949bec2e2",
   "metadata": {},
   "outputs": [
    {
     "name": "stdout",
     "output_type": "stream",
     "text": [
      "2>>Manipulating Values التلاعب بالقيم\n",
      "Transform your data with the help of numerical, date and text functions. قم بتحويل بياناتك بمساعدة الوظائف الرقمية والتاريخية والنصية.\n"
     ]
    }
   ],
   "source": [
    "print(\"2>>Manipulating Values\",\"التلاعب بالقيم\")\n",
    "print(\"Transform your data with the help of numerical, date and text functions.\",\"قم بتحويل بياناتك بمساعدة الوظائف الرقمية والتاريخية والنصية.\")"
   ]
  },
  {
   "cell_type": "code",
   "execution_count": 19,
   "id": "3c9a1746-2372-446e-b49a-4173997b3592",
   "metadata": {},
   "outputs": [
    {
     "name": "stdout",
     "output_type": "stream",
     "text": [
      "3>>SQL Theory نظرية SQL\n",
      "Understand essential terminology related to SQL, databases and data warehouses. فهم المصطلحات الأساسية المتعلقة بـSQL وقواعد البيانات ومستودعات البيانات.\n"
     ]
    }
   ],
   "source": [
    "print(\"3>>SQL Theory\",\"نظرية SQL\")\n",
    "print(\"Understand essential terminology related to SQL, databases and data warehouses.\",\"فهم المصطلحات الأساسية المتعلقة بـSQL وقواعد البيانات ومستودعات البيانات.\")"
   ]
  },
  {
   "cell_type": "code",
   "execution_count": 22,
   "id": "e83dca43-9260-40e5-bc08-e544cffd4f1f",
   "metadata": {},
   "outputs": [
    {
     "name": "stdout",
     "output_type": "stream",
     "text": [
      "4>>Working With Multiple Tables. العمل مع جداول متعددة.\n",
      "Write queries that combine data from multiple tables. اكتب استعلامات تجمع البيانات من جداول متعددة.\n"
     ]
    }
   ],
   "source": [
    "print(\"4>>Working With Multiple Tables.\",\"العمل مع جداول متعددة.\")\n",
    "print(\"Write queries that combine data from multiple tables.\",\"اكتب استعلامات تجمع البيانات من جداول متعددة.\")"
   ]
  },
  {
   "cell_type": "code",
   "execution_count": 26,
   "id": "66a22dcf-b66b-4801-b36c-eec517feca1b",
   "metadata": {},
   "outputs": [
    {
     "name": "stdout",
     "output_type": "stream",
     "text": [
      "5>>SQL for Reporting SQL لإعداد التقارير\n",
      "Use SQL in popular BI tools, and learn how to summarize the results of SQL queries. استخدم SQL في أدوات BI الشائعة، وتعلم كيفية تلخيص نتائج استعلامات SQL.\n"
     ]
    }
   ],
   "source": [
    "print(\"5>>SQL for Reporting\",\"SQL لإعداد التقارير\")\n",
    "print(\"Use SQL in popular BI tools, and learn how to summarize the results of SQL queries.\",\"استخدم SQL في أدوات BI الشائعة، وتعلم كيفية تلخيص نتائج استعلامات SQL.\")"
   ]
  },
  {
   "cell_type": "code",
   "execution_count": 31,
   "id": "048fea76-b60f-48f3-a68a-f676bd39d7dd",
   "metadata": {},
   "outputs": [
    {
     "name": "stdout",
     "output_type": "stream",
     "text": [
      ">>Business Intelligence & Data Analysis<< ذكاء الأعمال وتحليل البيانات\n"
     ]
    }
   ],
   "source": [
    "print(\">>Business Intelligence & Data Analysis<<\",\"ذكاء الأعمال وتحليل البيانات\")"
   ]
  },
  {
   "cell_type": "code",
   "execution_count": 32,
   "id": "29d60753-865c-4faf-9c73-3265948efd80",
   "metadata": {},
   "outputs": [
    {
     "name": "stdout",
     "output_type": "stream",
     "text": [
      "Select CustomerKey as CustomerID, Sum(SalesAmount) as SalesAmount\n",
      "FROM FactInternetSales\n",
      "Where year(OrderDate) > 2010\n",
      "Group BY CustomerKey\n",
      "HAVING Sum(SalesAmount) > 10000\n",
      "ORDER BY SalesAmount DESC\n"
     ]
    }
   ],
   "source": [
    "print(\"Select CustomerKey as CustomerID, Sum(SalesAmount) as SalesAmount\")\n",
    "print(\"FROM FactInternetSales\")\n",
    "print(\"Where year(OrderDate) > 2010\")\n",
    "print(\"Group BY CustomerKey\")\n",
    "print(\"HAVING Sum(SalesAmount) > 10000\")\n",
    "print(\"ORDER BY SalesAmount DESC\")"
   ]
  },
  {
   "cell_type": "code",
   "execution_count": 34,
   "id": "a0b79773-b6ed-4750-ac3f-76bfd375748a",
   "metadata": {},
   "outputs": [
    {
     "name": "stdout",
     "output_type": "stream",
     "text": [
      "SQL Fundamentals for Data Analysts>>Module 2>>Introduction أساسيات SQL لمحللي البيانات\n"
     ]
    }
   ],
   "source": [
    "print(\"SQL Fundamentals for Data Analysts>>Module 2>>Introduction\",\"أساسيات SQL لمحللي البيانات\")"
   ]
  },
  {
   "cell_type": "code",
   "execution_count": 36,
   "id": "e278f31d-7c57-4ca7-9a0a-2e5b8d5f7e58",
   "metadata": {},
   "outputs": [
    {
     "name": "stdout",
     "output_type": "stream",
     "text": [
      ">>Basic SQL Queries - Section Objectives<< >>استعلامات SQL الأساسية - أهداف القسم<<\n"
     ]
    }
   ],
   "source": [
    "print(\">>Basic SQL Queries - Section Objectives<<\",\">>استعلامات SQL الأساسية - أهداف القسم<<\")"
   ]
  },
  {
   "cell_type": "code",
   "execution_count": 38,
   "id": "5be86608-b9ef-4237-a624-b676c389b572",
   "metadata": {},
   "outputs": [
    {
     "name": "stdout",
     "output_type": "stream",
     "text": [
      "01)Retrieve data from a relational database using basic SQL queries.\n",
      "استرداد البيانات من قاعدة بيانات علائقية باستخدام استعلامات SQL الأساسية.\n"
     ]
    }
   ],
   "source": [
    "print(\"01)Retrieve data from a relational database using basic SQL queries.\")\n",
    "print(\"استرداد البيانات من قاعدة بيانات علائقية باستخدام استعلامات SQL الأساسية.\")"
   ]
  },
  {
   "cell_type": "code",
   "execution_count": 40,
   "id": "88515e05-a3b9-421f-bc02-89ae412697b0",
   "metadata": {},
   "outputs": [
    {
     "name": "stdout",
     "output_type": "stream",
     "text": [
      "02)Filter the results and remove duplicate values.\n",
      "تصفية النتائج وإزالة القيم المكررة.\n"
     ]
    }
   ],
   "source": [
    "print(\"02)Filter the results and remove duplicate values.\")\n",
    "print(\"تصفية النتائج وإزالة القيم المكررة.\")"
   ]
  },
  {
   "cell_type": "code",
   "execution_count": 47,
   "id": "372f6ea6-8bb7-4401-812e-6793960498e6",
   "metadata": {},
   "outputs": [
    {
     "name": "stdout",
     "output_type": "stream",
     "text": [
      "1>>Order of Operations ترتيب العمليات\n",
      "2>>Select FROM اختر من\n",
      "3>>WHERE أين\n",
      "4>>Group By and Having تجميع حسب وامتلاك\n",
      "5>>Order By ترتيب حسب\n",
      "6>>Top N, OFFSET-FETCH, DISTINCT أعلى N، جلب الإزاحة، مميز\n"
     ]
    }
   ],
   "source": [
    "print(\"1>>Order of Operations\",\"ترتيب العمليات\")\n",
    "print(\"2>>Select FROM\",\"اختر من\")\n",
    "print(\"3>>WHERE\",\"أين\")\n",
    "print(\"4>>Group By and Having\",\"تجميع حسب وامتلاك\")\n",
    "print(\"5>>Order By\",\"ترتيب حسب\")\n",
    "print(\"6>>Top N, OFFSET-FETCH, DISTINCT\",\"أعلى N، جلب الإزاحة، مميز\")"
   ]
  },
  {
   "cell_type": "code",
   "execution_count": 49,
   "id": "53b5d597-c956-4319-ba85-be5042b6bcd9",
   "metadata": {},
   "outputs": [
    {
     "name": "stdout",
     "output_type": "stream",
     "text": [
      ">>Installation and Introduction to Azure Data Studio<<\n",
      "التثبيت والتعريف بـ Azure Data Studio\n"
     ]
    }
   ],
   "source": [
    "print(\">>Installation and Introduction to Azure Data Studio<<\")\n",
    "print(\"التثبيت والتعريف بـ Azure Data Studio\")"
   ]
  },
  {
   "cell_type": "code",
   "execution_count": 50,
   "id": "506f68e9-1ae7-4254-b89e-690bb55fc3c9",
   "metadata": {},
   "outputs": [
    {
     "name": "stdout",
     "output_type": "stream",
     "text": [
      "Download and Install Azure Data Studio تنزيل وتثبيت Azure Data Studio\n"
     ]
    }
   ],
   "source": [
    "print(\"Download and Install Azure Data Studio\",\"تنزيل وتثبيت Azure Data Studio\")"
   ]
  },
  {
   "cell_type": "code",
   "execution_count": 51,
   "id": "5202dbdf-249e-4773-b5a5-abbb379ba0d7",
   "metadata": {},
   "outputs": [
    {
     "name": "stdout",
     "output_type": "stream",
     "text": [
      ">>Install Azure Data Studio<<\n",
      ">>Download and Install Azure Data Studio<<\n"
     ]
    }
   ],
   "source": [
    "print(\">>Install Azure Data Studio<<\")\n",
    "print(\">>Download and Install Azure Data Studio<<\")"
   ]
  },
  {
   "cell_type": "code",
   "execution_count": 52,
   "id": "73ba5028-d558-4802-946c-a9f5ec527aca",
   "metadata": {},
   "outputs": [
    {
     "name": "stdout",
     "output_type": "stream",
     "text": [
      ">>Learn Azure Azure Data Studio Download and install Azure Data Studio<<\n"
     ]
    }
   ],
   "source": [
    "print(\">>Learn Azure Azure Data Studio Download and install Azure Data Studio<<\")"
   ]
  },
  {
   "cell_type": "code",
   "execution_count": 53,
   "id": "c404652a-2556-41e6-9faa-76fb6b4b175c",
   "metadata": {},
   "outputs": [
    {
     "name": "stdout",
     "output_type": "stream",
     "text": [
      ">>Creating a Connection to a Database<< إنشاء اتصال بقاعدة البيانات\n"
     ]
    }
   ],
   "source": [
    "print(\">>Creating a Connection to a Database<<\",\"إنشاء اتصال بقاعدة البيانات\")"
   ]
  },
  {
   "cell_type": "code",
   "execution_count": 54,
   "id": "f687beba-e9ac-4323-9e1a-7a08c26a73f1",
   "metadata": {},
   "outputs": [
    {
     "name": "stdout",
     "output_type": "stream",
     "text": [
      ">>Creating a Connection to a Database<< إنشاء اتصال بقاعدة البيانات\n"
     ]
    }
   ],
   "source": [
    "print(\">>Creating a Connection to a Database<<\",\"إنشاء اتصال بقاعدة البيانات\")"
   ]
  },
  {
   "cell_type": "code",
   "execution_count": 56,
   "id": "cf1123b2-ef0e-4b78-96aa-5ec7e5166884",
   "metadata": {},
   "outputs": [
    {
     "name": "stdout",
     "output_type": "stream",
     "text": [
      "<<Create a connection إنشاء اتصال>>\n"
     ]
    }
   ],
   "source": [
    "print(\"<<Create a connection\",\"إنشاء اتصال>>\")"
   ]
  },
  {
   "cell_type": "code",
   "execution_count": 58,
   "id": "a684c4e6-ac6b-4636-ba8c-a59d53e0b5b5",
   "metadata": {},
   "outputs": [
    {
     "name": "stdout",
     "output_type": "stream",
     "text": [
      ">>Creating a Connection to a Database<< >>إنشاء اتصال بقاعدة البيانات<<\n"
     ]
    }
   ],
   "source": [
    "print(\">>Creating a Connection to a Database<<\",\">>إنشاء اتصال بقاعدة البيانات<<\")"
   ]
  },
  {
   "cell_type": "code",
   "execution_count": 59,
   "id": "3b405d58-e589-4c76-b02d-aec923387778",
   "metadata": {},
   "outputs": [
    {
     "name": "stdout",
     "output_type": "stream",
     "text": [
      ">>What is Adventure Works?<< ما هو Adventure Works؟\n"
     ]
    }
   ],
   "source": [
    "print(\">>What is Adventure Works?<<\",\"ما هو Adventure Works؟\")"
   ]
  },
  {
   "cell_type": "code",
   "execution_count": 62,
   "id": "fa81bdf6-7f8f-4bdc-8558-ab4fc9ba6201",
   "metadata": {},
   "outputs": [
    {
     "name": "stdout",
     "output_type": "stream",
     "text": [
      ">>Example SQL Code<< مثال على كود SQL<<\n"
     ]
    }
   ],
   "source": [
    "print(\">>Example SQL Code<<\",\"مثال على كود SQL<<\")"
   ]
  },
  {
   "cell_type": "code",
   "execution_count": 63,
   "id": "12ab1cf8-6613-4128-8445-04cf22b7c1f3",
   "metadata": {},
   "outputs": [
    {
     "name": "stdout",
     "output_type": "stream",
     "text": [
      ">>Example SQL Code<< مثال على كود SQL\n"
     ]
    }
   ],
   "source": [
    "print(\">>Example SQL Code<<\",\"مثال على كود SQL\")"
   ]
  },
  {
   "cell_type": "code",
   "execution_count": 72,
   "id": "89aa6686-7d78-402a-a49f-b8debda1ffa9",
   "metadata": {},
   "outputs": [
    {
     "name": "stdout",
     "output_type": "stream",
     "text": [
      ">>Azure Data Studio<<\n",
      "-----------------\n",
      "Select CustomerKey as CustomerID, SUM(SalesAmount) as SalesAmount\n",
      "From FactInternetSales\n",
      "Where year(OrderDate) > 2010\n",
      "Group By CustomerKey\n",
      "Having SUM(SalesAmount) > 10000\n",
      "Order By SalesAmount Desc\n",
      "------------------\n",
      ">>>Azure Data Studio<<<\n",
      ">>1>>Create a connection<< إنشاء اتصال\n",
      ">>2>>Home>DESKTOP-04201TI\\AHMEDABDELMONEM<<\n",
      ">>3>>Choose Database\n",
      ">>4>>Databases\n",
      ">>5>>Choose Database\n",
      ">>6>>New Query\n",
      ">>7>>Write Code\n",
      ">>8>>Run\n",
      "------------------\n"
     ]
    }
   ],
   "source": [
    "print(\">>Azure Data Studio<<\")\n",
    "print(\"-----------------\")\n",
    "print(\"Select CustomerKey as CustomerID, SUM(SalesAmount) as SalesAmount\")\n",
    "print(\"From FactInternetSales\")\n",
    "print(\"Where year(OrderDate) > 2010\")\n",
    "print(\"Group By CustomerKey\")\n",
    "print(\"Having SUM(SalesAmount) > 10000\")\n",
    "print(\"Order By SalesAmount Desc\")\n",
    "print(\"------------------\")\n",
    "print(\">>>Azure Data Studio<<<\")\n",
    "print(\">>1>>Create a connection<<\",\"إنشاء اتصال\")\n",
    "print(\">>2>>Home>DESKTOP-04201TI\\AHMEDABDELMONEM<<\")\n",
    "print(\">>3>>Choose Database\")\n",
    "print(\">>4>>Databases\")\n",
    "print(\">>5>>Choose Database\")\n",
    "print(\">>6>>New Query\")\n",
    "print(\">>7>>Write Code\")\n",
    "print(\">>8>>Run\")\n",
    "print(\"------------------\")"
   ]
  },
  {
   "cell_type": "code",
   "execution_count": 65,
   "id": "546a4abf-fe90-4791-9e73-aaaa997f1b7c",
   "metadata": {},
   "outputs": [
    {
     "name": "stdout",
     "output_type": "stream",
     "text": [
      "Saving Your Queries in Notepad حفظ استعلاماتك في المفكرة\n"
     ]
    }
   ],
   "source": [
    "print(\"Saving Your Queries in Notepad\",\"حفظ استعلاماتك في المفكرة\")"
   ]
  },
  {
   "cell_type": "code",
   "execution_count": 73,
   "id": "0247b299-401d-4ac5-9c8b-1bd1dc37ecc6",
   "metadata": {},
   "outputs": [
    {
     "name": "stdout",
     "output_type": "stream",
     "text": [
      "Saving Your Queries in Notepad حفظ استعلاماتك في المفكرة\n"
     ]
    }
   ],
   "source": [
    "print(\"Saving Your Queries in Notepad\",\"حفظ استعلاماتك في المفكرة\")"
   ]
  },
  {
   "cell_type": "code",
   "execution_count": 74,
   "id": "5e4eac55-7af0-4ba9-8e65-66bfe85d14e8",
   "metadata": {},
   "outputs": [
    {
     "name": "stdout",
     "output_type": "stream",
     "text": [
      ">>SELECT and FROM<< اختر و من\n"
     ]
    }
   ],
   "source": [
    "print(\">>SELECT and FROM<<\",\"اختر و من\")"
   ]
  },
  {
   "cell_type": "code",
   "execution_count": 75,
   "id": "88c7ead4-f798-43a9-acbc-0993759a5dbe",
   "metadata": {},
   "outputs": [
    {
     "name": "stdout",
     "output_type": "stream",
     "text": [
      ">>Select * FROM FactInternetSales<<\n"
     ]
    }
   ],
   "source": [
    "print(\">>Select * FROM FactInternetSales<<\")"
   ]
  },
  {
   "cell_type": "code",
   "execution_count": 76,
   "id": "8afab7e7-92a7-4787-8351-d4de2d41e021",
   "metadata": {},
   "outputs": [
    {
     "name": "stdout",
     "output_type": "stream",
     "text": [
      ">>SELECT Specific Columns<< تحديد أعمدة محددة\n"
     ]
    }
   ],
   "source": [
    "print(\">>SELECT Specific Columns<<\",\"تحديد أعمدة محددة\")"
   ]
  },
  {
   "cell_type": "code",
   "execution_count": 79,
   "id": "29fac70e-4de4-4f53-950d-b9dc274ffad2",
   "metadata": {},
   "outputs": [
    {
     "name": "stdout",
     "output_type": "stream",
     "text": [
      ">>SELECT<<\n",
      ">>SalesOrderNumber,<<\n",
      ">>OrderDate,<<\n",
      ">>SalesAmount,<<\n",
      ">>TaxAmt,<<\n",
      ">>OrderQuantity<<\n",
      ">>FROM FactInternetSales<<\n"
     ]
    }
   ],
   "source": [
    "print(\">>SELECT<<\")\n",
    "print(\">>SalesOrderNumber,<<\")\n",
    "print(\">>OrderDate,<<\")\n",
    "print(\">>SalesAmount,<<\")\n",
    "print(\">>TaxAmt,<<\")\n",
    "print(\">>OrderQuantity<<\")\n",
    "print(\">>FROM FactInternetSales<<\")"
   ]
  },
  {
   "cell_type": "code",
   "execution_count": 84,
   "id": "4e056f88-9270-4403-8fb0-21e09a0fe52b",
   "metadata": {},
   "outputs": [
    {
     "name": "stdout",
     "output_type": "stream",
     "text": [
      ">>Creating a Column Alias إنشاء اسم مستعار للعمود<<\n",
      ">>Select<<\n",
      "SalesOrderNumber AS [InvoiceNumber],\n",
      "OrderDate,\n",
      "SalesAmount,\n",
      "TaxAmt,\n",
      "OrderQuantity\n",
      "From FactInternetSales\n"
     ]
    }
   ],
   "source": [
    "print(\">>Creating a Column Alias\",\"إنشاء اسم مستعار للعمود<<\")\n",
    "print(\">>Select<<\")\n",
    "print(\"SalesOrderNumber AS [InvoiceNumber],\")\n",
    "print(\"OrderDate,\")\n",
    "print(\"SalesAmount,\")\n",
    "print(\"TaxAmt,\")\n",
    "print(\"OrderQuantity\")\n",
    "print(\"From FactInternetSales\")"
   ]
  },
  {
   "cell_type": "code",
   "execution_count": 85,
   "id": "89586e38-73ce-4c4b-b767-211f4a0f3018",
   "metadata": {},
   "outputs": [
    {
     "name": "stdout",
     "output_type": "stream",
     "text": [
      ">>Using WHERE to Filter Rows استخدام WHERE لتصفية الصفوف<<\n"
     ]
    }
   ],
   "source": [
    "print(\">>Using WHERE to Filter Rows\",\"استخدام WHERE لتصفية الصفوف<<\")"
   ]
  },
  {
   "cell_type": "code",
   "execution_count": 87,
   "id": "72f7dbf6-a0d2-477f-8f63-62578b8a739c",
   "metadata": {},
   "outputs": [
    {
     "name": "stdout",
     "output_type": "stream",
     "text": [
      ">>Using WHERE to Filter Rows<< >>استخدام WHERE لتصفية الصفوف<<\n"
     ]
    }
   ],
   "source": [
    "print(\">>Using WHERE to Filter Rows<<\",\">>استخدام WHERE لتصفية الصفوف<<\")"
   ]
  },
  {
   "cell_type": "code",
   "execution_count": 2,
   "id": "2ae87fb5-c22c-4140-a12e-d95e0ad80e2e",
   "metadata": {},
   "outputs": [
    {
     "name": "stdout",
     "output_type": "stream",
     "text": [
      ">>Using WHERE to Filter Rows<< استخدام WHERE لتصفية الصفوف\n"
     ]
    }
   ],
   "source": [
    "print(\">>Using WHERE to Filter Rows<<\",\"استخدام WHERE لتصفية الصفوف\")"
   ]
  },
  {
   "cell_type": "code",
   "execution_count": 4,
   "id": "e0158093-b84d-44f5-91e0-1e178709a2d4",
   "metadata": {},
   "outputs": [
    {
     "name": "stdout",
     "output_type": "stream",
     "text": [
      "<<Limiting Results to 1 Invoice Number for Testing>>\n",
      "<<تحديد النتائج برقم فاتورة واحد للاختبار>>\n"
     ]
    }
   ],
   "source": [
    "print(\"<<Limiting Results to 1 Invoice Number for Testing>>\")\n",
    "print(\"<<تحديد النتائج برقم فاتورة واحد للاختبار>>\")"
   ]
  },
  {
   "cell_type": "code",
   "execution_count": 6,
   "id": "7c9b4285-c5d8-4859-b331-82c8577e8066",
   "metadata": {},
   "outputs": [
    {
     "name": "stdout",
     "output_type": "stream",
     "text": [
      ">>Using GROUP BY to Combine Rows<< >>استخدام GROUP BY لدمج الصفوف<<\n"
     ]
    }
   ],
   "source": [
    "print(\">>Using GROUP BY to Combine Rows<<\",\">>استخدام GROUP BY لدمج الصفوف<<\")"
   ]
  },
  {
   "cell_type": "code",
   "execution_count": 7,
   "id": "3e4df880-6dfc-473b-9ff2-9d0fa91e8303",
   "metadata": {},
   "outputs": [
    {
     "name": "stdout",
     "output_type": "stream",
     "text": [
      ">>Using GROUP BY to Combine Invoice Numbers<< استخدام GROUP BY لدمج أرقام الفواتير\n"
     ]
    }
   ],
   "source": [
    "print(\">>Using GROUP BY to Combine Invoice Numbers<<\",\"استخدام GROUP BY لدمج أرقام الفواتير\")"
   ]
  },
  {
   "cell_type": "code",
   "execution_count": 8,
   "id": "e8a2c918-2487-40aa-9eb2-95b359d93083",
   "metadata": {},
   "outputs": [
    {
     "name": "stdout",
     "output_type": "stream",
     "text": [
      ">>Using HAVING to Filter Grouped Rows<< استخدام HAVING لتصفية الصفوف المجمعة\n"
     ]
    }
   ],
   "source": [
    "print(\">>Using HAVING to Filter Grouped Rows<<\",\"استخدام HAVING لتصفية الصفوف المجمعة\")"
   ]
  },
  {
   "cell_type": "code",
   "execution_count": 10,
   "id": "7d24dc06-fe91-4102-ade4-8bbb039875c7",
   "metadata": {},
   "outputs": [
    {
     "name": "stdout",
     "output_type": "stream",
     "text": [
      ">>Filtering Grouped Invoices with HAVING<< >>تصفية الفواتير المجمعة باستخدام HAVING<<\n"
     ]
    }
   ],
   "source": [
    "print(\">>Filtering Grouped Invoices with HAVING<<\",\">>تصفية الفواتير المجمعة باستخدام HAVING<<\")"
   ]
  },
  {
   "cell_type": "code",
   "execution_count": 12,
   "id": "6d734ca6-a04f-4274-bba8-8da65c3245ff",
   "metadata": {},
   "outputs": [
    {
     "name": "stdout",
     "output_type": "stream",
     "text": [
      ">>SQL Order of Operations<< >>ترتيب عمليات SQL<<\n"
     ]
    }
   ],
   "source": [
    "print(\">>SQL Order of Operations<<\",\">>ترتيب عمليات SQL<<\")"
   ]
  },
  {
   "cell_type": "code",
   "execution_count": 14,
   "id": "6a5cfa40-55f9-474b-b34d-0a8fb5876d97",
   "metadata": {},
   "outputs": [
    {
     "name": "stdout",
     "output_type": "stream",
     "text": [
      ">>Using ORDER BY to Sort Query Rows<< >>استخدام ORDER BY لفرز صفوف الاستعلام<<\n"
     ]
    }
   ],
   "source": [
    "print(\">>Using ORDER BY to Sort Query Rows<<\",\">>استخدام ORDER BY لفرز صفوف الاستعلام<<\")"
   ]
  },
  {
   "cell_type": "code",
   "execution_count": 15,
   "id": "82d8d2ef-2fd2-4eaa-b91b-8d8e2dca6fd5",
   "metadata": {},
   "outputs": [
    {
     "name": "stdout",
     "output_type": "stream",
     "text": [
      ">>Using ORDER BY to Sort Query Rows<<\n"
     ]
    }
   ],
   "source": [
    "print(\">>Using ORDER BY to Sort Query Rows<<\")"
   ]
  },
  {
   "cell_type": "code",
   "execution_count": 16,
   "id": "dbe20c53-88c7-4d64-a982-03ddfddaf1b9",
   "metadata": {},
   "outputs": [
    {
     "name": "stdout",
     "output_type": "stream",
     "text": [
      ">>Recap and Common Errors<< ملخص وأخطاء شائعة\n"
     ]
    }
   ],
   "source": [
    "print(\">>Recap and Common Errors<<\",\"ملخص وأخطاء شائعة\")"
   ]
  },
  {
   "cell_type": "code",
   "execution_count": 17,
   "id": "40160a5f-3ba6-4142-be3f-c7dfe065ad8d",
   "metadata": {},
   "outputs": [
    {
     "name": "stdout",
     "output_type": "stream",
     "text": [
      ">>Filtering Rows TOP N<< تصفية الصفوف TOP N\n"
     ]
    }
   ],
   "source": [
    "print(\">>Filtering Rows TOP N<<\",\"تصفية الصفوف TOP N\")"
   ]
  },
  {
   "cell_type": "code",
   "execution_count": 18,
   "id": "26850a5b-52bc-4567-9e90-7e608f1cde8d",
   "metadata": {},
   "outputs": [
    {
     "name": "stdout",
     "output_type": "stream",
     "text": [
      ">>Filtering Rows TOP N Percent<< تصفية الصفوف أعلى نسبة مئوية\n"
     ]
    }
   ],
   "source": [
    "print(\">>Filtering Rows TOP N Percent<<\",\"تصفية الصفوف أعلى نسبة مئوية\")"
   ]
  },
  {
   "cell_type": "code",
   "execution_count": 20,
   "id": "effe3665-488f-4020-88a5-1b3992d6e264",
   "metadata": {},
   "outputs": [
    {
     "name": "stdout",
     "output_type": "stream",
     "text": [
      ">>Filtering Rows OFFSET FETCH<< >>تصفية الصفوف OFFSET FETCH<<\n"
     ]
    }
   ],
   "source": [
    "print(\">>Filtering Rows OFFSET FETCH<<\",\">>تصفية الصفوف OFFSET FETCH<<\")"
   ]
  },
  {
   "cell_type": "code",
   "execution_count": 22,
   "id": "b9a34a6d-9495-4764-8628-28e6a20dbae0",
   "metadata": {},
   "outputs": [
    {
     "name": "stdout",
     "output_type": "stream",
     "text": [
      ">>Filtering Rows DISTINCT<< تصفية الصفوف DISTINCT\n"
     ]
    }
   ],
   "source": [
    "print(\">>Filtering Rows DISTINCT<<\",\"تصفية الصفوف DISTINCT\")"
   ]
  },
  {
   "cell_type": "code",
   "execution_count": 23,
   "id": "820bc7b7-450f-4b6f-8e9b-fe59d3769323",
   "metadata": {},
   "outputs": [
    {
     "name": "stdout",
     "output_type": "stream",
     "text": [
      ">>ORDER BY Another Column<< ترتيب حسب عمود آخر\n"
     ]
    }
   ],
   "source": [
    "print(\">>ORDER BY Another Column<<\",\"ترتيب حسب عمود آخر\")"
   ]
  },
  {
   "cell_type": "code",
   "execution_count": 25,
   "id": "962f7fa1-cdac-4a4a-819a-2c34bb4449a8",
   "metadata": {},
   "outputs": [
    {
     "name": "stdout",
     "output_type": "stream",
     "text": [
      ">>ORDER BY Another Column<< >>ترتيب حسب عمود آخر<<\n"
     ]
    }
   ],
   "source": [
    "print(\">>ORDER BY Another Column<<\",\">>ترتيب حسب عمود آخر<<\")"
   ]
  },
  {
   "cell_type": "code",
   "execution_count": 26,
   "id": "6df3248f-3919-4ac0-8e9a-269006f5ce19",
   "metadata": {},
   "outputs": [
    {
     "name": "stdout",
     "output_type": "stream",
     "text": [
      ">>Basic SQL Queries End<<\n"
     ]
    }
   ],
   "source": [
    "print(\">>Basic SQL Queries End<<\")"
   ]
  },
  {
   "cell_type": "code",
   "execution_count": 28,
   "id": "4dcdf9ea-76a0-4027-a031-c49e0b4771af",
   "metadata": {},
   "outputs": [
    {
     "name": "stdout",
     "output_type": "stream",
     "text": [
      ">>Week 1 Challenge<< >>تحدي الأسبوع الأول<<\n"
     ]
    }
   ],
   "source": [
    "print(\">>Week 1 Challenge<<\",\">>تحدي الأسبوع الأول<<\")"
   ]
  },
  {
   "cell_type": "code",
   "execution_count": 29,
   "id": "0815b534-5b68-4fe1-af2c-f80962b0e2c2",
   "metadata": {},
   "outputs": [
    {
     "name": "stdout",
     "output_type": "stream",
     "text": [
      ">>SQL Fundamentals for Data Analysts>>Module 2>>Exercise 1a<<\n"
     ]
    }
   ],
   "source": [
    "print(\">>SQL Fundamentals for Data Analysts>>Module 2>>Exercise 1a<<\")"
   ]
  },
  {
   "cell_type": "code",
   "execution_count": 32,
   "id": "9f086159-4057-433a-b4ff-fd9e6cf7030d",
   "metadata": {},
   "outputs": [
    {
     "name": "stdout",
     "output_type": "stream",
     "text": [
      "SQL Fundamentals for Data Analysts أساسيات SQL لمحللي البيانات\n"
     ]
    }
   ],
   "source": [
    "print(\"SQL Fundamentals for Data Analysts\",\"أساسيات SQL لمحللي البيانات\")"
   ]
  },
  {
   "cell_type": "code",
   "execution_count": 33,
   "id": "b257d586-1732-4261-be77-6c796f611738",
   "metadata": {},
   "outputs": [
    {
     "name": "stdout",
     "output_type": "stream",
     "text": [
      ">>Exercise 1a Review<< مراجعة التمرين 1أ\n"
     ]
    }
   ],
   "source": [
    "print(\">>Exercise 1a Review<<\",\"مراجعة التمرين 1أ\")"
   ]
  },
  {
   "cell_type": "code",
   "execution_count": 34,
   "id": "a61e71ab-c0f2-42ce-b150-2c20c3982c33",
   "metadata": {},
   "outputs": [
    {
     "name": "stdout",
     "output_type": "stream",
     "text": [
      "Exercise 1b\n"
     ]
    }
   ],
   "source": [
    "print(\"Exercise 1b\")"
   ]
  },
  {
   "cell_type": "code",
   "execution_count": 35,
   "id": "9dfcdc88-9a4e-42ff-b98d-8eb190e3f1bf",
   "metadata": {},
   "outputs": [
    {
     "name": "stdout",
     "output_type": "stream",
     "text": [
      ">>Exercise 1c<<\n"
     ]
    }
   ],
   "source": [
    "print(\">>Exercise 1c<<\")"
   ]
  },
  {
   "cell_type": "code",
   "execution_count": 37,
   "id": "543aa48d-3908-4d0a-a0be-9757870a2107",
   "metadata": {},
   "outputs": [
    {
     "name": "stdout",
     "output_type": "stream",
     "text": [
      ">>Exercise 1c Review<< مراجعة التمرين 1ج\n"
     ]
    }
   ],
   "source": [
    "print(\">>Exercise 1c Review<<\",\"مراجعة التمرين 1ج\")"
   ]
  },
  {
   "cell_type": "code",
   "execution_count": 38,
   "id": "30ddff46-3004-4e77-af95-15346d2e0944",
   "metadata": {},
   "outputs": [
    {
     "name": "stdout",
     "output_type": "stream",
     "text": [
      ">>Exercise 1c Review<<\n"
     ]
    }
   ],
   "source": [
    "print(\">>Exercise 1c Review<<\")"
   ]
  },
  {
   "cell_type": "code",
   "execution_count": 41,
   "id": "a81cab43-ccb0-4cc8-98ec-3fa226190579",
   "metadata": {},
   "outputs": [
    {
     "name": "stdout",
     "output_type": "stream",
     "text": [
      ">>SQL Fundamentals for Data Analysts>>Module 3>>Introduction<<\n",
      ">>Manipulating Values with Functions<< التلاعب بالقيم باستخدام الدوال\n"
     ]
    }
   ],
   "source": [
    "print(\">>SQL Fundamentals for Data Analysts>>Module 3>>Introduction<<\")\n",
    "print(\">>Manipulating Values with Functions<<\",\"التلاعب بالقيم باستخدام الدوال\")"
   ]
  },
  {
   "cell_type": "code",
   "execution_count": 42,
   "id": "68a67714-8847-470b-9870-dad3bb6740f1",
   "metadata": {},
   "outputs": [
    {
     "name": "stdout",
     "output_type": "stream",
     "text": [
      ">>Introduction<<\n"
     ]
    }
   ],
   "source": [
    "print(\">>Introduction<<\")"
   ]
  },
  {
   "cell_type": "code",
   "execution_count": 43,
   "id": "9a233962-8d9e-420a-abcc-172c4a11cab3",
   "metadata": {},
   "outputs": [
    {
     "name": "stdout",
     "output_type": "stream",
     "text": [
      ">>Recap of Aggregate Functions ملخص الوظائف التجميعية<<\n"
     ]
    }
   ],
   "source": [
    "print(\">>Recap of Aggregate Functions\",\"ملخص الوظائف التجميعية<<\")"
   ]
  },
  {
   "cell_type": "code",
   "execution_count": 44,
   "id": "399c8d51-b414-439a-996b-b69cb77c2bad",
   "metadata": {},
   "outputs": [
    {
     "name": "stdout",
     "output_type": "stream",
     "text": [
      ">>Counting Rows with COUNT( ) Aggregation<< عد الصفوف باستخدام التجميع COUNT()\n"
     ]
    }
   ],
   "source": [
    "print(\">>Counting Rows with COUNT( ) Aggregation<<\",\"عد الصفوف باستخدام التجميع COUNT()\")"
   ]
  },
  {
   "cell_type": "code",
   "execution_count": 45,
   "id": "9b02c173-a677-4b6c-bcad-88cb005bd6e0",
   "metadata": {},
   "outputs": [
    {
     "name": "stdout",
     "output_type": "stream",
     "text": [
      ">>Counting Rows with COUNT( ) Aggregation<< عد الصفوف باستخدام التجميع COUNT( )\n"
     ]
    }
   ],
   "source": [
    "print(\">>Counting Rows with COUNT( ) Aggregation<<\",\"عد الصفوف باستخدام التجميع COUNT( )\")"
   ]
  },
  {
   "cell_type": "code",
   "execution_count": 46,
   "id": "b54b6880-224d-45d5-a6d4-7a25fa26ffe4",
   "metadata": {},
   "outputs": [
    {
     "name": "stdout",
     "output_type": "stream",
     "text": [
      ">>How Aggregate Functions Respond to NULL Values<< كيف تستجيب الدوال التجميعية للقيم الفارغة (NULL)\n"
     ]
    }
   ],
   "source": [
    "print(\">>How Aggregate Functions Respond to NULL Values<<\",\"كيف تستجيب الدوال التجميعية للقيم الفارغة (NULL)\")"
   ]
  },
  {
   "cell_type": "code",
   "execution_count": 47,
   "id": "770e476e-6979-4841-81f9-496cd658f733",
   "metadata": {},
   "outputs": [
    {
     "name": "stdout",
     "output_type": "stream",
     "text": [
      "<<The Importance of Data Types>> أهمية أنواع البيانات\n"
     ]
    }
   ],
   "source": [
    "print(\"<<The Importance of Data Types>>\",\"أهمية أنواع البيانات\")"
   ]
  },
  {
   "cell_type": "code",
   "execution_count": 48,
   "id": "c17046e3-de24-44a7-9359-23d13484d754",
   "metadata": {},
   "outputs": [
    {
     "name": "stdout",
     "output_type": "stream",
     "text": [
      "<<Numeric Data Types>> أنواع البيانات الرقمية\n"
     ]
    }
   ],
   "source": [
    "print(\"<<Numeric Data Types>>\",\"أنواع البيانات الرقمية\")"
   ]
  },
  {
   "cell_type": "code",
   "execution_count": 49,
   "id": "945c49fb-435d-4143-b570-01d7baea0acf",
   "metadata": {},
   "outputs": [
    {
     "name": "stdout",
     "output_type": "stream",
     "text": [
      "<<Numeric Functions>> الدوال العددية\n"
     ]
    }
   ],
   "source": [
    "print(\"<<Numeric Functions>>\",\"الدوال العددية\")"
   ]
  },
  {
   "cell_type": "code",
   "execution_count": 51,
   "id": "62d538ca-0f5d-474b-8990-d2a5f5b3002a",
   "metadata": {},
   "outputs": [
    {
     "name": "stdout",
     "output_type": "stream",
     "text": [
      "<<Numeric Functions>> الدوال العددية\n"
     ]
    }
   ],
   "source": [
    "print(\"<<Numeric Functions>>\",\"الدوال العددية\")"
   ]
  },
  {
   "cell_type": "code",
   "execution_count": 52,
   "id": "4d76a486-d3c9-4119-899f-ec954152c818",
   "metadata": {},
   "outputs": [
    {
     "name": "stdout",
     "output_type": "stream",
     "text": [
      "<<Where is the Boolean Data Type>> أين يوجد نوع البيانات المنطقية؟\n"
     ]
    }
   ],
   "source": [
    "print(\"<<Where is the Boolean Data Type>>\",\"أين يوجد نوع البيانات المنطقية؟\")"
   ]
  },
  {
   "cell_type": "code",
   "execution_count": 53,
   "id": "a3781684-9839-49fd-8c45-dbc30c3fc4b0",
   "metadata": {},
   "outputs": [
    {
     "name": "stdout",
     "output_type": "stream",
     "text": [
      ">>Date and Time Data Types<< أنواع بيانات التاريخ والوقت\n"
     ]
    }
   ],
   "source": [
    "print(\">>Date and Time Data Types<<\",\"أنواع بيانات التاريخ والوقت\")"
   ]
  },
  {
   "cell_type": "code",
   "execution_count": 55,
   "id": "302ea5ee-951b-42d6-bff7-a03f43d387c6",
   "metadata": {},
   "outputs": [
    {
     "name": "stdout",
     "output_type": "stream",
     "text": [
      ">>Date Parts<< أجزاء التاريخ\n"
     ]
    }
   ],
   "source": [
    "print(\">>Date Parts<<\",\"أجزاء التاريخ\")"
   ]
  },
  {
   "cell_type": "code",
   "execution_count": 57,
   "id": "94bf4669-449f-4a42-813e-9fc7fc1121c9",
   "metadata": {},
   "outputs": [
    {
     "name": "stdout",
     "output_type": "stream",
     "text": [
      ">>Date and Time Functions<< وظائف التاريخ والوقت\n"
     ]
    }
   ],
   "source": [
    "print(\">>Date and Time Functions<<\",\"وظائف التاريخ والوقت\")"
   ]
  },
  {
   "cell_type": "code",
   "execution_count": 58,
   "id": "14497ebb-606d-4335-a282-87c144245ae3",
   "metadata": {},
   "outputs": [
    {
     "name": "stdout",
     "output_type": "stream",
     "text": [
      ">>Date and Time Functions in Practice<< وظائف التاريخ والوقت في الممارسة العملية\n"
     ]
    }
   ],
   "source": [
    "print(\">>Date and Time Functions in Practice<<\",\"وظائف التاريخ والوقت في الممارسة العملية\")"
   ]
  },
  {
   "cell_type": "code",
   "execution_count": 59,
   "id": "cc35488a-fc35-4f72-aa0d-bfe3b03e65f5",
   "metadata": {},
   "outputs": [
    {
     "name": "stdout",
     "output_type": "stream",
     "text": [
      ">>The DATEADD Function<< دالة DATEADD\n"
     ]
    }
   ],
   "source": [
    "print(\">>The DATEADD Function<<\",\"دالة DATEADD\")"
   ]
  },
  {
   "cell_type": "code",
   "execution_count": 60,
   "id": "b4b98612-f395-4e1a-ad3e-5bc6edbbec90",
   "metadata": {},
   "outputs": [
    {
     "name": "stdout",
     "output_type": "stream",
     "text": [
      ">>Server Properties Collation<< ترتيب خصائص الخادم\n"
     ]
    }
   ],
   "source": [
    "print(\">>Server Properties Collation<<\",\"ترتيب خصائص الخادم\")"
   ]
  },
  {
   "cell_type": "code",
   "execution_count": 61,
   "id": "409b0d07-1321-40ef-b6e6-6bd9bd0edaaa",
   "metadata": {},
   "outputs": [
    {
     "name": "stdout",
     "output_type": "stream",
     "text": [
      ">>Text or String Data Types<< أنواع البيانات النصية أو السلسلة\n"
     ]
    }
   ],
   "source": [
    "print(\">>Text or String Data Types<<\",\"أنواع البيانات النصية أو السلسلة\")"
   ]
  },
  {
   "cell_type": "code",
   "execution_count": 62,
   "id": "2e07aae3-88ea-4845-9018-3ef7e8817cb9",
   "metadata": {},
   "outputs": [
    {
     "name": "stdout",
     "output_type": "stream",
     "text": [
      ">>String Functions<< وظائف السلسلة\n"
     ]
    }
   ],
   "source": [
    "print(\">>String Functions<<\",\"وظائف السلسلة\")"
   ]
  },
  {
   "cell_type": "code",
   "execution_count": 63,
   "id": "e36a65bf-954d-4443-94d2-01f6021bb93d",
   "metadata": {},
   "outputs": [
    {
     "name": "stdout",
     "output_type": "stream",
     "text": [
      ">>The CONCAT String Function<< دالة سلسلة CONCAT\n"
     ]
    }
   ],
   "source": [
    "print(\">>The CONCAT String Function<<\",\"دالة سلسلة CONCAT\")"
   ]
  },
  {
   "cell_type": "code",
   "execution_count": 64,
   "id": "1359d246-4d52-49dd-9070-4f1ba140d77f",
   "metadata": {},
   "outputs": [
    {
     "name": "stdout",
     "output_type": "stream",
     "text": [
      ">>The CONCAT String Function<< دالة سلسلة CONCAT\n"
     ]
    }
   ],
   "source": [
    "print(\">>The CONCAT String Function<<\",\"دالة سلسلة CONCAT\")"
   ]
  },
  {
   "cell_type": "code",
   "execution_count": 66,
   "id": "18a871ec-c9fa-45ec-be5e-e8722f4833fa",
   "metadata": {},
   "outputs": [
    {
     "name": "stdout",
     "output_type": "stream",
     "text": [
      ">>LEN UPPER LOWER REPLACE String functions<<\n",
      ">>Len(), Upper(),Lower() and Replace()<<\n"
     ]
    }
   ],
   "source": [
    "print(\">>LEN UPPER LOWER REPLACE String functions<<\")\n",
    "print(\">>Len(), Upper(),Lower() and Replace()<<\")"
   ]
  },
  {
   "cell_type": "code",
   "execution_count": 67,
   "id": "1b3eec7e-827a-49ac-a9e3-1afbe4f030e0",
   "metadata": {},
   "outputs": [
    {
     "name": "stdout",
     "output_type": "stream",
     "text": [
      "<<Flexible LEFT and RIGHT Functions>> وظائف مرنة لليسار واليمين\n"
     ]
    }
   ],
   "source": [
    "print(\"<<Flexible LEFT and RIGHT Functions>>\",\"وظائف مرنة لليسار واليمين\")"
   ]
  },
  {
   "cell_type": "code",
   "execution_count": 68,
   "id": "225169b1-6fb1-46ea-a724-54da6ac673a5",
   "metadata": {},
   "outputs": [
    {
     "name": "stdout",
     "output_type": "stream",
     "text": [
      "<<Comparison Operators>> مشغلات المقارنة\n"
     ]
    }
   ],
   "source": [
    "print(\"<<Comparison Operators>>\",\"مشغلات المقارنة\")"
   ]
  },
  {
   "cell_type": "code",
   "execution_count": 70,
   "id": "f9aea99e-b782-4f75-962d-8a89f2ad2b5e",
   "metadata": {},
   "outputs": [
    {
     "name": "stdout",
     "output_type": "stream",
     "text": [
      "<<Comparison Operators - Dealing with NULL>> عوامل المقارنة - التعامل مع NULL\n"
     ]
    }
   ],
   "source": [
    "print(\"<<Comparison Operators - Dealing with NULL>>\",\"عوامل المقارنة - التعامل مع NULL\")"
   ]
  },
  {
   "cell_type": "code",
   "execution_count": 71,
   "id": "40b652cd-7ab8-4c71-9e76-b8da8a403b51",
   "metadata": {},
   "outputs": [
    {
     "name": "stdout",
     "output_type": "stream",
     "text": [
      "Logical Operators العمليات المنطقية\n"
     ]
    }
   ],
   "source": [
    "print(\"Logical Operators\",\"العمليات المنطقية\")"
   ]
  },
  {
   "cell_type": "code",
   "execution_count": 72,
   "id": "d26f0ac8-3a09-43da-af95-684d68b1a4b1",
   "metadata": {},
   "outputs": [
    {
     "name": "stdout",
     "output_type": "stream",
     "text": [
      ">>Logical Operators - Common Errors<< العمليات المنطقية - الأخطاء الشائعة\n"
     ]
    }
   ],
   "source": [
    "print(\">>Logical Operators - Common Errors<<\",\"العمليات المنطقية - الأخطاء الشائعة\")"
   ]
  },
  {
   "cell_type": "code",
   "execution_count": 74,
   "id": "1b4a2bed-6c3f-45cc-bcc7-9c9e4b5ec4a4",
   "metadata": {},
   "outputs": [
    {
     "name": "stdout",
     "output_type": "stream",
     "text": [
      ">>Advanced Logical Operators - IN and BETWEEN<<\n",
      ">>العمليات المنطقية المتقدمة - IN و BETWEEN<<\n"
     ]
    }
   ],
   "source": [
    "print(\">>Advanced Logical Operators - IN and BETWEEN<<\")\n",
    "print(\">>العمليات المنطقية المتقدمة - IN و BETWEEN<<\")"
   ]
  },
  {
   "cell_type": "code",
   "execution_count": 1,
   "id": "9cd4b79c-3c4d-4cf3-b894-62bd440f7449",
   "metadata": {},
   "outputs": [
    {
     "name": "stdout",
     "output_type": "stream",
     "text": [
      ">>IN and BETWEEN in Practice في وبين في الممارسة<<\n",
      "-----------------------------------------------\n"
     ]
    }
   ],
   "source": [
    "print(\">>IN and BETWEEN in Practice\",\"في وبين في الممارسة<<\")\n",
    "print(\"-----------------------------------------------\")"
   ]
  },
  {
   "cell_type": "code",
   "execution_count": 3,
   "id": "f10cec66-64c3-494e-9b72-7fa54f7a0c75",
   "metadata": {},
   "outputs": [
    {
     "name": "stdout",
     "output_type": "stream",
     "text": [
      "Advanced Logical Operators - LIKE العمليات المنطقية المتقدمة - LIKE\n"
     ]
    }
   ],
   "source": [
    "print(\"Advanced Logical Operators - LIKE\",\"العمليات المنطقية المتقدمة - LIKE\")"
   ]
  },
  {
   "cell_type": "code",
   "execution_count": 4,
   "id": "cf06891e-0231-45df-8026-01fd12326d08",
   "metadata": {},
   "outputs": [
    {
     "name": "stdout",
     "output_type": "stream",
     "text": [
      ">>Advanced Logical Operators - LIKE<< العمليات المنطقية المتقدمة - LIKE\n"
     ]
    }
   ],
   "source": [
    "print(\">>Advanced Logical Operators - LIKE<<\",\"العمليات المنطقية المتقدمة - LIKE\")"
   ]
  },
  {
   "cell_type": "code",
   "execution_count": 5,
   "id": "86ae0c6f-33f9-4f72-952a-1f1b1640b700",
   "metadata": {},
   "outputs": [
    {
     "name": "stdout",
     "output_type": "stream",
     "text": [
      ">>Using IIF Statements to Create a Conditional Column<<\n",
      ">>استخدام عبارات IIF لإنشاء عمود شرطي<<\n"
     ]
    }
   ],
   "source": [
    "print(\">>Using IIF Statements to Create a Conditional Column<<\")\n",
    "print(\">>استخدام عبارات IIF لإنشاء عمود شرطي<<\")"
   ]
  },
  {
   "cell_type": "code",
   "execution_count": 6,
   "id": "091668f0-73fc-4eea-9d83-a993db85756a",
   "metadata": {},
   "outputs": [
    {
     "name": "stdout",
     "output_type": "stream",
     "text": [
      ">>Using a CASE Statement for Multiple Conditions<<\n",
      "استخدام عبارة CASE لشروط متعددة\n"
     ]
    }
   ],
   "source": [
    "print(\">>Using a CASE Statement for Multiple Conditions<<\")\n",
    "print(\"استخدام عبارة CASE لشروط متعددة\")"
   ]
  },
  {
   "cell_type": "code",
   "execution_count": 7,
   "id": "7d8ac6e3-6b02-415f-80aa-a276d40bb001",
   "metadata": {},
   "outputs": [
    {
     "name": "stdout",
     "output_type": "stream",
     "text": [
      ">>Basic SQL Formatting<< تنسيق SQL الأساسي\n"
     ]
    }
   ],
   "source": [
    "print(\">>Basic SQL Formatting<<\",\"تنسيق SQL الأساسي\")"
   ]
  },
  {
   "cell_type": "code",
   "execution_count": 9,
   "id": "5c330f98-b7c1-4f47-97c1-1f82a42e3d6a",
   "metadata": {},
   "outputs": [
    {
     "name": "stdout",
     "output_type": "stream",
     "text": [
      ">>Using IIF in a WHERE Statement<< >>استخدام IIF في بيان WHERE<<\n"
     ]
    }
   ],
   "source": [
    "print(\">>Using IIF in a WHERE Statement<<\",\">>استخدام IIF في بيان WHERE<<\")"
   ]
  },
  {
   "cell_type": "code",
   "execution_count": 10,
   "id": "be62c3a7-98c3-455d-8df0-fb43a4680ebb",
   "metadata": {},
   "outputs": [
    {
     "name": "stdout",
     "output_type": "stream",
     "text": [
      "Using IIF in a WHERE Statement\n"
     ]
    }
   ],
   "source": [
    "print(\"Using IIF in a WHERE Statement\")"
   ]
  },
  {
   "cell_type": "code",
   "execution_count": 11,
   "id": "ded9618d-1333-4939-b40e-9f00296c8a44",
   "metadata": {},
   "outputs": [
    {
     "name": "stdout",
     "output_type": "stream",
     "text": [
      ">>Replacing NULL Using IIF, ISNULL and COALESCE<<\n",
      ">>استبدال NULL باستخدام IIF وISNULL وCOALESCE<<\n"
     ]
    }
   ],
   "source": [
    "print(\">>Replacing NULL Using IIF, ISNULL and COALESCE<<\")\n",
    "print(\">>استبدال NULL باستخدام IIF وISNULL وCOALESCE<<\")"
   ]
  },
  {
   "cell_type": "code",
   "execution_count": 12,
   "id": "a30192c7-20eb-45c0-aa1c-db73aecc13c4",
   "metadata": {},
   "outputs": [
    {
     "name": "stdout",
     "output_type": "stream",
     "text": [
      ">>Using CAST to Change the Data Type<< استخدام CAST لتغيير نوع البيانات\n"
     ]
    }
   ],
   "source": [
    "print(\">>Using CAST to Change the Data Type<<\",\"استخدام CAST لتغيير نوع البيانات\")"
   ]
  },
  {
   "cell_type": "code",
   "execution_count": 14,
   "id": "7f6737a4-0bf2-46b0-9370-d14f1b0eb61e",
   "metadata": {},
   "outputs": [
    {
     "name": "stdout",
     "output_type": "stream",
     "text": [
      ">>Using CAST to Change the Data Type<< >>استخدام CAST لتغيير نوع البيانات<<\n"
     ]
    }
   ],
   "source": [
    "print(\">>Using CAST to Change the Data Type<<\",\">>استخدام CAST لتغيير نوع البيانات<<\")"
   ]
  },
  {
   "cell_type": "code",
   "execution_count": 15,
   "id": "91b5d29a-c1f3-4abc-bb91-d8e3055fa3a0",
   "metadata": {},
   "outputs": [
    {
     "name": "stdout",
     "output_type": "stream",
     "text": [
      ">>Practical Examples Using CAST<< أمثلة عملية باستخدام CAST\n"
     ]
    }
   ],
   "source": [
    "print(\">>Practical Examples Using CAST<<\",\"أمثلة عملية باستخدام CAST\")"
   ]
  },
  {
   "cell_type": "code",
   "execution_count": 16,
   "id": "abf02953-c0c9-4eff-9514-d76a87728f81",
   "metadata": {},
   "outputs": [
    {
     "name": "stdout",
     "output_type": "stream",
     "text": [
      ">>Using a NATIONAL for UNICODE Best Practice<< استخدام أفضل الممارسات الوطنية لـ UNICODE\n"
     ]
    }
   ],
   "source": [
    "print(\">>Using a NATIONAL for UNICODE Best Practice<<\",\"استخدام أفضل الممارسات الوطنية لـ UNICODE\")"
   ]
  },
  {
   "cell_type": "code",
   "execution_count": 17,
   "id": "46628ea1-74f0-4edf-84b8-4071e9baaed9",
   "metadata": {},
   "outputs": [
    {
     "name": "stdout",
     "output_type": "stream",
     "text": [
      ">>Exercise 2a<<\n"
     ]
    }
   ],
   "source": [
    "print(\">>Exercise 2a<<\")"
   ]
  },
  {
   "cell_type": "code",
   "execution_count": 19,
   "id": "b99d2072-c6d6-4d83-aae0-b2837185a14a",
   "metadata": {},
   "outputs": [
    {
     "name": "stdout",
     "output_type": "stream",
     "text": [
      ">>Exercise 2a Review<< >>مراجعة التمرين 2أ<<\n"
     ]
    }
   ],
   "source": [
    "print(\">>Exercise 2a Review<<\",\">>مراجعة التمرين 2أ<<\")"
   ]
  },
  {
   "cell_type": "code",
   "execution_count": 21,
   "id": "019bad83-5710-4d96-9a49-ee7ea2069898",
   "metadata": {},
   "outputs": [
    {
     "name": "stdout",
     "output_type": "stream",
     "text": [
      ">>Exercise 2b Review<< >>مراجعة التمرين 2ب<<\n"
     ]
    }
   ],
   "source": [
    "print(\">>Exercise 2b Review<<\",\">>مراجعة التمرين 2ب<<\")"
   ]
  },
  {
   "cell_type": "code",
   "execution_count": 29,
   "id": "7be681ef-d84a-4c89-b38b-ed76be9733a2",
   "metadata": {},
   "outputs": [
    {
     "name": "stdout",
     "output_type": "stream",
     "text": [
      "Azure Data Studio A modern open-source, cross-platform hybrid data analytics tool designed to simplify the data landscape\n",
      "أداة تحليل بيانات هجينة حديثة مفتوحة المصدر ومتعددة المنصات مصممة لتبسيط مشهد البيانات\n",
      ">>SQL Fundamentals for Data Analysts>>Module 4>>Introduction<<\n"
     ]
    }
   ],
   "source": [
    "print(\"Azure Data Studio\",\"A modern open-source, cross-platform hybrid data analytics tool designed to simplify the data landscape\")\n",
    "print(\"أداة تحليل بيانات هجينة حديثة مفتوحة المصدر ومتعددة المنصات مصممة لتبسيط مشهد البيانات\")\n",
    "print(\">>SQL Fundamentals for Data Analysts>>Module 4>>Introduction<<\")"
   ]
  },
  {
   "cell_type": "code",
   "execution_count": 30,
   "id": "db6187bc-ea15-4af0-859f-d1ae381bc3b0",
   "metadata": {},
   "outputs": [
    {
     "name": "stdout",
     "output_type": "stream",
     "text": [
      ">>Module-4<< >>الوحدة 4<<\n"
     ]
    }
   ],
   "source": [
    "print(\">>Module-4<<\",\">>الوحدة 4<<\")"
   ]
  },
  {
   "cell_type": "code",
   "execution_count": 33,
   "id": "09fb72dd-4cb6-4fa8-a366-889d99c83c5e",
   "metadata": {},
   "outputs": [
    {
     "name": "stdout",
     "output_type": "stream",
     "text": [
      ">>SQL Fundamentals for Data Analysts<<Module 4>>Introduction<<\n"
     ]
    }
   ],
   "source": [
    "print(\">>SQL Fundamentals for Data Analysts<<Module 4>>Introduction<<\")"
   ]
  },
  {
   "cell_type": "code",
   "execution_count": 1,
   "id": "a2a4e71d-c517-4d11-b26f-57520af6976d",
   "metadata": {},
   "outputs": [
    {
     "name": "stdout",
     "output_type": "stream",
     "text": [
      ">>Introduction<< مقدمة\n"
     ]
    }
   ],
   "source": [
    "print(\">>Introduction<<\",\"مقدمة\")"
   ]
  },
  {
   "cell_type": "code",
   "execution_count": 2,
   "id": "207c21e2-1d92-4a8c-8e85-614a5036a2d5",
   "metadata": {},
   "outputs": [
    {
     "name": "stdout",
     "output_type": "stream",
     "text": [
      ">>A History of SQL<< تاريخ SQL\n"
     ]
    }
   ],
   "source": [
    "print(\">>A History of SQL<<\",\"تاريخ SQL\")"
   ]
  },
  {
   "cell_type": "code",
   "execution_count": 3,
   "id": "12b5c0a2-e5d8-4f1f-beef-bd38bf55f8f7",
   "metadata": {},
   "outputs": [
    {
     "name": "stdout",
     "output_type": "stream",
     "text": [
      ">>SQL Terminology<< مصطلحات SQL<<\n"
     ]
    }
   ],
   "source": [
    "print(\">>SQL Terminology<<\",\"مصطلحات SQL<<\")"
   ]
  },
  {
   "cell_type": "code",
   "execution_count": 4,
   "id": "06252fe0-ea9d-40bd-8f30-36a95f980d53",
   "metadata": {},
   "outputs": [
    {
     "name": "stdout",
     "output_type": "stream",
     "text": [
      ">>RDBMS Installation Options<< خيارات تثبيت RDBMS\n"
     ]
    }
   ],
   "source": [
    "print(\">>RDBMS Installation Options<<\",\"خيارات تثبيت RDBMS\")"
   ]
  },
  {
   "cell_type": "code",
   "execution_count": 6,
   "id": "7a13cf6c-fc39-4e57-bc74-9219d489d8eb",
   "metadata": {},
   "outputs": [
    {
     "name": "stdout",
     "output_type": "stream",
     "text": [
      ">>Data Security<< >>أمن البيانات<<\n"
     ]
    }
   ],
   "source": [
    "print(\">>Data Security<<\",\">>أمن البيانات<<\")"
   ]
  },
  {
   "cell_type": "code",
   "execution_count": 7,
   "id": "2b03e5a7-62a5-4282-aa17-c7f473155508",
   "metadata": {},
   "outputs": [
    {
     "name": "stdout",
     "output_type": "stream",
     "text": [
      ">>Types of Database System<< أنواع أنظمة قواعد البيانات\n"
     ]
    }
   ],
   "source": [
    "print(\">>Types of Database System<<\",\"أنواع أنظمة قواعد البيانات\")"
   ]
  },
  {
   "cell_type": "code",
   "execution_count": 9,
   "id": "617f5194-0b68-4b07-b0db-0e29e897a3f3",
   "metadata": {},
   "outputs": [
    {
     "name": "stdout",
     "output_type": "stream",
     "text": [
      ">>Data Normalization in OLTP Systems<< >>تطبيع البيانات في أنظمة OLTP<<\n"
     ]
    }
   ],
   "source": [
    "print(\">>Data Normalization in OLTP Systems<<\",\">>تطبيع البيانات في أنظمة OLTP<<\")"
   ]
  },
  {
   "cell_type": "code",
   "execution_count": 11,
   "id": "c5534434-9d3f-44ca-9406-0bd4f15efa5f",
   "metadata": {},
   "outputs": [
    {
     "name": "stdout",
     "output_type": "stream",
     "text": [
      ">>De-normalization in DW Systems<< إزالة التطبيع في أنظمة DW<<\n"
     ]
    }
   ],
   "source": [
    "print(\">>De-normalization in DW Systems<<\",\"إزالة التطبيع في أنظمة DW<<\")"
   ]
  },
  {
   "cell_type": "code",
   "execution_count": 13,
   "id": "186c0e8a-5f0c-419e-b9ae-ecc040aff115",
   "metadata": {},
   "outputs": [
    {
     "name": "stdout",
     "output_type": "stream",
     "text": [
      ">>Fact and Dimension Tables<< جداول الحقائق والأبعاد<<\n"
     ]
    }
   ],
   "source": [
    "print(\">>Fact and Dimension Tables<<\",\"جداول الحقائق والأبعاد<<\")"
   ]
  },
  {
   "cell_type": "code",
   "execution_count": 15,
   "id": "7660df1f-99e1-4469-b0a0-855861c49d31",
   "metadata": {},
   "outputs": [
    {
     "name": "stdout",
     "output_type": "stream",
     "text": [
      ">>Relationships & Keys<< >>العلاقات والمفاتيح<<\n"
     ]
    }
   ],
   "source": [
    "print(\">>Relationships & Keys<<\",\">>العلاقات والمفاتيح<<\")"
   ]
  },
  {
   "cell_type": "code",
   "execution_count": 17,
   "id": "c4cdd41f-ce4e-42ba-91be-2a698cefa6eb",
   "metadata": {},
   "outputs": [
    {
     "name": "stdout",
     "output_type": "stream",
     "text": [
      "The Star Schema<<>>The Star Schema مخطط النجمة<<>>مخطط النجمة\n"
     ]
    }
   ],
   "source": [
    "print(\"The Star Schema<<>>The Star Schema\",\"مخطط النجمة<<>>مخطط النجمة\")"
   ]
  },
  {
   "cell_type": "code",
   "execution_count": 18,
   "id": "bcda3a44-8c47-4ffe-9d2e-77fe96306b37",
   "metadata": {},
   "outputs": [
    {
     "name": "stdout",
     "output_type": "stream",
     "text": [
      "<<how to create Date Dimension in Power BI Function>>\n",
      "<<Creating a Date Dimension (Calendar Table) in Power BI>>\n"
     ]
    }
   ],
   "source": [
    "print(\"<<how to create Date Dimension in Power BI Function>>\")\n",
    "print(\"<<Creating a Date Dimension (Calendar Table) in Power BI>>\")"
   ]
  },
  {
   "cell_type": "code",
   "execution_count": 19,
   "id": "bf7498dd-c361-40cc-ad68-f0f35d2c4c33",
   "metadata": {},
   "outputs": [
    {
     "name": "stdout",
     "output_type": "stream",
     "text": [
      ">>Snowflake Hybrid Schema<< مخطط هجين ندفة الثلج\n"
     ]
    }
   ],
   "source": [
    "print(\">>Snowflake Hybrid Schema<<\",\"مخطط هجين ندفة الثلج\")"
   ]
  },
  {
   "cell_type": "code",
   "execution_count": 20,
   "id": "48e8822c-42a7-48ac-9b7b-a3dcb661aab7",
   "metadata": {},
   "outputs": [
    {
     "name": "stdout",
     "output_type": "stream",
     "text": [
      ">>Snowflake Schema Power BI<<\n"
     ]
    }
   ],
   "source": [
    "print(\">>Snowflake Schema Power BI<<\")"
   ]
  },
  {
   "cell_type": "code",
   "execution_count": 24,
   "id": "3f5bcfc2-bcdf-4aa6-97bc-38fe4dbff266",
   "metadata": {},
   "outputs": [
    {
     "name": "stdout",
     "output_type": "stream",
     "text": [
      ">>SQL Fundamentals for Data Analysts>>Module 5>>Introduction<<\n",
      ">>SQL Fundamentals Working with Multiple Tables<<\n",
      ">>أساسيات SQL العمل مع جداول متعددة<< Working with Multiple Tables<<\n"
     ]
    }
   ],
   "source": [
    "print(\">>SQL Fundamentals for Data Analysts>>Module 5>>Introduction<<\")\n",
    "print(\">>SQL Fundamentals Working with Multiple Tables<<\")\n",
    "print(\">>أساسيات SQL العمل مع جداول متعددة<<\",\"Working with Multiple Tables<<\")"
   ]
  },
  {
   "cell_type": "code",
   "execution_count": 26,
   "id": "12be2394-c811-4eee-a047-ad787f18486c",
   "metadata": {},
   "outputs": [
    {
     "name": "stdout",
     "output_type": "stream",
     "text": [
      ">>Relationships and ER Diagrams<< >>العلاقات ومخططات العلاقات<<\n"
     ]
    }
   ],
   "source": [
    "print(\">>Relationships and ER Diagrams<<\",\">>العلاقات ومخططات العلاقات<<\")"
   ]
  },
  {
   "cell_type": "code",
   "execution_count": 27,
   "id": "8b15698e-4b7d-497c-8ba0-8c59b6227918",
   "metadata": {},
   "outputs": [
    {
     "name": "stdout",
     "output_type": "stream",
     "text": [
      ">>Purpose of DW Relationships<< غرض علاقات DW\n"
     ]
    }
   ],
   "source": [
    "print(\">>Purpose of DW Relationships<<\",\"غرض علاقات DW\")"
   ]
  },
  {
   "cell_type": "code",
   "execution_count": 28,
   "id": "9cb62a55-2309-4adb-af8f-e0c8ea968682",
   "metadata": {},
   "outputs": [
    {
     "name": "stdout",
     "output_type": "stream",
     "text": [
      ">>Internet Sales Schema<< مخطط مبيعات الإنترنت<<\n"
     ]
    }
   ],
   "source": [
    "print(\">>Internet Sales Schema<<\",\"مخطط مبيعات الإنترنت<<\")"
   ]
  },
  {
   "cell_type": "code",
   "execution_count": 29,
   "id": "c90b9fff-39d3-4087-9d9c-d7c366298f71",
   "metadata": {},
   "outputs": [
    {
     "name": "stdout",
     "output_type": "stream",
     "text": [
      ">>Types of JOIN<< أنواع الانضمام\n"
     ]
    }
   ],
   "source": [
    "print(\">>Types of JOIN<<\",\"أنواع الانضمام\")"
   ]
  },
  {
   "cell_type": "code",
   "execution_count": 30,
   "id": "256bd4fd-c320-459d-8e7b-bebe1ee9cc30",
   "metadata": {},
   "outputs": [
    {
     "name": "stdout",
     "output_type": "stream",
     "text": [
      ">>A Basic INNER JOIN Using Sales and Customers<<\n",
      ">>ربط داخلي أساسي باستخدام المبيعات والعملاء<<\n"
     ]
    }
   ],
   "source": [
    "print(\">>A Basic INNER JOIN Using Sales and Customers<<\")\n",
    "print(\">>ربط داخلي أساسي باستخدام المبيعات والعملاء<<\")"
   ]
  },
  {
   "cell_type": "code",
   "execution_count": 31,
   "id": "feccc05c-1ea8-482c-b893-8758d57cf283",
   "metadata": {},
   "outputs": [
    {
     "name": "stdout",
     "output_type": "stream",
     "text": [
      ">>A Basic INNER JOIN Using Sales and Customers<<\n"
     ]
    }
   ],
   "source": [
    "print(\">>A Basic INNER JOIN Using Sales and Customers<<\")"
   ]
  },
  {
   "cell_type": "code",
   "execution_count": 33,
   "id": "262481f5-3988-4acf-9442-8ca6634f81aa",
   "metadata": {},
   "outputs": [
    {
     "name": "stdout",
     "output_type": "stream",
     "text": [
      ">>A Basic INNER JOIN Using Sales and Customers<<\n",
      ">>>>ربط داخلي أساسي باستخدام المبيعات والعملاء<<<<\n"
     ]
    }
   ],
   "source": [
    "print(\">>A Basic INNER JOIN Using Sales and Customers<<\")\n",
    "print(\">>>>ربط داخلي أساسي باستخدام المبيعات والعملاء<<<<\")"
   ]
  },
  {
   "cell_type": "code",
   "execution_count": 35,
   "id": "d8888a7f-d08b-4712-891a-9f286bacc561",
   "metadata": {},
   "outputs": [
    {
     "name": "stdout",
     "output_type": "stream",
     "text": [
      ">>Returning Only the TOP 100 Customers<< >>إرجاع أفضل 100 عميل فقط<<\n"
     ]
    }
   ],
   "source": [
    "print(\">>Returning Only the TOP 100 Customers<<\",\">>إرجاع أفضل 100 عميل فقط<<\")"
   ]
  },
  {
   "cell_type": "code",
   "execution_count": 36,
   "id": "b6b82a5e-f218-4830-a908-6aaa332efacf",
   "metadata": {},
   "outputs": [
    {
     "name": "stdout",
     "output_type": "stream",
     "text": [
      ">>Order of Operations Review<< مراجعة ترتيب العمليات<<\n"
     ]
    }
   ],
   "source": [
    "print(\">>Order of Operations Review<<\",\"مراجعة ترتيب العمليات<<\")"
   ]
  },
  {
   "cell_type": "code",
   "execution_count": 37,
   "id": "6fdaf097-e7c6-4cec-ba24-3dcd6974970d",
   "metadata": {},
   "outputs": [
    {
     "name": "stdout",
     "output_type": "stream",
     "text": [
      ">>INNER JOIN the Currency Table<< الانضمام الداخلي إلى جدول العملات\n"
     ]
    }
   ],
   "source": [
    "print(\">>INNER JOIN the Currency Table<<\",\"الانضمام الداخلي إلى جدول العملات\")"
   ]
  },
  {
   "cell_type": "code",
   "execution_count": 39,
   "id": "1c4ccf09-4406-4575-ba5e-be3dc9b5aa7f",
   "metadata": {},
   "outputs": [
    {
     "name": "stdout",
     "output_type": "stream",
     "text": [
      ">>INNER JOIN the Currency Table<< >>الانضمام الداخلي إلى جدول العملات<<\n"
     ]
    }
   ],
   "source": [
    "print(\">>INNER JOIN the Currency Table<<\",\">>الانضمام الداخلي إلى جدول العملات<<\")"
   ]
  },
  {
   "cell_type": "code",
   "execution_count": 40,
   "id": "d7f2d990-0d52-4ffc-a704-e2cd05ea77d4",
   "metadata": {},
   "outputs": [
    {
     "name": "stdout",
     "output_type": "stream",
     "text": [
      ">>HAVING or WHERE<< >>HAVING or WHERE<<\n"
     ]
    }
   ],
   "source": [
    "print(\">>HAVING or WHERE<<\",\">>HAVING or WHERE<<\")"
   ]
  },
  {
   "cell_type": "code",
   "execution_count": 41,
   "id": "a7a54c4c-313f-401f-b06a-0a73f8969305",
   "metadata": {},
   "outputs": [
    {
     "name": "stdout",
     "output_type": "stream",
     "text": [
      ">>When INNER JOIN Doesn't Work<<\n"
     ]
    }
   ],
   "source": [
    "print(\">>When INNER JOIN Doesn't Work<<\")"
   ]
  },
  {
   "cell_type": "code",
   "execution_count": 42,
   "id": "b67ac20a-b4f7-4607-a24c-c12972d647c8",
   "metadata": {},
   "outputs": [
    {
     "name": "stdout",
     "output_type": "stream",
     "text": [
      ">>When INNER JOIN Doesn't Work<< عندما لا يعمل INNER JOIN\n"
     ]
    }
   ],
   "source": [
    "print(\">>When INNER JOIN Doesn't Work<<\",\"عندما لا يعمل INNER JOIN\")"
   ]
  },
  {
   "cell_type": "code",
   "execution_count": 43,
   "id": "472a8813-37d1-4138-b4e6-81b5c76be293",
   "metadata": {},
   "outputs": [
    {
     "name": "stdout",
     "output_type": "stream",
     "text": [
      ">>RIGHT JOIN to Retrieve Full Product Catalogue<< اضغط على الزر الأيمن لاسترجاع كتالوج المنتج الكامل\n"
     ]
    }
   ],
   "source": [
    "print(\">>RIGHT JOIN to Retrieve Full Product Catalogue<<\",\"اضغط على الزر الأيمن لاسترجاع كتالوج المنتج الكامل\")"
   ]
  },
  {
   "cell_type": "code",
   "execution_count": 45,
   "id": "ee6af548-e1e9-4ac7-a989-923df68ef53e",
   "metadata": {},
   "outputs": [
    {
     "name": "stdout",
     "output_type": "stream",
     "text": [
      ">>LEFT JOIN vs RIGHT JOIN<< الانضمام الأيسر مقابل الانضمام الأيمن\n"
     ]
    }
   ],
   "source": [
    "print(\">>LEFT JOIN vs RIGHT JOIN<<\",\"الانضمام الأيسر مقابل الانضمام الأيمن\")"
   ]
  },
  {
   "cell_type": "code",
   "execution_count": 46,
   "id": "59cccc2c-0b3d-4383-9063-855eeb62ebf7",
   "metadata": {},
   "outputs": [
    {
     "name": "stdout",
     "output_type": "stream",
     "text": [
      ">>Bridge Tables for Many-to-many Relationships<<\n"
     ]
    }
   ],
   "source": [
    "print(\">>Bridge Tables for Many-to-many Relationships<<\")"
   ]
  },
  {
   "cell_type": "code",
   "execution_count": 47,
   "id": "2172e823-976b-4145-b771-46546258e9a1",
   "metadata": {},
   "outputs": [
    {
     "name": "stdout",
     "output_type": "stream",
     "text": [
      "Creating JOINS Across Bridge Tables\n"
     ]
    }
   ],
   "source": [
    "print(\"Creating JOINS Across Bridge Tables\")"
   ]
  },
  {
   "cell_type": "code",
   "execution_count": 49,
   "id": "78cc4271-dafb-4d4c-ac11-5e6b2a483969",
   "metadata": {},
   "outputs": [
    {
     "name": "stdout",
     "output_type": "stream",
     "text": [
      ">>Caution with Duplicate Data<< >>الحذر من البيانات المكررة<<\n"
     ]
    }
   ],
   "source": [
    "print(\">>Caution with Duplicate Data<<\",\">>الحذر من البيانات المكررة<<\")"
   ]
  },
  {
   "cell_type": "code",
   "execution_count": 51,
   "id": "0b914f7b-6143-45e9-b0ed-3d84bd2c7863",
   "metadata": {},
   "outputs": [
    {
     "name": "stdout",
     "output_type": "stream",
     "text": [
      ">>Reading SQL Code<< >>قراءة كود SQL<<\n"
     ]
    }
   ],
   "source": [
    "print(\">>Reading SQL Code<<\",\">>قراءة كود SQL<<\")"
   ]
  },
  {
   "cell_type": "code",
   "execution_count": 52,
   "id": "5bb22dc0-2d72-448b-9bdc-57daa6f8326d",
   "metadata": {},
   "outputs": [
    {
     "name": "stdout",
     "output_type": "stream",
     "text": [
      ">>Appending Data with a UNION<< إلحاق البيانات باستخدام UNION\n"
     ]
    }
   ],
   "source": [
    "print(\">>Appending Data with a UNION<<\",\"إلحاق البيانات باستخدام UNION\")"
   ]
  },
  {
   "cell_type": "code",
   "execution_count": 54,
   "id": "f80baea3-e6e6-447c-b494-300e6e222484",
   "metadata": {},
   "outputs": [
    {
     "name": "stdout",
     "output_type": "stream",
     "text": [
      ">>Exploring the Reseller Schema استكشاف مخطط الموزع<<\n"
     ]
    }
   ],
   "source": [
    "print(\">>Exploring the Reseller Schema\",\"استكشاف مخطط الموزع<<\")"
   ]
  },
  {
   "cell_type": "code",
   "execution_count": 55,
   "id": "a2211a40-93d5-4dd0-bd94-9732bae6210d",
   "metadata": {},
   "outputs": [
    {
     "name": "stdout",
     "output_type": "stream",
     "text": [
      ">>Creating a {UNION} between {Internet} and {Reseller} Sales<<\n"
     ]
    }
   ],
   "source": [
    "print(\">>Creating a {UNION} between {Internet} and {Reseller} Sales<<\")"
   ]
  },
  {
   "cell_type": "code",
   "execution_count": 56,
   "id": "b7e7cbad-3e4b-45a9-9480-8a43bde78a98",
   "metadata": {},
   "outputs": [
    {
     "name": "stdout",
     "output_type": "stream",
     "text": [
      ">>Identifying the Source of Each UNION Row<< تحديد مصدر كل صف UNION\n"
     ]
    }
   ],
   "source": [
    "print(\">>Identifying the Source of Each UNION Row<<\",\"تحديد مصدر كل صف UNION\")"
   ]
  },
  {
   "cell_type": "code",
   "execution_count": 57,
   "id": "fef07bcd-1c97-4616-8128-739b7961daa8",
   "metadata": {},
   "outputs": [
    {
     "name": "stdout",
     "output_type": "stream",
     "text": [
      "<<Identifying the Source of Each UNION Row>> تحديد مصدر كل صف UNION\n"
     ]
    }
   ],
   "source": [
    "print(\"<<Identifying the Source of Each UNION Row>>\",\"تحديد مصدر كل صف UNION\")"
   ]
  },
  {
   "cell_type": "code",
   "execution_count": 58,
   "id": "8178d932-2c92-4494-a58d-971a07da6163",
   "metadata": {},
   "outputs": [
    {
     "name": "stdout",
     "output_type": "stream",
     "text": [
      "<<Identifying the Source of Each UNION Row>> تحديد مصدر كل صف UNION\n"
     ]
    }
   ],
   "source": [
    "print(\"<<Identifying the Source of Each UNION Row>>\",\"تحديد مصدر كل صف UNION\")"
   ]
  },
  {
   "cell_type": "code",
   "execution_count": 59,
   "id": "2d5e9168-2357-4c39-9bfb-3d349a3d3ec8",
   "metadata": {},
   "outputs": [
    {
     "name": "stdout",
     "output_type": "stream",
     "text": [
      ">>Using ORDER BY with a UNION<< استخدام ORDER BY مع UNION\n"
     ]
    }
   ],
   "source": [
    "print(\">>Using ORDER BY with a UNION<<\",\"استخدام ORDER BY مع UNION\")"
   ]
  },
  {
   "cell_type": "code",
   "execution_count": 61,
   "id": "e2dff2c9-e096-4c33-803c-6b7229aa85ce",
   "metadata": {},
   "outputs": [
    {
     "name": "stdout",
     "output_type": "stream",
     "text": [
      ">>Other Types of JOIN<< >>أنواع أخرى من JOIN<<\n"
     ]
    }
   ],
   "source": [
    "print(\">>Other Types of JOIN<<\",\">>أنواع أخرى من JOIN<<\")"
   ]
  },
  {
   "cell_type": "code",
   "execution_count": 62,
   "id": "b08b384a-d854-4e3a-9989-b5202bb73866",
   "metadata": {},
   "outputs": [
    {
     "name": "stdout",
     "output_type": "stream",
     "text": [
      ">>Other Types of JOIN<<\n"
     ]
    }
   ],
   "source": [
    "print(\">>Other Types of JOIN<<\")"
   ]
  },
  {
   "cell_type": "code",
   "execution_count": 2,
   "id": "56e35b44-18a2-4ca2-aee9-6e25b26cea93",
   "metadata": {},
   "outputs": [
    {
     "name": "stdout",
     "output_type": "stream",
     "text": [
      ">>Other Types of JOIN<< أنواع أخرى من JOIN\n"
     ]
    }
   ],
   "source": [
    "print(\">>Other Types of JOIN<<\",\"أنواع أخرى من JOIN\")"
   ]
  },
  {
   "cell_type": "code",
   "execution_count": 3,
   "id": "99fad3fc-b778-4f76-b7a7-d7da67d4d564",
   "metadata": {},
   "outputs": [
    {
     "name": "stdout",
     "output_type": "stream",
     "text": [
      "Creating a View إنشاء عرض\n"
     ]
    }
   ],
   "source": [
    "print(\"Creating a View\",\"إنشاء عرض\")"
   ]
  },
  {
   "cell_type": "code",
   "execution_count": 5,
   "id": "7895f414-93ce-44a0-8f05-e3eb69de6c60",
   "metadata": {},
   "outputs": [
    {
     "name": "stdout",
     "output_type": "stream",
     "text": [
      ">>Querying a View<< استعلام عن عرض<<\n"
     ]
    }
   ],
   "source": [
    "print(\">>Querying a View<<\",\"استعلام عن عرض<<\")"
   ]
  },
  {
   "cell_type": "code",
   "execution_count": 6,
   "id": "a0b4ce5c-2475-4671-9885-1a12f878fe68",
   "metadata": {},
   "outputs": [
    {
     "name": "stdout",
     "output_type": "stream",
     "text": [
      ">>Creating Dynamic Results Using Subqueries<< إنشاء نتائج ديناميكية باستخدام الاستعلامات الفرعية\n"
     ]
    }
   ],
   "source": [
    "print(\">>Creating Dynamic Results Using Subqueries<<\",\"إنشاء نتائج ديناميكية باستخدام الاستعلامات الفرعية\")"
   ]
  },
  {
   "cell_type": "code",
   "execution_count": 8,
   "id": "bb888eca-dc90-4d57-ae21-e9fb36825111",
   "metadata": {},
   "outputs": [
    {
     "name": "stdout",
     "output_type": "stream",
     "text": [
      ">>Writing Subqueries in SQL<< >>كتابة الاستعلامات الفرعية في SQL<<\n"
     ]
    }
   ],
   "source": [
    "print(\">>Writing Subqueries in SQL<<\",\">>كتابة الاستعلامات الفرعية في SQL<<\")"
   ]
  },
  {
   "cell_type": "code",
   "execution_count": 9,
   "id": "0ca400a8-e641-4781-9f83-e78db4e842dc",
   "metadata": {},
   "outputs": [
    {
     "name": "stdout",
     "output_type": "stream",
     "text": [
      ">>Exercise 4a<< التمرين 4أ\n"
     ]
    }
   ],
   "source": [
    "print(\">>Exercise 4a<<\",\"التمرين 4أ\")"
   ]
  },
  {
   "cell_type": "code",
   "execution_count": 10,
   "id": "25f2ee1d-a645-49a8-9e1b-aa8785830c90",
   "metadata": {},
   "outputs": [
    {
     "name": "stdout",
     "output_type": "stream",
     "text": [
      ">>SQL Fundamentals:Student Exercise 4a<<\n"
     ]
    }
   ],
   "source": [
    "print(\">>SQL Fundamentals:Student Exercise 4a<<\")"
   ]
  },
  {
   "cell_type": "code",
   "execution_count": 11,
   "id": "8df2e770-0eec-4641-8014-dbfc07db4fdf",
   "metadata": {},
   "outputs": [
    {
     "name": "stdout",
     "output_type": "stream",
     "text": [
      ">>أساسيات SQL: تمرين الطالب 4أ<<\n"
     ]
    }
   ],
   "source": [
    "print(\">>أساسيات SQL: تمرين الطالب 4أ<<\")"
   ]
  },
  {
   "cell_type": "code",
   "execution_count": 13,
   "id": "5061a82c-4131-4b10-a29a-4a24b40e51d4",
   "metadata": {},
   "outputs": [
    {
     "name": "stdout",
     "output_type": "stream",
     "text": [
      ">>Subqueries (SQL Server)<< >>الاستعلامات الفرعية (SQL Server)<<\n"
     ]
    }
   ],
   "source": [
    "print(\">>Subqueries (SQL Server)<<\",\">>الاستعلامات الفرعية (SQL Server)<<\")"
   ]
  },
  {
   "cell_type": "code",
   "execution_count": 15,
   "id": "ec284a68-d305-4381-a62b-00fceababb93",
   "metadata": {},
   "outputs": [
    {
     "name": "stdout",
     "output_type": "stream",
     "text": [
      ">>Exercise 4b<< التمرين 4ب\n"
     ]
    }
   ],
   "source": [
    "print(\">>Exercise 4b<<\",\"التمرين 4ب\")"
   ]
  },
  {
   "cell_type": "code",
   "execution_count": 17,
   "id": "495b6833-5608-4f19-b507-91beef63999e",
   "metadata": {},
   "outputs": [
    {
     "name": "stdout",
     "output_type": "stream",
     "text": [
      ">>Exercise 4b Review<<\n"
     ]
    }
   ],
   "source": [
    "print(\">>Exercise 4b Review<<\")"
   ]
  },
  {
   "cell_type": "code",
   "execution_count": 18,
   "id": "6b1981ef-35ca-43a7-a001-8877500cca2c",
   "metadata": {},
   "outputs": [
    {
     "name": "stdout",
     "output_type": "stream",
     "text": [
      ">>Advanced Functions and Queries<< الوظائف والاستعلامات المتقدمة\n"
     ]
    }
   ],
   "source": [
    "print(\">>Advanced Functions and Queries<<\",\"الوظائف والاستعلامات المتقدمة\")"
   ]
  },
  {
   "cell_type": "code",
   "execution_count": 19,
   "id": "d812d00b-777f-4567-aa53-e79ed18bfcb0",
   "metadata": {},
   "outputs": [
    {
     "name": "stdout",
     "output_type": "stream",
     "text": [
      "Blocks of reusable code that usually perform a single, related action.\n"
     ]
    }
   ],
   "source": [
    "print(\"Blocks of reusable code that usually perform a single, related action.\")"
   ]
  },
  {
   "cell_type": "code",
   "execution_count": 20,
   "id": "087d9308-8b55-4283-9446-4e6e6c50fd34",
   "metadata": {},
   "outputs": [
    {
     "name": "stdout",
     "output_type": "stream",
     "text": [
      "كتل من التعليمات البرمجية القابلة لإعادة الاستخدام والتي تقوم عادةً بتنفيذ إجراء واحد ذي صلة.\n"
     ]
    }
   ],
   "source": [
    "print(\"كتل من التعليمات البرمجية القابلة لإعادة الاستخدام والتي تقوم عادةً بتنفيذ إجراء واحد ذي صلة.\")"
   ]
  },
  {
   "cell_type": "code",
   "execution_count": 23,
   "id": "c031b5e3-8e77-40cb-8c80-8ce742129293",
   "metadata": {},
   "outputs": [
    {
     "name": "stdout",
     "output_type": "stream",
     "text": [
      ">>Re-usable code perform Action<< >>كود قابل لإعادة الاستخدام يؤدي الإجراء<<\n"
     ]
    }
   ],
   "source": [
    "print(\">>Re-usable code perform Action<<\",\">>كود قابل لإعادة الاستخدام يؤدي الإجراء<<\")"
   ]
  },
  {
   "cell_type": "code",
   "execution_count": 25,
   "id": "5c433c1c-ae44-4389-8332-7b714a694582",
   "metadata": {},
   "outputs": [
    {
     "name": "stdout",
     "output_type": "stream",
     "text": [
      "SQL For Reporting SQL لإعداد التقارير\n"
     ]
    }
   ],
   "source": [
    "print(\"SQL For Reporting\",\"SQL لإعداد التقارير\")"
   ]
  },
  {
   "cell_type": "code",
   "execution_count": 27,
   "id": "6dc61069-33ec-4c83-8f86-ab1929d84d10",
   "metadata": {},
   "outputs": [
    {
     "name": "stdout",
     "output_type": "stream",
     "text": [
      ">>Connecting to SQL Server from Excel<< الاتصال بـ SQL Server من Excel\n"
     ]
    }
   ],
   "source": [
    "print(\">>Connecting to SQL Server from Excel<<\",\"الاتصال بـ SQL Server من Excel\")"
   ]
  },
  {
   "cell_type": "code",
   "execution_count": 29,
   "id": "e5c3cfcd-61b6-402d-8af6-6a25893733ac",
   "metadata": {},
   "outputs": [
    {
     "name": "stdout",
     "output_type": "stream",
     "text": [
      ">>Connecting to SQL Server from Excel<< >>الاتصال بـ SQL Server من Excel<<\n"
     ]
    }
   ],
   "source": [
    "print(\">>Connecting to SQL Server from Excel<<\",\">>الاتصال بـ SQL Server من Excel<<\")"
   ]
  },
  {
   "cell_type": "code",
   "execution_count": 30,
   "id": "1fa2f313-02be-40a9-a057-8105431f4c68",
   "metadata": {},
   "outputs": [
    {
     "name": "stdout",
     "output_type": "stream",
     "text": [
      "Connect SQL Server from Excel and retrieve data\n"
     ]
    }
   ],
   "source": [
    "print(\"Connect SQL Server from Excel and retrieve data\")"
   ]
  },
  {
   "cell_type": "code",
   "execution_count": 31,
   "id": "994112cc-89f5-4c44-be13-10aa64da11aa",
   "metadata": {},
   "outputs": [
    {
     "name": "stdout",
     "output_type": "stream",
     "text": [
      ">>ربط SQL Server من Excel واسترداد البيانات<<\n"
     ]
    }
   ],
   "source": [
    "print(\">>ربط SQL Server من Excel واسترداد البيانات<<\")"
   ]
  },
  {
   "cell_type": "code",
   "execution_count": 33,
   "id": "a03848e2-d3d3-4de3-a7db-9dcd3db32ce2",
   "metadata": {},
   "outputs": [
    {
     "name": "stdout",
     "output_type": "stream",
     "text": [
      ">>{Connecting to SQL Server from Power BI}<< الاتصال بـ SQL Server من Power BI\n"
     ]
    }
   ],
   "source": [
    "print(\">>{Connecting to SQL Server from Power BI}<<\",\"الاتصال بـ SQL Server من Power BI\")"
   ]
  },
  {
   "cell_type": "code",
   "execution_count": 34,
   "id": "2a65c454-abcc-4175-a8f6-93668ac9c05b",
   "metadata": {},
   "outputs": [
    {
     "name": "stdout",
     "output_type": "stream",
     "text": [
      ">>Connect to on-premises data in SQL Server - Power BI<<\n"
     ]
    }
   ],
   "source": [
    "print(\">>Connect to on-premises data in SQL Server - Power BI<<\")"
   ]
  },
  {
   "cell_type": "code",
   "execution_count": 37,
   "id": "37123466-89ba-47e3-bee4-ef4f9842a587",
   "metadata": {},
   "outputs": [
    {
     "name": "stdout",
     "output_type": "stream",
     "text": [
      "Select Get data > SQL Server > Transform data or Load data\n"
     ]
    }
   ],
   "source": [
    "print(\"Select Get data > SQL Server > Transform data or Load data\")"
   ]
  },
  {
   "cell_type": "code",
   "execution_count": 39,
   "id": "801d17ce-f8df-4cce-a90f-bf14e883ca3a",
   "metadata": {},
   "outputs": [
    {
     "name": "stdout",
     "output_type": "stream",
     "text": [
      ">Connecting to SQL from Tableau< >الاتصال بـ SQL من Tableau<\n"
     ]
    }
   ],
   "source": [
    "print(\">Connecting to SQL from Tableau<\",\">الاتصال بـ SQL من Tableau<\")"
   ]
  },
  {
   "cell_type": "code",
   "execution_count": 40,
   "id": "7c194a29-80ca-43f2-9039-82eeae195f4b",
   "metadata": {},
   "outputs": [
    {
     "name": "stdout",
     "output_type": "stream",
     "text": [
      ">>Using CUBE to Return Subtotals and Totals<< استخدام CUBE لإرجاع المجاميع الفرعية والإجماليات\n"
     ]
    }
   ],
   "source": [
    "print(\">>Using CUBE to Return Subtotals and Totals<<\",\"استخدام CUBE لإرجاع المجاميع الفرعية والإجماليات\")"
   ]
  },
  {
   "cell_type": "code",
   "execution_count": 41,
   "id": "c8b579c7-aec8-4ec1-85de-db3d702a1a57",
   "metadata": {},
   "outputs": [
    {
     "name": "stdout",
     "output_type": "stream",
     "text": [
      "GROUP BY CUBE creates groups for all possible combinations of columns.\n"
     ]
    }
   ],
   "source": [
    "print(\"GROUP BY CUBE creates groups for all possible combinations of columns.\")"
   ]
  },
  {
   "cell_type": "code",
   "execution_count": 42,
   "id": "b075821a-10f7-4d1c-b47c-1dbd3bb10b17",
   "metadata": {},
   "outputs": [
    {
     "name": "stdout",
     "output_type": "stream",
     "text": [
      "يقوم GROUP BY CUBE بإنشاء مجموعات لجميع التركيبات الممكنة للأعمدة.\n"
     ]
    }
   ],
   "source": [
    "print(\"يقوم GROUP BY CUBE بإنشاء مجموعات لجميع التركيبات الممكنة للأعمدة.\")"
   ]
  },
  {
   "cell_type": "code",
   "execution_count": 43,
   "id": "d093c553-5c46-421f-9b99-fd1f29afd3c2",
   "metadata": {},
   "outputs": [
    {
     "name": "stdout",
     "output_type": "stream",
     "text": [
      "Using ROLLUP to Return Subtotals and Totals\n"
     ]
    }
   ],
   "source": [
    "print(\"Using ROLLUP to Return Subtotals and Totals\")"
   ]
  },
  {
   "cell_type": "code",
   "execution_count": 44,
   "id": "c190aceb-ab3f-43fe-9ceb-59fe38b628e9",
   "metadata": {},
   "outputs": [
    {
     "name": "stdout",
     "output_type": "stream",
     "text": [
      "استخدام ROLLUP لإرجاع الإجماليات الفرعية والإجماليات\n"
     ]
    }
   ],
   "source": [
    "print(\"استخدام ROLLUP لإرجاع الإجماليات الفرعية والإجماليات\")"
   ]
  },
  {
   "cell_type": "code",
   "execution_count": 46,
   "id": "eb3ef9ee-4dd0-4963-9da4-7010091d0ec4",
   "metadata": {},
   "outputs": [
    {
     "name": "stdout",
     "output_type": "stream",
     "text": [
      ">>GROUP BY ROLLUP<< >>التجميع حسب التجميع<<\n"
     ]
    }
   ],
   "source": [
    "print(\">>GROUP BY ROLLUP<<\",\">>التجميع حسب التجميع<<\")"
   ]
  },
  {
   "cell_type": "code",
   "execution_count": 47,
   "id": "3f0d7f22-ccee-47db-9720-84821e296c80",
   "metadata": {},
   "outputs": [
    {
     "name": "stdout",
     "output_type": "stream",
     "text": [
      ">>SELECT - GROUP BY- Transact-SQL<<\n"
     ]
    }
   ],
   "source": [
    "print(\">>SELECT - GROUP BY- Transact-SQL<<\")"
   ]
  },
  {
   "cell_type": "code",
   "execution_count": 48,
   "id": "a1749159-26f8-43c2-9787-862d67bc0c72",
   "metadata": {},
   "outputs": [
    {
     "name": "stdout",
     "output_type": "stream",
     "text": [
      "GROUP BY ROLLUP  Creates a group for each combination of column expressions.\n"
     ]
    }
   ],
   "source": [
    "print(\"GROUP BY ROLLUP\",\" Creates a group for each combination of column expressions.\")"
   ]
  },
  {
   "cell_type": "code",
   "execution_count": 49,
   "id": "f24e8022-797a-4a44-acfa-d9b1fc8fc47f",
   "metadata": {},
   "outputs": [
    {
     "name": "stdout",
     "output_type": "stream",
     "text": [
      "إنشاء مجموعة لكل مجموعة من تعبيرات الأعمدة.\n"
     ]
    }
   ],
   "source": [
    "print(\"إنشاء مجموعة لكل مجموعة من تعبيرات الأعمدة.\")"
   ]
  },
  {
   "cell_type": "code",
   "execution_count": 51,
   "id": "7393ca4f-91d8-4407-8b95-1f4d29cd81ec",
   "metadata": {},
   "outputs": [
    {
     "name": "stdout",
     "output_type": "stream",
     "text": [
      ">>Common Scenario Percent of total<< >>نسبة السيناريو المشترك من الإجمالي<<\n"
     ]
    }
   ],
   "source": [
    "print(\">>Common Scenario Percent of total<<\",\">>نسبة السيناريو المشترك من الإجمالي<<\")"
   ]
  },
  {
   "cell_type": "code",
   "execution_count": 53,
   "id": "aa43cc84-00cc-4fe2-b031-104d8774ba8e",
   "metadata": {},
   "outputs": [
    {
     "name": "stdout",
     "output_type": "stream",
     "text": [
      "Finance Schema مخطط التمويل\n"
     ]
    }
   ],
   "source": [
    "print(\"Finance Schema\",\"مخطط التمويل\")"
   ]
  },
  {
   "cell_type": "code",
   "execution_count": 54,
   "id": "42b106e7-90f3-415c-9687-5fa8c943b9ee",
   "metadata": {},
   "outputs": [
    {
     "name": "stdout",
     "output_type": "stream",
     "text": [
      ">>SQL Fundamentals for Data Analysts>>Module 6>>Introducing the Finance Schema<<\n"
     ]
    }
   ],
   "source": [
    "print(\">>SQL Fundamentals for Data Analysts>>Module 6>>Introducing the Finance Schema<<\")"
   ]
  },
  {
   "cell_type": "code",
   "execution_count": 55,
   "id": "78a608ea-159d-45e1-be35-c109a7e23dc9",
   "metadata": {},
   "outputs": [
    {
     "name": "stdout",
     "output_type": "stream",
     "text": [
      ">>Introducing the Finance Schema مقدمة عن مخطط التمويل<<\n"
     ]
    }
   ],
   "source": [
    "print(\">>Introducing the Finance Schema\",\"مقدمة عن مخطط التمويل<<\")"
   ]
  },
  {
   "cell_type": "code",
   "execution_count": 56,
   "id": "8e7ff8cd-4df9-41c8-8672-bf3d6f0f8540",
   "metadata": {},
   "outputs": [
    {
     "name": "stdout",
     "output_type": "stream",
     "text": [
      ">>Exercise 5a<< التمرين 5أ\n"
     ]
    }
   ],
   "source": [
    "print(\">>Exercise 5a<<\",\"التمرين 5أ\")"
   ]
  },
  {
   "cell_type": "code",
   "execution_count": 57,
   "id": "893d1e80-2f9d-4795-a1b3-cbe59b8db50e",
   "metadata": {},
   "outputs": [
    {
     "name": "stdout",
     "output_type": "stream",
     "text": [
      ">>Exercise 5b<< التمرين 5ب\n"
     ]
    }
   ],
   "source": [
    "print(\">>Exercise 5b<<\",\"التمرين 5ب\")"
   ]
  },
  {
   "cell_type": "code",
   "execution_count": 59,
   "id": "13e52c1e-f4b8-4ce1-8584-e8be58ebd048",
   "metadata": {},
   "outputs": [
    {
     "name": "stdout",
     "output_type": "stream",
     "text": [
      "SQL Fundamentals for Data Analysts>>Module 7>>Final Assessment التقييم النهائي\n"
     ]
    }
   ],
   "source": [
    "print(\"SQL Fundamentals for Data Analysts>>Module 7>>Final Assessment\",\"التقييم النهائي\")"
   ]
  },
  {
   "cell_type": "code",
   "execution_count": 61,
   "id": "8644205e-d615-4e8d-a95e-84aed9906a92",
   "metadata": {},
   "outputs": [
    {
     "name": "stdout",
     "output_type": "stream",
     "text": [
      "SQL Fundamentals for Data Analysts>>Corporate Finance Institute معهد التمويل المؤسسي\n"
     ]
    }
   ],
   "source": [
    "print(\"SQL Fundamentals for Data Analysts>>Corporate Finance Institute\",\"معهد التمويل المؤسسي\")"
   ]
  },
  {
   "cell_type": "code",
   "execution_count": 62,
   "id": "b313db7f-2941-424c-9e0d-bf0994764d6e",
   "metadata": {},
   "outputs": [
    {
     "name": "stdout",
     "output_type": "stream",
     "text": [
      ">>Azure Data Studio Data analytics tool<<\n"
     ]
    }
   ],
   "source": [
    "print(\">>Azure Data Studio\",\"Data analytics tool<<\")"
   ]
  },
  {
   "cell_type": "code",
   "execution_count": 64,
   "id": "f85a6b36-89cc-4e2e-8899-658d3a141ede",
   "metadata": {},
   "outputs": [
    {
     "name": "stdout",
     "output_type": "stream",
     "text": [
      "SQL Fundamentals for Data Analysts أساسيات SQL لمحللي البيانات\n"
     ]
    }
   ],
   "source": [
    "print(\"SQL Fundamentals for Data Analysts\",\"أساسيات SQL لمحللي البيانات\")"
   ]
  },
  {
   "cell_type": "code",
   "execution_count": 65,
   "id": "e0106b74-9460-4e67-9f86-cf4f91b5207a",
   "metadata": {},
   "outputs": [
    {
     "name": "stdout",
     "output_type": "stream",
     "text": [
      "//////////////////////////////\\\\\\\\\\\\\\\\\\\\\\\\\\\n"
     ]
    }
   ],
   "source": [
    "print(\"//////////////////////////////\\\\\\\\\\\\\\\\\\\\\\\\\\\\\\\\\\\\\\\\\\\\\\\\\\\\\")"
   ]
  },
  {
   "cell_type": "code",
   "execution_count": 66,
   "id": "208d3b63-54c7-4ff1-a02c-a1d7c6057b21",
   "metadata": {},
   "outputs": [
    {
     "name": "stdout",
     "output_type": "stream",
     "text": [
      "Screenshot final review المراجعة النهائية للشاشة\n"
     ]
    }
   ],
   "source": [
    "print(\"Screenshot final review\",\"المراجعة النهائية للشاشة\")"
   ]
  },
  {
   "cell_type": "code",
   "execution_count": 76,
   "id": "452a08a3-1fc8-48fe-a111-f125e17a73b5",
   "metadata": {},
   "outputs": [
    {
     "name": "stdout",
     "output_type": "stream",
     "text": [
      " \n",
      "1)Select From Where.\n",
      "2)Select From Where.\n",
      "3)Using Group By to Combine Rows.\n",
      "4)Aggregate functions{وظائف التجميع}.\n",
      "5)\n",
      "Select\n",
      "SalesOrderNumber AS InvoiceNumber,\n",
      "OrderDate,\n",
      "SUM(SalesAmount) AS InvoiceSubTotal,\n",
      "SUM(TaxAmt) AS TaxAmount,\n",
      "SUM(OrderQuantity) AS TotalQuantity\n",
      "FROM FactInternetSales\n",
      "Where SalesOrderNumber = 'S051182'\n",
      "Group By SalesOrderNumber, OrderDate;\n",
      "6)Using Having to Filter Grouped Rows.\n",
      "استخدام <Having> لتصفية الصفوف المجمعة.\n",
      "7){Select From Where Group By Having}.\n",
      "8)SQL Order of Operations.\n",
      ">>From>>Where>>Group By>>Having>>Select>>Order By.\n",
      "9)FWGHSO.\n",
      "10){Select From Where Group By Having Order by DESC}.\n",
      "11)Select From Where Group By Having Order By ASC.\n",
      "12)Select TOP(10) From Where Group By Having Order By DESC.\n",
      "13)Select (Columns) \n",
      "From (Table) \n",
      "Where (Condition)\n",
      "Group By (Coumns)\n",
      "Having Aggregate Column\n",
      "Order By (Columns) DESC\n",
      "OFFSET BY 2 ROWS FETCH NEXT 10 Rows ONLY.\n",
      "14)So, you'll get rows 3 to 12 in the sorted list.\n",
      "15)OFFSET 2 Rows FETCH NEXT 10 ROWS ONLY.\n",
      ">>OFFSET 2 ROWS:- \n",
      "Skips the first 2 rows.\n",
      ">>FETCH NEXT 10 ROWS ONLY:- \n",
      "Gets the next 10 rows after skipping the first 2.\n",
      "16)SELECT FROM ORDER BY OFFSET 2 ROWS \n",
      "FETCH NEXT 10 ROWS ONLY;\n",
      "17)Select Distinct CustomerKey \n",
      "From FactInternetSales\n",
      "Order By CustomerKey\n",
      "18)Select From Order By.\n",
      "19)Select\n",
      "SalesOrderNumber AS InvoiceNumber,\n",
      "SUM(TotalProductCost) AS TotalProductCost\n",
      "From FactInternetSales\n",
      "Group By SalesOrderNumber\n",
      "Having SUM(TotalProductCost) > 2000\n",
      "Order By TotalProductCost DESC;\n",
      "20)Select\n",
      "SalesOrderNumber AS InvoiceNumber,\n",
      "SalesOrderLineNumber AS InvoiceLineNumber,\n",
      "SalesAmount AS SalesAmount\n",
      "FROM FactInternetSales\n",
      "Where CurrencyKey = 100;\n",
      "21)Select Distinct SalesTerritoryKey AS SalesTerritory\n",
      "From FactInternetSales\n",
      "Order By SalesTerritory ASC;\n",
      "22)Skills:-\n",
      "1.Data Types.\n",
      "2.Functions.\n",
      "3.Comparison Operators.\n",
      "4.Logical Operators.\n",
      "5.Logical Functions.\n",
      "6.Data Type Conversion.\n",
      "23)Group By.\n",
      "24)Aggregate-functions{SUM,AVG,COUNT,MAX,MIN};\n",
      "25)Select Top(10) From Where Group By Having Order By Desc;\n",
      "26)Select \n",
      "COUNT(*) AS TotalCustomers\n",
      "From DimCustomer;\n",
      "27)Select \n",
      "COUNT(*) AS TotalCustomers,\n",
      "AVG(YearlyIncome) AS AverageIncome\n",
      "FROM DimCustomer\n",
      "28)Select Count(MiddleName) \n",
      "AS MiddleNameCount From DimCustomer;\n",
      "29)Data Types:-\n",
      ">>Numberic>>Date & Time>>String>>Other.\n",
      "30)Numeric Data Types>>{Int,Float,...};\n",
      "31){Numeric-Functions}.\n",
      "32)Numberic Functions:-\n",
      "1.ROUND>>Select Round(2.36,1)>>2.4\n",
      "2.ABS>>Select ABS(-353)>>353\n",
      "3.CEILING>>Select  Ceiling(5.75)>>6\n",
      "4.FLOOR>>Select FLOOR(5.75)>>5\n",
      "33)ROUND(SUM(SalesAmount),1) AS InvoiceSubTotalRounded.\n",
      "34)Select Top(10) From Where Group By Having Order By DESC;\n",
      "35)Select From Where;\n",
      "36)Date and Time Data Types{Date,Time,Datetime};\n",
      "37)Datepart Values.\n",
      "38){Year,quarter,month,day,dayofyear,week,weekday,hour}.\n",
      "39)Date and Time Functions.\n",
      "GetDate().\n",
      "DateName().\n",
      "Month().\n",
      "Year().\n",
      "DatedIFF().\n",
      "DateADD().\n",
      "40)Select GETDATE() AS DateTimeSTamp;\n",
      "41)Select\n",
      "GetDate() AS DateTimeStamp,\n",
      "DueDate,\n",
      "ShipDate,\n",
      "DATEDIFF(day,ShipDate,DueDate),\n",
      "DATEDIFF(hour,ShipDate,DueDate)\n",
      "From FactInternetSales;\n",
      "42)Select MONTH('20201011') AS MonthNumerical;\n",
      "43)Select DATENAME(month,'02/12/2020' AS MonthName\n",
      "44)CONVERT()>>DataType;\n",
      "45)String or Text Data Types.\n",
      "46)Text, String and Char;\n",
      "47)Char(n),varchar(n);\n",
      "48)nvarchar(20).\n",
      "49)Finance & Corporate Finance{التمويل والتمويل المؤسسي};\n",
      "50)String-Functions;\n",
      "CONCAT().\n",
      "LEFT().\n",
      "RIGHT().\n",
      "Replace().\n",
      "Upper().\n",
      "Lower().\n",
      "Len().\n",
      "-----------------------\n",
      "51)Select From Where;\n",
      "52)Select (Columns) From (Tables) \n",
      "Where (Column) IS NOT NULL;\n",
      "53)\n",
      "\n"
     ]
    }
   ],
   "source": [
    "print(\"\"\" \n",
    "1)Select From Where.\n",
    "2)Select From Where.\n",
    "3)Using Group By to Combine Rows.\n",
    "4)Aggregate functions{وظائف التجميع}.\n",
    "5)\n",
    "Select\n",
    "SalesOrderNumber AS InvoiceNumber,\n",
    "OrderDate,\n",
    "SUM(SalesAmount) AS InvoiceSubTotal,\n",
    "SUM(TaxAmt) AS TaxAmount,\n",
    "SUM(OrderQuantity) AS TotalQuantity\n",
    "FROM FactInternetSales\n",
    "Where SalesOrderNumber = 'S051182'\n",
    "Group By SalesOrderNumber, OrderDate;\n",
    "6)Using Having to Filter Grouped Rows.\n",
    "استخدام <Having> لتصفية الصفوف المجمعة.\n",
    "7){Select From Where Group By Having}.\n",
    "8)SQL Order of Operations.\n",
    ">>From>>Where>>Group By>>Having>>Select>>Order By.\n",
    "9)FWGHSO.\n",
    "10){Select From Where Group By Having Order by DESC}.\n",
    "11)Select From Where Group By Having Order By ASC.\n",
    "12)Select TOP(10) From Where Group By Having Order By DESC.\n",
    "13)Select (Columns) \n",
    "From (Table) \n",
    "Where (Condition)\n",
    "Group By (Coumns)\n",
    "Having Aggregate Column\n",
    "Order By (Columns) DESC\n",
    "OFFSET BY 2 ROWS FETCH NEXT 10 Rows ONLY.\n",
    "14)So, you'll get rows 3 to 12 in the sorted list.\n",
    "15)OFFSET 2 Rows FETCH NEXT 10 ROWS ONLY.\n",
    ">>OFFSET 2 ROWS:- \n",
    "Skips the first 2 rows.\n",
    ">>FETCH NEXT 10 ROWS ONLY:- \n",
    "Gets the next 10 rows after skipping the first 2.\n",
    "16)SELECT FROM ORDER BY OFFSET 2 ROWS \n",
    "FETCH NEXT 10 ROWS ONLY;\n",
    "17)Select Distinct CustomerKey \n",
    "From FactInternetSales\n",
    "Order By CustomerKey\n",
    "18)Select From Order By.\n",
    "19)Select\n",
    "SalesOrderNumber AS InvoiceNumber,\n",
    "SUM(TotalProductCost) AS TotalProductCost\n",
    "From FactInternetSales\n",
    "Group By SalesOrderNumber\n",
    "Having SUM(TotalProductCost) > 2000\n",
    "Order By TotalProductCost DESC;\n",
    "20)Select\n",
    "SalesOrderNumber AS InvoiceNumber,\n",
    "SalesOrderLineNumber AS InvoiceLineNumber,\n",
    "SalesAmount AS SalesAmount\n",
    "FROM FactInternetSales\n",
    "Where CurrencyKey = 100;\n",
    "21)Select Distinct SalesTerritoryKey AS SalesTerritory\n",
    "From FactInternetSales\n",
    "Order By SalesTerritory ASC;\n",
    "22)Skills:-\n",
    "1.Data Types.\n",
    "2.Functions.\n",
    "3.Comparison Operators.\n",
    "4.Logical Operators.\n",
    "5.Logical Functions.\n",
    "6.Data Type Conversion.\n",
    "23)Group By.\n",
    "24)Aggregate-functions{SUM,AVG,COUNT,MAX,MIN};\n",
    "25)Select Top(10) From Where Group By Having Order By Desc;\n",
    "26)Select \n",
    "COUNT(*) AS TotalCustomers\n",
    "From DimCustomer;\n",
    "27)Select \n",
    "COUNT(*) AS TotalCustomers,\n",
    "AVG(YearlyIncome) AS AverageIncome\n",
    "FROM DimCustomer\n",
    "28)Select Count(MiddleName) \n",
    "AS MiddleNameCount From DimCustomer;\n",
    "29)Data Types:-\n",
    ">>Numberic>>Date & Time>>String>>Other.\n",
    "30)Numeric Data Types>>{Int,Float,...};\n",
    "31){Numeric-Functions}.\n",
    "32)Numberic Functions:-\n",
    "1.ROUND>>Select Round(2.36,1)>>2.4\n",
    "2.ABS>>Select ABS(-353)>>353\n",
    "3.CEILING>>Select  Ceiling(5.75)>>6\n",
    "4.FLOOR>>Select FLOOR(5.75)>>5\n",
    "33)ROUND(SUM(SalesAmount),1) AS InvoiceSubTotalRounded.\n",
    "34)Select Top(10) From Where Group By Having Order By DESC;\n",
    "35)Select From Where;\n",
    "36)Date and Time Data Types{Date,Time,Datetime};\n",
    "37)Datepart Values.\n",
    "38){Year,quarter,month,day,dayofyear,week,weekday,hour}.\n",
    "39)Date and Time Functions.\n",
    "GetDate().\n",
    "DateName().\n",
    "Month().\n",
    "Year().\n",
    "DatedIFF().\n",
    "DateADD().\n",
    "40)Select GETDATE() AS DateTimeSTamp;\n",
    "41)Select\n",
    "GetDate() AS DateTimeStamp,\n",
    "DueDate,\n",
    "ShipDate,\n",
    "DATEDIFF(day,ShipDate,DueDate),\n",
    "DATEDIFF(hour,ShipDate,DueDate)\n",
    "From FactInternetSales;\n",
    "42)Select MONTH('20201011') AS MonthNumerical;\n",
    "43)Select DATENAME(month,'02/12/2020' AS MonthName\n",
    "44)CONVERT()>>DataType;\n",
    "45)String or Text Data Types.\n",
    "46)Text, String and Char;\n",
    "47)Char(n),varchar(n);\n",
    "48)nvarchar(20).\n",
    "49)Finance & Corporate Finance{التمويل والتمويل المؤسسي};\n",
    "50)String-Functions;\n",
    "CONCAT().\n",
    "LEFT().\n",
    "RIGHT().\n",
    "Replace().\n",
    "Upper().\n",
    "Lower().\n",
    "Len().\n",
    "-----------------------\n",
    "51)Select From Where;\n",
    "52)Select (Columns) From (Tables) \n",
    "Where (Column) IS NOT NULL;\n",
    "53)\n",
    "\"\"\")"
   ]
  },
  {
   "cell_type": "code",
   "execution_count": 1,
   "id": "80060bd3-798d-478e-963b-8ee1189c1e66",
   "metadata": {},
   "outputs": [
    {
     "name": "stdout",
     "output_type": "stream",
     "text": [
      "Select * From DimProduct Where Class <> 'H' OR Class IS NULL;\n"
     ]
    }
   ],
   "source": [
    "print(\"Select * From DimProduct Where Class <> 'H' OR Class IS NULL;\")"
   ]
  },
  {
   "cell_type": "code",
   "execution_count": 2,
   "id": "b33c4ead-9586-4aa3-99f6-a497992d876e",
   "metadata": {},
   "outputs": [
    {
     "name": "stdout",
     "output_type": "stream",
     "text": [
      "<>\tNot equal to\n"
     ]
    }
   ],
   "source": [
    "print(\"<>\tNot equal to\")"
   ]
  },
  {
   "cell_type": "code",
   "execution_count": 3,
   "id": "c1f95666-f292-42c1-8421-5d8af0e35415",
   "metadata": {},
   "outputs": [
    {
     "name": "stdout",
     "output_type": "stream",
     "text": [
      "Where Class IS Not NULL\n"
     ]
    }
   ],
   "source": [
    "print(\"Where Class IS Not NULL\")"
   ]
  },
  {
   "cell_type": "code",
   "execution_count": 4,
   "id": "518b939e-0a12-4717-b4cc-04a6d132e883",
   "metadata": {},
   "outputs": [
    {
     "name": "stdout",
     "output_type": "stream",
     "text": [
      "Where Class <> 'H' OR Class IS NULL\n"
     ]
    }
   ],
   "source": [
    "print(\"Where Class <> 'H' OR Class IS NULL\")"
   ]
  },
  {
   "cell_type": "code",
   "execution_count": 5,
   "id": "9aad9c4d-1a5e-4ee7-a4ef-1cfad9e314b3",
   "metadata": {},
   "outputs": [
    {
     "name": "stdout",
     "output_type": "stream",
     "text": [
      "Logical Operators\n",
      "OR AND NOT\n"
     ]
    }
   ],
   "source": [
    "print(\"Logical Operators\")\n",
    "print(\"OR AND NOT\")"
   ]
  },
  {
   "cell_type": "code",
   "execution_count": 6,
   "id": "11e16e2b-d694-4bd4-b670-3eda5b78f928",
   "metadata": {},
   "outputs": [
    {
     "name": "stdout",
     "output_type": "stream",
     "text": [
      "Class <> 'H' OR Class IS NULL\n"
     ]
    }
   ],
   "source": [
    "print(\"Class <> 'H' OR Class IS NULL\")"
   ]
  },
  {
   "cell_type": "code",
   "execution_count": 7,
   "id": "c1b9fb5a-aa36-480b-97ed-f0357375b294",
   "metadata": {},
   "outputs": [
    {
     "name": "stdout",
     "output_type": "stream",
     "text": [
      "Size = 'XL' AND Color = 'Black'\n"
     ]
    }
   ],
   "source": [
    "print(\"Size = 'XL' AND Color = 'Black'\")"
   ]
  },
  {
   "cell_type": "code",
   "execution_count": 8,
   "id": "814ebf0f-d592-4751-a367-e042288f6a86",
   "metadata": {},
   "outputs": [
    {
     "name": "stdout",
     "output_type": "stream",
     "text": [
      "NOT(Color = 'Black')\n"
     ]
    }
   ],
   "source": [
    "print(\"NOT(Color = 'Black')\")"
   ]
  },
  {
   "cell_type": "code",
   "execution_count": 9,
   "id": "69be0e4b-4d2e-436b-9099-7f664192821e",
   "metadata": {},
   "outputs": [
    {
     "name": "stdout",
     "output_type": "stream",
     "text": [
      "Where Class <> 'H' OR Class IS NULL AND [Status] IS NOT NULL\n"
     ]
    }
   ],
   "source": [
    "print(\"Where Class <> 'H' OR Class IS NULL AND [Status] IS NOT NULL\")"
   ]
  },
  {
   "cell_type": "code",
   "execution_count": 10,
   "id": "acad2022-fe50-46a2-ad3a-1f003ee5a623",
   "metadata": {},
   "outputs": [
    {
     "name": "stdout",
     "output_type": "stream",
     "text": [
      "Where (Class <> 'H' OR Class IS NULL) AND [Status] IS NOT NULL\n"
     ]
    }
   ],
   "source": [
    "print(\"Where (Class <> 'H' OR Class IS NULL) AND [Status] IS NOT NULL\")"
   ]
  },
  {
   "cell_type": "code",
   "execution_count": 11,
   "id": "a6c8e028-64b5-4f24-aa82-56d3c579b0c1",
   "metadata": {},
   "outputs": [
    {
     "name": "stdout",
     "output_type": "stream",
     "text": [
      "Advanced Logical Operators - Simplifying Code\n"
     ]
    }
   ],
   "source": [
    "print(\"Advanced Logical Operators - Simplifying Code\")"
   ]
  },
  {
   "cell_type": "code",
   "execution_count": 12,
   "id": "0d2fd777-9f4f-4c81-9842-9bae32540539",
   "metadata": {},
   "outputs": [
    {
     "name": "stdout",
     "output_type": "stream",
     "text": [
      "IN BETWEEN\n"
     ]
    }
   ],
   "source": [
    "print(\"IN\",\"BETWEEN\")"
   ]
  },
  {
   "cell_type": "code",
   "execution_count": 13,
   "id": "36d77d6b-e178-47e5-b229-733641166854",
   "metadata": {},
   "outputs": [
    {
     "name": "stdout",
     "output_type": "stream",
     "text": [
      "Color IN('Red','Blue','White')\n"
     ]
    }
   ],
   "source": [
    "print(\"Color IN('Red','Blue','White')\")"
   ]
  },
  {
   "cell_type": "code",
   "execution_count": 15,
   "id": "12441a6b-c7d0-4c5d-ae93-5d45c04b5d56",
   "metadata": {},
   "outputs": [
    {
     "name": "stdout",
     "output_type": "stream",
     "text": [
      ">>SalesAmount Between 500 AND 1000<<\n"
     ]
    }
   ],
   "source": [
    "print(\">>SalesAmount Between 500 AND 1000<<\")"
   ]
  },
  {
   "cell_type": "code",
   "execution_count": 16,
   "id": "de3ab791-3498-4190-9f81-5429522994c4",
   "metadata": {},
   "outputs": [
    {
     "name": "stdout",
     "output_type": "stream",
     "text": [
      "Where Color IN ('Black','Silver','White','Yellow')\n"
     ]
    }
   ],
   "source": [
    "print(\"Where Color IN ('Black','Silver','White','Yellow')\")"
   ]
  },
  {
   "cell_type": "code",
   "execution_count": 17,
   "id": "6581eec7-eea2-455d-a8d7-e38a0c00534b",
   "metadata": {},
   "outputs": [
    {
     "name": "stdout",
     "output_type": "stream",
     "text": [
      "Where SafetyStockLevel >= 500 AND SafetyStockLevel <= 1000.\n"
     ]
    }
   ],
   "source": [
    "print(\"Where SafetyStockLevel >= 500 AND SafetyStockLevel <= 1000.\")"
   ]
  },
  {
   "cell_type": "code",
   "execution_count": 18,
   "id": "7e077769-7edc-417c-ac0e-d9b7ee9cea53",
   "metadata": {},
   "outputs": [
    {
     "name": "stdout",
     "output_type": "stream",
     "text": [
      "مستوى مخزون السلامة\n"
     ]
    }
   ],
   "source": [
    "print(\"مستوى مخزون السلامة\")"
   ]
  },
  {
   "cell_type": "code",
   "execution_count": 19,
   "id": "9c3937c4-3c1c-46aa-815c-4864c5190af5",
   "metadata": {},
   "outputs": [
    {
     "name": "stdout",
     "output_type": "stream",
     "text": [
      "Advanced Logical Operators>>LIKE\n"
     ]
    }
   ],
   "source": [
    "print(\"Advanced Logical Operators>>LIKE\")"
   ]
  },
  {
   "cell_type": "code",
   "execution_count": 21,
   "id": "c0b0abe3-c5fb-4fa9-8e32-b69382968b94",
   "metadata": {},
   "outputs": [
    {
     "name": "stdout",
     "output_type": "stream",
     "text": [
      "{Where FirestName LIKE 'R%'}>>OUTPUT>>Ruben\n"
     ]
    }
   ],
   "source": [
    "print(\"{Where FirestName LIKE 'R%'}>>OUTPUT>>Ruben\")"
   ]
  },
  {
   "cell_type": "code",
   "execution_count": 22,
   "id": "93526c17-75c9-4be0-b59b-9c76cfc03f33",
   "metadata": {},
   "outputs": [
    {
     "name": "stdout",
     "output_type": "stream",
     "text": [
      "{Where FirstName LIKE 'R__'}\n"
     ]
    }
   ],
   "source": [
    "print(\"{Where FirstName LIKE 'R__'}\")"
   ]
  },
  {
   "cell_type": "code",
   "execution_count": 23,
   "id": "e976c3e3-08de-4f6c-b812-25c8eac6eab2",
   "metadata": {},
   "outputs": [
    {
     "name": "stdout",
     "output_type": "stream",
     "text": [
      "{Where FirstName LIKE '_R%'}>>AS>>Grace,Trevor,Crystal<<\n"
     ]
    }
   ],
   "source": [
    "print(\"{Where FirstName LIKE '_R%'}>>AS>>Grace,Trevor,Crystal<<\")"
   ]
  },
  {
   "cell_type": "code",
   "execution_count": 25,
   "id": "0444db1c-6b50-4211-b492-ef81df9ffd63",
   "metadata": {},
   "outputs": [
    {
     "name": "stdout",
     "output_type": "stream",
     "text": [
      "Select\n",
      "FirstName,\n",
      "LastName,\n",
      "YearlyIncome,\n",
      "EmailAddress,\n",
      "IFF(YearlyIncome > 50000,\n",
      "'Above Average','Below Average') AS IncomeCategory\n",
      "From DimCustomer;\n",
      "\n"
     ]
    }
   ],
   "source": [
    "print(\"\"\"Select\n",
    "FirstName,\n",
    "LastName,\n",
    "YearlyIncome,\n",
    "EmailAddress,\n",
    "IFF(YearlyIncome > 50000,\n",
    "'Above Average','Below Average') AS IncomeCategory\n",
    "From DimCustomer;\n",
    "\"\"\")"
   ]
  },
  {
   "cell_type": "code",
   "execution_count": 26,
   "id": "daa77fb0-fdcb-46e1-a4d6-842e580ffe87",
   "metadata": {},
   "outputs": [
    {
     "name": "stdout",
     "output_type": "stream",
     "text": [
      "CASE WHEN THEN ELSE END\n"
     ]
    }
   ],
   "source": [
    "print(\"CASE WHEN THEN ELSE END\")"
   ]
  },
  {
   "cell_type": "code",
   "execution_count": 27,
   "id": "70967a35-9dc7-4d4e-8504-18933af057f7",
   "metadata": {},
   "outputs": [
    {
     "name": "stdout",
     "output_type": "stream",
     "text": [
      " \n",
      "Select\n",
      "FirstName,\n",
      "LastName,\n",
      "YearlyIncome,\n",
      "EmailAddress,\n",
      "IIF(YearlyIncome > 50000,'Above Average','Below Average') AS IncomeCategory\n",
      "CASE\n",
      "WHEN NumberChildrenAtHome = 0 THEN '0'\n",
      "WHEN NumberChildrenAtHome = 1 THEN '1'\n",
      "WHEN NumberChildrenAtHome BETWEEN 2 AND 4 THEN '2-4'\n",
      "WHEN NumberChildrenAtHome >=5 THEN '5+'\n",
      "ELSE 'UNKN'\n",
      "END AS NumberChildrenCategory,\n",
      "NumberChildrenAtHome AS ActualChildren\n",
      "From DimCustomer;\n",
      "\n"
     ]
    }
   ],
   "source": [
    "print(\"\"\" \n",
    "Select\n",
    "FirstName,\n",
    "LastName,\n",
    "YearlyIncome,\n",
    "EmailAddress,\n",
    "IIF(YearlyIncome > 50000,'Above Average','Below Average') AS IncomeCategory\n",
    "CASE\n",
    "WHEN NumberChildrenAtHome = 0 THEN '0'\n",
    "WHEN NumberChildrenAtHome = 1 THEN '1'\n",
    "WHEN NumberChildrenAtHome BETWEEN 2 AND 4 THEN '2-4'\n",
    "WHEN NumberChildrenAtHome >=5 THEN '5+'\n",
    "ELSE 'UNKN'\n",
    "END AS NumberChildrenCategory,\n",
    "NumberChildrenAtHome AS ActualChildren\n",
    "From DimCustomer;\n",
    "\"\"\")"
   ]
  },
  {
   "cell_type": "code",
   "execution_count": 28,
   "id": "8150d0a9-6bc7-465b-ad44-66669a114213",
   "metadata": {},
   "outputs": [
    {
     "name": "stdout",
     "output_type": "stream",
     "text": [
      "Where IFF(YearlyIncome > 50000,'Above Average','Below Average') = 'Above Average';\n"
     ]
    }
   ],
   "source": [
    "print(\"Where IFF(YearlyIncome > 50000,'Above Average','Below Average') = 'Above Average';\")"
   ]
  },
  {
   "cell_type": "code",
   "execution_count": 29,
   "id": "eb1a7785-08dc-460c-a78e-734b74bdc035",
   "metadata": {},
   "outputs": [
    {
     "name": "stdout",
     "output_type": "stream",
     "text": [
      "IIF() & CASE WHEN THEN ELSE\n"
     ]
    }
   ],
   "source": [
    "print(\"IIF() & CASE WHEN THEN ELSE\")"
   ]
  },
  {
   "cell_type": "code",
   "execution_count": 30,
   "id": "9d87376d-ebca-4153-add2-dba493b69ef3",
   "metadata": {},
   "outputs": [
    {
     "name": "stdout",
     "output_type": "stream",
     "text": [
      "Select SalesAmount,OrderDate FROM FactInternetSales;\n"
     ]
    }
   ],
   "source": [
    "print(\"Select SalesAmount,OrderDate FROM FactInternetSales;\")"
   ]
  },
  {
   "cell_type": "code",
   "execution_count": 31,
   "id": "495c018a-b943-4008-b5df-c9cfd083ed19",
   "metadata": {},
   "outputs": [
    {
     "name": "stdout",
     "output_type": "stream",
     "text": [
      "SELECT\n",
      "SalesAmount,\n",
      "CAST(SalesAmount AS INT) AS SalesAmountCast,\n",
      "OrderDate,\n",
      "CAST(OrderDate AS DATE) AS OrderDateCast\n",
      "FROM FactInternetSales;\n",
      "\n"
     ]
    }
   ],
   "source": [
    "print(\"\"\"SELECT\n",
    "SalesAmount,\n",
    "CAST(SalesAmount AS INT) AS SalesAmountCast,\n",
    "OrderDate,\n",
    "CAST(OrderDate AS DATE) AS OrderDateCast\n",
    "FROM FactInternetSales;\n",
    "\"\"\")"
   ]
  },
  {
   "cell_type": "code",
   "execution_count": 32,
   "id": "320eac93-8c9a-4133-9e26-592e015a54a6",
   "metadata": {},
   "outputs": [
    {
     "name": "stdout",
     "output_type": "stream",
     "text": [
      "{CAST() DECIMAL(8,4)}\n"
     ]
    }
   ],
   "source": [
    "print(\"{CAST()\",\"DECIMAL(8,4)}\")"
   ]
  },
  {
   "cell_type": "code",
   "execution_count": 33,
   "id": "16cd05a6-420a-4b43-b520-9d20f1fb56b3",
   "metadata": {},
   "outputs": [
    {
     "name": "stdout",
     "output_type": "stream",
     "text": [
      "Where Color IN (N'Black',N'Silver',N'White',N'Yellow')\n"
     ]
    }
   ],
   "source": [
    "print(\"Where Color IN (N'Black',N'Silver',N'White',N'Yellow')\")"
   ]
  },
  {
   "cell_type": "code",
   "execution_count": 34,
   "id": "f9c68dc4-1541-44dd-9065-115d31d1cb46",
   "metadata": {},
   "outputs": [
    {
     "name": "stdout",
     "output_type": "stream",
     "text": [
      "Where DateName(month,OrderDate) = N'December' AND SalesTerritoryKey = 1;\n"
     ]
    }
   ],
   "source": [
    "print(\"Where DateName(month,OrderDate) = N'December' AND SalesTerritoryKey = 1;\")"
   ]
  },
  {
   "cell_type": "code",
   "execution_count": 35,
   "id": "60e0a3e8-d508-4ecd-8057-8128c1141a5e",
   "metadata": {},
   "outputs": [
    {
     "name": "stdout",
     "output_type": "stream",
     "text": [
      "Where HouseOwnerFlag = 1 AND NumberCarsOwned > 1;\n"
     ]
    }
   ],
   "source": [
    "print(\"Where HouseOwnerFlag = 1 AND NumberCarsOwned > 1;\")"
   ]
  },
  {
   "cell_type": "code",
   "execution_count": 36,
   "id": "e49d7b13-d2a6-4bc8-8b8a-e9a5ec63e0bd",
   "metadata": {},
   "outputs": [
    {
     "name": "stdout",
     "output_type": "stream",
     "text": [
      "Server VS Instance VS Database\n",
      "Cloud vs On Premise\n",
      "OLTP VS Data Warehouse\n",
      "Database Normalization\n",
      "Fact VS Dimension Tables\n",
      "Star, Snowflake and Hybrid Schema\n"
     ]
    }
   ],
   "source": [
    "print(\"Server VS Instance VS Database\")\n",
    "print(\"Cloud vs On Premise\")\n",
    "print(\"OLTP VS Data Warehouse\")\n",
    "print(\"Database Normalization\")\n",
    "print(\"Fact VS Dimension Tables\")\n",
    "print(\"Star, Snowflake and Hybrid Schema\")"
   ]
  },
  {
   "cell_type": "code",
   "execution_count": 37,
   "id": "9e71f290-39f5-49ea-a349-34367420c25a",
   "metadata": {},
   "outputs": [
    {
     "name": "stdout",
     "output_type": "stream",
     "text": [
      "A Timeline of SQL\n"
     ]
    }
   ],
   "source": [
    "print(\"A Timeline of SQL\")"
   ]
  },
  {
   "cell_type": "code",
   "execution_count": 38,
   "id": "afa1dc2e-b643-49f2-8887-6b30912799bb",
   "metadata": {},
   "outputs": [
    {
     "name": "stdout",
     "output_type": "stream",
     "text": [
      "1970 SQL was Created\n",
      "1989 Microsoft SQL Server First Time\n"
     ]
    }
   ],
   "source": [
    "print(\"1970 SQL was Created\")\n",
    "print(\"1989 Microsoft SQL Server First Time\")"
   ]
  },
  {
   "cell_type": "code",
   "execution_count": 39,
   "id": "e659d972-de2d-41e0-bba7-147680df37cb",
   "metadata": {},
   "outputs": [
    {
     "name": "stdout",
     "output_type": "stream",
     "text": [
      "SQL, Servers, Instances & Databases;\n"
     ]
    }
   ],
   "source": [
    "print(\"SQL, Servers, Instances & Databases;\")"
   ]
  },
  {
   "cell_type": "code",
   "execution_count": 41,
   "id": "2ffd5839-66b8-4909-9758-1beb566b934b",
   "metadata": {},
   "outputs": [
    {
     "name": "stdout",
     "output_type": "stream",
     "text": [
      ">>Data Security<< >>أمن البيانات<<\n"
     ]
    }
   ],
   "source": [
    "print(\">>Data Security<<\",\">>أمن البيانات<<\")"
   ]
  },
  {
   "cell_type": "code",
   "execution_count": 43,
   "id": "7a22d267-a2fd-4df5-91ca-3a35316c427f",
   "metadata": {},
   "outputs": [
    {
     "name": "stdout",
     "output_type": "stream",
     "text": [
      ">>Personal Data<< >>البيانات الشخصية<<\n"
     ]
    }
   ],
   "source": [
    "print(\">>Personal Data<<\",\">>البيانات الشخصية<<\")"
   ]
  },
  {
   "cell_type": "code",
   "execution_count": 44,
   "id": "94032b6e-410a-45a7-b905-68b34f607151",
   "metadata": {},
   "outputs": [
    {
     "name": "stdout",
     "output_type": "stream",
     "text": [
      ">>طارق الغزاوي<<\n"
     ]
    }
   ],
   "source": [
    "print(\">>طارق الغزاوي<<\")"
   ]
  },
  {
   "cell_type": "code",
   "execution_count": 46,
   "id": "13f408b3-ca8d-4088-a290-2bed494a1da3",
   "metadata": {},
   "outputs": [
    {
     "name": "stdout",
     "output_type": "stream",
     "text": [
      "PII(Personally Identifiable Information) معلومات التعريف الشخصية (PII)\n"
     ]
    }
   ],
   "source": [
    "print(\"PII(Personally Identifiable Information)\",\"معلومات التعريف الشخصية (PII)\")"
   ]
  },
  {
   "cell_type": "code",
   "execution_count": 55,
   "id": "c7bc3008-15e5-4498-82f8-444c0ef96b27",
   "metadata": {},
   "outputs": [
    {
     "name": "stdout",
     "output_type": "stream",
     "text": [
      " \n",
      "PII(Personally Identi-fiable Information)\n",
      "Name,اسم،\n",
      "Email,بريد إلكتروني،\n",
      "Address,عنوان،\n",
      "SSN,رقم الضمان الاجتماعي،\n",
      "IP Address,عنوان IP،\n",
      "Phone Number,رقم التليفون،\n",
      "Date Of Birth,تاريخ الميلاد،\n",
      "Place Of Work,مكان العمل,\n",
      "Company Phone Numberرقم هاتف الشركة\n",
      "\n"
     ]
    }
   ],
   "source": [
    "print(\n",
    "\"\"\" \n",
    "PII(Personally Identi-fiable Information)\n",
    "Name,اسم،\n",
    "Email,بريد إلكتروني،\n",
    "Address,عنوان،\n",
    "SSN,رقم الضمان الاجتماعي،\n",
    "IP Address,عنوان IP،\n",
    "Phone Number,رقم التليفون،\n",
    "Date Of Birth,تاريخ الميلاد،\n",
    "Place Of Work,مكان العمل,\n",
    "Company Phone Numberرقم هاتف الشركة\n",
    "\"\"\")"
   ]
  },
  {
   "cell_type": "code",
   "execution_count": 56,
   "id": "a33a823d-9349-4803-b21e-5938133d81cb",
   "metadata": {},
   "outputs": [
    {
     "name": "stdout",
     "output_type": "stream",
     "text": [
      "California Consumer Privacy ACT\n"
     ]
    }
   ],
   "source": [
    "print(\"California Consumer Privacy ACT\")"
   ]
  },
  {
   "cell_type": "code",
   "execution_count": 57,
   "id": "9b286169-f247-4fb8-96f1-f8dd2f389046",
   "metadata": {},
   "outputs": [
    {
     "name": "stdout",
     "output_type": "stream",
     "text": [
      "قانون خصوصية المستهلك في كاليفورنيا\n"
     ]
    }
   ],
   "source": [
    "print(\"قانون خصوصية المستهلك في كاليفورنيا\")"
   ]
  },
  {
   "cell_type": "code",
   "execution_count": 58,
   "id": "19f79582-db69-42d1-8ec4-6e1a03241a59",
   "metadata": {},
   "outputs": [
    {
     "name": "stdout",
     "output_type": "stream",
     "text": [
      " \n",
      "FirstName,\n",
      "LastName,\n",
      "Email,\n",
      "User ID,\n",
      "Country,\n",
      "Visit Count\n",
      "-------------\n",
      "Total Visits:\n",
      "\n"
     ]
    }
   ],
   "source": [
    "print(\n",
    "\"\"\" \n",
    "FirstName,\n",
    "LastName,\n",
    "Email,\n",
    "User ID,\n",
    "Country,\n",
    "Visit Count\n",
    "-------------\n",
    "Total Visits:\n",
    "\"\"\")"
   ]
  },
  {
   "cell_type": "code",
   "execution_count": 60,
   "id": "e8b30bb5-6e32-4843-b06c-49b9fb036003",
   "metadata": {},
   "outputs": [
    {
     "name": "stdout",
     "output_type": "stream",
     "text": [
      ">>Types of Database Systems<< >>أنواع أنظمة قواعد البيانات<<\n"
     ]
    }
   ],
   "source": [
    "print(\">>Types of Database Systems<<\",\">>أنواع أنظمة قواعد البيانات<<\")"
   ]
  },
  {
   "cell_type": "code",
   "execution_count": 63,
   "id": "6f650333-9070-456d-8ad3-a00181cf1a1c",
   "metadata": {},
   "outputs": [
    {
     "name": "stdout",
     "output_type": "stream",
     "text": [
      "OLTP Online transaction processing معالجة المعاملات عبر الإنترنت\n"
     ]
    }
   ],
   "source": [
    "print(\"OLTP\",\"Online transaction processing\",\"معالجة المعاملات عبر الإنترنت\")"
   ]
  },
  {
   "cell_type": "code",
   "execution_count": 64,
   "id": "62b50e8e-28db-4656-8161-e2f813eb5652",
   "metadata": {},
   "outputs": [
    {
     "name": "stdout",
     "output_type": "stream",
     "text": [
      "OLTP Is Database\n"
     ]
    }
   ],
   "source": [
    "print(\"OLTP Is Database\")"
   ]
  },
  {
   "cell_type": "code",
   "execution_count": 68,
   "id": "90302a4b-7fd2-4b31-9b43-7555d20ed5b9",
   "metadata": {},
   "outputs": [
    {
     "name": "stdout",
     "output_type": "stream",
     "text": [
      "1>>Designed for efficient data entry. مُصمم لإدخال البيانات بكفاءة.\n",
      "2>>Reduce data redundancy. تقليل تكرار البيانات.\n",
      "3>>Fast at reading / Writing data. سريع في قراءة / كتابة البيانات.\n"
     ]
    }
   ],
   "source": [
    "print(\"1>>Designed for efficient data entry.\",\"مُصمم لإدخال البيانات بكفاءة.\")\n",
    "print(\"2>>Reduce data redundancy.\",\"تقليل تكرار البيانات.\")\n",
    "print(\"3>>Fast at reading / Writing data.\",\"سريع في قراءة / كتابة البيانات.\")"
   ]
  },
  {
   "cell_type": "code",
   "execution_count": 70,
   "id": "e4e576d1-2aa7-47da-9725-2c1e1f2a452c",
   "metadata": {},
   "outputs": [
    {
     "name": "stdout",
     "output_type": "stream",
     "text": [
      "{ETL>>Extract,Transform, and Load} استخراج وتحويل وتحميل\n"
     ]
    }
   ],
   "source": [
    "print(\"{ETL>>Extract,Transform, and Load}\",\"استخراج وتحويل وتحميل\")"
   ]
  },
  {
   "cell_type": "code",
   "execution_count": 72,
   "id": "ac9a5093-dbe5-4bd8-92dc-c93e8d2a9afb",
   "metadata": {},
   "outputs": [
    {
     "name": "stdout",
     "output_type": "stream",
     "text": [
      "DW>>>DataWarehouse مستودع البيانات\n"
     ]
    }
   ],
   "source": [
    "print(\"DW>>>DataWarehouse\",\"مستودع البيانات\")"
   ]
  },
  {
   "cell_type": "code",
   "execution_count": 73,
   "id": "6b4b8586-e6d9-46d5-86e2-9e9724472906",
   "metadata": {},
   "outputs": [
    {
     "name": "stdout",
     "output_type": "stream",
     "text": [
      ">>For Analysis and Reproting<<\n",
      ">>Data Warehosue --> Organization<<\n",
      "Data Mart ---> Specific team As Fianace\n"
     ]
    }
   ],
   "source": [
    "print(\">>For Analysis and Reproting<<\")\n",
    "print(\">>Data Warehosue --> Organization<<\")\n",
    "print(\"Data Mart ---> Specific team\",\"As Fianace\")"
   ]
  },
  {
   "cell_type": "code",
   "execution_count": 76,
   "id": "832e74a0-d767-40bb-a7b9-167c33db9ef8",
   "metadata": {},
   "outputs": [
    {
     "name": "stdout",
     "output_type": "stream",
     "text": [
      ">>DSA>>Data Staging Area used for advanced transformations<<\n",
      "منطقة مرحلة البيانات المستخدمة للتحويلات المتقدمة\n"
     ]
    }
   ],
   "source": [
    "print(\">>DSA>>Data Staging Area used for advanced transformations<<\")\n",
    "print(\"منطقة مرحلة البيانات المستخدمة للتحويلات المتقدمة\")"
   ]
  },
  {
   "cell_type": "code",
   "execution_count": 78,
   "id": "a45def65-73e7-40e5-816a-90f3de2fca9b",
   "metadata": {},
   "outputs": [
    {
     "name": "stdout",
     "output_type": "stream",
     "text": [
      ">>Power BI Query Editor<< Power BI Query Editor Power BI Desktop\n"
     ]
    }
   ],
   "source": [
    "print(\">>Power BI Query Editor<<\",\"Power BI Query Editor Power BI Desktop\")"
   ]
  },
  {
   "cell_type": "code",
   "execution_count": 79,
   "id": "57c9c17f-5f23-4ec3-bfa2-001e8168a24b",
   "metadata": {},
   "outputs": [
    {
     "name": "stdout",
     "output_type": "stream",
     "text": [
      "DSA>>Power BI Query Editor Power BI Desktop\n"
     ]
    }
   ],
   "source": [
    "print(\"DSA>>Power BI Query Editor Power BI Desktop\")"
   ]
  },
  {
   "cell_type": "code",
   "execution_count": 80,
   "id": "532f1a31-fef6-4fd0-8f84-9cdabd5e693e",
   "metadata": {},
   "outputs": [
    {
     "name": "stdout",
     "output_type": "stream",
     "text": [
      "Data Normalization in OLTP Systems\n"
     ]
    }
   ],
   "source": [
    "print(\"Data Normalization in OLTP Systems\")"
   ]
  },
  {
   "cell_type": "code",
   "execution_count": 81,
   "id": "87af52ae-9f52-4d90-95c8-432730133921",
   "metadata": {},
   "outputs": [
    {
     "name": "stdout",
     "output_type": "stream",
     "text": [
      ">>Normalization is the process of organizing data to minimize redundancy<<\n"
     ]
    }
   ],
   "source": [
    "print(\">>Normalization is the process of organizing data to minimize redundancy<<\")"
   ]
  },
  {
   "cell_type": "code",
   "execution_count": 82,
   "id": "b47bc8dd-41dd-4984-b3c8-5cf7db6125d6",
   "metadata": {},
   "outputs": [
    {
     "name": "stdout",
     "output_type": "stream",
     "text": [
      "التطبيع هو عملية تنظيم البيانات لتقليل التكرار\n"
     ]
    }
   ],
   "source": [
    "print(\"التطبيع هو عملية تنظيم البيانات لتقليل التكرار\")"
   ]
  },
  {
   "cell_type": "code",
   "execution_count": 83,
   "id": "bbe4c623-b5a9-404a-a3b1-da50041211b7",
   "metadata": {},
   "outputs": [
    {
     "name": "stdout",
     "output_type": "stream",
     "text": [
      "Denormalization in DW Systems:- Multiple related tables into one.\n"
     ]
    }
   ],
   "source": [
    "print(\"Denormalization in DW Systems:-\",\"Multiple related tables into one.\")"
   ]
  },
  {
   "cell_type": "code",
   "execution_count": 84,
   "id": "85f80ff1-448e-4b72-a5f4-d071460a68f1",
   "metadata": {},
   "outputs": [
    {
     "name": "stdout",
     "output_type": "stream",
     "text": [
      "جداول متعددة مرتبطة ببعضها في جدول واحد.\n"
     ]
    }
   ],
   "source": [
    "print(\"جداول متعددة مرتبطة ببعضها في جدول واحد.\")"
   ]
  },
  {
   "cell_type": "code",
   "execution_count": 85,
   "id": "f00558bf-2629-4124-99a7-de5c8cc9348d",
   "metadata": {},
   "outputs": [
    {
     "name": "stdout",
     "output_type": "stream",
     "text": [
      "Fact Tables:-Measurements\n"
     ]
    }
   ],
   "source": [
    "print(\"Fact Tables:-Measurements\")"
   ]
  },
  {
   "cell_type": "code",
   "execution_count": 86,
   "id": "9e711438-38c2-419a-9d62-d1385e4e6e40",
   "metadata": {},
   "outputs": [
    {
     "name": "stdout",
     "output_type": "stream",
     "text": [
      ">>Fact tables contain IDs (or Keys)<<\n"
     ]
    }
   ],
   "source": [
    "print(\">>Fact tables contain IDs (or Keys)<<\")"
   ]
  },
  {
   "cell_type": "code",
   "execution_count": 87,
   "id": "d8b1c0ab-5376-48cc-8d98-f73f4998b652",
   "metadata": {},
   "outputs": [
    {
     "name": "stdout",
     "output_type": "stream",
     "text": [
      "Contain PK Of Dimensions Table\n"
     ]
    }
   ],
   "source": [
    "print(\"Contain PK Of Dimensions Table\")"
   ]
  },
  {
   "cell_type": "code",
   "execution_count": 89,
   "id": "035485d5-90f2-42ed-b061-c44b59bf9793",
   "metadata": {},
   "outputs": [
    {
     "name": "stdout",
     "output_type": "stream",
     "text": [
      "Dimension tables:- Descriptive Information معلومات وصفية\n"
     ]
    }
   ],
   "source": [
    "print(\"Dimension tables:-\",\"Descriptive Information\",\"معلومات وصفية\")"
   ]
  },
  {
   "cell_type": "code",
   "execution_count": 91,
   "id": "6c32d83c-cc0d-4495-b019-ec3bee893534",
   "metadata": {},
   "outputs": [
    {
     "name": "stdout",
     "output_type": "stream",
     "text": [
      "IDs are used to Connect dimension tables to fact tables.\n"
     ]
    }
   ],
   "source": [
    "print(\"IDs are used to Connect dimension tables to fact tables.\")"
   ]
  },
  {
   "cell_type": "code",
   "execution_count": 93,
   "id": "5b40dbfd-46a0-466d-a984-ce3fb0b0c827",
   "metadata": {},
   "outputs": [
    {
     "name": "stdout",
     "output_type": "stream",
     "text": [
      "Relationships & Keys العلاقات والمفاتيح\n"
     ]
    }
   ],
   "source": [
    "print(\"Relationships & Keys\",\"العلاقات والمفاتيح\")"
   ]
  },
  {
   "cell_type": "code",
   "execution_count": 95,
   "id": "5d451b5c-be88-4963-b8b1-8ac8ff0f5373",
   "metadata": {},
   "outputs": [
    {
     "name": "stdout",
     "output_type": "stream",
     "text": [
      "Date Table (Dimension Table)\n"
     ]
    }
   ],
   "source": [
    "print(\"Date Table (Dimension Table)\")"
   ]
  },
  {
   "cell_type": "code",
   "execution_count": 96,
   "id": "cfe0b560-45ec-43ef-9b21-95490dcebed1",
   "metadata": {},
   "outputs": [
    {
     "name": "stdout",
     "output_type": "stream",
     "text": [
      "Customer Table (Dimension Table)\n"
     ]
    }
   ],
   "source": [
    "print(\"Customer Table (Dimension Table)\")"
   ]
  },
  {
   "cell_type": "code",
   "execution_count": 97,
   "id": "aa964d17-0215-4cdb-a044-c3eae7fdf524",
   "metadata": {},
   "outputs": [
    {
     "name": "stdout",
     "output_type": "stream",
     "text": [
      "Product Table(Dimension Table)\n"
     ]
    }
   ],
   "source": [
    "print(\"Product Table(Dimension Table)\")"
   ]
  },
  {
   "cell_type": "code",
   "execution_count": 99,
   "id": "abb9a6f6-5af0-4b4b-ba0b-d491f622eb10",
   "metadata": {},
   "outputs": [
    {
     "name": "stdout",
     "output_type": "stream",
     "text": [
      "Sales Transaction Table (Fact Table) جدول معاملات المبيعات\n"
     ]
    }
   ],
   "source": [
    "print(\"Sales Transaction Table (Fact Table)\",\"جدول معاملات المبيعات\")"
   ]
  },
  {
   "cell_type": "code",
   "execution_count": 100,
   "id": "2825dc6e-e27b-4d55-91d6-816321203831",
   "metadata": {},
   "outputs": [
    {
     "name": "stdout",
     "output_type": "stream",
     "text": [
      "Columns used to join.tables are known as keys.\n"
     ]
    }
   ],
   "source": [
    "print(\"Columns used to join.tables are known as keys.\")"
   ]
  },
  {
   "cell_type": "code",
   "execution_count": 103,
   "id": "0bdbbea9-3bef-4fdc-91a3-99059d3c10f5",
   "metadata": {},
   "outputs": [
    {
     "name": "stdout",
     "output_type": "stream",
     "text": [
      "A Primary Key(PK):-primary key unique identifier. معرف فريد للمفتاح الأساسي.\n"
     ]
    }
   ],
   "source": [
    "print(\"A Primary Key(PK):-primary key unique identifier.\",\"معرف فريد للمفتاح الأساسي.\")"
   ]
  },
  {
   "cell_type": "code",
   "execution_count": 105,
   "id": "81fae9cd-f335-4238-907d-c5ea89a64cc5",
   "metadata": {},
   "outputs": [
    {
     "name": "stdout",
     "output_type": "stream",
     "text": [
      "A Foreign Key (FK):-refers to the PRIMARY KEY in another table.\n"
     ]
    }
   ],
   "source": [
    "print(\"A Foreign Key (FK):-refers to the PRIMARY KEY in another table.\")"
   ]
  },
  {
   "cell_type": "code",
   "execution_count": 106,
   "id": "28d6fad3-e744-4252-a709-11bcd5bd073e",
   "metadata": {},
   "outputs": [
    {
     "name": "stdout",
     "output_type": "stream",
     "text": [
      "Snowflake / Hybrid Schema\n"
     ]
    }
   ],
   "source": [
    "print(\"Snowflake / Hybrid Schema\")"
   ]
  },
  {
   "cell_type": "code",
   "execution_count": 108,
   "id": "4cdc9a68-3dcc-42e8-bf9f-8211d5fc3023",
   "metadata": {},
   "outputs": [
    {
     "name": "stdout",
     "output_type": "stream",
     "text": [
      "ERD\n",
      "JOINS and UNIONS\n",
      "Bridge Tables\n",
      "Create Views\n",
      "Subqueries\n"
     ]
    }
   ],
   "source": [
    "print(\"ERD\")\n",
    "print(\"JOINS and UNIONS\")\n",
    "print(\"Bridge Tables\")\n",
    "print(\"Create Views\")\n",
    "print(\"Subqueries\")"
   ]
  },
  {
   "cell_type": "code",
   "execution_count": 109,
   "id": "2af8a53d-0bb5-405a-a0ac-4571bb245214",
   "metadata": {},
   "outputs": [
    {
     "name": "stdout",
     "output_type": "stream",
     "text": [
      ">>Creates a virtual table whose contents (columns and rows) are defined by a query.<<\n",
      "ينشئ جدولاً افتراضيًا يتم تحديد محتوياته (الأعمدة والصفوف) بواسطة استعلام.\n"
     ]
    }
   ],
   "source": [
    "print(\">>Creates a virtual table whose contents (columns and rows) are defined by a query.<<\")\n",
    "print(\"ينشئ جدولاً افتراضيًا يتم تحديد محتوياته (الأعمدة والصفوف) بواسطة استعلام.\")"
   ]
  },
  {
   "cell_type": "code",
   "execution_count": 110,
   "id": "6beab049-b621-46fc-b291-c44d0172af19",
   "metadata": {},
   "outputs": [
    {
     "name": "stdout",
     "output_type": "stream",
     "text": [
      "<<Relationship cardinality>>\n",
      "Many to One\n",
      "One to One\n",
      "Many to Many\n"
     ]
    }
   ],
   "source": [
    "print(\"<<Relationship cardinality>>\")\n",
    "print(\"Many to One\")\n",
    "print(\"One to One\")\n",
    "print(\"Many to Many\")"
   ]
  },
  {
   "cell_type": "code",
   "execution_count": 111,
   "id": "65092ed0-8fa7-42ff-8c65-9ccdb62c7655",
   "metadata": {},
   "outputs": [
    {
     "name": "stdout",
     "output_type": "stream",
     "text": [
      "Internet Sales Schema\n"
     ]
    }
   ],
   "source": [
    "print(\"Internet Sales Schema\")"
   ]
  },
  {
   "cell_type": "code",
   "execution_count": 112,
   "id": "4965300d-3cee-41c7-b8ec-2bdc26c8f73d",
   "metadata": {},
   "outputs": [
    {
     "name": "stdout",
     "output_type": "stream",
     "text": [
      "Joins Combine two different tables into one.\n"
     ]
    }
   ],
   "source": [
    "print(\"Joins Combine two different tables into one.\")"
   ]
  },
  {
   "cell_type": "code",
   "execution_count": 113,
   "id": "99cd8021-0982-496e-827d-9b465396b6e2",
   "metadata": {},
   "outputs": [
    {
     "name": "stdout",
     "output_type": "stream",
     "text": [
      "Inner Join\n"
     ]
    }
   ],
   "source": [
    "print(\"Inner Join\")"
   ]
  },
  {
   "cell_type": "code",
   "execution_count": 114,
   "id": "9e9428ce-a0d0-4eb6-a39a-c3752ecf6159",
   "metadata": {},
   "outputs": [
    {
     "name": "stdout",
     "output_type": "stream",
     "text": [
      "Left Join\n"
     ]
    }
   ],
   "source": [
    "print(\"Left Join\")"
   ]
  },
  {
   "cell_type": "code",
   "execution_count": 115,
   "id": "704ff14a-f158-4ca9-ad3a-fb60f128d276",
   "metadata": {},
   "outputs": [
    {
     "name": "stdout",
     "output_type": "stream",
     "text": [
      "Right Join\n"
     ]
    }
   ],
   "source": [
    "print(\"Right Join\")"
   ]
  },
  {
   "cell_type": "code",
   "execution_count": 116,
   "id": "28beb615-0f4f-40ca-b380-1181cfee1252",
   "metadata": {},
   "outputs": [
    {
     "name": "stdout",
     "output_type": "stream",
     "text": [
      "Full Outer Join\n"
     ]
    }
   ],
   "source": [
    "print(\"Full Outer Join\")"
   ]
  },
  {
   "cell_type": "code",
   "execution_count": 117,
   "id": "67727a02-1d8d-4114-8415-0c5ffc05c17b",
   "metadata": {},
   "outputs": [
    {
     "name": "stdout",
     "output_type": "stream",
     "text": [
      " \n",
      "Select * \n",
      "From FactInternetSales AS fs\n",
      "INNER JOIN DimCustomer AS dc\n",
      "ON fs.CustomerKey = dc.CustomerKey;\n",
      "\n"
     ]
    }
   ],
   "source": [
    "print(\"\"\" \n",
    "Select * \n",
    "From FactInternetSales AS fs\n",
    "INNER JOIN DimCustomer AS dc\n",
    "ON fs.CustomerKey = dc.CustomerKey;\n",
    "\"\"\")"
   ]
  },
  {
   "cell_type": "code",
   "execution_count": 118,
   "id": "dc8b01b8-a461-4faa-944b-2cf7604b7983",
   "metadata": {},
   "outputs": [
    {
     "name": "stdout",
     "output_type": "stream",
     "text": [
      "Select * CONCAT(dc.FirstName,' ',dc.LastName) As CustomerName\n"
     ]
    }
   ],
   "source": [
    "print(\"Select * CONCAT(dc.FirstName,' ',dc.LastName) As CustomerName\")"
   ]
  },
  {
   "cell_type": "code",
   "execution_count": 119,
   "id": "11324a84-bc4e-486a-9f09-534179434d30",
   "metadata": {},
   "outputs": [
    {
     "name": "stdout",
     "output_type": "stream",
     "text": [
      " \n",
      "Select TOP(100)\n",
      "CONCAT(dc.FirstName,' ',dc.LastName) As CustomerName\n",
      "\n"
     ]
    }
   ],
   "source": [
    "print(\n",
    "\"\"\" \n",
    "Select TOP(100)\n",
    "CONCAT(dc.FirstName,' ',dc.LastName) As CustomerName\n",
    "\"\"\")"
   ]
  },
  {
   "cell_type": "code",
   "execution_count": 120,
   "id": "72eb41e9-07f8-4947-9b66-ab348fb635b9",
   "metadata": {},
   "outputs": [
    {
     "name": "stdout",
     "output_type": "stream",
     "text": [
      ">>From Inner Join ON Group BY Order By DESC<<\n"
     ]
    }
   ],
   "source": [
    "print(\">>From Inner Join ON Group BY Order By DESC<<\")"
   ]
  },
  {
   "cell_type": "code",
   "execution_count": 121,
   "id": "7d47b3a9-8f96-438e-8f5c-542678f11f1d",
   "metadata": {},
   "outputs": [
    {
     "name": "stdout",
     "output_type": "stream",
     "text": [
      "<<Order of Operators>>\n",
      "(FROM & JOIN)>>(Where)>>(Group By)>>(Having)>>(Select & Top)>>(Order By)\n"
     ]
    }
   ],
   "source": [
    "print(\"<<Order of Operators>>\")\n",
    "print(\"(FROM & JOIN)>>(Where)>>(Group By)>>(Having)>>(Select & Top)>>(Order By)\")"
   ]
  },
  {
   "cell_type": "code",
   "execution_count": 122,
   "id": "97531a89-8f68-45a8-88a4-036298f914af",
   "metadata": {},
   "outputs": [
    {
     "name": "stdout",
     "output_type": "stream",
     "text": [
      "ٍSelect TOP(100)\n"
     ]
    }
   ],
   "source": [
    "print(\"ٍSelect TOP(100)\")"
   ]
  },
  {
   "cell_type": "code",
   "execution_count": 123,
   "id": "9cd263ce-4208-4e58-a10d-9b8d5f452260",
   "metadata": {},
   "outputs": [
    {
     "name": "stdout",
     "output_type": "stream",
     "text": [
      "Bridge Tables\n"
     ]
    }
   ],
   "source": [
    "print(\"Bridge Tables\")"
   ]
  },
  {
   "cell_type": "code",
   "execution_count": 124,
   "id": "43832aee-f50a-4d9e-b199-4cbd17979efc",
   "metadata": {},
   "outputs": [
    {
     "name": "stdout",
     "output_type": "stream",
     "text": [
      ">>SQL Joins (Inner, Left, Right and Full Join)<<\n"
     ]
    }
   ],
   "source": [
    "print(\">>SQL Joins (Inner, Left, Right and Full Join)<<\")"
   ]
  },
  {
   "cell_type": "code",
   "execution_count": 125,
   "id": "e047be15-c7ed-4771-9a7c-5201db536561",
   "metadata": {},
   "outputs": [
    {
     "name": "stdout",
     "output_type": "stream",
     "text": [
      "UNION\n"
     ]
    }
   ],
   "source": [
    "print(\"UNION\")"
   ]
  },
  {
   "cell_type": "code",
   "execution_count": 126,
   "id": "7c66375f-1d26-461d-9a45-d59512aacdd8",
   "metadata": {},
   "outputs": [
    {
     "name": "stdout",
     "output_type": "stream",
     "text": [
      "UNION ALL\n"
     ]
    }
   ],
   "source": [
    "print(\"UNION ALL\")"
   ]
  },
  {
   "cell_type": "code",
   "execution_count": 127,
   "id": "551e333c-2f48-4a1c-8aa4-12721f901e4c",
   "metadata": {},
   "outputs": [
    {
     "name": "stdout",
     "output_type": "stream",
     "text": [
      "Reseller Schema\n"
     ]
    }
   ],
   "source": [
    "print(\"Reseller Schema\")"
   ]
  },
  {
   "cell_type": "code",
   "execution_count": 128,
   "id": "b9cb16ff-c8c1-4a96-acbe-29cc8c5e81d0",
   "metadata": {},
   "outputs": [
    {
     "name": "stdout",
     "output_type": "stream",
     "text": [
      "CROSS JOIN\n"
     ]
    }
   ],
   "source": [
    "print(\"CROSS JOIN\")"
   ]
  },
  {
   "cell_type": "code",
   "execution_count": 129,
   "id": "ff4f977e-4e33-48ae-878a-0948a6c688ef",
   "metadata": {},
   "outputs": [
    {
     "name": "stdout",
     "output_type": "stream",
     "text": [
      "Create View vwOrderALL AS\n"
     ]
    }
   ],
   "source": [
    "print(\"Create View vwOrderALL AS\")"
   ]
  },
  {
   "cell_type": "code",
   "execution_count": 130,
   "id": "5d23d92e-78ff-4c80-8658-79db0e94c4f5",
   "metadata": {},
   "outputs": [
    {
     "name": "stdout",
     "output_type": "stream",
     "text": [
      "Create View vwOrdersALL AS\n"
     ]
    }
   ],
   "source": [
    "print(\"Create View vwOrdersALL AS\")"
   ]
  },
  {
   "cell_type": "code",
   "execution_count": 131,
   "id": "358f7b74-af3d-4bfe-847f-ec53bbf45853",
   "metadata": {},
   "outputs": [
    {
     "name": "stdout",
     "output_type": "stream",
     "text": [
      "Select * From vwOrdersALL\n"
     ]
    }
   ],
   "source": [
    "print(\"Select * From vwOrdersALL\")"
   ]
  },
  {
   "cell_type": "code",
   "execution_count": 132,
   "id": "e2115850-5651-4064-b424-616b9a21be64",
   "metadata": {},
   "outputs": [
    {
     "name": "stdout",
     "output_type": "stream",
     "text": [
      "Where OrderDate = (Select MAX(OrderDate) FROM vwOrdersALL)\n"
     ]
    }
   ],
   "source": [
    "print(\"Where OrderDate = (Select MAX(OrderDate) FROM vwOrdersALL)\")"
   ]
  },
  {
   "cell_type": "code",
   "execution_count": 133,
   "id": "95956370-07f3-4414-86bb-fd552fc83e60",
   "metadata": {},
   "outputs": [
    {
     "name": "stdout",
     "output_type": "stream",
     "text": [
      "CONCAT(de.FirstName,' ',de.LastName) AS EmployeeName\n"
     ]
    }
   ],
   "source": [
    "print(\"CONCAT(de.FirstName,' ',de.LastName) AS EmployeeName\")"
   ]
  },
  {
   "cell_type": "code",
   "execution_count": 134,
   "id": "7b37e779-78c5-4170-9e7e-81a42a03ff58",
   "metadata": {},
   "outputs": [
    {
     "name": "stdout",
     "output_type": "stream",
     "text": [
      "SQL for Reporting\n"
     ]
    }
   ],
   "source": [
    "print(\"SQL for Reporting\")"
   ]
  },
  {
   "cell_type": "code",
   "execution_count": 135,
   "id": "f923b5ee-d345-4dc1-bdab-515798e8da95",
   "metadata": {},
   "outputs": [
    {
     "name": "stdout",
     "output_type": "stream",
     "text": [
      "Query SQL in Power BI\n"
     ]
    }
   ],
   "source": [
    "print(\"Query SQL in Power BI\")"
   ]
  },
  {
   "cell_type": "code",
   "execution_count": 136,
   "id": "5fd96082-e643-4b4e-9389-408b6e6ccf08",
   "metadata": {},
   "outputs": [
    {
     "name": "stdout",
     "output_type": "stream",
     "text": [
      "Query SQL in Excel\n"
     ]
    }
   ],
   "source": [
    "print(\"Query SQL in Excel\")"
   ]
  },
  {
   "cell_type": "code",
   "execution_count": 137,
   "id": "b10034ce-3bc5-4dff-ac39-be2dca497d89",
   "metadata": {},
   "outputs": [
    {
     "name": "stdout",
     "output_type": "stream",
     "text": [
      "Query SQL in Tableau\n"
     ]
    }
   ],
   "source": [
    "print(\"Query SQL in Tableau\")"
   ]
  },
  {
   "cell_type": "code",
   "execution_count": 138,
   "id": "a2edf554-0047-42c3-bbad-c396219e93fa",
   "metadata": {},
   "outputs": [
    {
     "name": "stdout",
     "output_type": "stream",
     "text": [
      "Create a summary with CUBE Function\n"
     ]
    }
   ],
   "source": [
    "print(\"Create a summary with CUBE Function\")"
   ]
  },
  {
   "cell_type": "code",
   "execution_count": 139,
   "id": "22841f0d-95a4-4a5d-bc47-302d415ff849",
   "metadata": {},
   "outputs": [
    {
     "name": "stdout",
     "output_type": "stream",
     "text": [
      "Create a summary with ROLLUP Function\n"
     ]
    }
   ],
   "source": [
    "print(\"Create a summary with ROLLUP Function\")"
   ]
  },
  {
   "cell_type": "code",
   "execution_count": 1,
   "id": "59d282ea-b854-4904-bc9c-955624f292b0",
   "metadata": {},
   "outputs": [
    {
     "name": "stdout",
     "output_type": "stream",
     "text": [
      "Calculate % of Total حساب النسبة المئوية من الإجمالي\n"
     ]
    }
   ],
   "source": [
    "print(\"Calculate % of Total\",\"حساب النسبة المئوية من الإجمالي\")"
   ]
  },
  {
   "cell_type": "code",
   "execution_count": 2,
   "id": "206baaa4-e821-47a9-ad21-b7a5c83c7f8a",
   "metadata": {},
   "outputs": [
    {
     "name": "stdout",
     "output_type": "stream",
     "text": [
      " \n",
      "Select\n",
      "Region,\n",
      "ProductCategory,\n",
      "SUM(SalesAmount) AS TotalSales\n",
      "FROM vwOrderALL\n",
      "Where YEAR(OrderDate) = 2013\n",
      "AND Currency = N'US Dollar'\n",
      "GROUP BY Region, ProductCategory;\n",
      "\n"
     ]
    }
   ],
   "source": [
    "print(\"\"\" \n",
    "Select\n",
    "Region,\n",
    "ProductCategory,\n",
    "SUM(SalesAmount) AS TotalSales\n",
    "FROM vwOrderALL\n",
    "Where YEAR(OrderDate) = 2013\n",
    "AND Currency = N'US Dollar'\n",
    "GROUP BY Region, ProductCategory;\n",
    "\"\"\")"
   ]
  },
  {
   "cell_type": "code",
   "execution_count": 3,
   "id": "35c46161-39e5-4c33-b59e-db5f401a3cdf",
   "metadata": {},
   "outputs": [
    {
     "name": "stdout",
     "output_type": "stream",
     "text": [
      "Group BY CUBE(Region,ProductCategory)\n"
     ]
    }
   ],
   "source": [
    "print(\"Group BY CUBE(Region,ProductCategory)\")"
   ]
  },
  {
   "cell_type": "code",
   "execution_count": 4,
   "id": "b5e26880-1497-478a-ad3e-9af058356b66",
   "metadata": {},
   "outputs": [
    {
     "name": "stdout",
     "output_type": "stream",
     "text": [
      "Group By Rollup(ProductCategory,ProductSubCategory)\n"
     ]
    }
   ],
   "source": [
    "print(\"Group By Rollup(ProductCategory,ProductSubCategory)\")"
   ]
  },
  {
   "cell_type": "code",
   "execution_count": 5,
   "id": "ffc24251-803e-4c93-ae88-546ac5748bb9",
   "metadata": {},
   "outputs": [
    {
     "name": "stdout",
     "output_type": "stream",
     "text": [
      "Where Country = N'United States' AND Source <> N'Web'\n"
     ]
    }
   ],
   "source": [
    "print(\"Where Country = N'United States' AND Source <> N'Web'\")"
   ]
  },
  {
   "cell_type": "code",
   "execution_count": 6,
   "id": "0349b4d5-fca1-4454-97be-45986d3f5996",
   "metadata": {},
   "outputs": [
    {
     "name": "stdout",
     "output_type": "stream",
     "text": [
      "Finance Schema\n"
     ]
    }
   ],
   "source": [
    "print(\"Finance Schema\")"
   ]
  },
  {
   "cell_type": "code",
   "execution_count": 7,
   "id": "0c7481e1-0ebf-47d5-9d53-0b444bbe358c",
   "metadata": {},
   "outputs": [
    {
     "name": "stdout",
     "output_type": "stream",
     "text": [
      "Select\n",
      "ff.Amount AS Amt\n",
      "FROM FactFinance AS ff\n",
      "INNER JOIN DimScenario AS s\n",
      "ON ff.ScenarioKey = s.ScenarioKey;\n",
      "\n"
     ]
    }
   ],
   "source": [
    "print(\"\"\"Select\n",
    "ff.Amount AS Amt\n",
    "FROM FactFinance AS ff\n",
    "INNER JOIN DimScenario AS s\n",
    "ON ff.ScenarioKey = s.ScenarioKey;\n",
    "\"\"\")"
   ]
  },
  {
   "cell_type": "code",
   "execution_count": 8,
   "id": "019d624a-d591-4d60-9fd7-cdac23eea88e",
   "metadata": {},
   "outputs": [
    {
     "name": "stdout",
     "output_type": "stream",
     "text": [
      ">>>Financial Statements in Power BI<<< القوائم المالية في Power BI\n"
     ]
    }
   ],
   "source": [
    "print(\">>>Financial Statements in Power BI<<<\",\"القوائم المالية في Power BI\")"
   ]
  },
  {
   "cell_type": "code",
   "execution_count": null,
   "id": "d9329a6b-c0ca-47df-ae58-e27cffed1d1b",
   "metadata": {},
   "outputs": [],
   "source": []
  }
 ],
 "metadata": {
  "kernelspec": {
   "display_name": "Python 3 (ipykernel)",
   "language": "python",
   "name": "python3"
  },
  "language_info": {
   "codemirror_mode": {
    "name": "ipython",
    "version": 3
   },
   "file_extension": ".py",
   "mimetype": "text/x-python",
   "name": "python",
   "nbconvert_exporter": "python",
   "pygments_lexer": "ipython3",
   "version": "3.11.7"
  }
 },
 "nbformat": 4,
 "nbformat_minor": 5
}
