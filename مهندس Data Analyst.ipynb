{
 "cells": [
  {
   "cell_type": "code",
   "execution_count": 68,
   "id": "d02b2159-55dc-4fd8-9402-2f9c199b45f4",
   "metadata": {},
   "outputs": [
    {
     "name": "stdout",
     "output_type": "stream",
     "text": [
      ">>مهندس Data Analyst Data analytics engineer مهندس تحليلات البيانات<<\n",
      ">>Data scientist Machine learning engineer مهندس التعلم الآلي<<\n"
     ]
    }
   ],
   "source": [
    "print(\">>مهندس Data Analyst\",\"Data analytics engineer\",\"مهندس تحليلات البيانات<<\")\n",
    "print(\">>Data scientist\",\"Machine learning engineer\",\"مهندس التعلم الآلي<<\")"
   ]
  },
  {
   "cell_type": "code",
   "execution_count": 69,
   "id": "f5c571c6-32c8-408b-817f-3932766ec848",
   "metadata": {},
   "outputs": [
    {
     "name": "stdout",
     "output_type": "stream",
     "text": [
      ">>5 Project With Power BI Finance & Sales<< {المالية والمبيعات}\n",
      ">>Economics>>Finance and Capital Markets<< >>الاقتصاد>>التمويل وأسواق رأس المال<<\n",
      "Than DeepLearning.AI Data Analytics Professional Certificate.\n",
      "<<DeepLearning.AI Data Analytics Professional Certificate>>\n"
     ]
    }
   ],
   "source": [
    "print(\">>5 Project With Power BI Finance & Sales<<\",\"{المالية والمبيعات}\") \n",
    "print(\">>Economics>>Finance and Capital Markets<<\",\">>الاقتصاد>>التمويل وأسواق رأس المال<<\")\n",
    "print(\"Than DeepLearning.AI Data Analytics Professional Certificate.\")\n",
    "print(\"<<DeepLearning.AI Data Analytics Professional Certificate>>\")"
   ]
  },
  {
   "cell_type": "code",
   "execution_count": 10,
   "id": "f0bb453b-64a5-4003-a367-a8dfa2c25953",
   "metadata": {},
   "outputs": [
    {
     "name": "stdout",
     "output_type": "stream",
     "text": [
      "**********************************************************\n"
     ]
    }
   ],
   "source": [
    "print(\"**********************************************************\")"
   ]
  },
  {
   "cell_type": "code",
   "execution_count": 71,
   "id": "bbcf0354-e4fc-4787-ba38-1b719e6db84a",
   "metadata": {},
   "outputs": [
    {
     "name": "stdout",
     "output_type": "stream",
     "text": [
      "My Brother in Falcom-co Haytham أخي في\n"
     ]
    }
   ],
   "source": [
    "print(\"My Brother in Falcom-co\",\"Haytham\",\"أخي في\")"
   ]
  },
  {
   "cell_type": "code",
   "execution_count": 13,
   "id": "8f87bcd8-5ce7-4371-830e-bf3b74019c62",
   "metadata": {},
   "outputs": [
    {
     "name": "stdout",
     "output_type": "stream",
     "text": [
      "Eng Haytham\n"
     ]
    }
   ],
   "source": [
    "print(\"Eng Haytham\")"
   ]
  },
  {
   "cell_type": "code",
   "execution_count": 15,
   "id": "224c9335-382b-4f81-b27b-8142b8e74efc",
   "metadata": {},
   "outputs": [
    {
     "name": "stdout",
     "output_type": "stream",
     "text": [
      ">>Buraydah, AL Qasim, Saudi Arabia<<\n",
      "بريدة، القصيم، المملكة العربية السعودية\n"
     ]
    }
   ],
   "source": [
    "print(\">>Buraydah, AL Qasim, Saudi Arabia<<\")\n",
    "print(\"بريدة، القصيم، المملكة العربية السعودية\")"
   ]
  },
  {
   "cell_type": "code",
   "execution_count": 72,
   "id": "f1f9e126-848e-4748-94f6-56c407c3537a",
   "metadata": {},
   "outputs": [
    {
     "name": "stdout",
     "output_type": "stream",
     "text": [
      "Data Analyst Excel & Power BI Specialist Turing Data into Insights\n",
      ">>تحويل البيانات إلى رؤى<<\n"
     ]
    }
   ],
   "source": [
    "print(\"Data Analyst\",\"Excel & Power BI Specialist\",\"Turing Data into Insights\")\n",
    "print(\">>تحويل البيانات إلى رؤى<<\")"
   ]
  },
  {
   "cell_type": "code",
   "execution_count": 74,
   "id": "28e1c263-327f-4923-a855-17e52a5efcd7",
   "metadata": {},
   "outputs": [
    {
     "name": "stdout",
     "output_type": "stream",
     "text": [
      "About\n",
      " \n",
      "#>>help Business transform raw data into meaningful insights,\n",
      "مساعدة الشركات على تحويل البيانات الخام إلى رؤى ذات معنى،\n",
      "Interactive dashboards, and accurate reports for better decision-making.\n",
      "لوحات معلومات تفاعلية وتقارير دقيقة لاتخاذ قرارات أفضل.\n",
      "1>>Excel(PivotTables, Power Query, Advanced Formulas & Functions).\n",
      "2>>Power BI (DAX, Dashboards, Data Modeling)\n",
      "3>>Data Extraction, Cleaning, and Reporting.\n",
      "-------------------------------------------------------------------------\n",
      ">>Open to Freelance Projects and Remote Work Opportunities<<\n",
      "مفتوح للمشاريع المستقلة وفرص العمل عن بعد>>\n",
      "-------------------------------------------------------------------------\n",
      "\n"
     ]
    }
   ],
   "source": [
    "print(\"About\")\n",
    "print(\"\"\" \n",
    "#>>help Business transform raw data into meaningful insights,\n",
    "مساعدة الشركات على تحويل البيانات الخام إلى رؤى ذات معنى،\n",
    "Interactive dashboards, and accurate reports for better decision-making.\n",
    "لوحات معلومات تفاعلية وتقارير دقيقة لاتخاذ قرارات أفضل.\n",
    "1>>Excel(PivotTables, Power Query, Advanced Formulas & Functions).\n",
    "2>>Power BI (DAX, Dashboards, Data Modeling)\n",
    "3>>Data Extraction, Cleaning, and Reporting.\n",
    "-------------------------------------------------------------------------\n",
    ">>Open to Freelance Projects and Remote Work Opportunities<<\n",
    "مفتوح للمشاريع المستقلة وفرص العمل عن بعد>>\n",
    "-------------------------------------------------------------------------\n",
    "\"\"\")"
   ]
  },
  {
   "cell_type": "code",
   "execution_count": 75,
   "id": "bd77772f-0340-4a18-9fd2-8edf938bcfdc",
   "metadata": {},
   "outputs": [
    {
     "name": "stdout",
     "output_type": "stream",
     "text": [
      "<<Top skills>> <<أفضل المهارات>>\n"
     ]
    }
   ],
   "source": [
    "print(\"<<Top skills>>\",\"<<أفضل المهارات>>\")"
   ]
  },
  {
   "cell_type": "code",
   "execution_count": 20,
   "id": "abf13211-a35c-4389-abfc-d438d07e5069",
   "metadata": {},
   "outputs": [
    {
     "name": "stdout",
     "output_type": "stream",
     "text": [
      "1.Performance Data Analysis تحليل اداء المبيعات\n",
      "2.Python (Programming Language)\n",
      "3.Micrsoft Excel\n",
      "4.SQL\n"
     ]
    }
   ],
   "source": [
    "print(\"1.Performance Data Analysis\",\"تحليل اداء المبيعات\")\n",
    "print(\"2.Python (Programming Language)\")\n",
    "print(\"3.Micrsoft Excel\")\n",
    "print(\"4.SQL\")"
   ]
  },
  {
   "cell_type": "code",
   "execution_count": 22,
   "id": "85bdce1b-14ae-49d9-885a-446c6d211189",
   "metadata": {},
   "outputs": [
    {
     "name": "stdout",
     "output_type": "stream",
     "text": [
      "Experience خبرة\n",
      "Data Analyst | Excel & Power BI Specialist\n"
     ]
    }
   ],
   "source": [
    "print(\"Experience\",\"خبرة\")\n",
    "print(\"Data Analyst | Excel & Power BI Specialist\")"
   ]
  },
  {
   "cell_type": "code",
   "execution_count": 79,
   "id": "673c07ec-bb56-45e1-a154-7b8f8095ba39",
   "metadata": {},
   "outputs": [
    {
     "name": "stdout",
     "output_type": "stream",
     "text": [
      " \n",
      "At Falcom Company, I Analyze Business data and deliver insights through clear, \n",
      "أقوم بتحليل بيانات الأعمال وتقديم رؤى من خلال\n",
      "Actionable reports and dashboards. Using Excel and Power BI,\n",
      "تقارير ولوحات معلومات عملية. باستخدام Excel وPower BI،\n",
      "I Support decision-making across multiple departments\n",
      "أدعم عملية اتخاذ القرار عبر الإدارات المتعددة\n",
      "By transforming raw data into valuable information.\n",
      "من خلال تحويل البيانات الخام إلى معلومات قيمة.\n",
      "\n"
     ]
    }
   ],
   "source": [
    "print(\n",
    "\"\"\" \n",
    "At Falcom Company, I Analyze Business data and deliver insights through clear, \n",
    "أقوم بتحليل بيانات الأعمال وتقديم رؤى من خلال\n",
    "Actionable reports and dashboards. Using Excel and Power BI,\n",
    "تقارير ولوحات معلومات عملية. باستخدام Excel وPower BI،\n",
    "I Support decision-making across multiple departments\n",
    "أدعم عملية اتخاذ القرار عبر الإدارات المتعددة\n",
    "By transforming raw data into valuable information.\n",
    "من خلال تحويل البيانات الخام إلى معلومات قيمة.\n",
    "\"\"\")"
   ]
  },
  {
   "cell_type": "code",
   "execution_count": 83,
   "id": "094cdc4e-b5ab-472e-b7fe-e883780b70d7",
   "metadata": {},
   "outputs": [
    {
     "name": "stdout",
     "output_type": "stream",
     "text": [
      " \n",
      "I also contributed to integrating data from Attendance and HR systems,\n",
      "لقد ساهمت أيضًا في دمج البيانات من أنظمة الحضور والموارد البشرية،\n",
      "Ensuring accurate and real-time reporting for operational needs.\n",
      "ضمان إعداد تقارير دقيقة وفي الوقت الفعلي للاحتياجات التشغيلية.\n",
      "\n"
     ]
    }
   ],
   "source": [
    "print(\n",
    "\"\"\" \n",
    "I also contributed to integrating data from Attendance and HR systems,\n",
    "لقد ساهمت أيضًا في دمج البيانات من أنظمة الحضور والموارد البشرية،\n",
    "Ensuring accurate and real-time reporting for operational needs.\n",
    "ضمان إعداد تقارير دقيقة وفي الوقت الفعلي للاحتياجات التشغيلية.\n",
    "\"\"\")"
   ]
  },
  {
   "cell_type": "code",
   "execution_count": 85,
   "id": "c3d8ba61-2e73-46ea-b40c-c20dedd447c3",
   "metadata": {},
   "outputs": [
    {
     "name": "stdout",
     "output_type": "stream",
     "text": [
      " \n",
      "Key Responsibilities:-\n",
      "Designed and implemented Excel-based dashboards to track performance and KPIs.\n",
      "تم تصميم وتنفيذ لوحات معلومات تعتمد على Excel لتتبع الأداء ومؤشرات الأداء الرئيسية\n",
      "\n"
     ]
    }
   ],
   "source": [
    "print(\n",
    "\"\"\" \n",
    "Key Responsibilities:-\n",
    "Designed and implemented Excel-based dashboards to track performance and KPIs.\n",
    "تم تصميم وتنفيذ لوحات معلومات تعتمد على Excel لتتبع الأداء ومؤشرات الأداء الرئيسية\n",
    "\"\"\")"
   ]
  },
  {
   "cell_type": "code",
   "execution_count": 86,
   "id": "42b7f114-28ff-423a-813d-bf01e6d03a50",
   "metadata": {},
   "outputs": [
    {
     "name": "stdout",
     "output_type": "stream",
     "text": [
      "Developed interactive Power BI reports for real-time business analysis. {Import OR DirectQuery}\n",
      "طوّرنا تقارير Power BI تفاعلية لتحليل الأعمال في الوقت الفعلي. {استيراد أو استعلام مباشر}\n"
     ]
    }
   ],
   "source": [
    "print(\"Developed interactive Power BI reports for real-time business analysis.\",\"{Import OR DirectQuery}\")\n",
    "print(\"طوّرنا تقارير Power BI تفاعلية لتحليل الأعمال في الوقت الفعلي. {استيراد أو استعلام مباشر}\")"
   ]
  },
  {
   "cell_type": "code",
   "execution_count": 89,
   "id": "19d8a285-aa21-47b6-8b04-ed5b68052121",
   "metadata": {},
   "outputs": [
    {
     "name": "stdout",
     "output_type": "stream",
     "text": [
      ">>Extracted, cleaned, and managed data from various sources(Excel,CSV,SQL)<<\n",
      ">>استخراج البيانات وتنظيفها وإدارتها من مصادر مختلفة<<\n"
     ]
    }
   ],
   "source": [
    "print(\">>Extracted, cleaned, and managed data from various sources(Excel,CSV,SQL)<<\")\n",
    "print(\">>استخراج البيانات وتنظيفها وإدارتها من مصادر مختلفة<<\")"
   ]
  },
  {
   "cell_type": "code",
   "execution_count": 32,
   "id": "67307e59-1d93-469b-8ad4-6071312079de",
   "metadata": {},
   "outputs": [
    {
     "name": "stdout",
     "output_type": "stream",
     "text": [
      "Automated reporting processes to improve Speed and Accuracy.\n",
      "عمليات إعداد التقارير الآلية لتحسين السرعة والدقة.\n"
     ]
    }
   ],
   "source": [
    "print(\"Automated reporting processes to improve Speed and Accuracy.\")\n",
    "print(\"عمليات إعداد التقارير الآلية لتحسين السرعة والدقة.\")"
   ]
  },
  {
   "cell_type": "code",
   "execution_count": 34,
   "id": "12ec2a2e-5198-4c49-9f33-e0ed28c3ba8c",
   "metadata": {},
   "outputs": [
    {
     "name": "stdout",
     "output_type": "stream",
     "text": [
      "Power BI performance analyzer محلل أداء Power BI\n"
     ]
    }
   ],
   "source": [
    "print(\"Power BI performance analyzer\",\"محلل أداء Power BI\")"
   ]
  },
  {
   "cell_type": "code",
   "execution_count": 39,
   "id": "3c244310-ded4-4c44-906c-88b61385d564",
   "metadata": {},
   "outputs": [
    {
     "name": "stdout",
     "output_type": "stream",
     "text": [
      ">>Using Var to Spend Card in Power BI >>Var & Return<<\n"
     ]
    }
   ],
   "source": [
    "print(\">>Using Var to Spend Card in Power BI\",\">>Var & Return<<\")"
   ]
  },
  {
   "cell_type": "code",
   "execution_count": 41,
   "id": "1c1f590b-0574-4812-9771-d4f13910bb21",
   "metadata": {},
   "outputs": [
    {
     "name": "stdout",
     "output_type": "stream",
     "text": [
      ">>Sales & Cost Reporting Specialist<< أخصائي تقارير المبيعات والتكاليف\n"
     ]
    }
   ],
   "source": [
    "print(\">>Sales & Cost Reporting Specialist<<\",\"أخصائي تقارير المبيعات والتكاليف\")"
   ]
  },
  {
   "cell_type": "code",
   "execution_count": 97,
   "id": "6377d980-2f14-4282-9494-03ff53707473",
   "metadata": {},
   "outputs": [
    {
     "name": "stdout",
     "output_type": "stream",
     "text": [
      "1.Financial-Reporting التقارير المالية <<\n",
      "2.Operations-Management إدارة العمليات <<\n",
      "3.Inventory-Management إدارة المخزون <<\n",
      "4.Cost Control التحكم في التكاليف <<\n",
      "5.Profit & Loss(P&L) الربح والخسارة <<\n",
      "6.Sales Analysis تحليل المبيعات <<\n"
     ]
    }
   ],
   "source": [
    "print(\"1.Financial-Reporting\",\"التقارير المالية\",\"<<\")\n",
    "print(\"2.Operations-Management\",\"إدارة العمليات\",\"<<\")\n",
    "print(\"3.Inventory-Management\",\"إدارة المخزون\",\"<<\")\n",
    "print(\"4.Cost Control\",\"التحكم في التكاليف\",\"<<\")\n",
    "print(\"5.Profit & Loss(P&L)\",\"الربح والخسارة\",\"<<\")\n",
    "print(\"6.Sales Analysis\",\"تحليل المبيعات\",\"<<\")"
   ]
  },
  {
   "cell_type": "code",
   "execution_count": 43,
   "id": "4b9ff069-02c6-498a-9cbc-0773d72bd3a4",
   "metadata": {},
   "outputs": [
    {
     "name": "stdout",
     "output_type": "stream",
     "text": [
      ">>Excel (PivotTables, Power Query, Advanced Formulas)<<\n",
      ">>Power BI (DAX, Dashboards, Data Modeling)<<\n",
      ">>Data Extraction, Cleaning and Reporting<<\n"
     ]
    }
   ],
   "source": [
    "print(\">>Excel (PivotTables, Power Query, Advanced Formulas)<<\")\n",
    "print(\">>Power BI (DAX, Dashboards, Data Modeling)<<\")\n",
    "print(\">>Data Extraction, Cleaning and Reporting<<\")"
   ]
  },
  {
   "cell_type": "code",
   "execution_count": 44,
   "id": "e0c66f4e-622f-42fe-8fad-3f3475497d91",
   "metadata": {},
   "outputs": [
    {
     "name": "stdout",
     "output_type": "stream",
     "text": [
      "****************************\n"
     ]
    }
   ],
   "source": [
    "print(\"****************************\")"
   ]
  },
  {
   "cell_type": "code",
   "execution_count": 50,
   "id": "425bdbea-491b-43ef-9978-502d52b26f10",
   "metadata": {},
   "outputs": [
    {
     "name": "stdout",
     "output_type": "stream",
     "text": [
      "<<Finance-Domain 5 Project With Power BI Finance & Sales>>\n",
      ">>مجال التمويل<<\n",
      "<<Power BI للتمويل والمبيعات>>\n"
     ]
    }
   ],
   "source": [
    "print(\"<<Finance-Domain\",\"5 Project With Power BI Finance & Sales>>\")\n",
    "print(\">>مجال التمويل<<\")\n",
    "print(\"<<Power BI للتمويل والمبيعات>>\")"
   ]
  },
  {
   "cell_type": "code",
   "execution_count": 51,
   "id": "fd50def7-e272-4d90-930b-470677979e3a",
   "metadata": {},
   "outputs": [
    {
     "name": "stdout",
     "output_type": "stream",
     "text": [
      "***********************************************************\n"
     ]
    }
   ],
   "source": [
    "print(\"***********************************************************\")"
   ]
  },
  {
   "cell_type": "code",
   "execution_count": 53,
   "id": "434e0a9f-19be-4edc-b34d-849c1c35cff1",
   "metadata": {},
   "outputs": [
    {
     "name": "stdout",
     "output_type": "stream",
     "text": [
      ">>Data-Tutorials دروس البيانات<<\n"
     ]
    }
   ],
   "source": [
    "print(\">>Data-Tutorials\",\"دروس البيانات<<\")"
   ]
  },
  {
   "cell_type": "code",
   "execution_count": 55,
   "id": "959abf8d-6760-40b4-94f2-44e5f188f0bf",
   "metadata": {},
   "outputs": [
    {
     "name": "stdout",
     "output_type": "stream",
     "text": [
      "******************************\n",
      "Power BI Dashboard | Various Domains | Start to End | Power BI Project Start to End 2025 Edition Data Tutorials \n",
      "******************************\n"
     ]
    }
   ],
   "source": [
    "print(\"******************************\")\n",
    "print(\"Power BI Dashboard | Various Domains | Start to End | Power BI Project Start to End 2025 Edition Data Tutorials \")\n",
    "print(\"******************************\")"
   ]
  },
  {
   "cell_type": "code",
   "execution_count": 60,
   "id": "2d0a5cb0-9281-475b-af3d-e6590f3e647f",
   "metadata": {},
   "outputs": [
    {
     "name": "stdout",
     "output_type": "stream",
     "text": [
      ">>Power BI Dashboard | Various Domains<<\n",
      "Various domains such as Sales, HR, Healthcare, Finance, Marketing, and more!\n",
      "1>>Sales. مبيعات\n",
      "2>>HR. الموارد البشرية Human Resources Workforce القوى العاملة\n",
      "3>>Healthcare. الرعاية الصحية\n",
      "4>>Finance. تمويل\n",
      "5>>Marketing. تسويق\n",
      "***************************\n"
     ]
    }
   ],
   "source": [
    "print(\">>Power BI Dashboard | Various Domains<<\")\n",
    "print(\"Various domains such as Sales, HR, Healthcare, Finance, Marketing, and more!\")\n",
    "print(\"1>>Sales.\",\"مبيعات\")\n",
    "print(\"2>>HR.\",\"الموارد البشرية\",\"Human Resources\",\"Workforce القوى العاملة\")\n",
    "print(\"3>>Healthcare.\",\"الرعاية الصحية\")\n",
    "print(\"4>>Finance.\",\"تمويل\")\n",
    "print(\"5>>Marketing.\",\"تسويق\")\n",
    "print(\"***************************\")"
   ]
  },
  {
   "cell_type": "code",
   "execution_count": 61,
   "id": "bb1780ca-9be8-4e02-ae61-73778e308ded",
   "metadata": {},
   "outputs": [
    {
     "name": "stdout",
     "output_type": "stream",
     "text": [
      "Power BI Complete Tutorial | Power BI Project | Bank Loan Analysis | Finance Domain #powerbi #sql\n"
     ]
    }
   ],
   "source": [
    "print(\"Power BI Complete Tutorial | Power BI Project | Bank Loan Analysis | Finance Domain #powerbi #sql\")"
   ]
  },
  {
   "cell_type": "code",
   "execution_count": 63,
   "id": "d55ad992-3442-456e-940f-8d58d207ec4d",
   "metadata": {},
   "outputs": [
    {
     "name": "stdout",
     "output_type": "stream",
     "text": [
      ">>Bank Loan Analysis<< >>تحليل قروض البنوك<<\n"
     ]
    }
   ],
   "source": [
    "print(\">>Bank Loan Analysis<<\",\">>تحليل قروض البنوك<<\")"
   ]
  },
  {
   "cell_type": "code",
   "execution_count": 64,
   "id": "1ffbcefc-f8db-4011-995b-f21f75df9639",
   "metadata": {},
   "outputs": [
    {
     "name": "stdout",
     "output_type": "stream",
     "text": [
      ">>Finance Domain<< >>مجال التمويل<<\n"
     ]
    }
   ],
   "source": [
    "print(\">>Finance Domain<<\",\">>مجال التمويل<<\")"
   ]
  },
  {
   "cell_type": "code",
   "execution_count": 98,
   "id": "f3352ddb-448a-4ef0-bdfe-09ba7be026a7",
   "metadata": {},
   "outputs": [
    {
     "name": "stdout",
     "output_type": "stream",
     "text": [
      ">>>>>>>>>>>>>><<<<<<<<<<<<<<<<<<<<\n"
     ]
    }
   ],
   "source": [
    "print(\">>>>>>>>>>>>>><<<<<<<<<<<<<<<<<<<<\")"
   ]
  },
  {
   "cell_type": "code",
   "execution_count": 99,
   "id": "b9a1bf0c-f649-4bea-b937-c04765e16f9e",
   "metadata": {},
   "outputs": [
    {
     "name": "stdout",
     "output_type": "stream",
     "text": [
      " \n",
      ">>Data-Analyst-Excel-&-Power-BI-Specialist<<\n",
      "1>>Excel (PivotTables, Power Query, Advanced Formulas & Functions)<<\n",
      "2>>Power BI (DAX, Dashboards, Data Modeling)<<\n",
      "3>>Data Extraction, Cleaning and Reporting<<\n",
      "\n"
     ]
    }
   ],
   "source": [
    "print(\n",
    "\"\"\" \n",
    ">>Data-Analyst-Excel-&-Power-BI-Specialist<<\n",
    "1>>Excel (PivotTables, Power Query, Advanced Formulas & Functions)<<\n",
    "2>>Power BI (DAX, Dashboards, Data Modeling)<<\n",
    "3>>Data Extraction, Cleaning and Reporting<<\n",
    "\"\"\")"
   ]
  },
  {
   "cell_type": "code",
   "execution_count": null,
   "id": "a9da4ea9-4090-4653-ba53-f3cb1e063556",
   "metadata": {},
   "outputs": [],
   "source": []
  }
 ],
 "metadata": {
  "kernelspec": {
   "display_name": "Python 3 (ipykernel)",
   "language": "python",
   "name": "python3"
  },
  "language_info": {
   "codemirror_mode": {
    "name": "ipython",
    "version": 3
   },
   "file_extension": ".py",
   "mimetype": "text/x-python",
   "name": "python",
   "nbconvert_exporter": "python",
   "pygments_lexer": "ipython3",
   "version": "3.11.7"
  }
 },
 "nbformat": 4,
 "nbformat_minor": 5
}
