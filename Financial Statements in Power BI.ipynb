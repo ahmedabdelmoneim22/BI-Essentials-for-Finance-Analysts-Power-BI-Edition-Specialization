{
 "cells": [
  {
   "cell_type": "code",
   "execution_count": 1,
   "id": "102bcd13-4e24-4912-85c9-adb982dba635",
   "metadata": {},
   "outputs": [
    {
     "name": "stdout",
     "output_type": "stream",
     "text": [
      "Financial Statements in Power BI>>Corporate Finance Institute\n"
     ]
    }
   ],
   "source": [
    "print(\"Financial Statements in Power BI>>Corporate Finance Institute\")"
   ]
  },
  {
   "cell_type": "code",
   "execution_count": 2,
   "id": "067e5e29-f0d4-4d8f-99c6-07aa9b710504",
   "metadata": {},
   "outputs": [
    {
     "name": "stdout",
     "output_type": "stream",
     "text": [
      "القوائم المالية في Power BI>>معهد التمويل المؤسسي\n"
     ]
    }
   ],
   "source": [
    "print(\"القوائم المالية في Power BI>>معهد التمويل المؤسسي\")"
   ]
  },
  {
   "cell_type": "code",
   "execution_count": 3,
   "id": "b4badd42-e6ce-4fda-9c47-6890d801614f",
   "metadata": {},
   "outputs": [
    {
     "name": "stdout",
     "output_type": "stream",
     "text": [
      ">>Financial Statements in Power BI>>Module 1>>Introduction<<\n"
     ]
    }
   ],
   "source": [
    "print(\">>Financial Statements in Power BI>>Module 1>>Introduction<<\")"
   ]
  },
  {
   "cell_type": "code",
   "execution_count": 4,
   "id": "6b1d4ea4-553f-4718-8a30-525360a9c235",
   "metadata": {},
   "outputs": [
    {
     "name": "stdout",
     "output_type": "stream",
     "text": [
      ">>القوائم المالية في Power BI>>الوحدة 1>>المقدمة<<\n"
     ]
    }
   ],
   "source": [
    "print(\">>القوائم المالية في Power BI>>الوحدة 1>>المقدمة<<\")"
   ]
  },
  {
   "cell_type": "code",
   "execution_count": 5,
   "id": "ef4a778b-0ad2-4fab-81fe-3c58d59e986e",
   "metadata": {},
   "outputs": [
    {
     "name": "stdout",
     "output_type": "stream",
     "text": [
      ">>Your Role as a Business Intelligence Developer<<\n"
     ]
    }
   ],
   "source": [
    "print(\">>Your Role as a Business Intelligence Developer<<\")"
   ]
  },
  {
   "cell_type": "code",
   "execution_count": 7,
   "id": "dceb5495-0b8b-449b-a3ab-ab4e0c11362f",
   "metadata": {},
   "outputs": [
    {
     "name": "stdout",
     "output_type": "stream",
     "text": [
      "Video Call with CFOVideo Call with CFO\n"
     ]
    }
   ],
   "source": [
    "print(\"Video Call with CFOVideo Call with CFO\")"
   ]
  },
  {
   "cell_type": "code",
   "execution_count": 8,
   "id": "9a7ec042-6dde-4e3a-b7f4-abaaa3ca4bee",
   "metadata": {},
   "outputs": [
    {
     "name": "stdout",
     "output_type": "stream",
     "text": [
      ">>Video Call with CFOVideo Call with CFO<<\n"
     ]
    }
   ],
   "source": [
    "print(\">>Video Call with CFOVideo Call with CFO<<\")"
   ]
  },
  {
   "cell_type": "code",
   "execution_count": 9,
   "id": "c27e25ab-5e77-432b-a46a-7eb8bfc965ce",
   "metadata": {},
   "outputs": [
    {
     "name": "stdout",
     "output_type": "stream",
     "text": [
      "مكالمة فيديو مع المدير المالي مكالمة فيديو مع المدير المالي\n"
     ]
    }
   ],
   "source": [
    "print(\"مكالمة فيديو مع المدير المالي مكالمة فيديو مع المدير المالي\")"
   ]
  },
  {
   "cell_type": "code",
   "execution_count": 15,
   "id": "ed815dfb-2fd4-4b8c-9f4e-117d77119c3e",
   "metadata": {},
   "outputs": [
    {
     "name": "stdout",
     "output_type": "stream",
     "text": [
      "Challenges to Consider in the Project\n",
      ">>Why business intelligence project fail<< >>لماذا يفشل مشروع ذكاء الأعمال<<\n",
      "1>>Poor Data Quality جودة البيانات رديئة\n",
      "2>>Lake Of Focus بحيرة التركيز\n",
      "3>>No stakeholder buy in لا يوجد شراء من جانب أصحاب المصلحة\n"
     ]
    }
   ],
   "source": [
    "print(\"Challenges to Consider in the Project\")\n",
    "print(\">>Why business intelligence project fail<<\",\">>لماذا يفشل مشروع ذكاء الأعمال<<\")\n",
    "print(\"1>>Poor Data Quality\",\"جودة البيانات رديئة\")\n",
    "print(\"2>>Lake Of Focus\",\"بحيرة التركيز\")\n",
    "print(\"3>>No stakeholder buy in\",\"لا يوجد شراء من جانب أصحاب المصلحة\")"
   ]
  },
  {
   "cell_type": "code",
   "execution_count": 16,
   "id": "e437adad-da81-4acd-bb4d-e64fb5036219",
   "metadata": {},
   "outputs": [
    {
     "name": "stdout",
     "output_type": "stream",
     "text": [
      "Project Requirements Email متطلبات المشروع بالبريد الإلكتروني\n"
     ]
    }
   ],
   "source": [
    "print(\"Project Requirements Email\",\"متطلبات المشروع بالبريد الإلكتروني\")"
   ]
  },
  {
   "cell_type": "code",
   "execution_count": 18,
   "id": "b54cb4d6-4656-4c5d-80d7-e1bc3a610d69",
   "metadata": {},
   "outputs": [
    {
     "name": "stdout",
     "output_type": "stream",
     "text": [
      ">>Final Project Requirements and Approach متطلبات المشروع النهائي والنهج<<\n"
     ]
    }
   ],
   "source": [
    "print(\">>Final Project Requirements and Approach\",\"متطلبات المشروع النهائي والنهج<<\")"
   ]
  },
  {
   "cell_type": "code",
   "execution_count": 21,
   "id": "0c88ec9a-61e5-4a04-8df3-78680d2b9b65",
   "metadata": {},
   "outputs": [
    {
     "name": "stdout",
     "output_type": "stream",
     "text": [
      ">>Final Project Requirements and Approach<< >>متطلبات المشروع النهائية والنهج<<\n"
     ]
    }
   ],
   "source": [
    "print(\">>Final Project Requirements and Approach<<\",\">>متطلبات المشروع النهائية والنهج<<\")"
   ]
  },
  {
   "cell_type": "code",
   "execution_count": 25,
   "id": "13653b4f-038f-4320-9336-1261739771b2",
   "metadata": {},
   "outputs": [
    {
     "name": "stdout",
     "output_type": "stream",
     "text": [
      ">>Financial Statements Review<< مراجعة البيانات المالية\n"
     ]
    }
   ],
   "source": [
    "print(\">>Financial Statements Review<<\",\"مراجعة البيانات المالية\")"
   ]
  },
  {
   "cell_type": "code",
   "execution_count": 26,
   "id": "5bf78409-add4-469e-889c-24625c15b18c",
   "metadata": {},
   "outputs": [
    {
     "name": "stdout",
     "output_type": "stream",
     "text": [
      "مراجعة البيانات المالية\n"
     ]
    }
   ],
   "source": [
    "print(\"مراجعة البيانات المالية\")"
   ]
  },
  {
   "cell_type": "code",
   "execution_count": 28,
   "id": "a74f34af-cae7-4ee7-b9cc-6c88c62eb8fe",
   "metadata": {},
   "outputs": [
    {
     "name": "stdout",
     "output_type": "stream",
     "text": [
      "Case Study Files Overview نظرة عامة على ملفات دراسة الحالة\n"
     ]
    }
   ],
   "source": [
    "print(\"Case Study Files Overview\",\"نظرة عامة على ملفات دراسة الحالة\")"
   ]
  },
  {
   "cell_type": "code",
   "execution_count": 29,
   "id": "69b4e709-5d85-4c4b-9395-8b6bb39d9280",
   "metadata": {},
   "outputs": [
    {
     "name": "stdout",
     "output_type": "stream",
     "text": [
      ">>Case Study Student Files Download<< تنزيل ملفات دراسة الحالة للطلاب\n"
     ]
    }
   ],
   "source": [
    "print(\">>Case Study Student Files Download<<\",\"تنزيل ملفات دراسة الحالة للطلاب\")"
   ]
  },
  {
   "cell_type": "code",
   "execution_count": 2,
   "id": "4a11a30c-2b07-48d9-ab7d-1699d3ea18c7",
   "metadata": {},
   "outputs": [
    {
     "name": "stdout",
     "output_type": "stream",
     "text": [
      "Case Study Approach نهج دراسة الحالة\n"
     ]
    }
   ],
   "source": [
    "print(\"Case Study Approach\",\"نهج دراسة الحالة\")"
   ]
  },
  {
   "cell_type": "code",
   "execution_count": 3,
   "id": "eec77da7-f5e8-43f8-ac73-84a9ed44d539",
   "metadata": {},
   "outputs": [
    {
     "name": "stdout",
     "output_type": "stream",
     "text": [
      "Mia has agreed to focus on the three financial statements to begin with.\n"
     ]
    }
   ],
   "source": [
    "print(\"Mia has agreed to focus on the three financial statements to begin with.\")"
   ]
  },
  {
   "cell_type": "code",
   "execution_count": 4,
   "id": "4f255427-f356-4bfe-9970-7d73939b06cf",
   "metadata": {},
   "outputs": [
    {
     "name": "stdout",
     "output_type": "stream",
     "text": [
      "وافقت ميا على التركيز على البيانات المالية الثلاثة في البداية.\n"
     ]
    }
   ],
   "source": [
    "print(\"وافقت ميا على التركيز على البيانات المالية الثلاثة في البداية.\")"
   ]
  },
  {
   "cell_type": "code",
   "execution_count": 5,
   "id": "8fb73207-ae4d-4d53-96bf-7925c6d872a8",
   "metadata": {},
   "outputs": [
    {
     "name": "stdout",
     "output_type": "stream",
     "text": [
      "Reporting should be done using the company database.\n"
     ]
    }
   ],
   "source": [
    "print(\"Reporting should be done using the company database.\")"
   ]
  },
  {
   "cell_type": "code",
   "execution_count": 6,
   "id": "77882cf4-be83-4b18-b47e-7f9b27d463a6",
   "metadata": {},
   "outputs": [
    {
     "name": "stdout",
     "output_type": "stream",
     "text": [
      "ينبغي أن يتم الإبلاغ باستخدام قاعدة بيانات الشركة.\n"
     ]
    }
   ],
   "source": [
    "print(\"ينبغي أن يتم الإبلاغ باستخدام قاعدة بيانات الشركة.\")"
   ]
  },
  {
   "cell_type": "code",
   "execution_count": 17,
   "id": "96b86b16-eedb-451c-9471-cd866bb285ad",
   "metadata": {
    "scrolled": true
   },
   "outputs": [
    {
     "name": "stdout",
     "output_type": "stream",
     "text": [
      "Reporting Steps using Company Database:-\n",
      "1>>يستخرجExtract Data from Database>>Azure Data Studio\n",
      "2>>Create Data Model>>Power Query>>{Power BI Query Editor}\n",
      "3>>Build Income Statement Using Power BI إنشاء بيان الدخل باستخدام Power BI\n",
      "4>>Build Balance Sheet Using Power BI إنشاء الميزانية العمومية باستخدام Power BI\n",
      "5>>Analyze In Excel Using Excel التحليل في Excel باستخدام Excel\n"
     ]
    }
   ],
   "source": [
    "print(\"Reporting Steps using Company Database:-\")\n",
    "print(\"1>>يستخرجExtract Data from Database>>Azure Data Studio\")\n",
    "print(\"2>>Create Data Model>>Power Query>>{Power BI Query Editor}\")\n",
    "print(\"3>>Build Income Statement Using Power BI\",\"إنشاء بيان الدخل باستخدام Power BI\")\n",
    "print(\"4>>Build Balance Sheet Using Power BI\",\"إنشاء الميزانية العمومية باستخدام Power BI\")\n",
    "print(\"5>>Analyze In Excel Using Excel\",\"التحليل في Excel باستخدام Excel\")"
   ]
  },
  {
   "cell_type": "code",
   "execution_count": 19,
   "id": "f0cdc5c1-f406-47f2-bbd6-22c45b7e2870",
   "metadata": {},
   "outputs": [
    {
     "name": "stdout",
     "output_type": "stream",
     "text": [
      "Financial Statements OverView نظرة عامة على البيانات المالية\n"
     ]
    }
   ],
   "source": [
    "print(\"Financial Statements OverView\",\"نظرة عامة على البيانات المالية\")"
   ]
  },
  {
   "cell_type": "code",
   "execution_count": 22,
   "id": "ef22d1fc-96b5-43db-9743-38c5585181e3",
   "metadata": {},
   "outputs": [
    {
     "name": "stdout",
     "output_type": "stream",
     "text": [
      "1>>Income Statement بيان الدخل\n",
      "Statement of Operations, Profit and Loss Statement, P&L.\n",
      "بيان العمليات، بيان الأرباح والخسائر، بيان الربح والخسارة.\n"
     ]
    }
   ],
   "source": [
    "print(\"1>>Income Statement\",\"بيان الدخل\")\n",
    "print(\"Statement of Operations, Profit and Loss Statement, P&L.\")\n",
    "print(\"بيان العمليات، بيان الأرباح والخسائر، بيان الربح والخسارة.\")"
   ]
  },
  {
   "cell_type": "code",
   "execution_count": 26,
   "id": "339a217d-c1da-4e14-bfd1-f33170799cc0",
   "metadata": {},
   "outputs": [
    {
     "name": "stdout",
     "output_type": "stream",
     "text": [
      "2>>Balance Sheet الميزانية العمومية\n",
      "Statement of Financial Position بيان المركز المالي\n"
     ]
    }
   ],
   "source": [
    "print(\"2>>Balance Sheet\",\"الميزانية العمومية\")\n",
    "print(\"Statement of Financial Position\",\"بيان المركز المالي\")"
   ]
  },
  {
   "cell_type": "code",
   "execution_count": 29,
   "id": "b0620657-82d6-4226-b863-2ce08e09e95c",
   "metadata": {},
   "outputs": [
    {
     "name": "stdout",
     "output_type": "stream",
     "text": [
      "3>>Statement of Cash Flows بيان التدفقات النقدية\n",
      "Cash Flow Statement بيان التدفق النقدي\n"
     ]
    }
   ],
   "source": [
    "print(\"3>>Statement of Cash Flows\",\"بيان التدفقات النقدية\")\n",
    "print(\"Cash Flow Statement\",\"بيان التدفق النقدي\")"
   ]
  },
  {
   "cell_type": "code",
   "execution_count": 30,
   "id": "5fa8b5f9-b1b8-492e-b422-35e3f49b2c3c",
   "metadata": {},
   "outputs": [
    {
     "name": "stdout",
     "output_type": "stream",
     "text": [
      "******************************************\n"
     ]
    }
   ],
   "source": [
    "print(\"******************************************\")"
   ]
  },
  {
   "cell_type": "code",
   "execution_count": 31,
   "id": "a1d98573-5b9e-4b9e-98d4-08b1598374c8",
   "metadata": {},
   "outputs": [
    {
     "name": "stdout",
     "output_type": "stream",
     "text": [
      "Income Statement بيان الدخل:-\n",
      "01.Over Reproting Period فترة الإبلاغ.\n",
      "02.Revenues الإيرادات.\n",
      "03.Expenses نفقات.\n",
      "04.Profit or Loss الربح أو الخسارة.\n",
      "\n"
     ]
    }
   ],
   "source": [
    "print(\"\"\"Income Statement بيان الدخل:-\n",
    "01.Over Reproting Period فترة الإبلاغ.\n",
    "02.Revenues الإيرادات.\n",
    "03.Expenses نفقات.\n",
    "04.Profit or Loss الربح أو الخسارة.\n",
    "\"\"\")"
   ]
  },
  {
   "cell_type": "code",
   "execution_count": 34,
   "id": "4b960386-5a56-4d2d-93e2-d71d4c7ff16b",
   "metadata": {},
   "outputs": [
    {
     "name": "stdout",
     "output_type": "stream",
     "text": [
      "Balance Sheet الميزانية العمومية:-\n",
      "01.Snapshot Report تقرير لقطة.\n",
      "02.Assets أصول.\n",
      "03.Lia-bilities الإلتزامات.\n",
      "04.Equity عدالة.\n",
      "\n"
     ]
    }
   ],
   "source": [
    "print(\"\"\"Balance Sheet الميزانية العمومية:-\n",
    "01.Snapshot Report تقرير لقطة.\n",
    "02.Assets أصول.\n",
    "03.Lia-bilities الإلتزامات.\n",
    "04.Equity عدالة.\n",
    "\"\"\")"
   ]
  },
  {
   "cell_type": "code",
   "execution_count": 39,
   "id": "a4e0af3d-8362-4cd8-a43c-0f83bccbf26a",
   "metadata": {},
   "outputs": [
    {
     "name": "stdout",
     "output_type": "stream",
     "text": [
      "Statement of Cash Flows بيان التدفقات النقدية:-\n",
      "01.Over Reporting Period فترة الإبلاغ.\n",
      "02.Operating التشغيل.\n",
      "03.Investing الاستثمار.\n",
      "04.Financing التمويل.\n",
      "\n"
     ]
    }
   ],
   "source": [
    "print(\"\"\"Statement of Cash Flows بيان التدفقات النقدية:-\n",
    "01.Over Reporting Period فترة الإبلاغ.\n",
    "02.Operating التشغيل.\n",
    "03.Investing الاستثمار.\n",
    "04.Financing التمويل.\n",
    "\"\"\")"
   ]
  },
  {
   "cell_type": "code",
   "execution_count": 42,
   "id": "f4ec7066-cfc1-48fb-81ab-70d1f07679b2",
   "metadata": {},
   "outputs": [
    {
     "name": "stdout",
     "output_type": "stream",
     "text": [
      " \n",
      "1>>Liq_uidity السيولة.\n",
      "2>>Leverage تَأثِير.\n",
      "3>>Efficiency كفاءة.\n",
      "4>>Profitability الربحية.\n",
      "\n"
     ]
    }
   ],
   "source": [
    "print(\n",
    "\"\"\" \n",
    "1>>Liq_uidity السيولة.\n",
    "2>>Leverage تَأثِير.\n",
    "3>>Efficiency كفاءة.\n",
    "4>>Profitability الربحية.\n",
    "\"\"\")"
   ]
  },
  {
   "cell_type": "code",
   "execution_count": 43,
   "id": "d41c3b01-aa59-44f7-9494-5753e6e25383",
   "metadata": {},
   "outputs": [
    {
     "name": "stdout",
     "output_type": "stream",
     "text": [
      "<<Financial Statements in Power BI<<Module 2>>Introduction - Extract Data from the\n"
     ]
    }
   ],
   "source": [
    "print(\"<<Financial Statements in Power BI<<Module 2>>Introduction - Extract Data from the\")"
   ]
  },
  {
   "cell_type": "code",
   "execution_count": 44,
   "id": "51596e25-904d-4af6-b3a1-539158417f65",
   "metadata": {},
   "outputs": [
    {
     "name": "stdout",
     "output_type": "stream",
     "text": [
      "Introduction - Extract Data from the Database استخراج البيانات من قاعدة البيانات\n"
     ]
    }
   ],
   "source": [
    "print(\"Introduction - Extract Data from the Database\",\"استخراج البيانات من قاعدة البيانات\")"
   ]
  },
  {
   "cell_type": "code",
   "execution_count": 50,
   "id": "38171afa-4ed2-457b-9ee3-89da1801a663",
   "metadata": {},
   "outputs": [
    {
     "name": "stdout",
     "output_type": "stream",
     "text": [
      "1>>Azure Data Studio. أزور داتا ستوديو\n",
      "2>>ERD. Entity relationship diagram مخطط علاقة الكيان\n",
      "3>>Write a query. اكتب استعلامًا\n",
      "4>>Query refresh time. وقت تحديث الاستعلام\n",
      "5>>Create a Sql View. إنشاء عرض SQL\n"
     ]
    }
   ],
   "source": [
    "print(\"1>>Azure Data Studio.\",\"أزور داتا ستوديو\")\n",
    "print(\"2>>ERD.\",\"Entity relationship diagram\",\"مخطط علاقة الكيان\")\n",
    "print(\"3>>Write a query.\",\"اكتب استعلامًا\")\n",
    "print(\"4>>Query refresh time.\",\"وقت تحديث الاستعلام\")\n",
    "print(\"5>>Create a Sql View.\",\"إنشاء عرض SQL\")"
   ]
  },
  {
   "cell_type": "code",
   "execution_count": 51,
   "id": "40ae60ad-28cb-49cd-9de7-bf26b03cd635",
   "metadata": {},
   "outputs": [
    {
     "name": "stdout",
     "output_type": "stream",
     "text": [
      ">>Download Azure Data Studio<< تنزيل Azure Data Studio\n"
     ]
    }
   ],
   "source": [
    "print(\">>Download Azure Data Studio<<\",\"تنزيل Azure Data Studio\")"
   ]
  },
  {
   "cell_type": "code",
   "execution_count": 52,
   "id": "38714764-e73d-4da4-bcf4-01a5099f236e",
   "metadata": {},
   "outputs": [
    {
     "name": "stdout",
     "output_type": "stream",
     "text": [
      ">>Download and install azure data studio<<\n"
     ]
    }
   ],
   "source": [
    "print(\">>Download and install azure data studio<<\")"
   ]
  },
  {
   "cell_type": "code",
   "execution_count": 54,
   "id": "b74f6e38-83df-4e63-b307-8358d1e83642",
   "metadata": {},
   "outputs": [
    {
     "name": "stdout",
     "output_type": "stream",
     "text": [
      ">>Student Task - Connect and Explore the Database<<\n",
      "مهمة الطالب - الاتصال واستكشاف قاعدة البيانات\n"
     ]
    }
   ],
   "source": [
    "print(\">>Student Task - Connect and Explore the Database<<\")\n",
    "print(\"مهمة الطالب - الاتصال واستكشاف قاعدة البيانات\")"
   ]
  },
  {
   "cell_type": "code",
   "execution_count": 55,
   "id": "42409f05-3b97-4c28-aa1c-31bda7c70bf9",
   "metadata": {},
   "outputs": [
    {
     "name": "stdout",
     "output_type": "stream",
     "text": [
      ">>Azure data studio<<\n"
     ]
    }
   ],
   "source": [
    "print(\">>Azure data studio<<\")"
   ]
  },
  {
   "cell_type": "code",
   "execution_count": 56,
   "id": "3c9fc5a9-5867-48d2-a535-c38cd746d23f",
   "metadata": {},
   "outputs": [
    {
     "name": "stdout",
     "output_type": "stream",
     "text": [
      "Select Top() FROM\n"
     ]
    }
   ],
   "source": [
    "print(\"Select Top() FROM\")"
   ]
  },
  {
   "cell_type": "code",
   "execution_count": 57,
   "id": "88e78d95-afad-4dc0-98bc-1f0dba62d6e7",
   "metadata": {},
   "outputs": [
    {
     "name": "stdout",
     "output_type": "stream",
     "text": [
      "Student Task Review - Connect and Explore the Database\n"
     ]
    }
   ],
   "source": [
    "print(\"Student Task Review - Connect and Explore the Database\")"
   ]
  },
  {
   "cell_type": "code",
   "execution_count": 58,
   "id": "9a0bff99-f9b8-4908-935d-fad275f6a188",
   "metadata": {},
   "outputs": [
    {
     "name": "stdout",
     "output_type": "stream",
     "text": [
      "الاتصال واستكشاف قاعدة البيانات\n"
     ]
    }
   ],
   "source": [
    "print(\"الاتصال واستكشاف قاعدة البيانات\")"
   ]
  },
  {
   "cell_type": "code",
   "execution_count": 60,
   "id": "e0d8cc59-c9c6-4647-a340-475b64980c1d",
   "metadata": {},
   "outputs": [
    {
     "name": "stdout",
     "output_type": "stream",
     "text": [
      ">>Entity Relationship Diagram ERD<< >>مخطط علاقة الكيان ERD<<\n"
     ]
    }
   ],
   "source": [
    "print(\">>Entity Relationship Diagram ERD<<\",\">>مخطط علاقة الكيان ERD<<\")"
   ]
  },
  {
   "cell_type": "code",
   "execution_count": 61,
   "id": "10b18569-ef26-48cb-8c7d-ec198aeed922",
   "metadata": {},
   "outputs": [
    {
     "name": "stdout",
     "output_type": "stream",
     "text": [
      ">>Plan the SQL Query<< تخطيط استعلام SQL\n"
     ]
    }
   ],
   "source": [
    "print(\">>Plan the SQL Query<<\",\"تخطيط استعلام SQL\")"
   ]
  },
  {
   "cell_type": "code",
   "execution_count": 62,
   "id": "14a89a2e-b50e-478c-86a0-7fe668949ad6",
   "metadata": {},
   "outputs": [
    {
     "name": "stdout",
     "output_type": "stream",
     "text": [
      ">>Planning SQL Query<<\n"
     ]
    }
   ],
   "source": [
    "print(\">>Planning SQL Query<<\")"
   ]
  },
  {
   "cell_type": "code",
   "execution_count": 63,
   "id": "4fe83f0c-9197-4ba2-9d75-2317a6e8614f",
   "metadata": {},
   "outputs": [
    {
     "name": "stdout",
     "output_type": "stream",
     "text": [
      ">>Student Task - Write the SQL Query<< مهمة الطالب - كتابة استعلام SQL\n"
     ]
    }
   ],
   "source": [
    "print(\">>Student Task - Write the SQL Query<<\",\"مهمة الطالب - كتابة استعلام SQL\")"
   ]
  },
  {
   "cell_type": "code",
   "execution_count": 65,
   "id": "baf38103-8920-44b7-ba65-323abb2e83a0",
   "metadata": {},
   "outputs": [
    {
     "name": "stdout",
     "output_type": "stream",
     "text": [
      "Select gl.FactGLTranID,gl.GLTranAmount From FactGLTran as gl;\n"
     ]
    }
   ],
   "source": [
    "print(\"Select gl.FactGLTranID,gl.GLTranAmount From FactGLTran as gl;\")"
   ]
  },
  {
   "cell_type": "code",
   "execution_count": 67,
   "id": "f8b72593-7d68-43f8-a273-da127f33a18f",
   "metadata": {},
   "outputs": [
    {
     "name": "stdout",
     "output_type": "stream",
     "text": [
      "Student Task Review - SQL Query Part 1\n",
      ">>مراجعة مهمة الطالب - استعلام SQL الجزء 1<<\n"
     ]
    }
   ],
   "source": [
    "print(\"Student Task Review - SQL Query Part 1\")\n",
    "print(\">>مراجعة مهمة الطالب - استعلام SQL الجزء 1<<\")"
   ]
  },
  {
   "cell_type": "code",
   "execution_count": 69,
   "id": "745dbdc5-90e0-4d68-a26e-7740c3d63746",
   "metadata": {},
   "outputs": [
    {
     "name": "stdout",
     "output_type": "stream",
     "text": [
      "Student Task Review - SQL Query Part 2\n",
      "مراجعة مهمة الطالب - استعلام SQL الجزء الثاني\n"
     ]
    }
   ],
   "source": [
    "print(\"Student Task Review - SQL Query Part 2\")\n",
    "print(\"مراجعة مهمة الطالب - استعلام SQL الجزء الثاني\")"
   ]
  },
  {
   "cell_type": "code",
   "execution_count": 70,
   "id": "c63ba93a-45d4-4d81-9253-6cdd6553736a",
   "metadata": {},
   "outputs": [
    {
     "name": "stdout",
     "output_type": "stream",
     "text": [
      ">>Create the SQL View<< إنشاء عرض SQL\n"
     ]
    }
   ],
   "source": [
    "print(\">>Create the SQL View<<\",\"إنشاء عرض SQL\")"
   ]
  },
  {
   "cell_type": "code",
   "execution_count": 71,
   "id": "577e2e18-f383-482f-ba26-af8308ba0942",
   "metadata": {},
   "outputs": [
    {
     "name": "stdout",
     "output_type": "stream",
     "text": [
      "Chapter Review مراجعة الفصل\n"
     ]
    }
   ],
   "source": [
    "print(\"Chapter Review\",\"مراجعة الفصل\")"
   ]
  },
  {
   "cell_type": "code",
   "execution_count": 72,
   "id": "aae1457c-aec0-4c5b-a2c6-1be6bc792f03",
   "metadata": {},
   "outputs": [
    {
     "name": "stdout",
     "output_type": "stream",
     "text": [
      "Financial Statements in Power BI>>Module 3>>Introduction - Create the Data Model\n"
     ]
    }
   ],
   "source": [
    "print(\"Financial Statements in Power BI>>Module 3>>Introduction - Create the Data Model\")"
   ]
  },
  {
   "cell_type": "code",
   "execution_count": 74,
   "id": "1dda1606-88d0-4a9d-9be9-9853221afddf",
   "metadata": {},
   "outputs": [
    {
     "name": "stdout",
     "output_type": "stream",
     "text": [
      ">>Create the Data Model إنشاء نموذج البيانات<<\n"
     ]
    }
   ],
   "source": [
    "print(\">>Create the Data Model\",\"إنشاء نموذج البيانات<<\")"
   ]
  },
  {
   "cell_type": "code",
   "execution_count": 75,
   "id": "54c01b85-767f-4860-8905-08e2ab4cac20",
   "metadata": {},
   "outputs": [
    {
     "name": "stdout",
     "output_type": "stream",
     "text": [
      "إنشاء نموذج البيانات\n"
     ]
    }
   ],
   "source": [
    "print(\"إنشاء نموذج البيانات\")"
   ]
  },
  {
   "cell_type": "code",
   "execution_count": 76,
   "id": "7a80b5d8-f184-4836-bec0-bde0e936fea7",
   "metadata": {},
   "outputs": [
    {
     "name": "stdout",
     "output_type": "stream",
     "text": [
      "Data & Create Data Model\n"
     ]
    }
   ],
   "source": [
    "print(\"Data & Create Data Model\")"
   ]
  },
  {
   "cell_type": "code",
   "execution_count": 82,
   "id": "8f94ffde-a9ee-4147-81f8-d21d127c9892",
   "metadata": {},
   "outputs": [
    {
     "name": "stdout",
     "output_type": "stream",
     "text": [
      "1>>Power Query Editor. محرر Power Query.\n",
      "2>>Staging Query. استعلام مرحلي\n",
      "3>>Fact and Dimension Queries. استعلامات الحقائق والأبعاد\n",
      "4>>Create the Data Model. إنشاء نموذج البيانات.\n",
      "5>>Create a DAX measure. إنشاء مقياس DAX.\n"
     ]
    }
   ],
   "source": [
    "print(\"1>>Power Query Editor.\",\"محرر Power Query.\")\n",
    "print(\"2>>Staging Query.\",\"استعلام مرحلي\")\n",
    "print(\"3>>Fact and Dimension Queries.\",\"استعلامات الحقائق والأبعاد\")\n",
    "print(\"4>>Create the Data Model.\",\"إنشاء نموذج البيانات.\")\n",
    "print(\"5>>Create a DAX measure.\",\"إنشاء مقياس DAX.\")"
   ]
  },
  {
   "cell_type": "code",
   "execution_count": 83,
   "id": "9de7eec5-270f-4a3d-a71c-49aedb03f01e",
   "metadata": {},
   "outputs": [
    {
     "name": "stdout",
     "output_type": "stream",
     "text": [
      ">>Create the Staging Query<< إنشاء استعلام المرحلة\n"
     ]
    }
   ],
   "source": [
    "print(\">>Create the Staging Query<<\",\"إنشاء استعلام المرحلة\")"
   ]
  },
  {
   "cell_type": "code",
   "execution_count": 84,
   "id": "6acfd6c6-e291-4df3-b81d-b00c80590b11",
   "metadata": {},
   "outputs": [
    {
     "name": "stdout",
     "output_type": "stream",
     "text": [
      "Right Click Query>>>power query disable load or Enable load.\n"
     ]
    }
   ],
   "source": [
    "print(\"Right Click Query>>>power query disable load or Enable load.\")"
   ]
  },
  {
   "cell_type": "code",
   "execution_count": 86,
   "id": "855c62e0-4537-4608-9399-d757d9b98dd1",
   "metadata": {},
   "outputs": [
    {
     "name": "stdout",
     "output_type": "stream",
     "text": [
      ">>Create the Fact and Dimension Tables<< >>إنشاء جداول الحقائق والأبعاد<<\n"
     ]
    }
   ],
   "source": [
    "print(\">>Create the Fact and Dimension Tables<<\",\">>إنشاء جداول الحقائق والأبعاد<<\")"
   ]
  },
  {
   "cell_type": "code",
   "execution_count": 87,
   "id": "247d55b3-f253-4cb5-a374-f0fa07cc558c",
   "metadata": {},
   "outputs": [
    {
     "name": "stdout",
     "output_type": "stream",
     "text": [
      ">>Create the Fact and Dimension Tables<<\n"
     ]
    }
   ],
   "source": [
    "print(\">>Create the Fact and Dimension Tables<<\")"
   ]
  },
  {
   "cell_type": "code",
   "execution_count": 88,
   "id": "71bd89a2-9348-43ed-b0a4-1cf74a7926be",
   "metadata": {},
   "outputs": [
    {
     "name": "stdout",
     "output_type": "stream",
     "text": [
      ">>Create the Remaining Dimension Tables<< إنشاء جداول الأبعاد المتبقية\n"
     ]
    }
   ],
   "source": [
    "print(\">>Create the Remaining Dimension Tables<<\",\"إنشاء جداول الأبعاد المتبقية\")"
   ]
  },
  {
   "cell_type": "code",
   "execution_count": 90,
   "id": "58acbe9c-0c6d-4a76-8ca9-217a764ac008",
   "metadata": {},
   "outputs": [
    {
     "name": "stdout",
     "output_type": "stream",
     "text": [
      ">>Student Task - Create the Data Model<< مهمة الطالب - إنشاء نموذج البيانات\n"
     ]
    }
   ],
   "source": [
    "print(\">>Student Task - Create the Data Model<<\",\"مهمة الطالب - إنشاء نموذج البيانات\")"
   ]
  },
  {
   "cell_type": "code",
   "execution_count": 93,
   "id": "2114d901-e4c6-43c2-93da-0a9a9f9d0eda",
   "metadata": {},
   "outputs": [
    {
     "name": "stdout",
     "output_type": "stream",
     "text": [
      ">>Create the Data Model<< إنشاء نموذج البيانات<<\n"
     ]
    }
   ],
   "source": [
    "print(\">>Create the Data Model<<\",\"إنشاء نموذج البيانات<<\")"
   ]
  },
  {
   "cell_type": "code",
   "execution_count": 95,
   "id": "d9ef4269-53f1-41c3-bb24-6ebdbe9614ff",
   "metadata": {},
   "outputs": [
    {
     "name": "stdout",
     "output_type": "stream",
     "text": [
      ">>Student Task - Create the Data Model<< إنشاء نموذج البيانات\n"
     ]
    }
   ],
   "source": [
    "print(\">>Student Task - Create the Data Model<<\",\"إنشاء نموذج البيانات\")"
   ]
  },
  {
   "cell_type": "code",
   "execution_count": 97,
   "id": "3719c62c-67c1-415b-b9b3-9dbd24c57685",
   "metadata": {},
   "outputs": [
    {
     "name": "stdout",
     "output_type": "stream",
     "text": [
      "Student Task - Create the Data Model إنشاء نموذج البيانات\n"
     ]
    }
   ],
   "source": [
    "print(\"Student Task - Create the Data Model\",\"إنشاء نموذج البيانات\")"
   ]
  },
  {
   "cell_type": "code",
   "execution_count": 98,
   "id": "103af9bd-3a58-4c77-95b8-c9427ed9729e",
   "metadata": {},
   "outputs": [
    {
     "name": "stdout",
     "output_type": "stream",
     "text": [
      ">>Student Task Review - Create the Data Model<< مراجعة مهمة الطالب - إنشاء نموذج البيانات\n"
     ]
    }
   ],
   "source": [
    "print(\">>Student Task Review - Create the Data Model<<\",\"مراجعة مهمة الطالب - إنشاء نموذج البيانات\")"
   ]
  },
  {
   "cell_type": "code",
   "execution_count": 100,
   "id": "2920369b-aa6d-4017-9bab-66b1b19a345f",
   "metadata": {},
   "outputs": [
    {
     "name": "stdout",
     "output_type": "stream",
     "text": [
      "<<Create SumAmount Measure>> <<إنشاء مقياس SumAmount>>\n"
     ]
    }
   ],
   "source": [
    "print(\"<<Create SumAmount Measure>>\",\"<<إنشاء مقياس SumAmount>>\")"
   ]
  },
  {
   "cell_type": "code",
   "execution_count": 101,
   "id": "4615faa4-d2d6-465a-8061-b1647d22f81f",
   "metadata": {},
   "outputs": [
    {
     "name": "stdout",
     "output_type": "stream",
     "text": [
      "Create SumAmount Measure Create SumAmount Measure\n"
     ]
    }
   ],
   "source": [
    "print(\"Create SumAmount Measure\",\"Create SumAmount Measure\")"
   ]
  },
  {
   "cell_type": "code",
   "execution_count": 102,
   "id": "60d1b84b-a3e3-4dff-9c6f-b0a696b11d17",
   "metadata": {},
   "outputs": [
    {
     "name": "stdout",
     "output_type": "stream",
     "text": [
      " \n",
      "First, we connected to a SQL view as a data source within the Power Query editor. \n",
      "We created a staging query which we referenced to create our Fact and Dimension tables.\n",
      "Play video starting at ::21 and follow transcript0:21\n",
      "We loaded these tables into our data model. From there, \n",
      "We built a simple DAX measure, sum amount. \n",
      "We use sum amount and the existing data model to build the start \n",
      "of our financial statements. \n",
      "There are still some issues that we need to resolve as we move forward, \n",
      "but the techniques that we covered are applicable to a wide range of scenarios. \n",
      "Building the data model provides the foundation for a robust report and \n",
      "will allow us to fulfill the requirements that were given to us.\n",
      "\n"
     ]
    }
   ],
   "source": [
    "print(\"\"\" \n",
    "First, we connected to a SQL view as a data source within the Power Query editor. \n",
    "We created a staging query which we referenced to create our Fact and Dimension tables.\n",
    "Play video starting at ::21 and follow transcript0:21\n",
    "We loaded these tables into our data model. From there, \n",
    "We built a simple DAX measure, sum amount. \n",
    "We use sum amount and the existing data model to build the start \n",
    "of our financial statements. \n",
    "There are still some issues that we need to resolve as we move forward, \n",
    "but the techniques that we covered are applicable to a wide range of scenarios. \n",
    "Building the data model provides the foundation for a robust report and \n",
    "will allow us to fulfill the requirements that were given to us.\n",
    "\"\"\")"
   ]
  },
  {
   "cell_type": "code",
   "execution_count": 1,
   "id": "93cd1cae-6b16-4680-8678-a444392db076",
   "metadata": {},
   "outputs": [
    {
     "name": "stdout",
     "output_type": "stream",
     "text": [
      ">>Financial Statements in Power BI>>Module 5>>Introduction - Income Statement<<\n"
     ]
    }
   ],
   "source": [
    "print(\">>Financial Statements in Power BI>>Module 5>>Introduction - Income Statement<<\")"
   ]
  },
  {
   "cell_type": "code",
   "execution_count": 4,
   "id": "4f10fd98-a2e2-4fac-80d9-ee48846dfb53",
   "metadata": {},
   "outputs": [
    {
     "name": "stdout",
     "output_type": "stream",
     "text": [
      ">>Introduction - Income Statement مقدمة - بيان الدخل<<\n"
     ]
    }
   ],
   "source": [
    "print(\">>Introduction - Income Statement\",\"مقدمة - بيان الدخل<<\")"
   ]
  },
  {
   "cell_type": "code",
   "execution_count": 6,
   "id": "6cdf2625-7ca8-413d-b4be-29013189eb6d",
   "metadata": {},
   "outputs": [
    {
     "name": "stdout",
     "output_type": "stream",
     "text": [
      ">>Build Income Statement Using Power BI<< إنشاء بيان الدخل باستخدام Power BI\n"
     ]
    }
   ],
   "source": [
    "print(\">>Build Income Statement Using Power BI<<\",\"إنشاء بيان الدخل باستخدام Power BI\")"
   ]
  },
  {
   "cell_type": "code",
   "execution_count": 12,
   "id": "8019d37f-7855-49e0-bec9-409d6744ab04",
   "metadata": {},
   "outputs": [
    {
     "name": "stdout",
     "output_type": "stream",
     "text": [
      ">>{Expenses} are typically divided into {Cost of Goods Sold}, {Operating Costs}, {Interest Payments}, and {Taxes}.<<\n",
      "يتم تقسيم {النفقات} عادةً إلى {تكلفة البضائع المباعة} و{تكاليف التشغيل} و{مدفوعات الفائدة} و{الضرائب}\n"
     ]
    }
   ],
   "source": [
    "print(\">>{Expenses} are typically divided into {Cost of Goods Sold}, {Operating Costs}, {Interest Payments}, and {Taxes}.<<\")\n",
    "print(\"يتم تقسيم {النفقات} عادةً إلى {تكلفة البضائع المباعة} و{تكاليف التشغيل} و{مدفوعات الفائدة} و{الضرائب}\")"
   ]
  },
  {
   "cell_type": "code",
   "execution_count": 13,
   "id": "2d0f6f15-7273-4967-96b0-b36476a12123",
   "metadata": {},
   "outputs": [
    {
     "name": "stdout",
     "output_type": "stream",
     "text": [
      "<<المهندس أحمد عبدالمنعم المحترم>>\n"
     ]
    }
   ],
   "source": [
    "print(\"<<المهندس أحمد عبدالمنعم المحترم>>\")"
   ]
  },
  {
   "cell_type": "code",
   "execution_count": 17,
   "id": "390527a5-a403-46eb-9126-6d1e9b8acb20",
   "metadata": {},
   "outputs": [
    {
     "name": "stdout",
     "output_type": "stream",
     "text": [
      "Over The Reproting Period خلال فترة التقرير\n",
      "ProfiTability الربحية\n",
      "SubTotal Sections المجموع الفرعي للأقسام\n"
     ]
    }
   ],
   "source": [
    "print(\"Over The Reproting Period\",\"خلال فترة التقرير\")\n",
    "print(\"ProfiTability\",\"الربحية\")\n",
    "print(\"SubTotal Sections\",\"المجموع الفرعي للأقسام\")"
   ]
  },
  {
   "cell_type": "code",
   "execution_count": 18,
   "id": "fcab7560-f879-4414-b8e1-4144b1060942",
   "metadata": {},
   "outputs": [
    {
     "name": "stdout",
     "output_type": "stream",
     "text": [
      "<<المهندس أحمد عبدالمنعم المحترم>><<علي صوتك في المذاكرة>>\n"
     ]
    }
   ],
   "source": [
    "print(\"<<المهندس أحمد عبدالمنعم المحترم>><<علي صوتك في المذاكرة>>\")"
   ]
  },
  {
   "cell_type": "code",
   "execution_count": 21,
   "id": "539761bb-9db2-4a3c-8e05-f718d81d7dc0",
   "metadata": {},
   "outputs": [
    {
     "name": "stdout",
     "output_type": "stream",
     "text": [
      ">>Financial Statements with Existing Data Model<<\n",
      ">>القوائم المالية مع نموذج البيانات الحالي<<\n"
     ]
    }
   ],
   "source": [
    "print(\">>Financial Statements with Existing Data Model<<\")\n",
    "print(\">>القوائم المالية مع نموذج البيانات الحالي<<\")"
   ]
  },
  {
   "cell_type": "code",
   "execution_count": 22,
   "id": "7b8b1b2a-f86a-4c18-a4ea-b9833c440d42",
   "metadata": {},
   "outputs": [
    {
     "name": "stdout",
     "output_type": "stream",
     "text": [
      ">>Financial Statements with Existing Data Model<<\n"
     ]
    }
   ],
   "source": [
    "print(\">>Financial Statements with Existing Data Model<<\")"
   ]
  },
  {
   "cell_type": "code",
   "execution_count": 23,
   "id": "dfe66c2f-8b60-43a1-b40b-64a08a0029de",
   "metadata": {},
   "outputs": [
    {
     "name": "stdout",
     "output_type": "stream",
     "text": [
      ">>Create Headers Table in Excel<< إنشاء جدول الرؤوس في Excel\n"
     ]
    }
   ],
   "source": [
    "print(\">>Create Headers Table in Excel<<\",\"إنشاء جدول الرؤوس في Excel\")"
   ]
  },
  {
   "cell_type": "code",
   "execution_count": 26,
   "id": "c12ceeb4-c633-4ae2-a471-c65763770ce2",
   "metadata": {},
   "outputs": [
    {
     "name": "stdout",
     "output_type": "stream",
     "text": [
      ">>Import Headers Table into Power BI<<\n",
      ">>>>استيراد جدول الرؤوس إلى Power BI<<<<\n"
     ]
    }
   ],
   "source": [
    "print(\">>Import Headers Table into Power BI<<\")\n",
    "print(\">>>>استيراد جدول الرؤوس إلى Power BI<<<<\")"
   ]
  },
  {
   "cell_type": "code",
   "execution_count": 27,
   "id": "cfde39d4-41dc-4a5a-9729-c12f1a9fe541",
   "metadata": {},
   "outputs": [
    {
     "name": "stdout",
     "output_type": "stream",
     "text": [
      "Import Headers Table into Power BI\n"
     ]
    }
   ],
   "source": [
    "print(\"Import Headers Table into Power BI\")"
   ]
  },
  {
   "cell_type": "code",
   "execution_count": 29,
   "id": "9c59f923-43ab-4bc7-9e7e-9e30353f6429",
   "metadata": {},
   "outputs": [
    {
     "name": "stdout",
     "output_type": "stream",
     "text": [
      ">>Create I/S Amount Measure<< >>إنشاء مقياس مبلغ I/S<<\n"
     ]
    }
   ],
   "source": [
    "print(\">>Create I/S Amount Measure<<\",\">>إنشاء مقياس مبلغ I/S<<\")"
   ]
  },
  {
   "cell_type": "code",
   "execution_count": 30,
   "id": "e3d43f55-1c3d-467a-ab95-53c073dc415e",
   "metadata": {},
   "outputs": [
    {
     "name": "stdout",
     "output_type": "stream",
     "text": [
      ">>Create I/S Subtotal Measure<< إنشاء مقياس المجموع الفرعي I/S\n"
     ]
    }
   ],
   "source": [
    "print(\">>Create I/S Subtotal Measure<<\",\"إنشاء مقياس المجموع الفرعي I/S\")"
   ]
  },
  {
   "cell_type": "code",
   "execution_count": 31,
   "id": "3e3a0235-90e1-460f-a665-f981a74360a5",
   "metadata": {},
   "outputs": [
    {
     "name": "stdout",
     "output_type": "stream",
     "text": [
      ">>-----------------------------------------------------<<\n"
     ]
    }
   ],
   "source": [
    "print(\">>-----------------------------------------------------<<\")"
   ]
  },
  {
   "cell_type": "code",
   "execution_count": 33,
   "id": "230f97a4-04b3-48a4-bf72-72d6976aae89",
   "metadata": {},
   "outputs": [
    {
     "name": "stdout",
     "output_type": "stream",
     "text": [
      "<<DAX Functions>>\n",
      "<<Data Analysis Expressions (DAX) is a library of functions>> هي مكتبة من الوظائف\n"
     ]
    }
   ],
   "source": [
    "print(\"<<DAX Functions>>\")\n",
    "print(\"<<Data Analysis Expressions (DAX) is a library of functions>>\",\"هي مكتبة من الوظائف\")"
   ]
  },
  {
   "cell_type": "code",
   "execution_count": 34,
   "id": "14a59fc2-b2b2-4fbe-9f1c-ec9cfc91b2f0",
   "metadata": {},
   "outputs": [
    {
     "name": "stdout",
     "output_type": "stream",
     "text": [
      ">>Financial Statements in Power BI>>Module 5>>Exercise 3 | DAX Functions<<\n"
     ]
    }
   ],
   "source": [
    "print(\">>Financial Statements in Power BI>>Module 5>>Exercise 3 | DAX Functions<<\")"
   ]
  },
  {
   "cell_type": "code",
   "execution_count": 36,
   "id": "f45cbe07-721b-4a0c-9844-94b3caa5ca27",
   "metadata": {},
   "outputs": [
    {
     "name": "stdout",
     "output_type": "stream",
     "text": [
      ">>Create Income Statement Measure with SWITCH()<<\n",
      ">>>>إنشاء مقياس بيان الدخل باستخدام SWITCH()<<<<\n"
     ]
    }
   ],
   "source": [
    "print(\">>Create Income Statement Measure with SWITCH()<<\")\n",
    "print(\">>>>إنشاء مقياس بيان الدخل باستخدام SWITCH()<<<<\")"
   ]
  },
  {
   "cell_type": "code",
   "execution_count": 37,
   "id": "b2c40fa1-4547-4e0d-afc1-6aeee100c921",
   "metadata": {},
   "outputs": [
    {
     "name": "stdout",
     "output_type": "stream",
     "text": [
      ">>Create % of Revenue Measure<< إنشاء نسبة مئوية من مقياس الإيرادات\n"
     ]
    }
   ],
   "source": [
    "print(\">>Create % of Revenue Measure<<\",\"إنشاء نسبة مئوية من مقياس الإيرادات\")"
   ]
  },
  {
   "cell_type": "code",
   "execution_count": 39,
   "id": "539b51e3-a19a-4e24-baba-434c1b63d0ef",
   "metadata": {},
   "outputs": [
    {
     "name": "stdout",
     "output_type": "stream",
     "text": [
      ">>Format % of Revenue Measure<< تنسيق % من مقياس الإيرادات<<\n"
     ]
    }
   ],
   "source": [
    "print(\">>Format % of Revenue Measure<<\",\"تنسيق % من مقياس الإيرادات<<\")"
   ]
  },
  {
   "cell_type": "code",
   "execution_count": 41,
   "id": "f6eccb82-0238-482d-b078-19af390758d1",
   "metadata": {},
   "outputs": [
    {
     "name": "stdout",
     "output_type": "stream",
     "text": [
      ">>Fina_lize the Income Statement Measure<<\n",
      ">>إكمال مقياس بيان الدخل<<\n"
     ]
    }
   ],
   "source": [
    "print(\">>Fina_lize the Income Statement Measure<<\")\n",
    "print(\">>إكمال مقياس بيان الدخل<<\")"
   ]
  },
  {
   "cell_type": "code",
   "execution_count": 43,
   "id": "af22dde2-f413-40a1-84fb-3fb2cfc672e4",
   "metadata": {},
   "outputs": [
    {
     "name": "stdout",
     "output_type": "stream",
     "text": [
      ">>Create Subcategory Display Filter<< إنشاء مرشح عرض الفئة الفرعية<<\n"
     ]
    }
   ],
   "source": [
    "print(\">>Create Subcategory Display Filter<<\",\"إنشاء مرشح عرض الفئة الفرعية<<\")"
   ]
  },
  {
   "cell_type": "code",
   "execution_count": 45,
   "id": "86536a72-075e-4266-872d-b667bca20fc7",
   "metadata": {},
   "outputs": [
    {
     "name": "stdout",
     "output_type": "stream",
     "text": [
      ">>Finalize the Income Statement<< الانتهاء من بيان الدخل<<\n"
     ]
    }
   ],
   "source": [
    "print(\">>Finalize the Income Statement<<\",\"الانتهاء من بيان الدخل<<\")"
   ]
  },
  {
   "cell_type": "code",
   "execution_count": 1,
   "id": "d471e86a-30a4-4498-9efe-d085a21d71d5",
   "metadata": {},
   "outputs": [
    {
     "name": "stdout",
     "output_type": "stream",
     "text": [
      ">>Finalize the Income Statement<< الانتهاء من بيان الدخل\n"
     ]
    }
   ],
   "source": [
    "print(\">>Finalize the Income Statement<<\",\"الانتهاء من بيان الدخل\")"
   ]
  },
  {
   "cell_type": "code",
   "execution_count": 2,
   "id": "708d8fe6-3b14-44eb-afa6-dc6cfde642ef",
   "metadata": {},
   "outputs": [
    {
     "name": "stdout",
     "output_type": "stream",
     "text": [
      ">>Add Data Refresh Date<< إضافة تاريخ تحديث البيانات\n"
     ]
    }
   ],
   "source": [
    "print(\">>Add Data Refresh Date<<\",\"إضافة تاريخ تحديث البيانات\")"
   ]
  },
  {
   "cell_type": "code",
   "execution_count": 4,
   "id": "8f86e83b-ca18-4730-853f-bafb33ebb445",
   "metadata": {},
   "outputs": [
    {
     "name": "stdout",
     "output_type": "stream",
     "text": [
      ">>Format the Power BI Report<< >>تنسيق تقرير Power BI<<\n"
     ]
    }
   ],
   "source": [
    "print(\">>Format the Power BI Report<<\",\">>تنسيق تقرير Power BI<<\")"
   ]
  },
  {
   "cell_type": "code",
   "execution_count": 5,
   "id": "ec50f226-895d-426d-99ce-0b7814c9fde0",
   "metadata": {},
   "outputs": [
    {
     "name": "stdout",
     "output_type": "stream",
     "text": [
      ">>Format the Power BI Report<< تنسيق تقرير Power BI\n"
     ]
    }
   ],
   "source": [
    "print(\">>Format the Power BI Report<<\",\"تنسيق تقرير Power BI\")"
   ]
  },
  {
   "cell_type": "code",
   "execution_count": 6,
   "id": "b4e0ac2a-edd0-43a9-bd8a-b2855ff5fed1",
   "metadata": {},
   "outputs": [
    {
     "name": "stdout",
     "output_type": "stream",
     "text": [
      ">>Create the Waterfall Chart Visual<< إنشاء مخطط الشلال المرئي\n"
     ]
    }
   ],
   "source": [
    "print(\">>Create the Waterfall Chart Visual<<\",\"إنشاء مخطط الشلال المرئي\")"
   ]
  },
  {
   "cell_type": "code",
   "execution_count": 7,
   "id": "f801a89f-e7af-46c9-9447-2be289b9753b",
   "metadata": {},
   "outputs": [
    {
     "name": "stdout",
     "output_type": "stream",
     "text": [
      ">>Chapter Exercise - Income Statement<< تمرين الفصل - بيان الدخل\n"
     ]
    }
   ],
   "source": [
    "print(\">>Chapter Exercise - Income Statement<<\",\"تمرين الفصل - بيان الدخل\")"
   ]
  },
  {
   "cell_type": "code",
   "execution_count": 8,
   "id": "907df6d6-5efb-461f-81d2-df59f44b6149",
   "metadata": {},
   "outputs": [
    {
     "name": "stdout",
     "output_type": "stream",
     "text": [
      ">>Financial Statements in Power BI<<Module 7>>Chapter Introduction - Balance Sheet<<\n"
     ]
    }
   ],
   "source": [
    "print(\">>Financial Statements in Power BI<<Module 7>>Chapter Introduction - Balance Sheet<<\")"
   ]
  },
  {
   "cell_type": "code",
   "execution_count": 10,
   "id": "5fbdf880-8381-4b11-8222-a32b723d522c",
   "metadata": {},
   "outputs": [
    {
     "name": "stdout",
     "output_type": "stream",
     "text": [
      ">>مقدمة الفصل - الميزانية العمومية<<\n"
     ]
    }
   ],
   "source": [
    "print(\">>مقدمة الفصل - الميزانية العمومية<<\")"
   ]
  },
  {
   "cell_type": "code",
   "execution_count": 13,
   "id": "c2126f51-cf98-4148-8129-3c1022df8976",
   "metadata": {},
   "outputs": [
    {
     "name": "stdout",
     "output_type": "stream",
     "text": [
      ">>Balance Sheet Report in PowerBI<< تقرير الميزانية العمومية في PowerBI\n"
     ]
    }
   ],
   "source": [
    "print(\">>Balance Sheet Report in PowerBI<<\",\"تقرير الميزانية العمومية في PowerBI\")"
   ]
  },
  {
   "cell_type": "code",
   "execution_count": 1,
   "id": "bfa2f7cf-85b0-47a3-b790-e9051a572d32",
   "metadata": {},
   "outputs": [
    {
     "name": "stdout",
     "output_type": "stream",
     "text": [
      ">>financial statements<< البيانات المالية\n"
     ]
    }
   ],
   "source": [
    "print(\">>financial statements<<\",\"البيانات المالية\")"
   ]
  },
  {
   "cell_type": "code",
   "execution_count": 2,
   "id": "b2d45bac-a8d4-434e-a992-de513b5e5d50",
   "metadata": {},
   "outputs": [
    {
     "name": "stdout",
     "output_type": "stream",
     "text": [
      ">>Chapter Introduction - Balance Sheet<<\n"
     ]
    }
   ],
   "source": [
    "print(\">>Chapter Introduction - Balance Sheet<<\")"
   ]
  },
  {
   "cell_type": "code",
   "execution_count": 4,
   "id": "70d5724b-a1ed-4cc7-befd-782330922963",
   "metadata": {},
   "outputs": [
    {
     "name": "stdout",
     "output_type": "stream",
     "text": [
      "Balance Sheet In Power BI الميزانية العمومية في Power BI\n"
     ]
    }
   ],
   "source": [
    "print(\"Balance Sheet In Power BI\",\"الميزانية العمومية في Power BI\")"
   ]
  },
  {
   "cell_type": "code",
   "execution_count": 5,
   "id": "b341568c-fdf1-4cd7-af46-10a1ecb03d2d",
   "metadata": {},
   "outputs": [
    {
     "name": "stdout",
     "output_type": "stream",
     "text": [
      ">>Update the Headers Table<< تحديث جدول الرؤوس\n"
     ]
    }
   ],
   "source": [
    "print(\">>Update the Headers Table<<\",\"تحديث جدول الرؤوس\")"
   ]
  },
  {
   "cell_type": "code",
   "execution_count": 6,
   "id": "4cf9d5ba-2f5a-44be-adb4-02be65e73f0c",
   "metadata": {},
   "outputs": [
    {
     "name": "stdout",
     "output_type": "stream",
     "text": [
      ">>Create B/S Amount Measure<< إنشاء مقياس مبلغ الميزانية العمومية\n"
     ]
    }
   ],
   "source": [
    "print(\">>Create B/S Amount Measure<<\",\"إنشاء مقياس مبلغ الميزانية العمومية\")"
   ]
  },
  {
   "cell_type": "code",
   "execution_count": 7,
   "id": "a23669ee-5735-4049-887f-b4740d93b7da",
   "metadata": {},
   "outputs": [
    {
     "name": "stdout",
     "output_type": "stream",
     "text": [
      ">>Create Cumulative Amount Measure<< إنشاء مقياس المبلغ التراكمي\n"
     ]
    }
   ],
   "source": [
    "print(\">>Create Cumulative Amount Measure<<\",\"إنشاء مقياس المبلغ التراكمي\")"
   ]
  },
  {
   "cell_type": "code",
   "execution_count": 8,
   "id": "6e8a93fa-7657-4108-8ff9-7188868a0cdc",
   "metadata": {},
   "outputs": [
    {
     "name": "stdout",
     "output_type": "stream",
     "text": [
      ">>Create B/S Subtotal Measure<< إنشاء مقياس المجموع الفرعي للميزانية/الميزانية\n"
     ]
    }
   ],
   "source": [
    "print(\">>Create B/S Subtotal Measure<<\",\"إنشاء مقياس المجموع الفرعي للميزانية/الميزانية\")"
   ]
  },
  {
   "cell_type": "code",
   "execution_count": 2,
   "id": "b4814aa3-73da-4962-8af3-3f79160dea11",
   "metadata": {},
   "outputs": [
    {
     "name": "stdout",
     "output_type": "stream",
     "text": [
      ">>Create {Balance Sheet Measure} with SWITCH()<<\n",
      "إنشاء مقياس الميزانية العمومية باستخدام SWITCH()\n"
     ]
    }
   ],
   "source": [
    "print(\">>Create {Balance Sheet Measure} with SWITCH()<<\")\n",
    "print(\"إنشاء مقياس الميزانية العمومية باستخدام SWITCH()\")"
   ]
  },
  {
   "cell_type": "code",
   "execution_count": 4,
   "id": "a995d7ff-f70a-4dbc-9fe8-d3db46568a76",
   "metadata": {},
   "outputs": [
    {
     "name": "stdout",
     "output_type": "stream",
     "text": [
      "<<Create Opening Retained Earnings Measure>>\n",
      "<<إنشاء مقياس الأرباح المحتجزة الافتتاحي>>\n"
     ]
    }
   ],
   "source": [
    "print(\"<<Create Opening Retained Earnings Measure>>\")\n",
    "print(\"<<إنشاء مقياس الأرباح المحتجزة الافتتاحي>>\")"
   ]
  },
  {
   "cell_type": "code",
   "execution_count": 5,
   "id": "6b2bcc86-5520-43d1-bcac-48b2cd0d9d74",
   "metadata": {},
   "outputs": [
    {
     "name": "stdout",
     "output_type": "stream",
     "text": [
      ">>Create Retained Earnings Measure<< إنشاء مقياس للأرباح المحتجزة\n"
     ]
    }
   ],
   "source": [
    "print(\">>Create Retained Earnings Measure<<\",\"إنشاء مقياس للأرباح المحتجزة\")"
   ]
  },
  {
   "cell_type": "code",
   "execution_count": 6,
   "id": "55538631-c32d-4c83-b180-ba69f2db6bda",
   "metadata": {},
   "outputs": [
    {
     "name": "stdout",
     "output_type": "stream",
     "text": [
      ">>Create Total Equity Measure<< إنشاء مقياس إجمالي حقوق الملكية\n"
     ]
    }
   ],
   "source": [
    "print(\">>Create Total Equity Measure<<\",\"إنشاء مقياس إجمالي حقوق الملكية\")"
   ]
  },
  {
   "cell_type": "code",
   "execution_count": 8,
   "id": "6d4ce80b-4fa9-47e4-941c-396f5351aab3",
   "metadata": {},
   "outputs": [
    {
     "name": "stdout",
     "output_type": "stream",
     "text": [
      ">>Create Total Liabilities & Equity Measure<<\n",
      "إنشاء مقياس إجمالي الالتزامات وحقوق الملكية\n"
     ]
    }
   ],
   "source": [
    "print(\">>Create Total Liabilities & Equity Measure<<\")\n",
    "print(\"إنشاء مقياس إجمالي الالتزامات وحقوق الملكية\")"
   ]
  },
  {
   "cell_type": "code",
   "execution_count": 9,
   "id": "18a61a6f-5926-4bd3-833c-c1bbafb7768c",
   "metadata": {},
   "outputs": [
    {
     "name": "stdout",
     "output_type": "stream",
     "text": [
      "<<Finalize the Balance Sheet>> <<الانتهاء من الميزانية العمومية>>\n"
     ]
    }
   ],
   "source": [
    "print(\"<<Finalize the Balance Sheet>>\",\"<<الانتهاء من الميزانية العمومية>>\")"
   ]
  },
  {
   "cell_type": "code",
   "execution_count": 10,
   "id": "e04fbe0e-9349-4540-bd76-bd31ae6e6dca",
   "metadata": {},
   "outputs": [
    {
     "name": "stdout",
     "output_type": "stream",
     "text": [
      ">>Chapter Exercise - Balance Sheet<< تمرين الفصل - الميزانية العمومية\n"
     ]
    }
   ],
   "source": [
    "print(\">>Chapter Exercise - Balance Sheet<<\",\"تمرين الفصل - الميزانية العمومية\")"
   ]
  },
  {
   "cell_type": "code",
   "execution_count": 11,
   "id": "29dd9902-2586-447c-a1f0-ea4430a59274",
   "metadata": {},
   "outputs": [
    {
     "name": "stdout",
     "output_type": "stream",
     "text": [
      ">>Add Detail and Create Additional Statements<< إضافة التفاصيل وإنشاء بيانات إضافية>>\n"
     ]
    }
   ],
   "source": [
    "print(\">>Add Detail and Create Additional Statements<<\",\"إضافة التفاصيل وإنشاء بيانات إضافية>>\")"
   ]
  },
  {
   "cell_type": "code",
   "execution_count": 12,
   "id": "cebd9343-bd72-46eb-a81c-91c6d791b72c",
   "metadata": {},
   "outputs": [
    {
     "name": "stdout",
     "output_type": "stream",
     "text": [
      ">>From Power BI to Excel<<\n"
     ]
    }
   ],
   "source": [
    "print(\">>From Power BI to Excel<<\")"
   ]
  },
  {
   "cell_type": "code",
   "execution_count": 13,
   "id": "af64656e-8f06-4ed8-9180-3ebfed581a77",
   "metadata": {},
   "outputs": [
    {
     "name": "stdout",
     "output_type": "stream",
     "text": [
      ">>Basic Example in Excel<< مثال أساسي في Excel\n"
     ]
    }
   ],
   "source": [
    "print(\">>Basic Example in Excel<<\",\"مثال أساسي في Excel\")"
   ]
  },
  {
   "cell_type": "code",
   "execution_count": 14,
   "id": "d54040dc-7866-4185-9eeb-48058a9e78fc",
   "metadata": {},
   "outputs": [
    {
     "name": "stdout",
     "output_type": "stream",
     "text": [
      ">>Financial Statements in Power BI>>Module 8>>Chapter Introduction - Cube Formulas<<\n"
     ]
    }
   ],
   "source": [
    "print(\">>Financial Statements in Power BI>>Module 8>>Chapter Introduction - Cube Formulas<<\")"
   ]
  },
  {
   "cell_type": "code",
   "execution_count": 15,
   "id": "2510d7db-2654-42b0-8a86-cb2fa69d7517",
   "metadata": {},
   "outputs": [
    {
     "name": "stdout",
     "output_type": "stream",
     "text": [
      ">>Cube Formulas<< صيغ المكعب\n"
     ]
    }
   ],
   "source": [
    "print(\">>Cube Formulas<<\",\"صيغ المكعب\")"
   ]
  },
  {
   "cell_type": "code",
   "execution_count": 17,
   "id": "96b125ba-92b7-4459-a695-c960c398d797",
   "metadata": {},
   "outputs": [
    {
     "name": "stdout",
     "output_type": "stream",
     "text": [
      "Financial Statements in Power BI>>Module 8<<Chapter Introduction - Cube Formulas\n"
     ]
    }
   ],
   "source": [
    "print(\"Financial Statements in Power BI>>Module 8<<Chapter Introduction - Cube Formulas\")"
   ]
  },
  {
   "cell_type": "code",
   "execution_count": 18,
   "id": "b0cb04a8-75e0-433c-9358-aa360a85f66c",
   "metadata": {},
   "outputs": [
    {
     "name": "stdout",
     "output_type": "stream",
     "text": [
      "Chapter Introduction - Cube Formulas\n"
     ]
    }
   ],
   "source": [
    "print(\"Chapter Introduction - Cube Formulas\")"
   ]
  },
  {
   "cell_type": "code",
   "execution_count": 20,
   "id": "b0670218-e44f-4b1b-9449-bf778de56087",
   "metadata": {},
   "outputs": [
    {
     "name": "stdout",
     "output_type": "stream",
     "text": [
      ">>Analyze In Excel Excel<<\n"
     ]
    }
   ],
   "source": [
    "print(\">>Analyze In Excel Excel<<\")"
   ]
  },
  {
   "cell_type": "code",
   "execution_count": 21,
   "id": "7072912f-db84-4062-96da-3d26c50f7ec3",
   "metadata": {},
   "outputs": [
    {
     "name": "stdout",
     "output_type": "stream",
     "text": [
      "*************************************\n"
     ]
    }
   ],
   "source": [
    "print(\"*************************************\")"
   ]
  },
  {
   "cell_type": "code",
   "execution_count": 22,
   "id": "125b4bdb-b757-4f2f-968f-1959f4540682",
   "metadata": {},
   "outputs": [
    {
     "name": "stdout",
     "output_type": "stream",
     "text": [
      "Connect to Data Mode In Excel\n"
     ]
    }
   ],
   "source": [
    "print(\"Connect to Data Mode In Excel\")"
   ]
  },
  {
   "cell_type": "code",
   "execution_count": 24,
   "id": "08149b7f-325f-4d07-9b1b-697bc5059356",
   "metadata": {},
   "outputs": [
    {
     "name": "stdout",
     "output_type": "stream",
     "text": [
      "Analyze in Excel with cube Formules تحليل في Excel باستخدام صيغ المكعب\n"
     ]
    }
   ],
   "source": [
    "print(\"Analyze in Excel with cube Formules\",\"تحليل في Excel باستخدام صيغ المكعب\")"
   ]
  },
  {
   "cell_type": "code",
   "execution_count": 25,
   "id": "ea8eb573-30ff-4398-8bd2-573c5306d542",
   "metadata": {},
   "outputs": [
    {
     "name": "stdout",
     "output_type": "stream",
     "text": [
      ">>What are Cube Formulas?<< ما هي صيغ المكعب؟<<\n"
     ]
    }
   ],
   "source": [
    "print(\">>What are Cube Formulas?<<\",\"ما هي صيغ المكعب؟<<\")"
   ]
  },
  {
   "cell_type": "code",
   "execution_count": 26,
   "id": "873f0c6f-3d9a-49fe-afc1-43bb04c3d158",
   "metadata": {},
   "outputs": [
    {
     "name": "stdout",
     "output_type": "stream",
     "text": [
      ">>A Closer Look at Cube Formulas<< نظرة عن قرب على صيغ المكعب\n"
     ]
    }
   ],
   "source": [
    "print(\">>A Closer Look at Cube Formulas<<\",\"نظرة عن قرب على صيغ المكعب\")"
   ]
  },
  {
   "cell_type": "code",
   "execution_count": 28,
   "id": "82828168-0574-4b16-b90b-65a3ccc018fe",
   "metadata": {},
   "outputs": [
    {
     "name": "stdout",
     "output_type": "stream",
     "text": [
      ">>A Closer Look at Cube Formulas<< نظرة عن قرب على صيغ المكعب>>\n"
     ]
    }
   ],
   "source": [
    "print(\">>A Closer Look at Cube Formulas<<\",\"نظرة عن قرب على صيغ المكعب>>\")"
   ]
  },
  {
   "cell_type": "code",
   "execution_count": 29,
   "id": "2fd89804-3540-42c3-9258-bd55ff1a931c",
   "metadata": {},
   "outputs": [
    {
     "name": "stdout",
     "output_type": "stream",
     "text": [
      ">>=CUBEMEMBER(“ThisWorkbookDataModel”, “[GL Transactions].[GLAccts].[All].[1000]”)<<\n"
     ]
    }
   ],
   "source": [
    "print(\">>=CUBEMEMBER(“ThisWorkbookDataModel”, “[GL Transactions].[GLAccts].[All].[1000]”)<<\")"
   ]
  },
  {
   "cell_type": "code",
   "execution_count": 30,
   "id": "185101ff-7fb1-4e1e-a363-4cd58cbb2caa",
   "metadata": {},
   "outputs": [
    {
     "name": "stdout",
     "output_type": "stream",
     "text": [
      ">>Use Slicers with Cube Formulas<< استخدام المُقطّعات مع صيغ المكعب\n"
     ]
    }
   ],
   "source": [
    "print(\">>Use Slicers with Cube Formulas<<\",\"استخدام المُقطّعات مع صيغ المكعب\")"
   ]
  },
  {
   "cell_type": "code",
   "execution_count": 31,
   "id": "824346f5-d204-4e85-8030-1792873d8d6f",
   "metadata": {},
   "outputs": [
    {
     "name": "stdout",
     "output_type": "stream",
     "text": [
      ">>Define Reporting Year Context for the Income Statement<<\n"
     ]
    }
   ],
   "source": [
    "print(\">>Define Reporting Year Context for the Income Statement<<\")"
   ]
  },
  {
   "cell_type": "code",
   "execution_count": 32,
   "id": "6cf319ac-5f38-4533-9314-0a6437d8659d",
   "metadata": {},
   "outputs": [
    {
     "name": "stdout",
     "output_type": "stream",
     "text": [
      ">>تحديد سياق سنة إعداد التقارير لبيان الدخل<<\n"
     ]
    }
   ],
   "source": [
    "print(\">>تحديد سياق سنة إعداد التقارير لبيان الدخل<<\")"
   ]
  },
  {
   "cell_type": "code",
   "execution_count": 33,
   "id": "1dfe39f6-5ed9-4268-b137-d67003ab5376",
   "metadata": {},
   "outputs": [
    {
     "name": "stdout",
     "output_type": "stream",
     "text": [
      ">>Define Reporting Year Context for the Income Statement<<\n"
     ]
    }
   ],
   "source": [
    "print(\">>Define Reporting Year Context for the Income Statement<<\")"
   ]
  },
  {
   "cell_type": "code",
   "execution_count": 34,
   "id": "f7c64687-57ac-41b3-9811-51844269f79b",
   "metadata": {},
   "outputs": [
    {
     "name": "stdout",
     "output_type": "stream",
     "text": [
      "تحديد سياق سنة إعداد التقارير لبيان الدخل\n"
     ]
    }
   ],
   "source": [
    "print(\"تحديد سياق سنة إعداد التقارير لبيان الدخل\")"
   ]
  },
  {
   "cell_type": "code",
   "execution_count": 35,
   "id": "0ba616ba-06c1-436f-8829-a7d3561328fa",
   "metadata": {},
   "outputs": [
    {
     "name": "stdout",
     "output_type": "stream",
     "text": [
      ">>Populate Basic Values of the Income Statement<<\n"
     ]
    }
   ],
   "source": [
    "print(\">>Populate Basic Values of the Income Statement<<\")"
   ]
  },
  {
   "cell_type": "code",
   "execution_count": 36,
   "id": "eb42e0d3-0d9a-41ec-a98b-b8eb2aa3c54f",
   "metadata": {},
   "outputs": [
    {
     "name": "stdout",
     "output_type": "stream",
     "text": [
      ">>املأ القيم الأساسية لبيان الدخل<<\n"
     ]
    }
   ],
   "source": [
    "print(\">>املأ القيم الأساسية لبيان الدخل<<\")"
   ]
  },
  {
   "cell_type": "code",
   "execution_count": 38,
   "id": "a0d165b7-0702-48d9-b941-8666343b8c09",
   "metadata": {},
   "outputs": [
    {
     "name": "stdout",
     "output_type": "stream",
     "text": [
      ">Student Task - Complete the Income Statement<\n",
      "أكمل بيان الدخل\n"
     ]
    }
   ],
   "source": [
    "print(\">Student Task - Complete the Income Statement<\")\n",
    "print(\"أكمل بيان الدخل\")"
   ]
  },
  {
   "cell_type": "code",
   "execution_count": 40,
   "id": "caa6411b-59fd-4ed1-9476-12673ba827b6",
   "metadata": {},
   "outputs": [
    {
     "name": "stdout",
     "output_type": "stream",
     "text": [
      ">>Student Task - Complete the Income Statement<< أكمل بيان الدخل\n"
     ]
    }
   ],
   "source": [
    "print(\">>Student Task - Complete the Income Statement<<\",\"أكمل بيان الدخل\")"
   ]
  },
  {
   "cell_type": "code",
   "execution_count": 41,
   "id": "f6bad03e-0c2f-43b6-9fc8-5088f7d1873f",
   "metadata": {},
   "outputs": [
    {
     "name": "stdout",
     "output_type": "stream",
     "text": [
      ">>Student Task Review - Complete the Income Statement<<\n"
     ]
    }
   ],
   "source": [
    "print(\">>Student Task Review - Complete the Income Statement<<\")"
   ]
  },
  {
   "cell_type": "code",
   "execution_count": 42,
   "id": "4722d194-5c59-4f22-9f17-79968f9d50d2",
   "metadata": {},
   "outputs": [
    {
     "name": "stdout",
     "output_type": "stream",
     "text": [
      "<<أكمل بيان الدخل>>\n"
     ]
    }
   ],
   "source": [
    "print(\"<<أكمل بيان الدخل>>\")"
   ]
  },
  {
   "cell_type": "code",
   "execution_count": 44,
   "id": "c15b549e-ebf0-45c5-b490-49e6f7ea1f5f",
   "metadata": {},
   "outputs": [
    {
     "name": "stdout",
     "output_type": "stream",
     "text": [
      ">>Student Task - Build the Balance Sheet<< بناء الميزانية العمومية\n"
     ]
    }
   ],
   "source": [
    "print(\">>Student Task - Build the Balance Sheet<<\",\"بناء الميزانية العمومية\")"
   ]
  },
  {
   "cell_type": "code",
   "execution_count": 45,
   "id": "2ba3e6b3-28bc-46f1-b849-04945fb338d2",
   "metadata": {},
   "outputs": [
    {
     "name": "stdout",
     "output_type": "stream",
     "text": [
      ">>Student Task Review - Build the Balance Sheet<<\n"
     ]
    }
   ],
   "source": [
    "print(\">>Student Task Review - Build the Balance Sheet<<\")"
   ]
  },
  {
   "cell_type": "code",
   "execution_count": 46,
   "id": "a6f4d434-3878-4c8c-9908-b2a262568122",
   "metadata": {},
   "outputs": [
    {
     "name": "stdout",
     "output_type": "stream",
     "text": [
      ">>Cash Flow Statement Introduction<< مقدمة عن بيان التدفق النقدي\n"
     ]
    }
   ],
   "source": [
    "print(\">>Cash Flow Statement Introduction<<\",\"مقدمة عن بيان التدفق النقدي\")"
   ]
  },
  {
   "cell_type": "code",
   "execution_count": 47,
   "id": "cc743855-48e5-42b0-9bbc-83d16ae747f3",
   "metadata": {},
   "outputs": [
    {
     "name": "stdout",
     "output_type": "stream",
     "text": [
      "{{Cash Flow Statement Review}} مراجعة بيان التدفق النقدي\n"
     ]
    }
   ],
   "source": [
    "print(\"{{Cash Flow Statement Review}}\",\"مراجعة بيان التدفق النقدي\")"
   ]
  },
  {
   "cell_type": "code",
   "execution_count": 48,
   "id": "2afb2881-6433-4371-8d19-a9d81ecb6e9f",
   "metadata": {},
   "outputs": [
    {
     "name": "stdout",
     "output_type": "stream",
     "text": [
      ">>Cash Flow Statement Review<< مراجعة بيان التدفق النقدي>>\n"
     ]
    }
   ],
   "source": [
    "print(\">>Cash Flow Statement Review<<\",\"مراجعة بيان التدفق النقدي>>\")"
   ]
  },
  {
   "cell_type": "code",
   "execution_count": 49,
   "id": "4a1ccadc-bc9f-45c9-b1da-de7811b122c8",
   "metadata": {},
   "outputs": [
    {
     "name": "stdout",
     "output_type": "stream",
     "text": [
      ">>Cube Formulas Review<< مراجعة صيغ المكعب>>\n"
     ]
    }
   ],
   "source": [
    "print(\">>Cube Formulas Review<<\",\"مراجعة صيغ المكعب>>\")"
   ]
  },
  {
   "cell_type": "code",
   "execution_count": 50,
   "id": "aa351869-6c9b-41dc-a36d-b3b6207ca522",
   "metadata": {},
   "outputs": [
    {
     "name": "stdout",
     "output_type": "stream",
     "text": [
      "--------------------------------------------\n"
     ]
    }
   ],
   "source": [
    "print(\"--------------------------------------------\")"
   ]
  },
  {
   "cell_type": "code",
   "execution_count": 1,
   "id": "ebf02415-525f-4ed5-8d40-0fc586965c48",
   "metadata": {},
   "outputs": [
    {
     "name": "stdout",
     "output_type": "stream",
     "text": [
      "INNER JOIN ON\n"
     ]
    }
   ],
   "source": [
    "print(\"INNER JOIN ON\")"
   ]
  },
  {
   "cell_type": "code",
   "execution_count": 2,
   "id": "8fc29cca-b065-497d-aad3-cb5380a441dc",
   "metadata": {},
   "outputs": [
    {
     "name": "stdout",
     "output_type": "stream",
     "text": [
      "CONVERT()\n",
      "GETDATE()\n"
     ]
    }
   ],
   "source": [
    "print(\"CONVERT()\")\n",
    "print(\"GETDATE()\")"
   ]
  },
  {
   "cell_type": "code",
   "execution_count": 3,
   "id": "a3d89d4c-c2ae-475b-b9e6-6f4b5f5bead7",
   "metadata": {},
   "outputs": [
    {
     "name": "stdout",
     "output_type": "stream",
     "text": [
      "Create Data Model\n",
      "Define SumAmount DAX Measure\n",
      "Build Matrix Visual\n"
     ]
    }
   ],
   "source": [
    "print(\"Create Data Model\")\n",
    "print(\"Define SumAmount DAX Measure\")\n",
    "print(\"Build Matrix Visual\")"
   ]
  },
  {
   "cell_type": "code",
   "execution_count": 4,
   "id": "3fd645ab-08c3-4fa8-8883-5482d714a014",
   "metadata": {},
   "outputs": [
    {
     "name": "stdout",
     "output_type": "stream",
     "text": [
      "SumAmount = SUM(FactGLTran[GLTranAmount])\n"
     ]
    }
   ],
   "source": [
    "print(\"SumAmount = SUM(FactGLTran[GLTranAmount])\")"
   ]
  },
  {
   "cell_type": "code",
   "execution_count": 17,
   "id": "0b17e123-6ca9-47b5-ba4d-529dbf5ea80a",
   "metadata": {},
   "outputs": [
    {
     "name": "stdout",
     "output_type": "stream",
     "text": [
      " \n",
      ">>Income Statement<<بيان الدخل\n",
      "1)Revenueربح.\n",
      "2)Cost Of Salesتكلفة المبيعات.\n",
      "3)Gross Profitإجمالي الربح.\n",
      "4)Gross Profit %إجمالي الربح %.\n",
      "5)Operating Expensesمصاريف التشغيل.\n",
      "6)EBIT(Earnings Before Interest and Taxes)(الأرباح قبل الفوائد والضرائب).\n",
      "7)EBIT %.\n",
      "8)Interest Expensesمصاريف الفائدة.\n",
      "9)EBT(Earnings before tax)(الأرباح قبل الضرائب).\n",
      "10)Net Income(صافي الدخل).\n",
      "11)Net Income %.\n",
      "\n"
     ]
    }
   ],
   "source": [
    "print(\"\"\" \n",
    ">>Income Statement<<بيان الدخل\n",
    "1)Revenueربح.\n",
    "2)Cost Of Salesتكلفة المبيعات.\n",
    "3)Gross Profitإجمالي الربح.\n",
    "4)Gross Profit %إجمالي الربح %.\n",
    "5)Operating Expensesمصاريف التشغيل.\n",
    "6)EBIT(Earnings Before Interest and Taxes)(الأرباح قبل الفوائد والضرائب).\n",
    "7)EBIT %.\n",
    "8)Interest Expensesمصاريف الفائدة.\n",
    "9)EBT(Earnings before tax)(الأرباح قبل الضرائب).\n",
    "10)Net Income(صافي الدخل).\n",
    "11)Net Income %.\n",
    "\"\"\")"
   ]
  },
  {
   "cell_type": "code",
   "execution_count": 19,
   "id": "cedc6bd7-e71d-4606-95c7-7871584c5a27",
   "metadata": {},
   "outputs": [
    {
     "name": "stdout",
     "output_type": "stream",
     "text": [
      ">>Income Statement<< >>بيان الدخل<<\n"
     ]
    }
   ],
   "source": [
    "print(\">>Income Statement<<\",\">>بيان الدخل<<\")"
   ]
  },
  {
   "cell_type": "code",
   "execution_count": 38,
   "id": "c85aa096-4f3d-4e67-91f3-0f6734f0f4b1",
   "metadata": {},
   "outputs": [
    {
     "name": "stdout",
     "output_type": "stream",
     "text": [
      "1>>Revenue. الإيرادات\n",
      "2>>Cost Of Sales. تكلفة المبيعات\n",
      "3>>Gross Profit. إجمالي الربح احتساب الربح عن طريق خصم مصروفات الشركة من إيراداتها\n",
      "4>>Gross Profit %. نسبة الربح الإجمالي\n",
      "5>>Operating Expenses. مصاريف التشغيل\n",
      "6>>EBIT Earnings Before Interest and Taxes الأرباح قبل الفوائد والضرائب\n",
      "7>>EBIT % EBIT-Percentage\n",
      "8>>Interest Expenses مصاريف الفائدة\n",
      "9>>EBT الأرباح قبل الضرائب Earnings before tax\n",
      "10>>Income Tax Expenses مصاريف ضريبة الدخل\n",
      "11>>Net Income صافي الدخل\n",
      "12>>Net Income Percentage % نسبة صافي الدخل %\n",
      ">>>>>>>>>>>><<<<<<<<<<<<<<<<<<<<<<<<<<<<<<<\n"
     ]
    }
   ],
   "source": [
    "print(\"1>>Revenue.\",\"الإيرادات\")\n",
    "print(\"2>>Cost Of Sales.\",\"تكلفة المبيعات\")\n",
    "print(\"3>>Gross Profit.\",\"إجمالي الربح\",\"احتساب الربح عن طريق خصم مصروفات الشركة من إيراداتها\")\n",
    "print(\"4>>Gross Profit %.\",\"نسبة الربح الإجمالي\")\n",
    "print(\"5>>Operating Expenses.\",\"مصاريف التشغيل\")\n",
    "print(\"6>>EBIT\",\"Earnings Before Interest and Taxes\",\"الأرباح قبل الفوائد والضرائب\")\n",
    "print(\"7>>EBIT %\",\"EBIT-Percentage\")\n",
    "print(\"8>>Interest Expenses\",\"مصاريف الفائدة\")\n",
    "print(\"9>>EBT\",\"الأرباح قبل الضرائب\",\"Earnings before tax\")\n",
    "print(\"10>>Income Tax Expenses\",\"مصاريف ضريبة الدخل\")\n",
    "print(\"11>>Net Income\",\"صافي الدخل\")\n",
    "print(\"12>>Net Income Percentage %\",\"نسبة صافي الدخل %\")\n",
    "print(\">>>>>>>>>>>><<<<<<<<<<<<<<<<<<<<<<<<<<<<<<<\")"
   ]
  },
  {
   "cell_type": "code",
   "execution_count": 39,
   "id": "44a7ee8b-cbdb-45a2-9d37-4822d7e36222",
   "metadata": {},
   "outputs": [
    {
     "name": "stdout",
     "output_type": "stream",
     "text": [
      "Calculate([SumAmount],DimHeaders[Statement] = 'Income Statement')\n"
     ]
    }
   ],
   "source": [
    "print(\"Calculate([SumAmount],DimHeaders[Statement] = 'Income Statement')\")"
   ]
  },
  {
   "cell_type": "code",
   "execution_count": 40,
   "id": "c486067e-b924-4862-800b-2e11d1488247",
   "metadata": {},
   "outputs": [
    {
     "name": "stdout",
     "output_type": "stream",
     "text": [
      "Calculate([I/S Amount],FILTER(ALL(DimHeader),DimHeaders[Sort] < MAX(DimHeaders[Sort])))\n"
     ]
    }
   ],
   "source": [
    "print(\"Calculate([I/S Amount],FILTER(ALL(DimHeader),DimHeaders[Sort] < MAX(DimHeaders[Sort])))\")"
   ]
  },
  {
   "cell_type": "code",
   "execution_count": 41,
   "id": "5691d21f-65f7-47c9-99ad-b6e445502567",
   "metadata": {},
   "outputs": [
    {
     "name": "stdout",
     "output_type": "stream",
     "text": [
      "Calculate()\n",
      "Filter()\n",
      "ALL()\n",
      "MAX()\n"
     ]
    }
   ],
   "source": [
    "print(\"Calculate()\")\n",
    "print(\"Filter()\")\n",
    "print(\"ALL()\")\n",
    "print(\"MAX()\")"
   ]
  },
  {
   "cell_type": "code",
   "execution_count": 43,
   "id": "078bd9e0-60d9-47d2-8b42-60bb927277ec",
   "metadata": {},
   "outputs": [
    {
     "name": "stdout",
     "output_type": "stream",
     "text": [
      "SelectedValue()\n"
     ]
    }
   ],
   "source": [
    "print(\"SelectedValue()\")"
   ]
  },
  {
   "cell_type": "code",
   "execution_count": 45,
   "id": "d568c72e-2c59-4e5e-803a-7bc47cc4268e",
   "metadata": {},
   "outputs": [
    {
     "name": "stdout",
     "output_type": "stream",
     "text": [
      "Selected Customer = SELECTEDVALUE(Sales[CustomerName], 'All Customers')\n"
     ]
    }
   ],
   "source": [
    "print(\"Selected Customer = SELECTEDVALUE(Sales[CustomerName], 'All Customers')\")"
   ]
  },
  {
   "cell_type": "code",
   "execution_count": 46,
   "id": "ff8b77c1-fa98-4778-93a3-cd4a00ca3ef3",
   "metadata": {},
   "outputs": [
    {
     "name": "stdout",
     "output_type": "stream",
     "text": [
      "SWITCH()\n"
     ]
    }
   ],
   "source": [
    "print(\"SWITCH()\")"
   ]
  },
  {
   "cell_type": "code",
   "execution_count": 47,
   "id": "a367498b-2148-4edf-a1dc-ca606f6a56c6",
   "metadata": {},
   "outputs": [
    {
     "name": "stdout",
     "output_type": "stream",
     "text": [
      "SWITCH(<Expression>,<Value1>,<Result1>,<Value2>,<Result2>)\n"
     ]
    }
   ],
   "source": [
    "print(\"SWITCH(<Expression>,<Value1>,<Result1>,<Value2>,<Result2>)\")"
   ]
  },
  {
   "cell_type": "code",
   "execution_count": 50,
   "id": "e59616a6-96e3-47e4-a417-f376900ac3ad",
   "metadata": {},
   "outputs": [
    {
     "name": "stdout",
     "output_type": "stream",
     "text": [
      "IF(SELECTEDVALUE(Orders[Status]) = 1, 'Yes', 'No')\n"
     ]
    }
   ],
   "source": [
    "print(\"IF(SELECTEDVALUE(Orders[Status]) = 1, 'Yes', 'No')\")"
   ]
  },
  {
   "cell_type": "code",
   "execution_count": 51,
   "id": "96e7749e-c024-44e3-af9f-1f0629f6114b",
   "metadata": {},
   "outputs": [
    {
     "name": "stdout",
     "output_type": "stream",
     "text": [
      "SWITCH(TRUE())\n"
     ]
    }
   ],
   "source": [
    "print(\"SWITCH(TRUE())\")"
   ]
  },
  {
   "cell_type": "code",
   "execution_count": 52,
   "id": "694a876d-ef8f-4d48-a699-7e2f518d8f76",
   "metadata": {},
   "outputs": [
    {
     "name": "stdout",
     "output_type": "stream",
     "text": [
      "Calcualte()\n",
      "Filter()\n",
      "ALL()\n",
      "Divide()\n"
     ]
    }
   ],
   "source": [
    "print(\"Calcualte()\")\n",
    "print(\"Filter()\")\n",
    "print(\"ALL()\")\n",
    "print(\"Divide()\")"
   ]
  },
  {
   "cell_type": "code",
   "execution_count": 54,
   "id": "ab6e7d6e-3aff-46ef-9869-43602b4dc5d1",
   "metadata": {},
   "outputs": [
    {
     "name": "stdout",
     "output_type": "stream",
     "text": [
      "SelectedValue()\n"
     ]
    }
   ],
   "source": [
    "print(\"SelectedValue()\")"
   ]
  },
  {
   "cell_type": "code",
   "execution_count": 55,
   "id": "4c466b62-f305-4570-b1f4-46a58ce6b099",
   "metadata": {},
   "outputs": [
    {
     "name": "stdout",
     "output_type": "stream",
     "text": [
      "Calculate()\n",
      "Filter()\n",
      "ALL()\n",
      "DIVIDE()\n"
     ]
    }
   ],
   "source": [
    "print(\"Calculate()\")\n",
    "print(\"Filter()\")\n",
    "print(\"ALL()\")\n",
    "print(\"DIVIDE()\")"
   ]
  },
  {
   "cell_type": "code",
   "execution_count": 56,
   "id": "7554918b-0253-46a0-a27f-6d2e9769bff4",
   "metadata": {},
   "outputs": [
    {
     "name": "stdout",
     "output_type": "stream",
     "text": [
      "Calculate()\n",
      "ABS()\n"
     ]
    }
   ],
   "source": [
    "print(\"Calculate()\")\n",
    "print(\"ABS()\")"
   ]
  },
  {
   "cell_type": "code",
   "execution_count": 1,
   "id": "bea75404-c201-4669-867c-a22c390a55d4",
   "metadata": {},
   "outputs": [
    {
     "name": "stdout",
     "output_type": "stream",
     "text": [
      "IS Subtotal = SELECTEDVALUE(DimHeaders[MeasureName]) = 'Subtotal'\n"
     ]
    }
   ],
   "source": [
    "print(\"IS Subtotal = SELECTEDVALUE(DimHeaders[MeasureName]) = 'Subtotal'\")"
   ]
  },
  {
   "cell_type": "code",
   "execution_count": 2,
   "id": "777d7915-6506-4c65-9cf1-dc8693bb781e",
   "metadata": {},
   "outputs": [
    {
     "name": "stdout",
     "output_type": "stream",
     "text": [
      "Is Filtered = ISFILTERED(DimGLAccts[Subcategory])\n"
     ]
    }
   ],
   "source": [
    "print(\"Is Filtered = ISFILTERED(DimGLAccts[Subcategory])\")"
   ]
  },
  {
   "cell_type": "code",
   "execution_count": 3,
   "id": "aade98c5-2ddc-414f-b9aa-79a2c49b75b9",
   "metadata": {},
   "outputs": [
    {
     "name": "stdout",
     "output_type": "stream",
     "text": [
      "Is Subtotal & Is Not Filtered = [Is Subtotal] && [Is Not Filtered]\n"
     ]
    }
   ],
   "source": [
    "print(\"Is Subtotal & Is Not Filtered = [Is Subtotal] && [Is Not Filtered]\")"
   ]
  },
  {
   "cell_type": "code",
   "execution_count": 4,
   "id": "5748b8a3-9f82-4255-bffa-3f75b81a57eb",
   "metadata": {},
   "outputs": [
    {
     "name": "stdout",
     "output_type": "stream",
     "text": [
      "Sign Flip SumAmount = [SumAmount] * -1\n"
     ]
    }
   ],
   "source": [
    "print(\"Sign Flip SumAmount = [SumAmount] * -1\")"
   ]
  },
  {
   "cell_type": "code",
   "execution_count": 6,
   "id": "67902c73-4543-4219-bdb1-9ec6df355422",
   "metadata": {},
   "outputs": [
    {
     "name": "stdout",
     "output_type": "stream",
     "text": [
      ">>Income Statement<< بيان الدخل\n"
     ]
    }
   ],
   "source": [
    "print(\">>Income Statement<<\",\"بيان الدخل\")"
   ]
  },
  {
   "cell_type": "code",
   "execution_count": 8,
   "id": "e1e26bfd-94db-4504-9b4b-6c6fc491b20f",
   "metadata": {},
   "outputs": [
    {
     "name": "stdout",
     "output_type": "stream",
     "text": [
      ">>Card Visuals<<\n",
      "1>>Gross Margin Ratio. نسبة هامش الربح الإجمالي\n",
      "2>>Operating Margin Ratio. نسبة هامش التشغيل.\n"
     ]
    }
   ],
   "source": [
    "print(\">>Card Visuals<<\")\n",
    "print(\"1>>Gross Margin Ratio.\",\"نسبة هامش الربح الإجمالي\")\n",
    "print(\"2>>Operating Margin Ratio.\",\"نسبة هامش التشغيل.\")"
   ]
  },
  {
   "cell_type": "code",
   "execution_count": 12,
   "id": "9df67167-6adc-4129-9104-8f84ccb9d391",
   "metadata": {},
   "outputs": [
    {
     "name": "stdout",
     "output_type": "stream",
     "text": [
      "Line and Stacked Column Chart مخطط خطي ومخطط عمودي مكدس\n",
      "Revenue الأرادات\n",
      "Gross Profit % اجمالي الارباح\n"
     ]
    }
   ],
   "source": [
    "print(\"Line and Stacked Column Chart\",\"مخطط خطي ومخطط عمودي مكدس\")\n",
    "print(\"Revenue\",\"الأرادات\")\n",
    "print(\"Gross Profit %\",\"اجمالي الارباح\")"
   ]
  },
  {
   "cell_type": "code",
   "execution_count": 14,
   "id": "85f91f06-b44e-428f-ad30-89b0146289e8",
   "metadata": {},
   "outputs": [
    {
     "name": "stdout",
     "output_type": "stream",
     "text": [
      "Calculate() احسب()\n"
     ]
    }
   ],
   "source": [
    "print(\"Calculate()\",\"احسب()\")"
   ]
  },
  {
   "cell_type": "code",
   "execution_count": 15,
   "id": "6b30ae94-e1a3-4779-a5a8-a967f07c74a4",
   "metadata": {},
   "outputs": [
    {
     "name": "stdout",
     "output_type": "stream",
     "text": [
      "Gross Margin Ratio = Gross Profit / Total Revenue\n"
     ]
    }
   ],
   "source": [
    "print(\"Gross Margin Ratio = Gross Profit / Total Revenue\")"
   ]
  },
  {
   "cell_type": "code",
   "execution_count": 16,
   "id": "115c3b7f-11e4-4545-a670-ffc32a348fba",
   "metadata": {},
   "outputs": [
    {
     "name": "stdout",
     "output_type": "stream",
     "text": [
      "نسبة هامش الربح الإجمالي = إجمالي الربح / إجمالي الإيرادات\n"
     ]
    }
   ],
   "source": [
    "print(\"نسبة هامش الربح الإجمالي = إجمالي الربح / إجمالي الإيرادات\")"
   ]
  },
  {
   "cell_type": "code",
   "execution_count": 17,
   "id": "8402e871-a238-47c1-bf7e-7b038888346e",
   "metadata": {},
   "outputs": [
    {
     "name": "stdout",
     "output_type": "stream",
     "text": [
      "Gross Margin Ratio = \n",
      "var Gross_Profit = Calculate([I/S Subtotal],DimHeaders[Category] = 'Gross Profit')\n",
      "Var Revenue = Calculate([I/S Amount], DimHeaders[Category] = 'Revenue')\n",
      "return DIVIDE(Gross_Profit,Revenue,0)\n"
     ]
    }
   ],
   "source": [
    "print(\"Gross Margin Ratio = \")\n",
    "print(\"var Gross_Profit = Calculate([I/S Subtotal],DimHeaders[Category] = 'Gross Profit')\")\n",
    "print(\"Var Revenue = Calculate([I/S Amount], DimHeaders[Category] = 'Revenue')\")\n",
    "print(\"return DIVIDE(Gross_Profit,Revenue,0)\")"
   ]
  },
  {
   "cell_type": "code",
   "execution_count": 18,
   "id": "46c13d32-50e8-4335-8611-f81597acd498",
   "metadata": {},
   "outputs": [
    {
     "name": "stdout",
     "output_type": "stream",
     "text": [
      "Revenue = Calculate([I/S Amount],DimHeaders[Category] = 'Revenue')\n"
     ]
    }
   ],
   "source": [
    "print(\"Revenue = Calculate([I/S Amount],DimHeaders[Category] = 'Revenue')\")"
   ]
  },
  {
   "cell_type": "code",
   "execution_count": 19,
   "id": "092293fc-f96a-431b-b668-d6406a936a21",
   "metadata": {},
   "outputs": [
    {
     "name": "stdout",
     "output_type": "stream",
     "text": [
      "CALCULATE()\n"
     ]
    }
   ],
   "source": [
    "print(\"CALCULATE()\")"
   ]
  },
  {
   "cell_type": "code",
   "execution_count": 20,
   "id": "fac0e21f-5bed-4ca5-bd40-ebd0e42a4cb5",
   "metadata": {},
   "outputs": [
    {
     "name": "stdout",
     "output_type": "stream",
     "text": [
      "*****************************\n"
     ]
    }
   ],
   "source": [
    "print(\"*****************************\")"
   ]
  },
  {
   "cell_type": "code",
   "execution_count": 21,
   "id": "a77bd3ad-231b-4eed-b388-76010d8b8242",
   "metadata": {},
   "outputs": [
    {
     "name": "stdout",
     "output_type": "stream",
     "text": [
      "<<Build the Balance Sheet in Power BI>>\n"
     ]
    }
   ],
   "source": [
    "print(\"<<Build the Balance Sheet in Power BI>>\")"
   ]
  },
  {
   "cell_type": "code",
   "execution_count": 22,
   "id": "75e55bc8-5689-48e5-a767-483d2301a043",
   "metadata": {},
   "outputs": [
    {
     "name": "stdout",
     "output_type": "stream",
     "text": [
      "<<إنشاء الميزانية العمومية في Power BI>>\n"
     ]
    }
   ],
   "source": [
    "print(\"<<إنشاء الميزانية العمومية في Power BI>>\")"
   ]
  },
  {
   "cell_type": "code",
   "execution_count": 23,
   "id": "0f0689ad-114a-47fb-b3b2-6f2b000b8c88",
   "metadata": {},
   "outputs": [
    {
     "name": "stdout",
     "output_type": "stream",
     "text": [
      "the Balance Sheet\n"
     ]
    }
   ],
   "source": [
    "print(\"the Balance Sheet\")"
   ]
  },
  {
   "cell_type": "code",
   "execution_count": 36,
   "id": "763908bd-28af-4b64-a97e-3d3e512291c5",
   "metadata": {},
   "outputs": [
    {
     "name": "stdout",
     "output_type": "stream",
     "text": [
      "Current Assets الأصول المتداولة\n",
      "Non Current Assets الأصول غير المتداولة\n",
      "Total Assets إجمالي الأصول\n",
      "Current LiAbilities الإلتزامات\n",
      "Non Current LiAbilities الالتزامات غير المتداولة\n",
      ">>Total Liabilities إجمالي المطلوبات<<\n",
      ">>Equilty<<\n",
      ">>Retained-Earnings<< >>الأرباح المحتجزة<<\n",
      "Total Equity إجمالي حقوق الملكية\n",
      "<<Total Liabilities & Equilty>> <<إجمالي الخصوم وحقوق الملكية>>\n"
     ]
    }
   ],
   "source": [
    "print(\"Current Assets\",\"الأصول المتداولة\")\n",
    "print(\"Non Current Assets\",\"الأصول غير المتداولة\")\n",
    "print(\"Total Assets\",\"إجمالي الأصول\")\n",
    "print(\"Current LiAbilities\",\"الإلتزامات\")\n",
    "print(\"Non Current LiAbilities\",\"الالتزامات غير المتداولة\")\n",
    "print(\">>Total Liabilities\",\"إجمالي المطلوبات<<\")\n",
    "print(\">>Equilty<<\")\n",
    "print(\">>Retained-Earnings<<\",\">>الأرباح المحتجزة<<\")\n",
    "print(\"Total Equity\",\"إجمالي حقوق الملكية\")\n",
    "print(\"<<Total Liabilities & Equilty>>\",\"<<إجمالي الخصوم وحقوق الملكية>>\")"
   ]
  },
  {
   "cell_type": "code",
   "execution_count": 37,
   "id": "0f268119-c44b-4522-a9de-4e987e4975bf",
   "metadata": {},
   "outputs": [
    {
     "name": "stdout",
     "output_type": "stream",
     "text": [
      "$$$$$$$$$$$$$$$$$$$$$$$$$$$$$$\n"
     ]
    }
   ],
   "source": [
    "print(\"$$$$$$$$$$$$$$$$$$$$$$$$$$$$$$\")"
   ]
  },
  {
   "cell_type": "code",
   "execution_count": 39,
   "id": "c3001364-6f9b-49fb-ae47-df1ce4609c66",
   "metadata": {},
   "outputs": [
    {
     "name": "stdout",
     "output_type": "stream",
     "text": [
      ">>Owning vs Performing<< >>الملكية مقابل الأداء<<\n"
     ]
    }
   ],
   "source": [
    "print(\">>Owning vs Performing<<\",\">>الملكية مقابل الأداء<<\")"
   ]
  },
  {
   "cell_type": "code",
   "execution_count": 41,
   "id": "e592f80d-1a0c-4138-9142-56fca2706d2a",
   "metadata": {},
   "outputs": [
    {
     "name": "stdout",
     "output_type": "stream",
     "text": [
      ">>A balance sheet reports what a {Company Owns} at a specific Date.<<\n",
      "{الميزانية العمومية هي تقرير يوضح ما تملكه الشركة في تاريخ محدد.}\n"
     ]
    }
   ],
   "source": [
    "print(\">>A balance sheet reports what a {Company Owns} at a specific Date.<<\")\n",
    "print(\"{الميزانية العمومية هي تقرير يوضح ما تملكه الشركة في تاريخ محدد.}\")"
   ]
  },
  {
   "cell_type": "code",
   "execution_count": 43,
   "id": "a3b80740-86c4-4f83-bd9e-de04fec1660b",
   "metadata": {},
   "outputs": [
    {
     "name": "stdout",
     "output_type": "stream",
     "text": [
      ">>An Income Statement reports how a {Company Performed} during a specific period.<<\n",
      ">>يقدم بيان الدخل تقريراً عن أداء الشركة خلال فترة محددة.<<\n"
     ]
    }
   ],
   "source": [
    "print(\">>An Income Statement reports how a {Company Performed} during a specific period.<<\")\n",
    "print(\">>يقدم بيان الدخل تقريراً عن أداء الشركة خلال فترة محددة.<<\")"
   ]
  },
  {
   "cell_type": "code",
   "execution_count": 47,
   "id": "c1263e22-b844-47ff-860e-5c655a703430",
   "metadata": {},
   "outputs": [
    {
     "name": "stdout",
     "output_type": "stream",
     "text": [
      "A balance sheet Is {Company Owns} تملكه الشركة\n"
     ]
    }
   ],
   "source": [
    "print(\"A balance sheet Is {Company Owns}\",\"تملكه الشركة\")"
   ]
  },
  {
   "cell_type": "code",
   "execution_count": 48,
   "id": "bbbde7d1-1d77-46b8-8293-a0feb12c154e",
   "metadata": {},
   "outputs": [
    {
     "name": "stdout",
     "output_type": "stream",
     "text": [
      "A Income Statement IS {Company Performed} أداء الشركة\n"
     ]
    }
   ],
   "source": [
    "print(\"A Income Statement IS {Company Performed}\",\"أداء الشركة\")"
   ]
  },
  {
   "cell_type": "code",
   "execution_count": 50,
   "id": "a0627743-8227-4e98-b9b0-34e8422207cb",
   "metadata": {},
   "outputs": [
    {
     "name": "stdout",
     "output_type": "stream",
     "text": [
      ">>A balance sheet reports Assets, Liabilities and Equity.<<\n",
      ">>يوضح الميزانية العمومية الأصول والخصوم وحقوق الملكية.<<\n"
     ]
    }
   ],
   "source": [
    "print(\">>A balance sheet reports Assets, Liabilities and Equity.<<\")\n",
    "print(\">>يوضح الميزانية العمومية الأصول والخصوم وحقوق الملكية.<<\")"
   ]
  },
  {
   "cell_type": "code",
   "execution_count": 52,
   "id": "8f32fdf7-7103-48d8-883a-f9372e9fe910",
   "metadata": {},
   "outputs": [
    {
     "name": "stdout",
     "output_type": "stream",
     "text": [
      ">>An Income Statement reports revenue and expenses.<<\n",
      ">><يتضمن بيان الدخل الإيرادات والمصروفات.<\n"
     ]
    }
   ],
   "source": [
    "print(\">>An Income Statement reports revenue and expenses.<<\")\n",
    "print(\">><يتضمن بيان الدخل الإيرادات والمصروفات.<\")"
   ]
  },
  {
   "cell_type": "code",
   "execution_count": 53,
   "id": "742651ec-9316-4327-80f7-a687e23fa81f",
   "metadata": {},
   "outputs": [
    {
     "name": "stdout",
     "output_type": "stream",
     "text": [
      "*******************************\n"
     ]
    }
   ],
   "source": [
    "print(\"*******************************\")"
   ]
  },
  {
   "cell_type": "code",
   "execution_count": 77,
   "id": "2b75da7a-f356-4bfc-b555-c1ce6a5f6df3",
   "metadata": {},
   "outputs": [
    {
     "name": "stdout",
     "output_type": "stream",
     "text": [
      "1.Revenue الإيرادات\n",
      "2.Cost of Sales تكلفة المبيعات\n",
      "3.Gross Profit إجمالي الربح\n",
      "4.Gross Proft Percentage% نسبة الربح الإجمالي\n",
      "5.Operating Expenses مصاريف التشغيل\n",
      "6.EBIT Earnings Before Interest and Taxes الأرباح قبل الفوائد والضرائب\n",
      "7.EBIT%\n",
      "8.Interest Expenses مصاريف الفائدة\n",
      "9.EBT Earnings before tax الأرباح قبل الضرائب\n",
      "10.Income Tax Expenses مصاريف ضريبة الدخل\n",
      "11.Net Income صافي الدخل\n",
      "12.Net Income Percentage% نسبة صافي الدخل\n",
      "13.Current Assets الأصول المتداولة\n",
      "14.Non Current Assets الأصول غير المتداولة\n",
      "15.Total Assets إجمالي الأصول\n",
      "16.Current LiAbilities الالتزامات الحالية\n",
      "17.Non Current Liabilities الالتزامات غير المتداولة\n",
      "18.Total LiAbilities إجمالي المطلوبات\n",
      "19.Equity\n",
      "20.Retained Earnings الأرباح المحتجزة\n",
      "21.Total Equity إجمالي حقوق الملكية\n",
      "22.Total Li_abilities & Equity إجمالي الالتزامات وحقوق الملكية\n",
      ">>>>>>>>>>>>>>>>>>>>>><<<<<<<<<<<<<<<<<<<<<<<<<<<<<<<<\n"
     ]
    }
   ],
   "source": [
    "print(\"1.Revenue\",\"الإيرادات\")\n",
    "print(\"2.Cost of Sales\",\"تكلفة المبيعات\")\n",
    "print(\"3.Gross Profit\",\"إجمالي الربح\")\n",
    "print(\"4.Gross Proft Percentage%\",\"نسبة الربح الإجمالي\")\n",
    "print(\"5.Operating Expenses\",\"مصاريف التشغيل\")\n",
    "print(\"6.EBIT\",\"Earnings Before Interest and Taxes\",\"الأرباح قبل الفوائد والضرائب\")\n",
    "print(\"7.EBIT%\")\n",
    "print(\"8.Interest Expenses\",\"مصاريف الفائدة\")\n",
    "print(\"9.EBT\",\"Earnings before tax\",\"الأرباح قبل الضرائب\")\n",
    "print(\"10.Income Tax Expenses\",\"مصاريف ضريبة الدخل\")\n",
    "print(\"11.Net Income\",\"صافي الدخل\")\n",
    "print(\"12.Net Income Percentage%\",\"نسبة صافي الدخل\")\n",
    "print(\"13.Current Assets\",\"الأصول المتداولة\")\n",
    "print(\"14.Non Current Assets\",\"الأصول غير المتداولة\")\n",
    "print(\"15.Total Assets\",\"إجمالي الأصول\")\n",
    "print(\"16.Current LiAbilities\",\"الالتزامات الحالية\")\n",
    "print(\"17.Non Current Liabilities\",\"الالتزامات غير المتداولة\")\n",
    "print(\"18.Total LiAbilities\",\"إجمالي المطلوبات\")\n",
    "print(\"19.Equity\")\n",
    "print(\"20.Retained Earnings\",\"الأرباح المحتجزة\")\n",
    "print(\"21.Total Equity\",\"إجمالي حقوق الملكية\")\n",
    "print(\"22.Total Li_abilities & Equity\",\"إجمالي الالتزامات وحقوق الملكية\")\n",
    "print(\">>>>>>>>>>>>>>>>>>>>>><<<<<<<<<<<<<<<<<<<<<<<<<<<<<<<<\")"
   ]
  },
  {
   "cell_type": "code",
   "execution_count": 78,
   "id": "e5b7253e-0642-4829-a5bd-79023eab66ba",
   "metadata": {},
   "outputs": [
    {
     "name": "stdout",
     "output_type": "stream",
     "text": [
      ">>CALCULATE()<<\n"
     ]
    }
   ],
   "source": [
    "print(\">>CALCULATE()<<\")"
   ]
  },
  {
   "cell_type": "code",
   "execution_count": 79,
   "id": "317f161e-2a79-43f6-b0a3-3b5c2dc8111b",
   "metadata": {},
   "outputs": [
    {
     "name": "stdout",
     "output_type": "stream",
     "text": [
      "SWITCH()\n"
     ]
    }
   ],
   "source": [
    "print(\"SWITCH()\")"
   ]
  },
  {
   "cell_type": "code",
   "execution_count": 80,
   "id": "ddee5843-34f1-4c8a-9a84-def8bd36afb0",
   "metadata": {},
   "outputs": [
    {
     "name": "stdout",
     "output_type": "stream",
     "text": [
      "Calculate()\n",
      "ABS()\n",
      "ALL()\n"
     ]
    }
   ],
   "source": [
    "print(\"Calculate()\")\n",
    "print(\"ABS()\")\n",
    "print(\"ALL()\")"
   ]
  },
  {
   "cell_type": "code",
   "execution_count": 81,
   "id": "c1c96600-d828-44a1-897c-61593825c48f",
   "metadata": {},
   "outputs": [
    {
     "name": "stdout",
     "output_type": "stream",
     "text": [
      "Calculate()\n",
      "ABS()\n",
      "FILTER()\n",
      "ALL()\n",
      "MAX()\n"
     ]
    }
   ],
   "source": [
    "print(\"Calculate()\")\n",
    "print(\"ABS()\")\n",
    "print(\"FILTER()\")\n",
    "print(\"ALL()\")\n",
    "print(\"MAX()\")"
   ]
  },
  {
   "cell_type": "code",
   "execution_count": 82,
   "id": "4e9fe7df-3b4a-4bbc-804b-011883785a37",
   "metadata": {},
   "outputs": [
    {
     "name": "stdout",
     "output_type": "stream",
     "text": [
      "Total Equity = [B/S Subtotal] * [Retained Earnings]\n"
     ]
    }
   ],
   "source": [
    "print(\"Total Equity = [B/S Subtotal] * [Retained Earnings]\")"
   ]
  },
  {
   "cell_type": "code",
   "execution_count": 84,
   "id": "cec06f00-613f-45d7-82a2-757f8feb107c",
   "metadata": {},
   "outputs": [
    {
     "name": "stdout",
     "output_type": "stream",
     "text": [
      "Current Ratio = Current Assets / Current Li_abilities\n",
      "النسبة الحالية = الأصول الحالية / الخصوم الحالية\n"
     ]
    }
   ],
   "source": [
    "print(\"Current Ratio = Current Assets / Current Li_abilities\")\n",
    "print(\"النسبة الحالية = الأصول الحالية / الخصوم الحالية\")"
   ]
  },
  {
   "cell_type": "code",
   "execution_count": 86,
   "id": "f398a656-8fbb-4b6b-9a55-1845f51ed758",
   "metadata": {},
   "outputs": [
    {
     "name": "stdout",
     "output_type": "stream",
     "text": [
      "Debt Ratio = Total Debt / Total Assets نسبة الدين = إجمالي الدين / إجمالي الأصول\n"
     ]
    }
   ],
   "source": [
    "print(\"Debt Ratio = Total Debt / Total Assets\",\"نسبة الدين = إجمالي الدين / إجمالي الأصول\")"
   ]
  },
  {
   "cell_type": "code",
   "execution_count": 87,
   "id": "097adbe6-ac3c-4135-91a2-6affc1732a29",
   "metadata": {},
   "outputs": [
    {
     "name": "stdout",
     "output_type": "stream",
     "text": [
      "****************************\n"
     ]
    }
   ],
   "source": [
    "print(\"****************************\")"
   ]
  },
  {
   "cell_type": "code",
   "execution_count": 88,
   "id": "ee274190-4eb7-49f2-b7ac-bfcf73f28bf4",
   "metadata": {},
   "outputs": [
    {
     "name": "stdout",
     "output_type": "stream",
     "text": [
      " \n",
      "Current Ratio =\n",
      "Var CurrentAssets = Calculate([Cumulative Amount],DimHeaders[Category] = 'Current Assets')\n",
      "Var CurrentLiabilities = Calculate([Cumulative Amount],DimHeaders[Category] = 'Current Liabilities')\n",
      "return DIVIDE(CurrentAssets,CurrentLiabilities,0)\n",
      "\n"
     ]
    }
   ],
   "source": [
    "print(\"\"\" \n",
    "Current Ratio =\n",
    "Var CurrentAssets = Calculate([Cumulative Amount],DimHeaders[Category] = 'Current Assets')\n",
    "Var CurrentLiabilities = Calculate([Cumulative Amount],DimHeaders[Category] = 'Current Liabilities')\n",
    "return DIVIDE(CurrentAssets,CurrentLiabilities,0)\n",
    "\"\"\")"
   ]
  },
  {
   "cell_type": "code",
   "execution_count": 89,
   "id": "556e0be2-27ec-45bd-ac22-8555fe1bb774",
   "metadata": {},
   "outputs": [
    {
     "name": "stdout",
     "output_type": "stream",
     "text": [
      ">>Publish Power BI Report & Analyze in Excel<<\n"
     ]
    }
   ],
   "source": [
    "print(\">>Publish Power BI Report & Analyze in Excel<<\")"
   ]
  },
  {
   "cell_type": "code",
   "execution_count": 90,
   "id": "c3b70c0a-76d4-4510-b0c7-151b071fa50b",
   "metadata": {},
   "outputs": [
    {
     "name": "stdout",
     "output_type": "stream",
     "text": [
      "Migrate / Copy\n"
     ]
    }
   ],
   "source": [
    "print(\"Migrate / Copy\")"
   ]
  },
  {
   "cell_type": "code",
   "execution_count": 91,
   "id": "1f7dedc2-9dfc-4f1a-a442-891f01974b11",
   "metadata": {},
   "outputs": [
    {
     "name": "stdout",
     "output_type": "stream",
     "text": [
      "********************************\n"
     ]
    }
   ],
   "source": [
    "print(\"********************************\")"
   ]
  },
  {
   "cell_type": "code",
   "execution_count": 92,
   "id": "218a25f1-6d26-4ce8-8d58-68040c34ffd9",
   "metadata": {},
   "outputs": [
    {
     "name": "stdout",
     "output_type": "stream",
     "text": [
      "Using PivotTable Fields In Excel\n"
     ]
    }
   ],
   "source": [
    "print(\"Using PivotTable Fields In Excel\")"
   ]
  },
  {
   "cell_type": "code",
   "execution_count": 93,
   "id": "bbc0905f-23cc-45be-b1f3-07b4a878c938",
   "metadata": {},
   "outputs": [
    {
     "name": "stdout",
     "output_type": "stream",
     "text": [
      "Income statement and Balance sheet using PivotTable\n"
     ]
    }
   ],
   "source": [
    "print(\"Income statement and Balance sheet using PivotTable\")"
   ]
  },
  {
   "cell_type": "code",
   "execution_count": 94,
   "id": "562c44f8-f5a3-4e16-aedb-f1f1275b744b",
   "metadata": {},
   "outputs": [
    {
     "name": "stdout",
     "output_type": "stream",
     "text": [
      "***************************************************\n"
     ]
    }
   ],
   "source": [
    "print(\"***************************************************\")"
   ]
  },
  {
   "cell_type": "code",
   "execution_count": null,
   "id": "cad01992-4158-4de6-a100-17ef7f6cca28",
   "metadata": {},
   "outputs": [],
   "source": []
  }
 ],
 "metadata": {
  "kernelspec": {
   "display_name": "Python 3 (ipykernel)",
   "language": "python",
   "name": "python3"
  },
  "language_info": {
   "codemirror_mode": {
    "name": "ipython",
    "version": 3
   },
   "file_extension": ".py",
   "mimetype": "text/x-python",
   "name": "python",
   "nbconvert_exporter": "python",
   "pygments_lexer": "ipython3",
   "version": "3.11.7"
  }
 },
 "nbformat": 4,
 "nbformat_minor": 5
}
