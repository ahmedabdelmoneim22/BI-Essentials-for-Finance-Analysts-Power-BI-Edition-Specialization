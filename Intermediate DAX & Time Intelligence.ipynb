{
 "cells": [
  {
   "cell_type": "code",
   "execution_count": 1,
   "id": "3fadd3e5-bd10-4db5-b578-5b3bcbda4994",
   "metadata": {},
   "outputs": [
    {
     "name": "stdout",
     "output_type": "stream",
     "text": [
      "Intermediate DAX & Time Intelligence مؤشر داكس المتوسط ​​وذكاء الوقت\n"
     ]
    }
   ],
   "source": [
    "print(\"Intermediate DAX & Time Intelligence\",\"مؤشر داكس المتوسط ​​وذكاء الوقت\")"
   ]
  },
  {
   "cell_type": "code",
   "execution_count": 2,
   "id": "4075d985-8df5-49e3-9e49-e537f3a07995",
   "metadata": {},
   "outputs": [
    {
     "name": "stdout",
     "output_type": "stream",
     "text": [
      "Intermediate DAX & Time Intelligence>>Module 1>>Course Introduction\n"
     ]
    }
   ],
   "source": [
    "print(\"Intermediate DAX & Time Intelligence>>Module 1>>Course Introduction\")"
   ]
  },
  {
   "cell_type": "code",
   "execution_count": 3,
   "id": "9af4e96d-e8ea-4f12-a90c-74afc47aa5c7",
   "metadata": {},
   "outputs": [
    {
     "name": "stdout",
     "output_type": "stream",
     "text": [
      "Course Introduction\n"
     ]
    }
   ],
   "source": [
    "print(\"Course Introduction\")"
   ]
  },
  {
   "cell_type": "code",
   "execution_count": 1,
   "id": "1d93a347-cdd6-425b-b14d-bef20b719bbc",
   "metadata": {},
   "outputs": [
    {
     "name": "stdout",
     "output_type": "stream",
     "text": [
      "Data Analysis Expressions (DAX)\n"
     ]
    }
   ],
   "source": [
    "print(\"Data Analysis Expressions (DAX)\")"
   ]
  },
  {
   "cell_type": "code",
   "execution_count": 2,
   "id": "4dcb019b-31a3-4cea-9799-9f0b499340bc",
   "metadata": {},
   "outputs": [
    {
     "name": "stdout",
     "output_type": "stream",
     "text": [
      "<<Downloadable Learner Files>>\n"
     ]
    }
   ],
   "source": [
    "print(\"<<Downloadable Learner Files>>\")"
   ]
  },
  {
   "cell_type": "code",
   "execution_count": 3,
   "id": "fa2ce69a-e6c1-4d70-85be-d471e1de6b8c",
   "metadata": {},
   "outputs": [
    {
     "name": "stdout",
     "output_type": "stream",
     "text": [
      "<<DAX time intelligence Learner files>>\n"
     ]
    }
   ],
   "source": [
    "print(\"<<DAX time intelligence Learner files>>\")"
   ]
  },
  {
   "cell_type": "code",
   "execution_count": 5,
   "id": "e8e74bff-8060-42be-8914-6e66e9ed4e37",
   "metadata": {},
   "outputs": [
    {
     "name": "stdout",
     "output_type": "stream",
     "text": [
      "Intermediate DAX & Time Intelligence>>Module 2>>DAX Fundamentals Recap\n",
      "DAX Fundamentals Recap ملخص أساسيات مؤشر داكس\n"
     ]
    }
   ],
   "source": [
    "print(\"Intermediate DAX & Time Intelligence>>Module 2>>DAX Fundamentals Recap\")\n",
    "print(\"DAX Fundamentals Recap\",\"ملخص أساسيات مؤشر داكس\")"
   ]
  },
  {
   "cell_type": "code",
   "execution_count": 6,
   "id": "9e01008e-b5e0-4768-8ac4-cd034e83c9ed",
   "metadata": {},
   "outputs": [
    {
     "name": "stdout",
     "output_type": "stream",
     "text": [
      "DAX Fundamentals Recap ملخص أساسيات مؤشر داكس\n"
     ]
    }
   ],
   "source": [
    "print(\"DAX Fundamentals Recap\",\"ملخص أساسيات مؤشر داكس\")"
   ]
  },
  {
   "cell_type": "code",
   "execution_count": 7,
   "id": "853b1818-fd7d-4e93-84be-f65ae8bc2cbd",
   "metadata": {},
   "outputs": [
    {
     "name": "stdout",
     "output_type": "stream",
     "text": [
      "DAX Recap خلاصة\n"
     ]
    }
   ],
   "source": [
    "print(\"DAX Recap\",\"خلاصة\")"
   ]
  },
  {
   "cell_type": "code",
   "execution_count": 8,
   "id": "c03044fb-41f5-4647-a2e1-b8e7f4b77e18",
   "metadata": {},
   "outputs": [
    {
     "name": "stdout",
     "output_type": "stream",
     "text": [
      "DAX is used either in Power BI or Power Pivot for Excel, and it helps us make calculations, use functions, and use operators.\n"
     ]
    }
   ],
   "source": [
    "print(\"DAX is used either in Power BI or Power Pivot for Excel, and it helps us make calculations, use functions, and use operators.\")"
   ]
  },
  {
   "cell_type": "code",
   "execution_count": 13,
   "id": "2f09a899-5ab8-47d8-81e7-735f1e513ba5",
   "metadata": {},
   "outputs": [
    {
     "name": "stdout",
     "output_type": "stream",
     "text": [
      "Basic DAX Syntax & Structure بناء الجملة والبنية الأساسية لـ DAX\n",
      "Formula Syntax = Sum(Sales[Amount]) بناء الجملة\n",
      "= SUM(Sales[Amount])\n",
      "Functions SUM(), AVERAGE(), MIN() and MAX() الوظائف\n",
      "{Operatiors + - * /}\n",
      "Constants 23.5 | 2\n",
      "References Dates[Month]\n"
     ]
    }
   ],
   "source": [
    "print(\"Basic DAX Syntax & Structure\",\"بناء الجملة والبنية الأساسية لـ DAX\")\n",
    "print(\"Formula Syntax = Sum(Sales[Amount])\",\"بناء الجملة\")\n",
    "print(\"= SUM(Sales[Amount])\")\n",
    "print(\"Functions SUM(), AVERAGE(), MIN() and MAX()\",\"الوظائف\")\n",
    "print(\"{Operatiors + - * /}\")\n",
    "print(\"Constants 23.5 | 2\")\n",
    "print(\"References Dates[Month]\")"
   ]
  },
  {
   "cell_type": "code",
   "execution_count": 14,
   "id": "1f3017b1-3d0e-42b9-8a73-92709a85400e",
   "metadata": {},
   "outputs": [
    {
     "name": "stdout",
     "output_type": "stream",
     "text": [
      ">>Comments // for single lines or /* */ for multi line<<\n"
     ]
    }
   ],
   "source": [
    "print(\">>Comments // for single lines or /* */ for multi line<<\")"
   ]
  },
  {
   "cell_type": "code",
   "execution_count": 15,
   "id": "20cd02f7-6f6e-4564-a1c2-e779fece8cb6",
   "metadata": {},
   "outputs": [
    {
     "name": "stdout",
     "output_type": "stream",
     "text": [
      "DAX is not case sensitive\n"
     ]
    }
   ],
   "source": [
    "print(\"DAX is not case sensitive\")"
   ]
  },
  {
   "cell_type": "code",
   "execution_count": 16,
   "id": "f3455e37-608a-4108-bd8b-b2256b953179",
   "metadata": {},
   "outputs": [
    {
     "name": "stdout",
     "output_type": "stream",
     "text": [
      ">>>Set Up Power Pivot for Excel<<<\n"
     ]
    }
   ],
   "source": [
    "print(\">>>Set Up Power Pivot for Excel<<<\")"
   ]
  },
  {
   "cell_type": "code",
   "execution_count": 17,
   "id": "a5d213f2-08e6-499b-85f1-fd6c41037cb2",
   "metadata": {},
   "outputs": [
    {
     "name": "stdout",
     "output_type": "stream",
     "text": [
      "Microsoft power pivot for excel\n"
     ]
    }
   ],
   "source": [
    "print(\"Microsoft power pivot for excel\")"
   ]
  },
  {
   "cell_type": "code",
   "execution_count": 19,
   "id": "1a7408f8-8e05-4693-b914-7bce5f00e409",
   "metadata": {},
   "outputs": [
    {
     "name": "stdout",
     "output_type": "stream",
     "text": [
      "#Intermediate DAX & Time Intelligence>>Module 2>>Calculated Columns# الأعمدة المحسوبة\n"
     ]
    }
   ],
   "source": [
    "print(\"#Intermediate DAX & Time Intelligence>>Module 2>>Calculated Columns#\",\"الأعمدة المحسوبة\")"
   ]
  },
  {
   "cell_type": "code",
   "execution_count": 20,
   "id": "7e7545ab-c888-4ed2-a30a-d46eebb8e069",
   "metadata": {},
   "outputs": [
    {
     "name": "stdout",
     "output_type": "stream",
     "text": [
      "Power Pivot For Excel\n"
     ]
    }
   ],
   "source": [
    "print(\"Power Pivot For Excel\")"
   ]
  },
  {
   "cell_type": "code",
   "execution_count": 21,
   "id": "8de14b2e-109c-4072-9fc4-f59c7da31124",
   "metadata": {},
   "outputs": [
    {
     "name": "stdout",
     "output_type": "stream",
     "text": [
      ">>Power Pivot For Excel<<\n"
     ]
    }
   ],
   "source": [
    "print(\">>Power Pivot For Excel<<\")"
   ]
  },
  {
   "cell_type": "code",
   "execution_count": 27,
   "id": "6abb4b61-8b89-441d-a44c-dff2dfd5a167",
   "metadata": {},
   "outputs": [
    {
     "name": "stdout",
     "output_type": "stream",
     "text": [
      "[Calcualated Column 1] = [Math Score] + [English Score]\n",
      "= [First Name] & \"\" & [Last Name] Add Column CONCENTRATE\n",
      "[Calculated Column] = IF([Student Score] > 160,'Pass','Fail')\n",
      "We Create {Student Score, Full Name, Pass/Fall}\n"
     ]
    }
   ],
   "source": [
    "print(\"[Calcualated Column 1] = [Math Score] + [English Score]\")\n",
    "print('= [First Name] & \"\" & [Last Name]',\"Add Column\",\"CONCENTRATE\")\n",
    "print(\"[Calculated Column] = IF([Student Score] > 160,'Pass','Fail')\")\n",
    "print(\"We Create {Student Score, Full Name, Pass/Fall}\")"
   ]
  },
  {
   "cell_type": "code",
   "execution_count": 28,
   "id": "eaeb687c-a7d8-4420-8ec8-33672e5e34cb",
   "metadata": {},
   "outputs": [
    {
     "name": "stdout",
     "output_type": "stream",
     "text": [
      ">>Row Context<< سياق الصف\n"
     ]
    }
   ],
   "source": [
    "print(\">>Row Context<<\",\"سياق الصف\")"
   ]
  },
  {
   "cell_type": "code",
   "execution_count": 30,
   "id": "b73d9299-3d80-4cc7-acb7-5def5ccbf851",
   "metadata": {},
   "outputs": [
    {
     "name": "stdout",
     "output_type": "stream",
     "text": [
      "Row Context سياق الصف\n",
      "[Student Score] = [Math Score] + [English Score]\n",
      "[Full Name] = [First Name] &  & [Last Name]\n",
      "[Pass/Fall] = IF([Student Score] > 160, 'Pass','Fail')\n"
     ]
    }
   ],
   "source": [
    "print(\"Row Context\",\"سياق الصف\")\n",
    "print(\"[Student Score] = [Math Score] + [English Score]\")\n",
    "print(\"[Full Name] = [First Name] & \"\" & [Last Name]\")\n",
    "print(\"[Pass/Fall] = IF([Student Score] > 160, 'Pass','Fail')\")"
   ]
  },
  {
   "cell_type": "code",
   "execution_count": 34,
   "id": "f202505e-30de-42b7-a15d-99fcfebc642f",
   "metadata": {},
   "outputs": [
    {
     "name": "stdout",
     "output_type": "stream",
     "text": [
      "<<Data Analysis Expressions (DAX) Measures>> مقاييس تعبيرات تحليل البيانات (DAX)\n"
     ]
    }
   ],
   "source": [
    "print(\"<<Data Analysis Expressions (DAX) Measures>>\",\"مقاييس تعبيرات تحليل البيانات (DAX)\")"
   ]
  },
  {
   "cell_type": "code",
   "execution_count": 35,
   "id": "f5068158-f7d8-45ed-a358-337eff3aae8d",
   "metadata": {},
   "outputs": [
    {
     "name": "stdout",
     "output_type": "stream",
     "text": [
      "Filter Context سياق التصفية\n"
     ]
    }
   ],
   "source": [
    "print(\"Filter Context\",\"سياق التصفية\")"
   ]
  },
  {
   "cell_type": "code",
   "execution_count": 36,
   "id": "e3ab7a53-d02f-4710-a776-fa427979672b",
   "metadata": {},
   "outputs": [
    {
     "name": "stdout",
     "output_type": "stream",
     "text": [
      ">>Create pivot table with Excel<<\n",
      ">>Filter and Slicers<<\n"
     ]
    }
   ],
   "source": [
    "print(\">>Create pivot table with Excel<<\")\n",
    "print(\">>Filter and Slicers<<\")"
   ]
  },
  {
   "cell_type": "code",
   "execution_count": 38,
   "id": "f6d94275-bdeb-4380-9d12-091d9a611ef7",
   "metadata": {},
   "outputs": [
    {
     "name": "stdout",
     "output_type": "stream",
     "text": [
      ">>Calculated Columns vs. Measures<< >>الأعمدة المحسوبة مقابل القياسات<<\n"
     ]
    }
   ],
   "source": [
    "print(\">>Calculated Columns vs. Measures<<\",\">>الأعمدة المحسوبة مقابل القياسات<<\")"
   ]
  },
  {
   "cell_type": "code",
   "execution_count": 39,
   "id": "49742b57-d26d-4a7f-8b6d-738ffea3986c",
   "metadata": {},
   "outputs": [
    {
     "name": "stdout",
     "output_type": "stream",
     "text": [
      "Calculated Coumns>>Row Context\n",
      "Measures>>Row Context\n"
     ]
    }
   ],
   "source": [
    "print(\"Calculated Coumns>>Row Context\")\n",
    "print(\"Measures>>Row Context\")"
   ]
  },
  {
   "cell_type": "code",
   "execution_count": 45,
   "id": "b3a394e0-0717-47e8-9df1-f7ed986e0437",
   "metadata": {},
   "outputs": [
    {
     "name": "stdout",
     "output_type": "stream",
     "text": [
      ">>Iterator Functions وظائف التكرار\n",
      "Student Score AVG(Iterator):=AVERAGEX(Students,[Math Score] + [English Score])\n",
      "Student Score AVG:=AVERAGE([Student Score])\n"
     ]
    }
   ],
   "source": [
    "print(\">>Iterator Functions\",\"وظائف التكرار\")\n",
    "print(\"Student Score AVG(Iterator):=AVERAGEX(Students,[Math Score] + [English Score])\")\n",
    "print(\"Student Score AVG:=AVERAGE([Student Score])\")"
   ]
  },
  {
   "cell_type": "code",
   "execution_count": 48,
   "id": "8ba11412-c47c-4a73-92e1-8bd572cfe293",
   "metadata": {},
   "outputs": [
    {
     "name": "stdout",
     "output_type": "stream",
     "text": [
      ">>DAX Calculated Columns vs. Power Query<< أعمدة DAX المحسوبة مقابل Power Query\n",
      ">>DAX Calculated Columns vs. Power Query<<\n"
     ]
    }
   ],
   "source": [
    "print(\">>DAX Calculated Columns vs. Power Query<<\",\"أعمدة DAX المحسوبة مقابل Power Query\")\n",
    "print(\">>DAX Calculated Columns vs. Power Query<<\")"
   ]
  },
  {
   "cell_type": "code",
   "execution_count": 49,
   "id": "697e21ec-1d77-485d-bdd3-c3c4b47c591e",
   "metadata": {},
   "outputs": [
    {
     "name": "stdout",
     "output_type": "stream",
     "text": [
      ">>{Create pivot table with excel}<<\n"
     ]
    }
   ],
   "source": [
    "print(\">>{Create pivot table with excel}<<\")"
   ]
  },
  {
   "cell_type": "code",
   "execution_count": 51,
   "id": "337ecc36-f41d-46f6-88c6-3c465b422a83",
   "metadata": {},
   "outputs": [
    {
     "name": "stdout",
     "output_type": "stream",
     "text": [
      "{Intermediate DAX & Time Intelligence>>>>Module 3>>>>Introduction - Scalar Functions} الدوال القياسية\n"
     ]
    }
   ],
   "source": [
    "print(\"{Intermediate DAX & Time Intelligence>>>>Module 3>>>>Introduction - Scalar Functions}\",\"الدوال القياسية\")"
   ]
  },
  {
   "cell_type": "code",
   "execution_count": 54,
   "id": "48e71d24-57c6-4d05-9929-fa46a11b3642",
   "metadata": {},
   "outputs": [
    {
     "name": "stdout",
     "output_type": "stream",
     "text": [
      ">>Introduction - Scalar Functions مقدمة - الدوال القياسية<<<\n"
     ]
    }
   ],
   "source": [
    "print(\">>Introduction - Scalar Functions\",\"مقدمة - الدوال القياسية<<<\")"
   ]
  },
  {
   "cell_type": "code",
   "execution_count": 56,
   "id": "e76ff345-f488-4e3a-84d3-ef5485c0fcc9",
   "metadata": {},
   "outputs": [
    {
     "name": "stdout",
     "output_type": "stream",
     "text": [
      ">>Aggregation Functions<<\n",
      ">>DAX Aggregation Functions<< وظائف التجميع\n"
     ]
    }
   ],
   "source": [
    "print(\">>Aggregation Functions<<\")\n",
    "print(\">>DAX Aggregation Functions<<\",\"وظائف التجميع\")"
   ]
  },
  {
   "cell_type": "code",
   "execution_count": 59,
   "id": "98ca5024-8424-466c-b162-ff68e9cfad7b",
   "metadata": {},
   "outputs": [
    {
     "name": "stdout",
     "output_type": "stream",
     "text": [
      "DAX Aggregation Functions وظائف تجميع DAX\n",
      "Aggregation functions summarize the rows of a dataset into a single value.\n",
      "تلخص وظائف التجميع صفوف مجموعة البيانات في قيمة واحدة.\n"
     ]
    }
   ],
   "source": [
    "print(\"DAX Aggregation Functions\",\"وظائف تجميع DAX\")\n",
    "print(\"Aggregation functions summarize the rows of a dataset into a single value.\")\n",
    "print(\"تلخص وظائف التجميع صفوف مجموعة البيانات في قيمة واحدة.\")"
   ]
  },
  {
   "cell_type": "code",
   "execution_count": 61,
   "id": "23cde245-1369-48a8-8374-b2500c89fb4f",
   "metadata": {},
   "outputs": [
    {
     "name": "stdout",
     "output_type": "stream",
     "text": [
      "Function Example\n",
      "Measures\n",
      "Sum() Sales Total =SUM(Sales[Revenue])\n",
      "Average() Qty AVG =AVERAGE(Sales[Quantity])\n",
      "MIN() UnitPrice MIN =MIN(Sales[UnitPrice])\n",
      "MAX() UnitPrice MAX =MAX(Sales[UnitPrice])\n",
      "Count() Txns COUNT =COUNT(Sales[TransactionID])\n",
      "COUNTROWS() Row COUNT =COUNTROWS(Sales)\n",
      "SUMX() COST Total =SUMX(Sales,Sales[UnitCost] * Sales[Quantity]\n"
     ]
    }
   ],
   "source": [
    "print(\"Function\",\"Example\")\n",
    "print(\"Measures\")\n",
    "print(\"Sum()\",\"Sales Total\",\"=SUM(Sales[Revenue])\")\n",
    "print(\"Average()\",\"Qty AVG\",\"=AVERAGE(Sales[Quantity])\")\n",
    "print(\"MIN()\",\"UnitPrice MIN\",\"=MIN(Sales[UnitPrice])\")\n",
    "print(\"MAX()\",\"UnitPrice MAX\",\"=MAX(Sales[UnitPrice])\")\n",
    "print(\"Count()\",\"Txns COUNT\",\"=COUNT(Sales[TransactionID])\")\n",
    "print(\"COUNTROWS()\",\"Row COUNT\",\"=COUNTROWS(Sales)\")\n",
    "print(\"SUMX()\",\"COST Total\",\"=SUMX(Sales,Sales[UnitCost] * Sales[Quantity]\")"
   ]
  },
  {
   "cell_type": "code",
   "execution_count": 62,
   "id": "16ead943-9a8f-406d-91cd-c5baf89a9500",
   "metadata": {},
   "outputs": [
    {
     "name": "stdout",
     "output_type": "stream",
     "text": [
      ">>Aggregation Functions in DAX<< وظائف التجميع في DAX\n",
      ">>Aggregation Functions in DAX<<\n"
     ]
    }
   ],
   "source": [
    "print(\">>Aggregation Functions in DAX<<\",\"وظائف التجميع في DAX\")\n",
    "print(\">>Aggregation Functions in DAX<<\")"
   ]
  },
  {
   "cell_type": "code",
   "execution_count": 66,
   "id": "28cdc0b9-3ffa-4b70-bee4-274629c76298",
   "metadata": {},
   "outputs": [
    {
     "name": "stdout",
     "output_type": "stream",
     "text": [
      ">>Aggregation functions summarize the data تلخيص البيانات<<\n"
     ]
    }
   ],
   "source": [
    "print(\">>Aggregation functions summarize the data\",\"تلخيص البيانات<<\")"
   ]
  },
  {
   "cell_type": "code",
   "execution_count": 68,
   "id": "c2d39932-f690-42a0-a6b6-fbae66113d7d",
   "metadata": {},
   "outputs": [
    {
     "name": "stdout",
     "output_type": "stream",
     "text": [
      "<<Aggregation-Functions>> <<وظائف التجميع>>\n",
      "Sales Total:=SUM(Sales[Revenue])\n",
      "Qty AVG:=Average(Sales[Quantity])\n",
      "Txns COUNT:=COUNT(Sales[TransactionID])\n",
      "DiscountRate COUNT:=COUNT(Sales[Discount Rate])\n",
      "Row COUNT:=COUNTROWS(Sales)\n",
      "Cost Total:=SUMX(Sales,Sales[UnitCost] * Sales[Quantity])\n",
      "*********************************************************\n"
     ]
    }
   ],
   "source": [
    "print(\"<<Aggregation-Functions>>\",\"<<وظائف التجميع>>\")\n",
    "print(\"Sales Total:=SUM(Sales[Revenue])\")\n",
    "print(\"Qty AVG:=Average(Sales[Quantity])\")\n",
    "print(\"Txns COUNT:=COUNT(Sales[TransactionID])\")\n",
    "print(\"DiscountRate COUNT:=COUNT(Sales[Discount Rate])\")\n",
    "print(\"Row COUNT:=COUNTROWS(Sales)\")\n",
    "print(\"Cost Total:=SUMX(Sales,Sales[UnitCost] * Sales[Quantity])\")\n",
    "print(\"*********************************************************\")"
   ]
  },
  {
   "cell_type": "code",
   "execution_count": 69,
   "id": "d54acb38-e5e2-4e57-a6a7-fa9c82520d94",
   "metadata": {},
   "outputs": [
    {
     "name": "stdout",
     "output_type": "stream",
     "text": [
      "<<Math-Functions>>\n",
      "<<DAX-MAth-Functions>>\n"
     ]
    }
   ],
   "source": [
    "print(\"<<Math-Functions>>\")\n",
    "print(\"<<DAX-MAth-Functions>>\")"
   ]
  },
  {
   "cell_type": "code",
   "execution_count": 71,
   "id": "ef67169c-7457-4e00-96de-8253d55bc374",
   "metadata": {},
   "outputs": [
    {
     "name": "stdout",
     "output_type": "stream",
     "text": [
      "Math and Trig functions (DAX) وظائف الرياضيات والمثلثات (DAX)\n",
      "The mathematical functions in Data Analysis Expressions (DAX) are very similar to\n",
      "The Excel mathematical and trigonometric functions. الدوال الرياضية والمثلثية في برنامج Excel.\n"
     ]
    }
   ],
   "source": [
    "print(\"Math and Trig functions (DAX)\",\"وظائف الرياضيات والمثلثات (DAX)\")\n",
    "print(\"The mathematical functions in Data Analysis Expressions (DAX) are very similar to\") \n",
    "print(\"The Excel mathematical and trigonometric functions.\",\"الدوال الرياضية والمثلثية في برنامج Excel.\")"
   ]
  },
  {
   "cell_type": "code",
   "execution_count": 73,
   "id": "c49f98ca-afa7-4d4b-92f4-709a080fa844",
   "metadata": {},
   "outputs": [
    {
     "name": "stdout",
     "output_type": "stream",
     "text": [
      "This section lists the mathematical functions provided by DAX. Math and Trig functions\n"
     ]
    }
   ],
   "source": [
    "print(\"This section lists the mathematical functions provided by DAX.\",\"Math and Trig functions\")"
   ]
  },
  {
   "cell_type": "code",
   "execution_count": 74,
   "id": "697edd9e-2024-4646-b289-030a1435a16a",
   "metadata": {},
   "outputs": [
    {
     "name": "stdout",
     "output_type": "stream",
     "text": [
      ">>Math Functions in DAX<< الدوال الرياضية في DAX\n"
     ]
    }
   ],
   "source": [
    "print(\">>Math Functions in DAX<<\",\"الدوال الرياضية في DAX\")"
   ]
  },
  {
   "cell_type": "code",
   "execution_count": 76,
   "id": "8b2b3bf5-fb18-4021-bf52-80fe75428c7e",
   "metadata": {},
   "outputs": [
    {
     "name": "stdout",
     "output_type": "stream",
     "text": [
      ">>Type of Function Examples<<\n",
      "ROUND() =ROUND(Sales[Revenuel],2) Rounds\n",
      "SQRT() =SQRT(Sales[UnitCost]) Square Root\n",
      "Power() =Power(Sales[UnitPrice],3) Power **\n",
      "DIVIDE() =DIVIDE(Sales[Revenue],Sales[UnitCost],0) Divide /\n"
     ]
    }
   ],
   "source": [
    "print(\">>Type of Function\",\"Examples<<\")\n",
    "print(\"ROUND()\",\"=ROUND(Sales[Revenuel],2)\",\"Rounds\")\n",
    "print(\"SQRT()\",\"=SQRT(Sales[UnitCost])\",\"Square Root\")\n",
    "print(\"Power()\",\"=Power(Sales[UnitPrice],3)\",\"Power **\")\n",
    "print(\"DIVIDE()\",\"=DIVIDE(Sales[Revenue],Sales[UnitCost],0)\",\"Divide /\")"
   ]
  },
  {
   "cell_type": "code",
   "execution_count": 77,
   "id": "cc028a3e-a704-4164-94d0-4918cda57c44",
   "metadata": {},
   "outputs": [
    {
     "name": "stdout",
     "output_type": "stream",
     "text": [
      "***************************************************\n"
     ]
    }
   ],
   "source": [
    "print(\"***************************************************\")"
   ]
  },
  {
   "cell_type": "code",
   "execution_count": 1,
   "id": "2517b1ab-6885-4195-a9af-9aed9d4c7c72",
   "metadata": {},
   "outputs": [
    {
     "name": "stdout",
     "output_type": "stream",
     "text": [
      "Qty AVG - Rounded:=ROUND([Qty AVG],0)\n"
     ]
    }
   ],
   "source": [
    "print(\"Qty AVG - Rounded:=ROUND([Qty AVG],0)\")"
   ]
  },
  {
   "cell_type": "code",
   "execution_count": 2,
   "id": "b2fed88d-1926-4e4a-bb88-4f21b347141d",
   "metadata": {},
   "outputs": [
    {
     "name": "stdout",
     "output_type": "stream",
     "text": [
      "Revenue Projected:=Sales[Sales Total]*POWER((1+0.065),4)\n"
     ]
    }
   ],
   "source": [
    "print(\"Revenue Projected:=Sales[Sales Total]*POWER((1+0.065),4)\")"
   ]
  },
  {
   "cell_type": "code",
   "execution_count": 3,
   "id": "763297e5-b806-4a41-8eda-f69a5b63f8bf",
   "metadata": {},
   "outputs": [
    {
     "name": "stdout",
     "output_type": "stream",
     "text": [
      "[Profit Margin] = DIVIDE(([Revenue] - [UnitCost] * [Quantity]),[Revenue])\n"
     ]
    }
   ],
   "source": [
    "print(\"[Profit Margin] = DIVIDE(([Revenue] - [UnitCost] * [Quantity]),[Revenue])\")"
   ]
  },
  {
   "cell_type": "code",
   "execution_count": 4,
   "id": "24ded3ea-751a-4db8-a8f3-5bf869600da3",
   "metadata": {},
   "outputs": [
    {
     "name": "stdout",
     "output_type": "stream",
     "text": [
      "Profit Margin هامش الربح\n"
     ]
    }
   ],
   "source": [
    "print(\"Profit Margin\",\"هامش الربح\")"
   ]
  },
  {
   "cell_type": "code",
   "execution_count": 5,
   "id": "fce0e001-6f1c-4112-921e-3d9502b0f421",
   "metadata": {},
   "outputs": [
    {
     "name": "stdout",
     "output_type": "stream",
     "text": [
      "[Shelf Length] = ROUND(SQRT([StoreArea]),2)\n"
     ]
    }
   ],
   "source": [
    "print(\"[Shelf Length] = ROUND(SQRT([StoreArea]),2)\")"
   ]
  },
  {
   "cell_type": "code",
   "execution_count": 7,
   "id": "6c1b653a-17cf-4341-a036-56e84b68db97",
   "metadata": {},
   "outputs": [
    {
     "name": "stdout",
     "output_type": "stream",
     "text": [
      ">>Created Calculated Columns<<\n"
     ]
    }
   ],
   "source": [
    "print(\">>Created Calculated Columns<<\")"
   ]
  },
  {
   "cell_type": "code",
   "execution_count": 8,
   "id": "01881e93-eaf1-4a80-b65f-e3f8e1a6a56c",
   "metadata": {},
   "outputs": [
    {
     "name": "stdout",
     "output_type": "stream",
     "text": [
      "*******************************\n"
     ]
    }
   ],
   "source": [
    "print(\"*******************************\")"
   ]
  },
  {
   "cell_type": "code",
   "execution_count": 9,
   "id": "862079a7-582d-4b9e-96ce-587f35a0546c",
   "metadata": {},
   "outputs": [
    {
     "name": "stdout",
     "output_type": "stream",
     "text": [
      "Conditional Functions الدوال الشرطية\n"
     ]
    }
   ],
   "source": [
    "print(\"Conditional Functions\",\"الدوال الشرطية\")"
   ]
  },
  {
   "cell_type": "code",
   "execution_count": 10,
   "id": "2fb19e1b-7c62-4f14-8e23-12436bc4c55d",
   "metadata": {},
   "outputs": [
    {
     "name": "stdout",
     "output_type": "stream",
     "text": [
      "DAX Conditional Functions وظائف DAX الشرطية\n"
     ]
    }
   ],
   "source": [
    "print(\"DAX Conditional Functions\",\"وظائف DAX الشرطية\")"
   ]
  },
  {
   "cell_type": "code",
   "execution_count": 11,
   "id": "5616d315-2fd9-4e99-88be-cb673a53f998",
   "metadata": {},
   "outputs": [
    {
     "name": "stdout",
     "output_type": "stream",
     "text": [
      "Calculated Columns\n"
     ]
    }
   ],
   "source": [
    "print(\"Calculated Columns\")"
   ]
  },
  {
   "cell_type": "code",
   "execution_count": 12,
   "id": "219ad082-27d2-4217-b18b-d29dd9d9a041",
   "metadata": {},
   "outputs": [
    {
     "name": "stdout",
     "output_type": "stream",
     "text": [
      "IF() Revenue Category =IF([Revenue] > 50,'High Revenue','Low Revenue')\n",
      "SWITCH() Group = SWITCH([Category],'Fruit','Fruit & Veg','Vegetable','')\n"
     ]
    }
   ],
   "source": [
    "print(\"IF()\",\"Revenue Category =IF([Revenue] > 50,'High Revenue','Low Revenue')\")\n",
    "print(\"SWITCH()\",\"Group = SWITCH([Category],'Fruit','Fruit & Veg','Vegetable','')\")"
   ]
  },
  {
   "cell_type": "code",
   "execution_count": 13,
   "id": "83186057-9e8f-4092-8096-0a3a434eb3a1",
   "metadata": {},
   "outputs": [
    {
     "name": "stdout",
     "output_type": "stream",
     "text": [
      "Measures\n"
     ]
    }
   ],
   "source": [
    "print(\"Measures\")"
   ]
  },
  {
   "cell_type": "code",
   "execution_count": 15,
   "id": "0b59a197-eabc-4356-a881-480830fcadd8",
   "metadata": {},
   "outputs": [
    {
     "name": "stdout",
     "output_type": "stream",
     "text": [
      "SWITCH() Sales Total Level = SWITCH(TRUE(),[Sales Total] > 1000,'High',[Sales Total] > 800,'Medium','Low')\n",
      "AND() High Sales High Cost = AND([Sales Total]>150,[Cost Total]>100)\n"
     ]
    }
   ],
   "source": [
    "print(\"SWITCH()\",\"Sales Total Level = SWITCH(TRUE(),[Sales Total] > 1000,'High',[Sales Total] > 800,'Medium','Low')\")\n",
    "print(\"AND()\",\"High Sales High Cost = AND([Sales Total]>150,[Cost Total]>100)\")"
   ]
  },
  {
   "cell_type": "code",
   "execution_count": 16,
   "id": "383710b8-332d-4f69-a6ce-5a1093a8a804",
   "metadata": {},
   "outputs": [
    {
     "name": "stdout",
     "output_type": "stream",
     "text": [
      "***********************************************************\n"
     ]
    }
   ],
   "source": [
    "print(\"***********************************************************\")"
   ]
  },
  {
   "cell_type": "code",
   "execution_count": 17,
   "id": "fde04807-0ad9-4361-b09a-1838e82486a7",
   "metadata": {},
   "outputs": [
    {
     "name": "stdout",
     "output_type": "stream",
     "text": [
      "[Revenue Category] = IF([Revenue]>50,'High Revenue','Low Revenue')\n"
     ]
    }
   ],
   "source": [
    "print(\"[Revenue Category] = IF([Revenue]>50,'High Revenue','Low Revenue')\")"
   ]
  },
  {
   "cell_type": "code",
   "execution_count": 18,
   "id": "cc12ac4d-b48b-4dec-b988-bb6e6fcd8e06",
   "metadata": {},
   "outputs": [
    {
     "name": "stdout",
     "output_type": "stream",
     "text": [
      "[Group] = SWITCH([Category],'Fruit','Fruit & Veg','Vegetable','Fruit & Veg','Meat','Meat & Dairy','Dairy','Meat & Dairy','Other')\n"
     ]
    }
   ],
   "source": [
    "print(\"[Group] = SWITCH([Category],'Fruit','Fruit & Veg','Vegetable','Fruit & Veg','Meat','Meat & Dairy','Dairy','Meat & Dairy','Other')\")"
   ]
  },
  {
   "cell_type": "code",
   "execution_count": 19,
   "id": "b517b3c0-de13-410c-a3cd-141c938d0243",
   "metadata": {},
   "outputs": [
    {
     "name": "stdout",
     "output_type": "stream",
     "text": [
      "***********************************************************************************\n"
     ]
    }
   ],
   "source": [
    "print(\"***********************************************************************************\")"
   ]
  },
  {
   "cell_type": "code",
   "execution_count": 20,
   "id": "3c5ddb9a-9b1e-4b68-9407-9ffc4f8ac617",
   "metadata": {},
   "outputs": [
    {
     "name": "stdout",
     "output_type": "stream",
     "text": [
      "Text Functions وظائف النص\n"
     ]
    }
   ],
   "source": [
    "print(\"Text Functions\",\"وظائف النص\")"
   ]
  },
  {
   "cell_type": "code",
   "execution_count": 21,
   "id": "f72c1fa4-c867-4855-b68c-5c4d720403d8",
   "metadata": {},
   "outputs": [
    {
     "name": "stdout",
     "output_type": "stream",
     "text": [
      "DAX Text Functions وظائف نص DAX\n"
     ]
    }
   ],
   "source": [
    "print(\"DAX Text Functions\",\"وظائف نص DAX\")"
   ]
  },
  {
   "cell_type": "code",
   "execution_count": 22,
   "id": "fbf405ab-7e42-4209-9520-7f389f973074",
   "metadata": {},
   "outputs": [
    {
     "name": "stdout",
     "output_type": "stream",
     "text": [
      "Text functions manipulate or analyze string values. تعمل وظائف النص على معالجة قيم السلسلة أو تحليلها.\n"
     ]
    }
   ],
   "source": [
    "print(\"Text functions manipulate or analyze string values.\",\"تعمل وظائف النص على معالجة قيم السلسلة أو تحليلها.\")"
   ]
  },
  {
   "cell_type": "code",
   "execution_count": 23,
   "id": "0d12c218-45ca-4e71-8ca8-5780f0e958e8",
   "metadata": {},
   "outputs": [
    {
     "name": "stdout",
     "output_type": "stream",
     "text": [
      "Function Example\n"
     ]
    }
   ],
   "source": [
    "print(\"Function\",\"Example\")"
   ]
  },
  {
   "cell_type": "code",
   "execution_count": 24,
   "id": "5c50bc3a-c2d4-45c2-99e9-8aabe1191513",
   "metadata": {},
   "outputs": [
    {
     "name": "stdout",
     "output_type": "stream",
     "text": [
      "Calculated Columns\n"
     ]
    }
   ],
   "source": [
    "print(\"Calculated Columns\")"
   ]
  },
  {
   "cell_type": "code",
   "execution_count": 25,
   "id": "d592674f-28be-4e22-87a4-0bb1bb4f136d",
   "metadata": {},
   "outputs": [
    {
     "name": "stdout",
     "output_type": "stream",
     "text": [
      "LOWER() ProductName Lower =LOWER([ProductName])\n",
      "UPPER() RevCat Short Upper =UPPER(LEFT([Revenue Category],FIND('',[Revenue Category])-1))\n"
     ]
    }
   ],
   "source": [
    "print(\"LOWER()\",\"ProductName Lower\",\"=LOWER([ProductName])\")\n",
    "print(\"UPPER()\",\"RevCat Short Upper\",\"=UPPER(LEFT([Revenue Category],FIND('',[Revenue Category])-1))\")"
   ]
  },
  {
   "cell_type": "code",
   "execution_count": 26,
   "id": "1db96095-8986-4983-8565-bde76b7d48eb",
   "metadata": {},
   "outputs": [
    {
     "name": "stdout",
     "output_type": "stream",
     "text": [
      "Measures\n"
     ]
    }
   ],
   "source": [
    "print(\"Measures\")"
   ]
  },
  {
   "cell_type": "code",
   "execution_count": 27,
   "id": "949d492c-c43b-4f24-b060-848873658e44",
   "metadata": {},
   "outputs": [
    {
     "name": "stdout",
     "output_type": "stream",
     "text": [
      "CONCATENATEX() ProductList =CONCATENATEX(Sales,[ProductName Lower], )\n"
     ]
    }
   ],
   "source": [
    "print(\"CONCATENATEX()\",\"ProductList\",\"=CONCATENATEX(Sales,[ProductName Lower],\",\")\")"
   ]
  },
  {
   "cell_type": "code",
   "execution_count": 28,
   "id": "4de6468d-7226-4077-8b9c-bd3f33dac24e",
   "metadata": {},
   "outputs": [
    {
     "name": "stdout",
     "output_type": "stream",
     "text": [
      "############################################################\n"
     ]
    }
   ],
   "source": [
    "print(\"############################################################\")"
   ]
  },
  {
   "cell_type": "code",
   "execution_count": 30,
   "id": "7529ec8a-5d39-4b20-a35f-1cac25f3ff9d",
   "metadata": {},
   "outputs": [
    {
     "name": "stdout",
     "output_type": "stream",
     "text": [
      ">>Reviewing Text Functions in DAX<< >>مراجعة وظائف النص في DAX<<\n"
     ]
    }
   ],
   "source": [
    "print(\">>Reviewing Text Functions in DAX<<\",\">>مراجعة وظائف النص في DAX<<\")"
   ]
  },
  {
   "cell_type": "code",
   "execution_count": 33,
   "id": "f78e2ecc-4c52-4d8a-a5d0-4f9aa5623cee",
   "metadata": {},
   "outputs": [
    {
     "name": "stdout",
     "output_type": "stream",
     "text": [
      "$$$$$$$$$$$$$$$$$$$$$$$$$\n",
      "Learn/Data Analysis Expressions (DAX)/ Text functions\n"
     ]
    }
   ],
   "source": [
    "print(\"$$$$$$$$$$$$$$$$$$$$$$$$$\")\n",
    "print(\"Learn/Data Analysis Expressions (DAX)/\",\"Text functions\")"
   ]
  },
  {
   "cell_type": "code",
   "execution_count": 34,
   "id": "80ebd888-aaaf-47e5-9224-cbf9a95e2d62",
   "metadata": {},
   "outputs": [
    {
     "name": "stdout",
     "output_type": "stream",
     "text": [
      "[ProductName LOWER] = LOWER(Sales[ProductName])\n"
     ]
    }
   ],
   "source": [
    "print(\"[ProductName LOWER] = LOWER(Sales[ProductName])\")"
   ]
  },
  {
   "cell_type": "code",
   "execution_count": 35,
   "id": "d30b9cd2-e249-4cad-bd02-983b290f997b",
   "metadata": {},
   "outputs": [
    {
     "name": "stdout",
     "output_type": "stream",
     "text": [
      "=UPPER(left([Revenue Category],find('',[Revenue Category])))\n"
     ]
    }
   ],
   "source": [
    "print(\"=UPPER(left([Revenue Category],find('',[Revenue Category])))\")"
   ]
  },
  {
   "cell_type": "code",
   "execution_count": 36,
   "id": "97206d87-4791-4651-8bf8-cd54c0375d6a",
   "metadata": {},
   "outputs": [
    {
     "name": "stdout",
     "output_type": "stream",
     "text": [
      "=UPPER(left([Revenue Category],find('',[Revenue Category])))\n"
     ]
    }
   ],
   "source": [
    "print(\"=UPPER(left([Revenue Category],find('',[Revenue Category])))\")"
   ]
  },
  {
   "cell_type": "code",
   "execution_count": 37,
   "id": "0c0870f0-9f00-4ffb-ad5c-4e0388d9f405",
   "metadata": {},
   "outputs": [
    {
     "name": "stdout",
     "output_type": "stream",
     "text": [
      "len(Sales[RevCat Short UPPER])\n"
     ]
    }
   ],
   "source": [
    "print(\"len(Sales[RevCat Short UPPER])\")"
   ]
  },
  {
   "cell_type": "code",
   "execution_count": 38,
   "id": "12178ea6-6efd-460f-8aad-960ee9695c4f",
   "metadata": {},
   "outputs": [
    {
     "name": "stdout",
     "output_type": "stream",
     "text": [
      "Calculated Column 1 = len(Sales[RevCat Short UPPER])\n"
     ]
    }
   ],
   "source": [
    "print(\"Calculated Column 1 = len(Sales[RevCat Short UPPER])\")"
   ]
  },
  {
   "cell_type": "code",
   "execution_count": 39,
   "id": "3b493213-5f75-4d6a-8b40-95348db3a9fc",
   "metadata": {},
   "outputs": [
    {
     "name": "stdout",
     "output_type": "stream",
     "text": [
      "ProductList:=CONCATENATEX(Sales,Sales[ProdcutName Lower],',')\n"
     ]
    }
   ],
   "source": [
    "print(\"ProductList:=CONCATENATEX(Sales,Sales[ProdcutName Lower],',')\")"
   ]
  },
  {
   "cell_type": "code",
   "execution_count": 40,
   "id": "5d563666-dc30-47ce-baa6-80983d586b59",
   "metadata": {},
   "outputs": [
    {
     "name": "stdout",
     "output_type": "stream",
     "text": [
      "*************************************************************\n"
     ]
    }
   ],
   "source": [
    "print(\"*************************************************************\")"
   ]
  },
  {
   "cell_type": "code",
   "execution_count": 41,
   "id": "e5a44f41-d36a-41f3-b74b-760b4f608d85",
   "metadata": {},
   "outputs": [
    {
     "name": "stdout",
     "output_type": "stream",
     "text": [
      "<<Type Casting Functions وظائف صب النوع>>\n"
     ]
    }
   ],
   "source": [
    "print(\"<<Type Casting Functions\",\"وظائف صب النوع>>\")"
   ]
  },
  {
   "cell_type": "code",
   "execution_count": 42,
   "id": "355544f9-269b-4a33-95b5-e4fca3ef15ea",
   "metadata": {},
   "outputs": [
    {
     "name": "stdout",
     "output_type": "stream",
     "text": [
      "<<DAX Type Casting Functions>>\n"
     ]
    }
   ],
   "source": [
    "print(\"<<DAX Type Casting Functions>>\")"
   ]
  },
  {
   "cell_type": "code",
   "execution_count": 43,
   "id": "d1c9dd65-59b4-4576-a7fa-20588ff1478c",
   "metadata": {},
   "outputs": [
    {
     "name": "stdout",
     "output_type": "stream",
     "text": [
      "Type Casting functions convert data from one type to another\n",
      "تعمل وظائف صب النوع على تحويل البيانات من نوع إلى آخر\n"
     ]
    }
   ],
   "source": [
    "print(\"Type Casting functions convert data from one type to another\")\n",
    "print(\"تعمل وظائف صب النوع على تحويل البيانات من نوع إلى آخر\")"
   ]
  },
  {
   "cell_type": "code",
   "execution_count": 44,
   "id": "3664e1e4-d9b3-4b6a-8198-2e7c28d04974",
   "metadata": {},
   "outputs": [
    {
     "name": "stdout",
     "output_type": "stream",
     "text": [
      "Function>>>>Example\n"
     ]
    }
   ],
   "source": [
    "print(\"Function>>>>Example\")"
   ]
  },
  {
   "cell_type": "code",
   "execution_count": 45,
   "id": "eadf1271-0621-47e0-9117-e9fd222174c0",
   "metadata": {},
   "outputs": [
    {
     "name": "stdout",
     "output_type": "stream",
     "text": [
      "Calculated Columns الأعمدة المحسوبة\n"
     ]
    }
   ],
   "source": [
    "print(\"Calculated Columns\",\"الأعمدة المحسوبة\")"
   ]
  },
  {
   "cell_type": "code",
   "execution_count": 46,
   "id": "f1a15460-4afc-4ddb-ba12-0842da80bd0a",
   "metadata": {},
   "outputs": [
    {
     "name": "stdout",
     "output_type": "stream",
     "text": [
      "INT() UnitPrice INT =INT([UnitPrice])\n"
     ]
    }
   ],
   "source": [
    "print(\"INT()\",\"UnitPrice INT\",\"=INT([UnitPrice])\")"
   ]
  },
  {
   "cell_type": "code",
   "execution_count": 47,
   "id": "14561022-44ae-4b08-9b80-3ff72c301bf5",
   "metadata": {},
   "outputs": [
    {
     "name": "stdout",
     "output_type": "stream",
     "text": [
      "FORMAT() DiscountRate AVG Msg = “Average Discount Rate is “ & FORMAT( AVERAGE( [Discount Rate] ), “0.0%” )\n"
     ]
    }
   ],
   "source": [
    "print(\"FORMAT()\",\"DiscountRate AVG Msg\",\"= “Average Discount Rate is “ & FORMAT( AVERAGE( [Discount Rate] ), “0.0%” )\")"
   ]
  },
  {
   "cell_type": "code",
   "execution_count": 48,
   "id": "7d53c95b-db17-4a9d-8be0-6abd636897c8",
   "metadata": {},
   "outputs": [
    {
     "name": "stdout",
     "output_type": "stream",
     "text": [
      "Reviewing Type Casting Functions in DAX\n"
     ]
    }
   ],
   "source": [
    "print(\"Reviewing Type Casting Functions in DAX\")"
   ]
  },
  {
   "cell_type": "code",
   "execution_count": 50,
   "id": "6d2e9706-7c42-4014-bd8b-655ad386a721",
   "metadata": {},
   "outputs": [
    {
     "name": "stdout",
     "output_type": "stream",
     "text": [
      "{=INT(Sales[UnitPrice])}\n",
      "{DiscountRate AVG Msg:='Average Discount Rate is' & FORMAT(AVERAGE(Sales[Discount Rate]),'0.0%')}\n"
     ]
    }
   ],
   "source": [
    "print(\"{=INT(Sales[UnitPrice])}\")\n",
    "print(\"{DiscountRate AVG Msg:='Average Discount Rate is' & FORMAT(AVERAGE(Sales[Discount Rate]),'0.0%')}\")"
   ]
  },
  {
   "cell_type": "code",
   "execution_count": 51,
   "id": "ba2d571e-48f1-4580-8097-b999fef40750",
   "metadata": {},
   "outputs": [
    {
     "name": "stdout",
     "output_type": "stream",
     "text": [
      "*****************************************************************************\n"
     ]
    }
   ],
   "source": [
    "print(\"*****************************************************************************\")"
   ]
  },
  {
   "cell_type": "code",
   "execution_count": 53,
   "id": "542e1438-31c2-43b9-84d7-36b0d4dc2f25",
   "metadata": {},
   "outputs": [
    {
     "name": "stdout",
     "output_type": "stream",
     "text": [
      ">>Error Handling Functions وظائف معالجة الأخطاء<<\n"
     ]
    }
   ],
   "source": [
    "print(\">>Error Handling Functions\",\"وظائف معالجة الأخطاء<<\")"
   ]
  },
  {
   "cell_type": "code",
   "execution_count": 54,
   "id": "c347d0bc-7517-4715-b9b5-3ff91df7bcc0",
   "metadata": {},
   "outputs": [
    {
     "name": "stdout",
     "output_type": "stream",
     "text": [
      "Calculated Columns الأعمدة المحسوبة\n"
     ]
    }
   ],
   "source": [
    "print(\"Calculated Columns\",\"الأعمدة المحسوبة\")"
   ]
  },
  {
   "cell_type": "code",
   "execution_count": 2,
   "id": "f6ec1925-94ad-4cb9-bd24-0c5fc2fb2d96",
   "metadata": {},
   "outputs": [
    {
     "name": "stdout",
     "output_type": "stream",
     "text": [
      "<<DAX Error Handling Functions>> <وظائف معالجة أخطاء DAX>\n"
     ]
    }
   ],
   "source": [
    "print(\"<<DAX Error Handling Functions>>\",\"<وظائف معالجة أخطاء DAX>\")"
   ]
  },
  {
   "cell_type": "code",
   "execution_count": 3,
   "id": "5f60bebb-dc1d-435b-9686-153fe4b0b032",
   "metadata": {},
   "outputs": [
    {
     "name": "stdout",
     "output_type": "stream",
     "text": [
      "DAX Error Handling Functions وظائف معالجة أخطاء DAX\n"
     ]
    }
   ],
   "source": [
    "print(\"DAX Error Handling Functions\",\"وظائف معالجة أخطاء DAX\")"
   ]
  },
  {
   "cell_type": "code",
   "execution_count": 4,
   "id": "8f9f8051-3051-4f7d-a6f2-8950b8f9e173",
   "metadata": {},
   "outputs": [
    {
     "name": "stdout",
     "output_type": "stream",
     "text": [
      "<<Calculated Columns>>\n"
     ]
    }
   ],
   "source": [
    "print(\"<<Calculated Columns>>\")"
   ]
  },
  {
   "cell_type": "code",
   "execution_count": 5,
   "id": "7a4cdd7b-adb0-4df0-9056-4cc479ea55f6",
   "metadata": {},
   "outputs": [
    {
     "name": "stdout",
     "output_type": "stream",
     "text": [
      "ISBLANK()   ISBLANK  =ISBLANK([Discount Rate])\n"
     ]
    }
   ],
   "source": [
    "print(\"ISBLANK()\",\"  ISBLANK  =ISBLANK([Discount Rate])\")"
   ]
  },
  {
   "cell_type": "code",
   "execution_count": 6,
   "id": "11f9b2d4-ba9f-48e9-919c-2f47e6fd9a30",
   "metadata": {},
   "outputs": [
    {
     "name": "stdout",
     "output_type": "stream",
     "text": [
      "ISERROR() ISERROR  =ISERROR([UnitPrice]/(1 + [Discount Rate])\n"
     ]
    }
   ],
   "source": [
    "print(\"ISERROR()\",\"ISERROR  =ISERROR([UnitPrice]/(1 + [Discount Rate])\")"
   ]
  },
  {
   "cell_type": "code",
   "execution_count": 7,
   "id": "49bae2e7-705f-4d42-a0f3-cbdf16cfb983",
   "metadata": {},
   "outputs": [
    {
     "name": "stdout",
     "output_type": "stream",
     "text": [
      "IFERROR() IFERROR =IFERROR([UnitPrice]/(1+[Discount Price]),[UnitPrice])\n"
     ]
    }
   ],
   "source": [
    "print(\"IFERROR()\",\"IFERROR\",\"=IFERROR([UnitPrice]/(1+[Discount Price]),[UnitPrice])\")"
   ]
  },
  {
   "cell_type": "code",
   "execution_count": 8,
   "id": "884a4f53-9582-4cd3-9dea-14666b6ad8d2",
   "metadata": {},
   "outputs": [
    {
     "name": "stdout",
     "output_type": "stream",
     "text": [
      "ISNUMBER() IFDATATYPE =IF(ISNUMBER([Revenue],[Revenue],BLANK())\n"
     ]
    }
   ],
   "source": [
    "print(\"ISNUMBER()\",\"IFDATATYPE\",\"=IF(ISNUMBER([Revenue],[Revenue],BLANK())\")"
   ]
  },
  {
   "cell_type": "code",
   "execution_count": 11,
   "id": "52c176e7-6e24-4c0c-9834-5a43dbd23fb9",
   "metadata": {},
   "outputs": [
    {
     "name": "stdout",
     "output_type": "stream",
     "text": [
      ">>Measures<< مقاسات\n"
     ]
    }
   ],
   "source": [
    "print(\">>Measures<<\",\"مقاسات\")"
   ]
  },
  {
   "cell_type": "code",
   "execution_count": 12,
   "id": "ffd09c69-3972-4367-91be-5b5ba6cdd57d",
   "metadata": {},
   "outputs": [
    {
     "name": "stdout",
     "output_type": "stream",
     "text": [
      "ISBLANK() Num Blanks =SIMX(Sales,INT(ISBLANK([Discount Rate])))\n",
      "ISERROR() Num Errors =SUMX(Sales,INT(ISERROR([UnitPrice]/(1+[Discount Rate]))))\n"
     ]
    }
   ],
   "source": [
    "print(\"ISBLANK()\",\"Num Blanks\",\"=SIMX(Sales,INT(ISBLANK([Discount Rate])))\")\n",
    "print(\"ISERROR()\",\"Num Errors\",\"=SUMX(Sales,INT(ISERROR([UnitPrice]/(1+[Discount Rate]))))\")"
   ]
  },
  {
   "cell_type": "code",
   "execution_count": 13,
   "id": "14f4f32c-6717-4788-9705-dc90a137ffea",
   "metadata": {},
   "outputs": [
    {
     "name": "stdout",
     "output_type": "stream",
     "text": [
      "DAX Error Handling Functions وظائف معالجة أخطاء DAX\n"
     ]
    }
   ],
   "source": [
    "print(\"DAX Error Handling Functions\",\"وظائف معالجة أخطاء DAX\")"
   ]
  },
  {
   "cell_type": "code",
   "execution_count": 14,
   "id": "ceefc0f3-cf62-4f85-ae39-a77511defcc1",
   "metadata": {},
   "outputs": [
    {
     "name": "stdout",
     "output_type": "stream",
     "text": [
      "-------------------------------------------------\n"
     ]
    }
   ],
   "source": [
    "print(\"-------------------------------------------------\")"
   ]
  },
  {
   "cell_type": "code",
   "execution_count": 15,
   "id": "d7f24981-42a1-4db7-bcd3-666aa215f453",
   "metadata": {},
   "outputs": [
    {
     "name": "stdout",
     "output_type": "stream",
     "text": [
      ">>Error Handling Functions وظائف معالجة الأخطاء<<\n"
     ]
    }
   ],
   "source": [
    "print(\">>Error Handling Functions\",\"وظائف معالجة الأخطاء<<\")"
   ]
  },
  {
   "cell_type": "code",
   "execution_count": 16,
   "id": "077caf16-0499-414c-98d2-2d9069acef73",
   "metadata": {},
   "outputs": [
    {
     "name": "stdout",
     "output_type": "stream",
     "text": [
      "<<Reviewing Error Handling Functions in DAX>>\n",
      "<<وظائف معالجة الأخطاء>>\n"
     ]
    }
   ],
   "source": [
    "print(\"<<Reviewing Error Handling Functions in DAX>>\")\n",
    "print(\"<<وظائف معالجة الأخطاء>>\")"
   ]
  },
  {
   "cell_type": "code",
   "execution_count": 17,
   "id": "a3919c0f-eecc-41e8-a704-27fa6d394875",
   "metadata": {},
   "outputs": [
    {
     "name": "stdout",
     "output_type": "stream",
     "text": [
      "=ISBLANK(Sales[Discount Rate])\n"
     ]
    }
   ],
   "source": [
    "print(\"=ISBLANK(Sales[Discount Rate])\")"
   ]
  },
  {
   "cell_type": "code",
   "execution_count": 18,
   "id": "ee700e7e-1c90-4b26-a6b2-ab2982da139b",
   "metadata": {},
   "outputs": [
    {
     "name": "stdout",
     "output_type": "stream",
     "text": [
      "=ISBLANK(Sales[Discount Rate])*1\n"
     ]
    }
   ],
   "source": [
    "print(\"=ISBLANK(Sales[Discount Rate])*1\")"
   ]
  },
  {
   "cell_type": "code",
   "execution_count": 19,
   "id": "8d5081d5-0993-4136-a7b4-629ab2b090d0",
   "metadata": {},
   "outputs": [
    {
     "name": "stdout",
     "output_type": "stream",
     "text": [
      "=ISERROR(Sales[UnitPrice]/(1 + Sales[Discount Rate]))\n"
     ]
    }
   ],
   "source": [
    "print(\"=ISERROR(Sales[UnitPrice]/(1 + Sales[Discount Rate]))\")"
   ]
  },
  {
   "cell_type": "code",
   "execution_count": 20,
   "id": "09972722-9632-4fc4-9d05-8c5aff9f944c",
   "metadata": {},
   "outputs": [
    {
     "name": "stdout",
     "output_type": "stream",
     "text": [
      "=IF(ISNUMBER(Sales[Revenue]),Sales[Revenue],BlANK())\n",
      "//Also works with ISNUMBER, ISTEXT, ISNONTEXT\n"
     ]
    }
   ],
   "source": [
    "print(\"=IF(ISNUMBER(Sales[Revenue]),Sales[Revenue],BlANK())\")\n",
    "print(\"//Also works with ISNUMBER, ISTEXT, ISNONTEXT\")"
   ]
  },
  {
   "cell_type": "code",
   "execution_count": 21,
   "id": "c1b59218-2801-4857-ba66-78e1dab5e40d",
   "metadata": {},
   "outputs": [
    {
     "name": "stdout",
     "output_type": "stream",
     "text": [
      "Num Blanks:=SUMX(Sales,INT(ISBLANK([Discount Rate])))\n"
     ]
    }
   ],
   "source": [
    "print(\"Num Blanks:=SUMX(Sales,INT(ISBLANK([Discount Rate])))\")"
   ]
  },
  {
   "cell_type": "code",
   "execution_count": 22,
   "id": "82d37ee2-0323-468b-ba1b-47a2a3dad2fa",
   "metadata": {},
   "outputs": [
    {
     "name": "stdout",
     "output_type": "stream",
     "text": [
      "Num Errors:=SUMX(Sales,INT(ISERROR(Sales[UnitPrice]/(1 + [Discount Rate]))))\n"
     ]
    }
   ],
   "source": [
    "print(\"Num Errors:=SUMX(Sales,INT(ISERROR(Sales[UnitPrice]/(1 + [Discount Rate]))))\")"
   ]
  },
  {
   "cell_type": "code",
   "execution_count": 23,
   "id": "8af0e2de-42a8-479b-a521-91f22062ad52",
   "metadata": {},
   "outputs": [
    {
     "name": "stdout",
     "output_type": "stream",
     "text": [
      "Intermediate DAX & Time Intelligence>>Module 5>>Introduction - Table Functions\n"
     ]
    }
   ],
   "source": [
    "print(\"Intermediate DAX & Time Intelligence>>Module 5>>Introduction - Table Functions\")"
   ]
  },
  {
   "cell_type": "code",
   "execution_count": 25,
   "id": "2a9f3351-71e5-4038-89b2-0f8473df2d98",
   "metadata": {},
   "outputs": [
    {
     "name": "stdout",
     "output_type": "stream",
     "text": [
      ">>Introduction - Table Functions مقدمة - وظائف الجدول<<\n"
     ]
    }
   ],
   "source": [
    "print(\">>Introduction - Table Functions\",\"مقدمة - وظائف الجدول<<\")"
   ]
  },
  {
   "cell_type": "code",
   "execution_count": 27,
   "id": "cef1561a-9a24-47a2-9a81-ea54067080fe",
   "metadata": {},
   "outputs": [
    {
     "name": "stdout",
     "output_type": "stream",
     "text": [
      "1>>Introduction - Table Functions مقدمة - وظائف الجدول\n"
     ]
    }
   ],
   "source": [
    "print(\"1>>Introduction - Table Functions\",\"مقدمة - وظائف الجدول\")"
   ]
  },
  {
   "cell_type": "code",
   "execution_count": 29,
   "id": "581a706d-2f36-4abe-9341-2f5961279d1d",
   "metadata": {},
   "outputs": [
    {
     "name": "stdout",
     "output_type": "stream",
     "text": [
      "<<DAX Table Functions>> <<وظائف جدول DAX>>\n"
     ]
    }
   ],
   "source": [
    "print(\"<<DAX Table Functions>>\",\"<<وظائف جدول DAX>>\")"
   ]
  },
  {
   "cell_type": "code",
   "execution_count": 30,
   "id": "35b0775a-d45b-489b-a9d3-5c330ecdc68c",
   "metadata": {},
   "outputs": [
    {
     "name": "stdout",
     "output_type": "stream",
     "text": [
      "Introduction - Table Functions\n"
     ]
    }
   ],
   "source": [
    "print(\"Introduction - Table Functions\")"
   ]
  },
  {
   "cell_type": "code",
   "execution_count": 32,
   "id": "066dd367-1f78-4926-a63e-1ae2ec4e35d9",
   "metadata": {},
   "outputs": [
    {
     "name": "stdout",
     "output_type": "stream",
     "text": [
      ">>Advanced calculations and formulas with DAX<<\n",
      ">>الحسابات والصيغ المتقدمة مع DAX<<\n"
     ]
    }
   ],
   "source": [
    "print(\">>Advanced calculations and formulas with DAX<<\")\n",
    "print(\">>الحسابات والصيغ المتقدمة مع DAX<<\")"
   ]
  },
  {
   "cell_type": "code",
   "execution_count": 33,
   "id": "05549389-5342-4188-9221-9c64019079ba",
   "metadata": {},
   "outputs": [
    {
     "name": "stdout",
     "output_type": "stream",
     "text": [
      ">>Table Functions in Excel<< وظائف الجدول في Excel\n"
     ]
    }
   ],
   "source": [
    "print(\">>Table Functions in Excel<<\",\"وظائف الجدول في Excel\")"
   ]
  },
  {
   "cell_type": "code",
   "execution_count": 34,
   "id": "877374fa-76af-4f16-a50c-b62d17b7a781",
   "metadata": {},
   "outputs": [
    {
     "name": "stdout",
     "output_type": "stream",
     "text": [
      "Measure 1:=FILTER(Sales,[Category] = 'Fruit')\n"
     ]
    }
   ],
   "source": [
    "print(\"Measure 1:=FILTER(Sales,[Category] = 'Fruit')\")"
   ]
  },
  {
   "cell_type": "code",
   "execution_count": 35,
   "id": "b4a3a3d1-e251-4721-96a2-44bdd6225059",
   "metadata": {},
   "outputs": [
    {
     "name": "stdout",
     "output_type": "stream",
     "text": [
      ">>Set Up DAX Studio<<\n"
     ]
    }
   ],
   "source": [
    "print(\">>Set Up DAX Studio<<\")"
   ]
  },
  {
   "cell_type": "code",
   "execution_count": 37,
   "id": "ece19d1a-f631-43c7-a2ad-13af9dea2fe0",
   "metadata": {},
   "outputs": [
    {
     "name": "stdout",
     "output_type": "stream",
     "text": [
      ">>The ultimate tool for working with DAX queries<< الأداة المثالية للعمل مع استعلامات DAX\n"
     ]
    }
   ],
   "source": [
    "print(\">>The ultimate tool for working with DAX queries<<\",\"الأداة المثالية للعمل مع استعلامات DAX\")"
   ]
  },
  {
   "cell_type": "code",
   "execution_count": 38,
   "id": "8aeae321-85ec-4b08-b3e5-190c7b896a74",
   "metadata": {},
   "outputs": [
    {
     "name": "stdout",
     "output_type": "stream",
     "text": [
      ">>Set Up DAX<< DAX Studio Write DAX Queries\n"
     ]
    }
   ],
   "source": [
    "print(\">>Set Up DAX<<\",\"DAX Studio\",\"Write DAX Queries\")"
   ]
  },
  {
   "cell_type": "code",
   "execution_count": 39,
   "id": "9d50fdf7-692b-4d7f-bf8d-07a6e483171b",
   "metadata": {},
   "outputs": [
    {
     "name": "stdout",
     "output_type": "stream",
     "text": [
      ">>Power BI DAX Query<< DAX query view - Power BI Work with DAX query view\n"
     ]
    }
   ],
   "source": [
    "print(\">>Power BI DAX Query<<\",\"DAX query view - Power BI\",\"Work with DAX query view\")"
   ]
  },
  {
   "cell_type": "code",
   "execution_count": 43,
   "id": "ba1edf94-cf9c-4ceb-87d3-d53615be841f",
   "metadata": {},
   "outputs": [
    {
     "name": "stdout",
     "output_type": "stream",
     "text": [
      ">>Calculated Tables<< >>الجداول المحسوبة<<\n",
      "/*START Query Builder*/\n",
      "EVALUATE\n",
      "SUMMARIZECOLUMNS(\n",
      "Sales[Group],\n",
      "Sales[Category],\n",
      "'Cost Total',[Cost Total],\n",
      "'Sales Total',[Sales Total])\n",
      "ORDER BY\n",
      "Sales[Group] ASC,\n",
      "Sales[Category] ASC\n",
      "/*End Query Builder*/\n"
     ]
    }
   ],
   "source": [
    "print(\">>Calculated Tables<<\",\">>الجداول المحسوبة<<\")\n",
    "print(\"/*START Query Builder*/\")\n",
    "print(\"EVALUATE\")\n",
    "print(\"SUMMARIZECOLUMNS(\")\n",
    "print(\"Sales[Group],\")\n",
    "print(\"Sales[Category],\")\n",
    "print(\"'Cost Total',[Cost Total],\")\n",
    "print(\"'Sales Total',[Sales Total])\")\n",
    "print(\"ORDER BY\")\n",
    "print(\"Sales[Group] ASC,\")\n",
    "print(\"Sales[Category] ASC\")\n",
    "print(\"/*End Query Builder*/\")"
   ]
  },
  {
   "cell_type": "code",
   "execution_count": 42,
   "id": "1cb71440-cf37-4622-bb36-1c73a1754363",
   "metadata": {},
   "outputs": [
    {
     "name": "stdout",
     "output_type": "stream",
     "text": [
      ">>Filter a Table with FILTER()<< تصفية الجدول باستخدام FILTER()\n"
     ]
    }
   ],
   "source": [
    "print(\">>Filter a Table with FILTER()<<\",\"تصفية الجدول باستخدام FILTER()\")"
   ]
  },
  {
   "cell_type": "code",
   "execution_count": 44,
   "id": "e2d463b9-1ff4-46b6-88ee-026faa399e5d",
   "metadata": {},
   "outputs": [
    {
     "name": "stdout",
     "output_type": "stream",
     "text": [
      "**********************************************************\n"
     ]
    }
   ],
   "source": [
    "print(\"**********************************************************\")"
   ]
  },
  {
   "cell_type": "code",
   "execution_count": 46,
   "id": "e4ea4437-d24f-4c1e-97d7-f20dfa11c852",
   "metadata": {},
   "outputs": [
    {
     "name": "stdout",
     "output_type": "stream",
     "text": [
      "EVALUATE\n",
      "FILTER(Sales,Sales[Revenue Category] = \"High Revenue\")\n"
     ]
    }
   ],
   "source": [
    "print(\"EVALUATE\")\n",
    "print('FILTER(Sales,Sales[Revenue Category] = \"High Revenue\")')"
   ]
  },
  {
   "cell_type": "code",
   "execution_count": 48,
   "id": "52b84451-981a-4276-b8ab-6c912348f3a5",
   "metadata": {},
   "outputs": [
    {
     "name": "stdout",
     "output_type": "stream",
     "text": [
      ">>Remove a Filter with ALL()<< >>إزالة مرشح باستخدام ALL()<<\n"
     ]
    }
   ],
   "source": [
    "print(\">>Remove a Filter with ALL()<<\",\">>إزالة مرشح باستخدام ALL()<<\")"
   ]
  },
  {
   "cell_type": "code",
   "execution_count": 51,
   "id": "467e676e-9ac9-4ce4-8d50-62c464908c5c",
   "metadata": {},
   "outputs": [
    {
     "name": "stdout",
     "output_type": "stream",
     "text": [
      ">>Combine Table Functions<< دمج وظائف الجدول\n",
      " \n",
      "EVALUATE\n",
      "CALCULATETABLE(\n",
      "Sales,\n",
      "KEEPFILTERS(TREATAS({'High Revenue'},\n",
      "Sales[Revenue Category])))\n",
      "\n"
     ]
    }
   ],
   "source": [
    "print(\">>Combine Table Functions<<\",\"دمج وظائف الجدول\")\n",
    "print(\"\"\" \n",
    "EVALUATE\n",
    "CALCULATETABLE(\n",
    "Sales,\n",
    "KEEPFILTERS(TREATAS({'High Revenue'},\n",
    "Sales[Revenue Category])))\n",
    "\"\"\")"
   ]
  },
  {
   "cell_type": "code",
   "execution_count": 52,
   "id": "50bd47a4-36a1-427d-a7bd-859d35c265f1",
   "metadata": {},
   "outputs": [
    {
     "name": "stdout",
     "output_type": "stream",
     "text": [
      "\n",
      "EVALUATE\n",
      "CALCULATETABLE(\n",
      "FILTER(Sales,Sales[Category] = 'Beverage'),\n",
      "KEEPFILTERS(TREATAS({'High Revenue'},\n",
      "Sales[Revenue Category])))\n",
      "\n"
     ]
    }
   ],
   "source": [
    "print(\"\"\"\n",
    "EVALUATE\n",
    "CALCULATETABLE(\n",
    "FILTER(Sales,Sales[Category] = 'Beverage'),\n",
    "KEEPFILTERS(TREATAS({'High Revenue'},\n",
    "Sales[Revenue Category])))\n",
    "\"\"\")"
   ]
  },
  {
   "cell_type": "code",
   "execution_count": 53,
   "id": "51266c3a-f21c-4df1-aa2d-0a40ca21ca6f",
   "metadata": {},
   "outputs": [
    {
     "name": "stdout",
     "output_type": "stream",
     "text": [
      ">>Return Unique Values<< إرجاع القيم الفريدة\n"
     ]
    }
   ],
   "source": [
    "print(\">>Return Unique Values<<\",\"إرجاع القيم الفريدة\")"
   ]
  },
  {
   "cell_type": "code",
   "execution_count": 55,
   "id": "c06f3713-66f6-4d7e-af58-c74755d5cd43",
   "metadata": {},
   "outputs": [
    {
     "name": "stdout",
     "output_type": "stream",
     "text": [
      ">>Return Unique Values<< >>إرجاع القيم الفريدة<<\n"
     ]
    }
   ],
   "source": [
    "print(\">>Return Unique Values<<\",\">>إرجاع القيم الفريدة<<\")"
   ]
  },
  {
   "cell_type": "code",
   "execution_count": 58,
   "id": "4a1039e5-3b5a-4818-985d-6e360461b8e2",
   "metadata": {},
   "outputs": [
    {
     "name": "stdout",
     "output_type": "stream",
     "text": [
      ">>DISTINCT()<<\n",
      ">>VALUES<<\n",
      ">>SUMMARIZECOLUMNS()<<\n",
      ">>ORDER BY ASC<<\n"
     ]
    }
   ],
   "source": [
    "print(\">>DISTINCT()<<\")\n",
    "print(\">>VALUES<<\")\n",
    "print(\">>SUMMARIZECOLUMNS()<<\")\n",
    "print(\">>ORDER BY ASC<<\")"
   ]
  },
  {
   "cell_type": "code",
   "execution_count": 59,
   "id": "106b1426-3d57-4686-9faf-6e9fce210b2a",
   "metadata": {},
   "outputs": [
    {
     "name": "stdout",
     "output_type": "stream",
     "text": [
      ">>Expand a Table with ADDCOLUMNS()<<\n",
      "توسيع جدول باستخدام ADDCOLUMNS()\n"
     ]
    }
   ],
   "source": [
    "print(\">>Expand a Table with ADDCOLUMNS()<<\")\n",
    "print(\"توسيع جدول باستخدام ADDCOLUMNS()\")"
   ]
  },
  {
   "cell_type": "code",
   "execution_count": 60,
   "id": "f164def9-ebf5-4cd4-9b7f-29d98aa95b59",
   "metadata": {},
   "outputs": [
    {
     "name": "stdout",
     "output_type": "stream",
     "text": [
      "EVALUATE\n",
      "ADDCOLUMNS()\n",
      "FILTER()\n"
     ]
    }
   ],
   "source": [
    "print(\"EVALUATE\")\n",
    "print(\"ADDCOLUMNS()\")\n",
    "print(\"FILTER()\")"
   ]
  },
  {
   "cell_type": "code",
   "execution_count": 61,
   "id": "2c1094d3-9c15-49ff-8a56-1119d0ede096",
   "metadata": {},
   "outputs": [
    {
     "name": "stdout",
     "output_type": "stream",
     "text": [
      "SUMMARIZECOLUMNS()\n",
      "COUNTROWS()\n"
     ]
    }
   ],
   "source": [
    "print(\"SUMMARIZECOLUMNS()\")\n",
    "print(\"COUNTROWS()\")"
   ]
  },
  {
   "cell_type": "code",
   "execution_count": 62,
   "id": "5cf243ac-a11c-44a9-9b7c-a19572083482",
   "metadata": {},
   "outputs": [
    {
     "name": "stdout",
     "output_type": "stream",
     "text": [
      "CALCULATE()\n"
     ]
    }
   ],
   "source": [
    "print(\"CALCULATE()\")"
   ]
  },
  {
   "cell_type": "code",
   "execution_count": 63,
   "id": "e737817e-53f4-4fc1-b461-761f56931c0c",
   "metadata": {},
   "outputs": [
    {
     "name": "stdout",
     "output_type": "stream",
     "text": [
      "Intermediate DAX & Time Intelligence>>Module 6>>Introduction - Data Modeling & Cont\n"
     ]
    }
   ],
   "source": [
    "print(\"Intermediate DAX & Time Intelligence>>Module 6>>Introduction - Data Modeling & Cont\")"
   ]
  },
  {
   "cell_type": "code",
   "execution_count": 64,
   "id": "27eed1c9-11b1-4516-be3b-c50db542ce14",
   "metadata": {},
   "outputs": [
    {
     "name": "stdout",
     "output_type": "stream",
     "text": [
      "Introduction - Data Modeling & Cont مقدمة - نمذجة البيانات والمتابعة\n"
     ]
    }
   ],
   "source": [
    "print(\"Introduction - Data Modeling & Cont\",\"مقدمة - نمذجة البيانات والمتابعة\")"
   ]
  },
  {
   "cell_type": "code",
   "execution_count": 65,
   "id": "7ae82778-7ab5-4042-86c7-7eb3f0987320",
   "metadata": {},
   "outputs": [
    {
     "name": "stdout",
     "output_type": "stream",
     "text": [
      ">>Introduction - Data Modeling & Context مقدمة - نمذجة البيانات والسياق<<\n"
     ]
    }
   ],
   "source": [
    "print(\">>Introduction - Data Modeling & Context\",\"مقدمة - نمذجة البيانات والسياق<<\")"
   ]
  },
  {
   "cell_type": "code",
   "execution_count": 66,
   "id": "bb830628-c813-447e-aacd-b87dbd88a930",
   "metadata": {},
   "outputs": [
    {
     "name": "stdout",
     "output_type": "stream",
     "text": [
      ">>Database Normalization<<\n"
     ]
    }
   ],
   "source": [
    "print(\">>Database Normalization<<\")"
   ]
  },
  {
   "cell_type": "code",
   "execution_count": 68,
   "id": "c714bc74-a0fb-49f6-ab0e-11dd4091c826",
   "metadata": {},
   "outputs": [
    {
     "name": "stdout",
     "output_type": "stream",
     "text": [
      "Normalization is the process of organizing data in a database.\n",
      "التطبيع هو عملية تنظيم البيانات في قاعدة البيانات.\n"
     ]
    }
   ],
   "source": [
    "print(\"Normalization is the process of organizing data in a database.\")\n",
    "print(\"التطبيع هو عملية تنظيم البيانات في قاعدة البيانات.\")"
   ]
  },
  {
   "cell_type": "code",
   "execution_count": 70,
   "id": "fc66813b-0cfa-462d-9dc1-a8483b7b9101",
   "metadata": {},
   "outputs": [
    {
     "name": "stdout",
     "output_type": "stream",
     "text": [
      "For data consistency and integrity and fast query من أجل اتساق البيانات وسلامتها والاستعلام السريع\n"
     ]
    }
   ],
   "source": [
    "print(\"For data consistency and integrity and fast query\",\"من أجل اتساق البيانات وسلامتها والاستعلام السريع\")"
   ]
  },
  {
   "cell_type": "code",
   "execution_count": 71,
   "id": "e337ca1a-1ac2-463c-a46a-cd244db5a75c",
   "metadata": {},
   "outputs": [
    {
     "name": "stdout",
     "output_type": "stream",
     "text": [
      "Database Normalization\n"
     ]
    }
   ],
   "source": [
    "print(\"Database Normalization\")"
   ]
  },
  {
   "cell_type": "code",
   "execution_count": 73,
   "id": "84cead61-8d1c-4073-ba42-21fc9a27a287",
   "metadata": {},
   "outputs": [
    {
     "name": "stdout",
     "output_type": "stream",
     "text": [
      ">>FACT & Dimension Table<< >>جدول الحقائق والأبعاد<<\n"
     ]
    }
   ],
   "source": [
    "print(\">>FACT & Dimension Table<<\",\">>جدول الحقائق والأبعاد<<\")"
   ]
  },
  {
   "cell_type": "code",
   "execution_count": 74,
   "id": "07e41cb0-cbbd-4ee2-ac69-94720f7124ff",
   "metadata": {},
   "outputs": [
    {
     "name": "stdout",
     "output_type": "stream",
     "text": [
      "The Star schema\n"
     ]
    }
   ],
   "source": [
    "print(\"The Star schema\")"
   ]
  },
  {
   "cell_type": "code",
   "execution_count": 75,
   "id": "82ae9013-8435-4ca2-905f-3e8da4a77c61",
   "metadata": {},
   "outputs": [
    {
     "name": "stdout",
     "output_type": "stream",
     "text": [
      "DAX\n"
     ]
    }
   ],
   "source": [
    "print(\"DAX\")"
   ]
  },
  {
   "cell_type": "code",
   "execution_count": 76,
   "id": "ab4a7032-3be9-4faf-b6a9-dc05304a95fd",
   "metadata": {},
   "outputs": [
    {
     "name": "stdout",
     "output_type": "stream",
     "text": [
      ">>Download Power BI<<\n"
     ]
    }
   ],
   "source": [
    "print(\">>Download Power BI<<\")"
   ]
  },
  {
   "cell_type": "code",
   "execution_count": 77,
   "id": "186f1a58-ba81-4a39-9c6a-5d5fc59be815",
   "metadata": {},
   "outputs": [
    {
     "name": "stdout",
     "output_type": "stream",
     "text": [
      ">>Evaluation Context in a Data Model<< سياق التقييم في نموذج البيانات\n"
     ]
    }
   ],
   "source": [
    "print(\">>Evaluation Context in a Data Model<<\",\"سياق التقييم في نموذج البيانات\")"
   ]
  },
  {
   "cell_type": "code",
   "execution_count": 1,
   "id": "515c9692-580f-46fd-b4cb-394c2e6466dc",
   "metadata": {},
   "outputs": [
    {
     "name": "stdout",
     "output_type": "stream",
     "text": [
      "Evaluation Context in a Data Model سياق التقييم في نموذج البيانات\n"
     ]
    }
   ],
   "source": [
    "print(\"Evaluation Context in a Data Model\",\"سياق التقييم في نموذج البيانات\")"
   ]
  },
  {
   "cell_type": "code",
   "execution_count": 5,
   "id": "2d7067ba-90c6-47bf-ac9d-ed959c1b2aa2",
   "metadata": {},
   "outputs": [
    {
     "name": "stdout",
     "output_type": "stream",
     "text": [
      "Revenue SUM = SUM(Fact[Actual Revenue])\n"
     ]
    }
   ],
   "source": [
    "print(\"Revenue SUM = SUM(Fact[Actual Revenue])\")"
   ]
  },
  {
   "cell_type": "code",
   "execution_count": 4,
   "id": "1746f301-1b5b-4bfd-8b31-c612b51895f9",
   "metadata": {},
   "outputs": [
    {
     "name": "stdout",
     "output_type": "stream",
     "text": [
      ">>Return Matching Values with RELATED()<<\n",
      ">>إرجاع القيم المطابقة باستخدام RELATED()<<\n"
     ]
    }
   ],
   "source": [
    "print(\">>Return Matching Values with RELATED()<<\")\n",
    "print(\">>إرجاع القيم المطابقة باستخدام RELATED()<<\")"
   ]
  },
  {
   "cell_type": "code",
   "execution_count": 6,
   "id": "548ac7a1-7383-4a5d-93f3-779b14ef16b0",
   "metadata": {},
   "outputs": [
    {
     "name": "stdout",
     "output_type": "stream",
     "text": [
      "Promo = RELATED(DimProd[Category])\n"
     ]
    }
   ],
   "source": [
    "print(\"Promo = RELATED(DimProd[Category])\")"
   ]
  },
  {
   "cell_type": "code",
   "execution_count": 7,
   "id": "07b295d0-22eb-4166-a115-737f88c2e6bf",
   "metadata": {},
   "outputs": [
    {
     "name": "stdout",
     "output_type": "stream",
     "text": [
      "Promo = RELATED(DimProd[Category])\n"
     ]
    }
   ],
   "source": [
    "print(\"Promo = RELATED(DimProd[Category])\")"
   ]
  },
  {
   "cell_type": "code",
   "execution_count": 9,
   "id": "f3dba680-4bc4-4cc0-9aec-01e497b960c8",
   "metadata": {},
   "outputs": [
    {
     "name": "stdout",
     "output_type": "stream",
     "text": [
      ">>Complete the Promo Calculated Column أكمل العمود المحسوب للعروض الترويجية<<\n"
     ]
    }
   ],
   "source": [
    "print(\">>Complete the Promo Calculated Column\",\"أكمل العمود المحسوب للعروض الترويجية<<\")"
   ]
  },
  {
   "cell_type": "code",
   "execution_count": 10,
   "id": "e98f029c-e9cd-407a-9a4e-ff11f9ecb492",
   "metadata": {},
   "outputs": [
    {
     "name": "stdout",
     "output_type": "stream",
     "text": [
      "Promo = AND(RELATED(DimProd[Category]) = 'Invest',RELATED(DimDate[Qtr]) = 'Q1')\n"
     ]
    }
   ],
   "source": [
    "print(\"Promo = AND(RELATED(DimProd[Category]) = 'Invest',RELATED(DimDate[Qtr]) = 'Q1')\")"
   ]
  },
  {
   "cell_type": "code",
   "execution_count": 11,
   "id": "e1ca5e39-b835-4228-98bf-498c1911fd02",
   "metadata": {},
   "outputs": [
    {
     "name": "stdout",
     "output_type": "stream",
     "text": [
      ">>Summarize Rows with RELATEDTABLE()<<\n"
     ]
    }
   ],
   "source": [
    "print(\">>Summarize Rows with RELATEDTABLE()<<\")"
   ]
  },
  {
   "cell_type": "code",
   "execution_count": 12,
   "id": "3f0f0dd4-5399-4002-8e13-13a96700373e",
   "metadata": {},
   "outputs": [
    {
     "name": "stdout",
     "output_type": "stream",
     "text": [
      ">>تلخيص الصفوف باستخدام RELATEDTABLE()<<\n"
     ]
    }
   ],
   "source": [
    "print(\">>تلخيص الصفوف باستخدام RELATEDTABLE()<<\")"
   ]
  },
  {
   "cell_type": "code",
   "execution_count": 13,
   "id": "4491b6e2-392b-43df-92c5-d494e7cd84d9",
   "metadata": {},
   "outputs": [
    {
     "name": "stdout",
     "output_type": "stream",
     "text": [
      "FactRows = COUNTROWS(RELATEDTABLE('FACT'))\n"
     ]
    }
   ],
   "source": [
    "print(\"FactRows = COUNTROWS(RELATEDTABLE('FACT'))\")"
   ]
  },
  {
   "cell_type": "code",
   "execution_count": 14,
   "id": "2c1cae49-e4b2-4b6a-a005-f27dee3a8389",
   "metadata": {},
   "outputs": [
    {
     "name": "stdout",
     "output_type": "stream",
     "text": [
      ">>Create % of Total Measure<<\n"
     ]
    }
   ],
   "source": [
    "print(\">>Create % of Total Measure<<\")"
   ]
  },
  {
   "cell_type": "code",
   "execution_count": 15,
   "id": "971c2876-4f3d-4b30-9c49-1cd85073cf19",
   "metadata": {},
   "outputs": [
    {
     "name": "stdout",
     "output_type": "stream",
     "text": [
      ">>Refine Column Filters with ALLSELECTED()<<\n"
     ]
    }
   ],
   "source": [
    "print(\">>Refine Column Filters with ALLSELECTED()<<\")"
   ]
  },
  {
   "cell_type": "code",
   "execution_count": 16,
   "id": "6dbb7cea-d523-4f6f-acea-182135b0c344",
   "metadata": {},
   "outputs": [
    {
     "name": "stdout",
     "output_type": "stream",
     "text": [
      ">>>>تحسين مرشحات الأعمدة باستخدام ALLSELECTED()<<<<\n"
     ]
    }
   ],
   "source": [
    "print(\">>>>تحسين مرشحات الأعمدة باستخدام ALLSELECTED()<<<<\")"
   ]
  },
  {
   "cell_type": "code",
   "execution_count": 17,
   "id": "061f1ca5-7788-4bd5-9611-4b00b653db0a",
   "metadata": {},
   "outputs": [
    {
     "name": "stdout",
     "output_type": "stream",
     "text": [
      "<<CALCULATE() with Two Filter Modifications>>\n"
     ]
    }
   ],
   "source": [
    "print(\"<<CALCULATE() with Two Filter Modifications>>\")"
   ]
  },
  {
   "cell_type": "code",
   "execution_count": 19,
   "id": "224ff7e7-fa39-4bcb-bf5e-9307900b79f1",
   "metadata": {},
   "outputs": [
    {
     "name": "stdout",
     "output_type": "stream",
     "text": [
      ">>CALCULATE() مع تعديلين للمرشح<<\n"
     ]
    }
   ],
   "source": [
    "print(\">>CALCULATE() مع تعديلين للمرشح<<\")"
   ]
  },
  {
   "cell_type": "code",
   "execution_count": 21,
   "id": "1b2a1183-855a-4eab-ade5-84acd7460ff2",
   "metadata": {},
   "outputs": [
    {
     "name": "stdout",
     "output_type": "stream",
     "text": [
      ">>CALCULATE() Recap<< ملخص CALCULATE\n"
     ]
    }
   ],
   "source": [
    "print(\">>CALCULATE() Recap<<\",\"ملخص CALCULATE\")"
   ]
  },
  {
   "cell_type": "code",
   "execution_count": 22,
   "id": "92356984-d1d2-4f7a-86e1-4bf9a3b96705",
   "metadata": {},
   "outputs": [
    {
     "name": "stdout",
     "output_type": "stream",
     "text": [
      ">>Return a Specific Filter Context<< إرجاع سياق مرشح محدد\n"
     ]
    }
   ],
   "source": [
    "print(\">>Return a Specific Filter Context<<\",\"إرجاع سياق مرشح محدد\")"
   ]
  },
  {
   "cell_type": "code",
   "execution_count": 23,
   "id": "ab506f00-f66f-4326-b824-02ad8fcdcfde",
   "metadata": {},
   "outputs": [
    {
     "name": "stdout",
     "output_type": "stream",
     "text": [
      "Modify the Context with KEEPFILTERS() تعديل السياق باستخدام KEEPFILTERS()\n"
     ]
    }
   ],
   "source": [
    "print(\"Modify the Context with KEEPFILTERS()\",\"تعديل السياق باستخدام KEEPFILTERS()\")"
   ]
  },
  {
   "cell_type": "code",
   "execution_count": 24,
   "id": "fcc9e6ec-1642-44ae-8db2-51e4f17a1a6e",
   "metadata": {},
   "outputs": [
    {
     "name": "stdout",
     "output_type": "stream",
     "text": [
      ">>Check Context with HASONEVALUE()<<\n"
     ]
    }
   ],
   "source": [
    "print(\">>Check Context with HASONEVALUE()<<\")"
   ]
  },
  {
   "cell_type": "code",
   "execution_count": 25,
   "id": "b9682e81-6fa3-499e-8346-a70d0fb326e9",
   "metadata": {},
   "outputs": [
    {
     "name": "stdout",
     "output_type": "stream",
     "text": [
      "التحقق من السياق باستخدام HASONEVALUE()\n"
     ]
    }
   ],
   "source": [
    "print(\"التحقق من السياق باستخدام HASONEVALUE()\")"
   ]
  },
  {
   "cell_type": "code",
   "execution_count": 26,
   "id": "6bb3d730-4460-4d91-8c14-2a55b2674999",
   "metadata": {},
   "outputs": [
    {
     "name": "stdout",
     "output_type": "stream",
     "text": [
      ">>Identify Context with SELECTEDVALUE()<<\n"
     ]
    }
   ],
   "source": [
    "print(\">>Identify Context with SELECTEDVALUE()<<\")"
   ]
  },
  {
   "cell_type": "code",
   "execution_count": 27,
   "id": "ba10ce25-4c54-47ba-afbc-c24ce876ed8a",
   "metadata": {},
   "outputs": [
    {
     "name": "stdout",
     "output_type": "stream",
     "text": [
      "تحديد السياق باستخدام SELECTEDVALUE\n"
     ]
    }
   ],
   "source": [
    "print(\"تحديد السياق باستخدام SELECTEDVALUE\")"
   ]
  },
  {
   "cell_type": "code",
   "execution_count": 28,
   "id": "89666e71-e752-4e49-a213-83b7ca1360da",
   "metadata": {},
   "outputs": [
    {
     "name": "stdout",
     "output_type": "stream",
     "text": [
      "Identify Unique Values in a Column تحديد القيم الفريدة في عمود\n"
     ]
    }
   ],
   "source": [
    "print(\"Identify Unique Values in a Column\",\"تحديد القيم الفريدة في عمود\")"
   ]
  },
  {
   "cell_type": "code",
   "execution_count": 29,
   "id": "6040723a-bece-4211-9a58-eb62ee4a90a9",
   "metadata": {},
   "outputs": [
    {
     "name": "stdout",
     "output_type": "stream",
     "text": [
      "******************************\n"
     ]
    }
   ],
   "source": [
    "print(\"******************************\")"
   ]
  },
  {
   "cell_type": "code",
   "execution_count": 30,
   "id": "532ed107-ada6-4d24-bfcf-76041c0e9a25",
   "metadata": {},
   "outputs": [
    {
     "name": "stdout",
     "output_type": "stream",
     "text": [
      "FactRows = COUNTROWS(RELATEDTABLE('FACT'))\n"
     ]
    }
   ],
   "source": [
    "print(\"FactRows = COUNTROWS(RELATEDTABLE('FACT'))\")"
   ]
  },
  {
   "cell_type": "code",
   "execution_count": 31,
   "id": "94f39e7e-f9fe-4a1b-a7b4-e523c16e51ae",
   "metadata": {},
   "outputs": [
    {
     "name": "stdout",
     "output_type": "stream",
     "text": [
      "Revenue ALL = CALCULATE([Revenue SUM],ALL(DimProd[Category]))\n"
     ]
    }
   ],
   "source": [
    "print(\"Revenue ALL = CALCULATE([Revenue SUM],ALL(DimProd[Category]))\")"
   ]
  },
  {
   "cell_type": "code",
   "execution_count": 32,
   "id": "0d7c2272-cfcf-46a6-922b-d607b1d6d380",
   "metadata": {},
   "outputs": [
    {
     "name": "stdout",
     "output_type": "stream",
     "text": [
      "Table = ALL(DimProd[Category])\n"
     ]
    }
   ],
   "source": [
    "print(\"Table = ALL(DimProd[Category])\")"
   ]
  },
  {
   "cell_type": "code",
   "execution_count": 33,
   "id": "d886abf6-d335-4b24-8af0-80487c7ebfec",
   "metadata": {},
   "outputs": [
    {
     "name": "stdout",
     "output_type": "stream",
     "text": [
      "Revenue ALL CAT = CALCULATE([Revenue SUM],ALL(DimProd[Category]))\n"
     ]
    }
   ],
   "source": [
    "print(\"Revenue ALL CAT = CALCULATE([Revenue SUM],ALL(DimProd[Category]))\")"
   ]
  },
  {
   "cell_type": "code",
   "execution_count": 35,
   "id": "91154025-0fd0-48bc-9708-77007462ae85",
   "metadata": {},
   "outputs": [
    {
     "name": "stdout",
     "output_type": "stream",
     "text": [
      "Revenue % ALL CAT = [Revenue SUM] / [Revenue ALL CAT]\n"
     ]
    }
   ],
   "source": [
    "print(\"Revenue % ALL CAT = [Revenue SUM] / [Revenue ALL CAT]\")"
   ]
  },
  {
   "cell_type": "code",
   "execution_count": 36,
   "id": "3ab24671-e014-448e-b240-676022b6276d",
   "metadata": {},
   "outputs": [
    {
     "name": "stdout",
     "output_type": "stream",
     "text": [
      "Revenue ALL CAT = CALCULATE([Revenue SUM],ALL(DimProd[Category]))\n"
     ]
    }
   ],
   "source": [
    "print(\"Revenue ALL CAT = CALCULATE([Revenue SUM],ALL(DimProd[Category]))\")"
   ]
  },
  {
   "cell_type": "code",
   "execution_count": 37,
   "id": "8c45660e-ea96-4546-86e0-ad871af27c94",
   "metadata": {},
   "outputs": [
    {
     "name": "stdout",
     "output_type": "stream",
     "text": [
      "Revenue % ALL = [Revenue SUM] / [Revenue ALL]\n"
     ]
    }
   ],
   "source": [
    "print(\"Revenue % ALL = [Revenue SUM] / [Revenue ALL]\")"
   ]
  },
  {
   "cell_type": "code",
   "execution_count": 38,
   "id": "473583db-95ca-41e4-bc4f-5b5945a4e47f",
   "metadata": {},
   "outputs": [
    {
     "name": "stdout",
     "output_type": "stream",
     "text": [
      "Revenue ALL = CALCUALTE([Revenue SUM],ALL(DimProd[Category],ALL(DimDate[Qtr])))\n"
     ]
    }
   ],
   "source": [
    "print(\"Revenue ALL = CALCUALTE([Revenue SUM],ALL(DimProd[Category],ALL(DimDate[Qtr])))\")"
   ]
  },
  {
   "cell_type": "code",
   "execution_count": 39,
   "id": "127e8dc3-96fa-477d-822c-fa3c1c8868a2",
   "metadata": {},
   "outputs": [
    {
     "name": "stdout",
     "output_type": "stream",
     "text": [
      "Revenue TGT SUM = SUM('Fact'[Target Revenue])\n"
     ]
    }
   ],
   "source": [
    "print(\"Revenue TGT SUM = SUM('Fact'[Target Revenue])\")"
   ]
  },
  {
   "cell_type": "code",
   "execution_count": 40,
   "id": "2e7af065-14fa-4871-8690-f784ae97bc3b",
   "metadata": {},
   "outputs": [
    {
     "name": "stdout",
     "output_type": "stream",
     "text": [
      " \n",
      "Revenue TGT SUM =\n",
      "Var TGTSUM = SUM('Fact'[Target Revenue])\n",
      "RETURN IF(HASONEVALUE(DimProd[Category]),TGTSUM,BLANK())\n",
      "\n"
     ]
    }
   ],
   "source": [
    "print(\"\"\" \n",
    "Revenue TGT SUM =\n",
    "Var TGTSUM = SUM('Fact'[Target Revenue])\n",
    "RETURN IF(HASONEVALUE(DimProd[Category]),TGTSUM,BLANK())\n",
    "\"\"\")"
   ]
  },
  {
   "cell_type": "code",
   "execution_count": 41,
   "id": "dbf82e3c-c00d-4cb0-8fc5-3e5a6b3158dc",
   "metadata": {},
   "outputs": [
    {
     "name": "stdout",
     "output_type": "stream",
     "text": [
      "Category SELECTED = SELECTEDVALUE(DimProd[Category])\n"
     ]
    }
   ],
   "source": [
    "print(\"Category SELECTED = SELECTEDVALUE(DimProd[Category])\")"
   ]
  },
  {
   "cell_type": "code",
   "execution_count": 42,
   "id": "39806e71-d66e-4bf1-b2fa-ab6c85fdb79e",
   "metadata": {},
   "outputs": [
    {
     "name": "stdout",
     "output_type": "stream",
     "text": [
      "Card Title CAT REV = 'Showing Revenue for ' & Category SELECTED\n"
     ]
    }
   ],
   "source": [
    "print(\"Card Title CAT REV = 'Showing Revenue for ' & Category SELECTED\")"
   ]
  },
  {
   "cell_type": "code",
   "execution_count": 43,
   "id": "74b3701e-8233-4c06-94a7-55b8ed10bbcf",
   "metadata": {},
   "outputs": [
    {
     "name": "stdout",
     "output_type": "stream",
     "text": [
      "Table = DISTINCT(DimProd[Category])\n"
     ]
    }
   ],
   "source": [
    "print(\"Table = DISTINCT(DimProd[Category])\")"
   ]
  },
  {
   "cell_type": "code",
   "execution_count": 44,
   "id": "6b99dbf2-19fb-462e-914e-7ac264038576",
   "metadata": {},
   "outputs": [
    {
     "name": "stdout",
     "output_type": "stream",
     "text": [
      "Table = VALUES(DimProd[Category])\n"
     ]
    }
   ],
   "source": [
    "print(\"Table = VALUES(DimProd[Category])\")"
   ]
  },
  {
   "cell_type": "code",
   "execution_count": 45,
   "id": "bb61645a-8fce-4ca2-919c-4f6b0c4759ad",
   "metadata": {},
   "outputs": [
    {
     "name": "stdout",
     "output_type": "stream",
     "text": [
      "Intermediate DAX & Time Intelligence>>Module 8>>Chapter Introduction - DAX Time Intelligence\n"
     ]
    }
   ],
   "source": [
    "print(\"Intermediate DAX & Time Intelligence>>Module 8>>Chapter Introduction - DAX Time Intelligence\")"
   ]
  },
  {
   "cell_type": "code",
   "execution_count": 46,
   "id": "7cb68f39-b685-4dcb-a2e8-c51deb80a3e5",
   "metadata": {},
   "outputs": [
    {
     "name": "stdout",
     "output_type": "stream",
     "text": [
      "<<Chapter Introduction - DAX Time Intelligence>> مقدمة الفصل - DAX Time Intelligence\n"
     ]
    }
   ],
   "source": [
    "print(\"<<Chapter Introduction - DAX Time Intelligence>>\",\"مقدمة الفصل - DAX Time Intelligence\")"
   ]
  },
  {
   "cell_type": "code",
   "execution_count": 47,
   "id": "aeb41e7d-5906-4d6c-9579-7609affaed2b",
   "metadata": {},
   "outputs": [
    {
     "name": "stdout",
     "output_type": "stream",
     "text": [
      "<<Chapter Introduction - DAX Time Intelligence>> مقدمة الفصل - DAX Time Intelligence\n"
     ]
    }
   ],
   "source": [
    "print(\"<<Chapter Introduction - DAX Time Intelligence>>\",\"مقدمة الفصل - DAX Time Intelligence\")"
   ]
  },
  {
   "cell_type": "code",
   "execution_count": 48,
   "id": "8518d840-3ec9-4763-9327-6cca032d800d",
   "metadata": {},
   "outputs": [
    {
     "name": "stdout",
     "output_type": "stream",
     "text": [
      "Data Model Overview & Date Table Requirements نظرة عامة على نموذج البيانات ومتطلبات جدول البيانات\n"
     ]
    }
   ],
   "source": [
    "print(\"Data Model Overview & Date Table Requirements\",\"نظرة عامة على نموذج البيانات ومتطلبات جدول البيانات\")"
   ]
  },
  {
   "cell_type": "code",
   "execution_count": 49,
   "id": "5c471638-9981-453f-ad42-5f8db99e1c24",
   "metadata": {},
   "outputs": [
    {
     "name": "stdout",
     "output_type": "stream",
     "text": [
      "<<Review - Create Date Table with CALENDARAUTO() & CALENDAR()>>\n",
      "مراجعة - إنشاء جدول تاريخ باستخدام CALENDARAUTO() وCALENDAR()\n"
     ]
    }
   ],
   "source": [
    "print(\"<<Review - Create Date Table with CALENDARAUTO() & CALENDAR()>>\")\n",
    "print(\"مراجعة - إنشاء جدول تاريخ باستخدام CALENDARAUTO() وCALENDAR()\")"
   ]
  },
  {
   "cell_type": "code",
   "execution_count": 50,
   "id": "842c92a4-5e43-4274-a9a4-5102adecb0b0",
   "metadata": {},
   "outputs": [
    {
     "name": "stdout",
     "output_type": "stream",
     "text": [
      "<<Review - Create DimDate with Date Functions>>\n",
      "<<مراجعة - إنشاء DimDate باستخدام وظائف التاريخ>>\n"
     ]
    }
   ],
   "source": [
    "print(\"<<Review - Create DimDate with Date Functions>>\")\n",
    "print(\"<<مراجعة - إنشاء DimDate باستخدام وظائف التاريخ>>\")"
   ]
  },
  {
   "cell_type": "code",
   "execution_count": 51,
   "id": "3dde37a9-9492-4f97-a326-4d2d6f511139",
   "metadata": {},
   "outputs": [
    {
     "name": "stdout",
     "output_type": "stream",
     "text": [
      "Review - Create DimDate with Date Functions\n",
      "مراجعة - إنشاء DimDate باستخدام وظائف التاريخ\n"
     ]
    }
   ],
   "source": [
    "print(\"Review - Create DimDate with Date Functions\")\n",
    "print(\"مراجعة - إنشاء DimDate باستخدام وظائف التاريخ\")"
   ]
  },
  {
   "cell_type": "code",
   "execution_count": 52,
   "id": "f75da89c-2316-4fe8-b094-c1ce74fc24e1",
   "metadata": {},
   "outputs": [
    {
     "name": "stdout",
     "output_type": "stream",
     "text": [
      "Intermediate DAX & Time Intelligence>>Module 8>>Finalize the Date Dimension\n"
     ]
    }
   ],
   "source": [
    "print(\"Intermediate DAX & Time Intelligence>>Module 8>>Finalize the Date Dimension\")"
   ]
  },
  {
   "cell_type": "code",
   "execution_count": 53,
   "id": "f3d671ab-84f2-4583-98ec-cb64f5f72144",
   "metadata": {},
   "outputs": [
    {
     "name": "stdout",
     "output_type": "stream",
     "text": [
      "Finalize the Date Dimension الانتهاء من بُعد التاريخ\n"
     ]
    }
   ],
   "source": [
    "print(\"Finalize the Date Dimension\",\"الانتهاء من بُعد التاريخ\")"
   ]
  },
  {
   "cell_type": "code",
   "execution_count": 54,
   "id": "7bc1ff81-645a-4203-bc8a-d6113e57574d",
   "metadata": {},
   "outputs": [
    {
     "name": "stdout",
     "output_type": "stream",
     "text": [
      "Fact[Date] or DimDate[Date]\n"
     ]
    }
   ],
   "source": [
    "print(\"Fact[Date] or DimDate[Date]\")"
   ]
  },
  {
   "cell_type": "code",
   "execution_count": 57,
   "id": "7bc7bca5-b5d3-45e8-9815-c3bbe3278d7e",
   "metadata": {},
   "outputs": [
    {
     "name": "stdout",
     "output_type": "stream",
     "text": [
      "SAMEPERIODLASTYEAR() Same Period Last Year نفس الفترة من العام الماضي\n"
     ]
    }
   ],
   "source": [
    "print(\"SAMEPERIODLASTYEAR()\",\"Same Period Last Year\",\"نفس الفترة من العام الماضي\")"
   ]
  },
  {
   "cell_type": "code",
   "execution_count": 58,
   "id": "4f6002b3-435a-4306-9c43-e2b776993cab",
   "metadata": {},
   "outputs": [
    {
     "name": "stdout",
     "output_type": "stream",
     "text": [
      ">>DATESYTD() & PREVIOUSQUARTER()<<\n"
     ]
    }
   ],
   "source": [
    "print(\">>DATESYTD() & PREVIOUSQUARTER()<<\")"
   ]
  },
  {
   "cell_type": "code",
   "execution_count": 60,
   "id": "2942dc14-f911-413a-88ac-eb100ace13ab",
   "metadata": {},
   "outputs": [
    {
     "name": "stdout",
     "output_type": "stream",
     "text": [
      ">>PREVIOUSMONTH()<< Previous Month\n"
     ]
    }
   ],
   "source": [
    "print(\">>PREVIOUSMONTH()<<\",\"Previous Month\")"
   ]
  },
  {
   "cell_type": "code",
   "execution_count": 63,
   "id": "c429ce4c-3dea-4a30-8550-cbfadf55d597",
   "metadata": {},
   "outputs": [
    {
     "name": "stdout",
     "output_type": "stream",
     "text": [
      ">>PARALLELPERIOD()<< >>Parallel Period<< >>الفترة الموازية<<\n"
     ]
    }
   ],
   "source": [
    "print(\">>PARALLELPERIOD()<<\",\">>Parallel Period<<\",\">>الفترة الموازية<<\")"
   ]
  },
  {
   "cell_type": "code",
   "execution_count": 64,
   "id": "24907b58-162d-4b54-881d-ee2f01eef408",
   "metadata": {},
   "outputs": [
    {
     "name": "stdout",
     "output_type": "stream",
     "text": [
      ">>DATEADD()<< >>إضافة التاريخ (DATEADD)<<\n"
     ]
    }
   ],
   "source": [
    "print(\">>DATEADD()<<\",\">>إضافة التاريخ (DATEADD)<<\")"
   ]
  },
  {
   "cell_type": "code",
   "execution_count": 66,
   "id": "891b9357-e295-41f6-a796-eb99e6aaa0c0",
   "metadata": {},
   "outputs": [
    {
     "name": "stdout",
     "output_type": "stream",
     "text": [
      "DATESINPERIOD() Dates Inperiod تواريخ في الفترة\n"
     ]
    }
   ],
   "source": [
    "print(\"DATESINPERIOD()\",\"Dates Inperiod\",\"تواريخ في الفترة\")"
   ]
  },
  {
   "cell_type": "code",
   "execution_count": 68,
   "id": "bd245136-4736-4243-8ccf-8330dc785716",
   "metadata": {},
   "outputs": [
    {
     "name": "stdout",
     "output_type": "stream",
     "text": [
      "DATESBETWEEN Dates Between التواريخ بين\n"
     ]
    }
   ],
   "source": [
    "print(\"DATESBETWEEN\",\"Dates Between\",\"التواريخ بين\")"
   ]
  },
  {
   "cell_type": "code",
   "execution_count": 69,
   "id": "23c6df44-cc54-45f6-9d69-dcea09ff365a",
   "metadata": {},
   "outputs": [
    {
     "name": "stdout",
     "output_type": "stream",
     "text": [
      "Other Calculation Methods طرق حسابية أخرى\n"
     ]
    }
   ],
   "source": [
    "print(\"Other Calculation Methods\",\"طرق حسابية أخرى\")"
   ]
  },
  {
   "cell_type": "code",
   "execution_count": 71,
   "id": "61d061e5-6d72-4701-aa58-df677faa9c2d",
   "metadata": {},
   "outputs": [
    {
     "name": "stdout",
     "output_type": "stream",
     "text": [
      ">>When to use Fact[Date] متى تستخدم Fact[Date]<<\n"
     ]
    }
   ],
   "source": [
    "print(\">>When to use Fact[Date]\",\"متى تستخدم Fact[Date]<<\")"
   ]
  },
  {
   "cell_type": "code",
   "execution_count": 72,
   "id": "a5c065d4-b6dd-4a76-b255-c10cb90a50a0",
   "metadata": {},
   "outputs": [
    {
     "name": "stdout",
     "output_type": "stream",
     "text": [
      ">>Intermediate DAX & Time Intelligence>>Module 9>>Conclusion<<\n"
     ]
    }
   ],
   "source": [
    "print(\">>Intermediate DAX & Time Intelligence>>Module 9>>Conclusion<<\")"
   ]
  },
  {
   "cell_type": "code",
   "execution_count": 74,
   "id": "7b6eb117-582a-4cdd-8ebb-84cc9779d205",
   "metadata": {},
   "outputs": [
    {
     "name": "stdout",
     "output_type": "stream",
     "text": [
      ">>understand what's going on in DAX functions, both scalar and table,time intelligence<<\n"
     ]
    }
   ],
   "source": [
    "print(\">>understand what's going on in DAX functions, both scalar and table,time intelligence<<\")"
   ]
  },
  {
   "cell_type": "code",
   "execution_count": 75,
   "id": "ab961521-5981-40f3-820b-13ba10737577",
   "metadata": {},
   "outputs": [
    {
     "name": "stdout",
     "output_type": "stream",
     "text": [
      "Intermediate DAX & Time Intelligence مؤشر داكس المتوسط ​​وذكاء الوقت\n"
     ]
    }
   ],
   "source": [
    "print(\"Intermediate DAX & Time Intelligence\",\"مؤشر داكس المتوسط ​​وذكاء الوقت\")"
   ]
  },
  {
   "cell_type": "code",
   "execution_count": 76,
   "id": "b9da1dfa-76e2-4b52-851a-2126d9d8a68a",
   "metadata": {},
   "outputs": [
    {
     "name": "stdout",
     "output_type": "stream",
     "text": [
      "\n",
      "1>>Related().\n",
      "2>>DAX Date Dimension Table.\n",
      ">>Date Table Dimension<<\n",
      "3>>CALENDARAUTO()>>Calendar Auto.\n",
      "4>>CALENDAR()>>Calendar.\n",
      "5>>YEAR().\n",
      "6>>QUARTER().\n",
      "7>>MONTH().\n",
      "8>>DAY().\n",
      "9>>DAYOFWEEK().\n",
      "----------------------------------\n",
      ">>DimDate = CALENDAR(\"01/01/2021\",\"31/12/2023\")\n",
      ">>Year = Year([Date])\n",
      ">>Quarter = QUARTER([Date])\n",
      ">>QuarterID = [Year] & \"Q\" & [Quarter]\n",
      ">>Month = MONTH([Date])\n",
      ">>MonthID = [Year] & FORMAT([Month],\"00\")\n",
      ">>MonthName = FORMAT([Date],\"MMM\")\n",
      ">>DayOfWeek = WEEKDAY([Date],2)\n",
      ">>DayName = FORMAT(DimDate[DayOfWeek],\"DDD\")\n",
      ">>Table tools>>Mark as date table.\n",
      ">>SUM()\n",
      ">>CALCULATE()\n",
      ">>DATESYTD()\n",
      ">>PREVIOUSQUARTER()\n",
      ">>TOTALYTD()\n",
      ">>COUNT()\n",
      ">>DISTINCTCOUNT()\n",
      ">>>>>>>>>>>>>>>>>>>>>>>>>>>>>>>>\n",
      "\n"
     ]
    }
   ],
   "source": [
    "print(\"\"\"\n",
    "1>>Related().\n",
    "2>>DAX Date Dimension Table.\n",
    ">>Date Table Dimension<<\n",
    "3>>CALENDARAUTO()>>Calendar Auto.\n",
    "4>>CALENDAR()>>Calendar.\n",
    "5>>YEAR().\n",
    "6>>QUARTER().\n",
    "7>>MONTH().\n",
    "8>>DAY().\n",
    "9>>DAYOFWEEK().\n",
    "----------------------------------\n",
    ">>DimDate = CALENDAR(\"01/01/2021\",\"31/12/2023\")\n",
    ">>Year = Year([Date])\n",
    ">>Quarter = QUARTER([Date])\n",
    ">>QuarterID = [Year] & \"Q\" & [Quarter]\n",
    ">>Month = MONTH([Date])\n",
    ">>MonthID = [Year] & FORMAT([Month],\"00\")\n",
    ">>MonthName = FORMAT([Date],\"MMM\")\n",
    ">>DayOfWeek = WEEKDAY([Date],2)\n",
    ">>DayName = FORMAT(DimDate[DayOfWeek],\"DDD\")\n",
    ">>Table tools>>Mark as date table.\n",
    ">>SUM()\n",
    ">>CALCULATE()\n",
    ">>DATESYTD()\n",
    ">>PREVIOUSQUARTER()\n",
    ">>TOTALYTD()\n",
    ">>COUNT()\n",
    ">>DISTINCTCOUNT()\n",
    ">>>>>>>>>>>>>>>>>>>>>>>>>>>>>>>>\n",
    "\"\"\")"
   ]
  },
  {
   "cell_type": "code",
   "execution_count": 77,
   "id": "52c8e047-db1d-473a-bfcd-a9394b75b11a",
   "metadata": {},
   "outputs": [
    {
     "name": "stdout",
     "output_type": "stream",
     "text": [
      "لا زواج من الأقارب\n"
     ]
    }
   ],
   "source": [
    "print(\"لا زواج من الأقارب\")"
   ]
  },
  {
   "cell_type": "code",
   "execution_count": 78,
   "id": "7d0340a4-7b09-426b-8c3a-537e99749380",
   "metadata": {},
   "outputs": [
    {
     "name": "stdout",
     "output_type": "stream",
     "text": [
      "طبيبة او صيدلانية\n"
     ]
    }
   ],
   "source": [
    "print(\"طبيبة او صيدلانية\")"
   ]
  },
  {
   "cell_type": "code",
   "execution_count": 79,
   "id": "b79add0b-1487-437d-b4a4-9ac1fe0ccfef",
   "metadata": {},
   "outputs": [
    {
     "name": "stdout",
     "output_type": "stream",
     "text": [
      ">>>>>>>>>>>>>>>>>>>>>>>>>\n"
     ]
    }
   ],
   "source": [
    "print(\">>>>>>>>>>>>>>>>>>>>>>>>>\")"
   ]
  },
  {
   "cell_type": "code",
   "execution_count": null,
   "id": "3a10be6f-a8b5-4e16-8e6b-7e6b6498d0a8",
   "metadata": {},
   "outputs": [],
   "source": []
  }
 ],
 "metadata": {
  "kernelspec": {
   "display_name": "Python 3 (ipykernel)",
   "language": "python",
   "name": "python3"
  },
  "language_info": {
   "codemirror_mode": {
    "name": "ipython",
    "version": 3
   },
   "file_extension": ".py",
   "mimetype": "text/x-python",
   "name": "python",
   "nbconvert_exporter": "python",
   "pygments_lexer": "ipython3",
   "version": "3.11.7"
  }
 },
 "nbformat": 4,
 "nbformat_minor": 5
}
